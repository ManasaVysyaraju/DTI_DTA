{
 "cells": [
  {
   "cell_type": "code",
   "execution_count": 4,
   "id": "844789b8-70e7-4ab2-bcf1-a0863141a1e6",
   "metadata": {},
   "outputs": [],
   "source": [
    "import pandas as pd\n",
    "import seaborn as sns\n",
    "from sklearn.model_selection import train_test_split\n",
    "from sklearn.svm import SVC\n",
    "from sklearn.preprocessing import StandardScaler\n",
    "from sklearn.metrics import accuracy_score, classification_report\n",
    "from sklearn import tree\n",
    "import numpy as np\n",
    "import matplotlib.pyplot as plt\n",
    "from sklearn.datasets import make_classification\n",
    "from sklearn.decomposition import PCA\n",
    "from mlxtend.plotting import plot_decision_regions\n",
    "from sklearn.metrics import confusion_matrix\n",
    "import matplotlib.pyplot as plt\n",
    "from sklearn.metrics import precision_score, recall_score, f1_score, accuracy_score"
   ]
  },
  {
   "cell_type": "code",
   "execution_count": 5,
   "id": "7dc8675f-f26e-472d-9bd1-4f0478e9cb4e",
   "metadata": {},
   "outputs": [],
   "source": [
    "df=pd.read_csv('train1.csv')\n",
    "df_test=pd.read_csv('test1.csv')\n",
    "column_names = ['ProteinId', 'DrugId', 'label'] + [ 'F'+str(i) for i in range(2547)]\n",
    "df.columns = column_names\n",
    "df_test.columns = column_names"
   ]
  },
  {
   "cell_type": "code",
   "execution_count": 6,
   "id": "59e9f10c-8fae-4f8c-a817-517141c7118a",
   "metadata": {},
   "outputs": [],
   "source": [
    "X_train = df.drop(columns=['ProteinId','DrugId','label'])\n",
    "y_train=df['label']\n",
    "X_test = df_test.drop(columns=['ProteinId','DrugId','label'])\n",
    "y_test=df_test['label']"
   ]
  },
  {
   "cell_type": "code",
   "execution_count": 7,
   "id": "9ecfc040-4824-4985-b927-e77b2d44b33e",
   "metadata": {},
   "outputs": [
    {
     "ename": "NameError",
     "evalue": "name 'X_tarin' is not defined",
     "output_type": "error",
     "traceback": [
      "\u001b[1;31m---------------------------------------------------------------------------\u001b[0m",
      "\u001b[1;31mNameError\u001b[0m                                 Traceback (most recent call last)",
      "Cell \u001b[1;32mIn[7], line 5\u001b[0m\n\u001b[0;32m      1\u001b[0m \u001b[38;5;66;03m#sc = StandardScaler()\u001b[39;00m\n\u001b[0;32m      2\u001b[0m \u001b[38;5;66;03m#X_tarin = sc.fit_transform(X_train)\u001b[39;00m\n\u001b[0;32m      3\u001b[0m \u001b[38;5;66;03m#X_test = sc.transform(X_test)\u001b[39;00m\n\u001b[0;32m      4\u001b[0m svm_classifier \u001b[38;5;241m=\u001b[39m SVC(kernel\u001b[38;5;241m=\u001b[39m\u001b[38;5;124m'\u001b[39m\u001b[38;5;124mpoly\u001b[39m\u001b[38;5;124m'\u001b[39m,decision_function_shape\u001b[38;5;241m=\u001b[39m\u001b[38;5;124m'\u001b[39m\u001b[38;5;124movr\u001b[39m\u001b[38;5;124m'\u001b[39m,random_state\u001b[38;5;241m=\u001b[39m\u001b[38;5;241m42\u001b[39m,C\u001b[38;5;241m=\u001b[39m\u001b[38;5;241m2.45\u001b[39m,class_weight\u001b[38;5;241m=\u001b[39m{\u001b[38;5;241m0\u001b[39m:\u001b[38;5;241m1\u001b[39m,\u001b[38;5;241m1\u001b[39m:\u001b[38;5;241m1.745\u001b[39m},)\n\u001b[1;32m----> 5\u001b[0m svm_classifier\u001b[38;5;241m.\u001b[39mfit(X_tarin, y_train)\n\u001b[0;32m      6\u001b[0m y_pred \u001b[38;5;241m=\u001b[39m svm_classifier\u001b[38;5;241m.\u001b[39mpredict(X_test)\n\u001b[0;32m      7\u001b[0m cm\u001b[38;5;241m=\u001b[39m confusion_matrix(y_test, y_pred)\n",
      "\u001b[1;31mNameError\u001b[0m: name 'X_tarin' is not defined"
     ]
    }
   ],
   "source": [
    "#sc = StandardScaler()\n",
    "#X_tarin = sc.fit_transform(X_train)\n",
    "#X_test = sc.transform(X_test)\n",
    "svm_classifier = SVC(kernel='poly',decision_function_shape='ovr',random_state=42,C=2.45,class_weight={0:1,1:1.745},)\n",
    "svm_classifier.fit(X_tarin, y_train)\n",
    "y_pred = svm_classifier.predict(X_test)\n",
    "cm= confusion_matrix(y_test, y_pred)\n",
    "print(cm)\n",
    "print(\"Accuracy:\", accuracy_score(y_test, y_pred))\n",
    "precision = precision_score(y_test, y_pred)\n",
    "recall = recall_score(y_test, y_pred)\n",
    "f1 = f1_score(y_test, y_pred)\n",
    "accuracy = accuracy_score(y_test, y_pred)\n",
    "print(\"Precision:\", precision)\n",
    "print(\"Recall:\", recall)\n",
    "print(\"F1-score:\", f1)\n",
    "print(\"Accuracy:\", accuracy)\n"
   ]
  },
  {
   "cell_type": "code",
   "execution_count": null,
   "id": "c0309389-2232-4b2e-bb72-df064244ccac",
   "metadata": {},
   "outputs": [],
   "source": [
    "sc = StandardScaler()\n",
    "X_tarin = sc.fit_transform(X_train)\n",
    "X_test = sc.transform(X_test)\n",
    "svm_classifier = SVC(kernel='poly',degree=5,decision_function_shape='ovr',random_state=42,C=2.45,class_weight={0:1,1:1.745},)\n",
    "svm_classifier.fit(X_tarin, y_train)\n",
    "y_pred = svm_classifier.predict(X_test)\n",
    "cm= confusion_matrix(y_test, y_pred)\n",
    "print(cm)\n",
    "print(\"Accuracy:\", accuracy_score(y_test, y_pred))\n",
    "precision = precision_score(y_test, y_pred)\n",
    "recall = recall_score(y_test, y_pred)\n",
    "f1 = f1_score(y_test, y_pred)\n",
    "accuracy = accuracy_score(y_test, y_pred)\n",
    "print(\"Precision:\", precision)\n",
    "print(\"Recall:\", recall)\n",
    "print(\"F1-score:\", f1)\n",
    "print(\"Accuracy:\", accuracy)\n"
   ]
  },
  {
   "cell_type": "code",
   "execution_count": null,
   "id": "e9bd424a-818c-414c-b75a-7bbb92db97fc",
   "metadata": {},
   "outputs": [],
   "source": [
    "sc = StandardScaler()\n",
    "X_tarin = sc.fit_transform(X_train)\n",
    "X_test = sc.transform(X_test)\n",
    "svm_classifier = SVC(kernel='poly',random_state=42)\n",
    "svm_classifier.fit(X_tarin, y_train)\n",
    "y_pred = svm_classifier.predict(X_test)\n",
    "cm= confusion_matrix(y_test, y_pred)\n",
    "print(cm)\n",
    "print(\"Accuracy:\", accuracy_score(y_test, y_pred))\n",
    "precision = precision_score(y_test, y_pred)\n",
    "recall = recall_score(y_test, y_pred)\n",
    "f1 = f1_score(y_test, y_pred)\n",
    "accuracy = accuracy_score(y_test, y_pred)\n",
    "print(\"Precision:\", precision)\n",
    "print(\"Recall:\", recall)\n",
    "print(\"F1-score:\", f1)\n",
    "print(\"Accuracy:\", accuracy)\n"
   ]
  },
  {
   "cell_type": "code",
   "execution_count": null,
   "id": "0f2408f2-c884-4430-ae1a-b0516bd88c1d",
   "metadata": {},
   "outputs": [],
   "source": [
    "sc = StandardScaler()\n",
    "X_tarin = sc.fit_transform(X_train)\n",
    "X_test = sc.transform(X_test)\n",
    "svm_classifier = SVC(kernel='poly',degree=5,decision_function_shape='ovr',random_state=42,C=2.45,class_weight={0:1,1:1.745},)\n",
    "svm_classifier.fit(X_tarin, y_train)\n",
    "y_pred = svm_classifier.predict(X_test)\n",
    "cm= confusion_matrix(y_test, y_pred)\n",
    "print(cm)\n",
    "print(\"Accuracy:\", accuracy_score(y_test, y_pred))\n",
    "precision = precision_score(y_test, y_pred)\n",
    "recall = recall_score(y_test, y_pred)\n",
    "f1 = f1_score(y_test, y_pred)\n",
    "accuracy = accuracy_score(y_test, y_pred)\n",
    "print(\"Precision:\", precision)\n",
    "print(\"Recall:\", recall)\n",
    "print(\"F1-score:\", f1)\n",
    "print(\"Accuracy:\", accuracy)\n"
   ]
  },
  {
   "cell_type": "code",
   "execution_count": null,
   "id": "5aa9b5af-bdb7-4825-8bc1-e5b45af597d8",
   "metadata": {},
   "outputs": [],
   "source": []
  }
 ],
 "metadata": {
  "kernelspec": {
   "display_name": "Python 3 (ipykernel)",
   "language": "python",
   "name": "python3"
  },
  "language_info": {
   "codemirror_mode": {
    "name": "ipython",
    "version": 3
   },
   "file_extension": ".py",
   "mimetype": "text/x-python",
   "name": "python",
   "nbconvert_exporter": "python",
   "pygments_lexer": "ipython3",
   "version": "3.11.5"
  }
 },
 "nbformat": 4,
 "nbformat_minor": 5
}
