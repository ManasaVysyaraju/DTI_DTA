{
 "cells": [
  {
   "cell_type": "code",
   "execution_count": 1,
   "id": "65d7eff7-2b05-4e64-b934-8f463d2de1c5",
   "metadata": {},
   "outputs": [],
   "source": [
    "\n",
    "import pandas as pd\n",
    "import seaborn as sns\n",
    "from sklearn.model_selection import train_test_split\n",
    "from sklearn.tree import DecisionTreeClassifier\n",
    "from sklearn.metrics import accuracy_score, classification_report\n",
    "from sklearn import tree\n",
    "import matplotlib.pyplot as plt\n",
    "from sklearn.metrics import precision_score, recall_score, f1_score, accuracy_score,confusion_matrix\n",
    "from sklearn.ensemble import RandomForestClassifier\n"
   ]
  },
  {
   "cell_type": "code",
   "execution_count": 2,
   "id": "29f8b99d-a9c5-47e2-ad5d-f07a143e5a2c",
   "metadata": {},
   "outputs": [],
   "source": [
    "df=pd.read_csv('train1.csv')\n",
    "df_test=pd.read_csv('test1.csv')\n",
    "column_names = ['ProteinId', 'DrugId', 'label'] + [ 'F'+str(i) for i in range(2547)]\n",
    "df.columns = column_names\n",
    "df_test.columns = column_names"
   ]
  },
  {
   "cell_type": "code",
   "execution_count": 3,
   "id": "7c7b5461-2a45-4ff4-83b8-c280dfdbbeae",
   "metadata": {},
   "outputs": [],
   "source": [
    "X_train = df.drop(columns=['ProteinId','DrugId','label'])\n",
    "y_train=df['label']\n",
    "X_test = df_test.drop(columns=['ProteinId','DrugId','label'])\n",
    "y_test=df_test['label']"
   ]
  },
  {
   "cell_type": "code",
   "execution_count": 5,
   "id": "664ee420-45b6-4d65-bfb7-d8a52342562a",
   "metadata": {},
   "outputs": [
    {
     "name": "stdout",
     "output_type": "stream",
     "text": [
      "[[4836   77]\n",
      " [ 505 2507]]\n",
      "Accuracy: 0.9265615141955836\n",
      "Precision: 0.9702012383900929\n",
      "Recall: 0.8323373173970784\n",
      "F1-score: 0.8959971408148679\n",
      "Accuracy: 0.9265615141955836\n"
     ]
    }
   ],
   "source": [
    "clf=RandomForestClassifier(n_estimators=100,ccp_alpha=0.000015,random_state=42,min_impurity_decrease=0.0000052,min_samples_leaf=10,max_features=1250,class_weight={0:1,1:2}) \n",
    "clf.fit(X_train, y_train)\n",
    "y_predict=clf.predict(X_test)\n",
    "acc_score=accuracy_score(y_test,y_predict)\n",
    "cm= confusion_matrix(y_test, y_predict)\n",
    "print(cm)\n",
    "print(\"Accuracy:\", accuracy_score(y_test, y_predict))\n",
    "precision = precision_score(y_test, y_predict )\n",
    "recall = recall_score(y_test, y_predict)\n",
    "f1 = f1_score(y_test, y_predict)\n",
    "accuracy = accuracy_score(y_test, y_predict)\n",
    "print(\"Precision:\", precision)\n",
    "print(\"Recall:\", recall)\n",
    "print(\"F1-score:\", f1)\n",
    "print(\"Accuracy:\", accuracy)\n"
   ]
  },
  {
   "cell_type": "code",
   "execution_count": 6,
   "id": "a17feba5-6cc0-4e56-bd2a-9fbf9d18a679",
   "metadata": {},
   "outputs": [
    {
     "name": "stdout",
     "output_type": "stream",
     "text": [
      "[[4860   53]\n",
      " [ 512 2500]]\n",
      "Accuracy: 0.9287066246056782\n",
      "Precision: 0.9792401096748923\n",
      "Recall: 0.8300132802124834\n",
      "F1-score: 0.8984725965858041\n",
      "Accuracy: 0.9287066246056782\n"
     ]
    }
   ],
   "source": [
    "clf=RandomForestClassifier(n_estimators=100,random_state=42,class_weight={0:1,1:2}) \n",
    "clf.fit(X_train, y_train)\n",
    "y_predict=clf.predict(X_test)\n",
    "acc_score=accuracy_score(y_test,y_predict)\n",
    "cm= confusion_matrix(y_test, y_predict)\n",
    "print(cm)\n",
    "print(\"Accuracy:\", accuracy_score(y_test, y_predict))\n",
    "precision = precision_score(y_test, y_predict )\n",
    "recall = recall_score(y_test, y_predict)\n",
    "f1 = f1_score(y_test, y_predict)\n",
    "accuracy = accuracy_score(y_test, y_predict)\n",
    "print(\"Precision:\", precision)\n",
    "print(\"Recall:\", recall)\n",
    "print(\"F1-score:\", f1)\n",
    "print(\"Accuracy:\", accuracy)\n"
   ]
  },
  {
   "cell_type": "code",
   "execution_count": 7,
   "id": "eb918397-21b9-489b-a847-c247e2425e62",
   "metadata": {},
   "outputs": [
    {
     "name": "stdout",
     "output_type": "stream",
     "text": [
      "[[4862   51]\n",
      " [ 511 2501]]\n",
      "Accuracy: 0.9290851735015773\n",
      "Precision: 0.9800156739811913\n",
      "Recall: 0.8303452855245684\n",
      "F1-score: 0.8989935298346514\n",
      "Accuracy: 0.9290851735015773\n"
     ]
    }
   ],
   "source": [
    "clf=RandomForestClassifier(n_estimators=500,random_state=42,class_weight={0:1,1:2}) \n",
    "clf.fit(X_train, y_train)\n",
    "y_predict=clf.predict(X_test)\n",
    "acc_score=accuracy_score(y_test,y_predict)\n",
    "cm= confusion_matrix(y_test, y_predict)\n",
    "print(cm)\n",
    "print(\"Accuracy:\", accuracy_score(y_test, y_predict))\n",
    "precision = precision_score(y_test, y_predict )\n",
    "recall = recall_score(y_test, y_predict)\n",
    "f1 = f1_score(y_test, y_predict)\n",
    "accuracy = accuracy_score(y_test, y_predict)\n",
    "print(\"Precision:\", precision)\n",
    "print(\"Recall:\", recall)\n",
    "print(\"F1-score:\", f1)\n",
    "print(\"Accuracy:\", accuracy)\n"
   ]
  },
  {
   "cell_type": "code",
   "execution_count": 8,
   "id": "6c02d40c-129e-496d-8329-2fd62e742483",
   "metadata": {},
   "outputs": [
    {
     "name": "stdout",
     "output_type": "stream",
     "text": [
      "[[4862   51]\n",
      " [ 507 2505]]\n",
      "Accuracy: 0.929589905362776\n",
      "Precision: 0.9800469483568075\n",
      "Recall: 0.8316733067729084\n",
      "F1-score: 0.8997844827586207\n",
      "Accuracy: 0.929589905362776\n"
     ]
    }
   ],
   "source": [
    "clf=RandomForestClassifier(n_estimators=500,random_state=42,class_weight='balanced') \n",
    "clf.fit(X_train, y_train)\n",
    "y_predict=clf.predict(X_test)\n",
    "acc_score=accuracy_score(y_test,y_predict)\n",
    "cm= confusion_matrix(y_test, y_predict)\n",
    "print(cm)\n",
    "print(\"Accuracy:\", accuracy_score(y_test, y_predict))\n",
    "precision = precision_score(y_test, y_predict )\n",
    "recall = recall_score(y_test, y_predict)\n",
    "f1 = f1_score(y_test, y_predict)\n",
    "accuracy = accuracy_score(y_test, y_predict)\n",
    "print(\"Precision:\", precision)\n",
    "print(\"Recall:\", recall)\n",
    "print(\"F1-score:\", f1)\n",
    "print(\"Accuracy:\", accuracy)\n"
   ]
  },
  {
   "cell_type": "code",
   "execution_count": 9,
   "id": "370da782-0089-4aa2-9655-e00d610f6fe4",
   "metadata": {},
   "outputs": [
    {
     "name": "stdout",
     "output_type": "stream",
     "text": [
      "[[4843   70]\n",
      " [ 520 2492]]\n",
      "Accuracy: 0.9255520504731861\n",
      "Precision: 0.9726775956284153\n",
      "Recall: 0.8273572377158035\n",
      "F1-score: 0.894151417294582\n",
      "Accuracy: 0.9255520504731861\n"
     ]
    }
   ],
   "source": [
    "clf=RandomForestClassifier(n_estimators=100,random_state=42,min_samples_leaf=10,max_features=1250,class_weight={0:1,1:1.745}) \n",
    "clf.fit(X_train, y_train)\n",
    "y_predict=clf.predict(X_test)\n",
    "acc_score=accuracy_score(y_test,y_predict)\n",
    "cm= confusion_matrix(y_test, y_predict)\n",
    "print(cm)\n",
    "print(\"Accuracy:\", accuracy_score(y_test, y_predict))\n",
    "precision = precision_score(y_test, y_predict )\n",
    "recall = recall_score(y_test, y_predict)\n",
    "f1 = f1_score(y_test, y_predict)\n",
    "accuracy = accuracy_score(y_test, y_predict)\n",
    "print(\"Precision:\", precision)\n",
    "print(\"Recall:\", recall)\n",
    "print(\"F1-score:\", f1)\n",
    "print(\"Accuracy:\", accuracy)\n"
   ]
  },
  {
   "cell_type": "code",
   "execution_count": 10,
   "id": "2ce498fb-5eee-43d0-83c7-69c5a142689f",
   "metadata": {},
   "outputs": [
    {
     "name": "stdout",
     "output_type": "stream",
     "text": [
      "[[4843   70]\n",
      " [ 524 2488]]\n",
      "Accuracy: 0.9250473186119874\n",
      "Precision: 0.9726348709929633\n",
      "Recall: 0.8260292164674635\n",
      "F1-score: 0.8933572710951526\n",
      "Accuracy: 0.9250473186119874\n"
     ]
    }
   ],
   "source": [
    "clf=RandomForestClassifier(n_estimators=500,random_state=42,min_samples_leaf=10,max_features=1250,class_weight={0:1,1:1.745}) \n",
    "clf.fit(X_train, y_train)\n",
    "y_predict=clf.predict(X_test)\n",
    "acc_score=accuracy_score(y_test,y_predict)\n",
    "cm= confusion_matrix(y_test, y_predict)\n",
    "print(cm)\n",
    "print(\"Accuracy:\", accuracy_score(y_test, y_predict))\n",
    "precision = precision_score(y_test, y_predict )\n",
    "recall = recall_score(y_test, y_predict)\n",
    "f1 = f1_score(y_test, y_predict)\n",
    "accuracy = accuracy_score(y_test, y_predict)\n",
    "print(\"Precision:\", precision)\n",
    "print(\"Recall:\", recall)\n",
    "print(\"F1-score:\", f1)\n",
    "print(\"Accuracy:\", accuracy)\n"
   ]
  },
  {
   "cell_type": "code",
   "execution_count": 11,
   "id": "85d7b6f3-e1a8-4c8b-8a8e-09b31fde3825",
   "metadata": {},
   "outputs": [
    {
     "name": "stdout",
     "output_type": "stream",
     "text": [
      "[[4841   72]\n",
      " [ 515 2497]]\n",
      "Accuracy: 0.9259305993690852\n",
      "Precision: 0.9719735305566368\n",
      "Recall: 0.8290172642762285\n",
      "F1-score: 0.8948217165382548\n",
      "Accuracy: 0.9259305993690852\n"
     ]
    }
   ],
   "source": [
    "clf=RandomForestClassifier(n_estimators=100,ccp_alpha=0.000015,random_state=42,min_impurity_decrease=0.0000052,min_samples_leaf=10,max_features=1300,class_weight={0:1,1:2}) \n",
    "clf.fit(X_train, y_train)\n",
    "y_predict=clf.predict(X_test)\n",
    "acc_score=accuracy_score(y_test,y_predict)\n",
    "cm= confusion_matrix(y_test, y_predict)\n",
    "print(cm)\n",
    "print(\"Accuracy:\", accuracy_score(y_test, y_predict))\n",
    "precision = precision_score(y_test, y_predict )\n",
    "recall = recall_score(y_test, y_predict)\n",
    "f1 = f1_score(y_test, y_predict)\n",
    "accuracy = accuracy_score(y_test, y_predict)\n",
    "print(\"Precision:\", precision)\n",
    "print(\"Recall:\", recall)\n",
    "print(\"F1-score:\", f1)\n",
    "print(\"Accuracy:\", accuracy)\n"
   ]
  },
  {
   "cell_type": "code",
   "execution_count": null,
   "id": "bb763807-7ca9-4799-9943-48b1249a00a3",
   "metadata": {},
   "outputs": [],
   "source": []
  }
 ],
 "metadata": {
  "kernelspec": {
   "display_name": "Python 3 (ipykernel)",
   "language": "python",
   "name": "python3"
  },
  "language_info": {
   "codemirror_mode": {
    "name": "ipython",
    "version": 3
   },
   "file_extension": ".py",
   "mimetype": "text/x-python",
   "name": "python",
   "nbconvert_exporter": "python",
   "pygments_lexer": "ipython3",
   "version": "3.11.5"
  }
 },
 "nbformat": 4,
 "nbformat_minor": 5
}
