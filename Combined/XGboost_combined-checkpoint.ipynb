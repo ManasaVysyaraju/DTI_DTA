{
 "cells": [
  {
   "cell_type": "code",
   "execution_count": 1,
   "id": "9f4e69cb-9810-4cb9-bd05-fd40fc89358f",
   "metadata": {},
   "outputs": [],
   "source": [
    "\n",
    "import pandas as pd\n",
    "import seaborn as sns\n",
    "from sklearn.model_selection import train_test_split\n",
    "from sklearn.tree import DecisionTreeClassifier\n",
    "from sklearn.metrics import accuracy_score, classification_report\n",
    "from sklearn import tree\n",
    "import matplotlib.pyplot as plt\n",
    "from sklearn.metrics import precision_score, recall_score, f1_score, accuracy_score,confusion_matrix\n",
    "from xgboost import XGBClassifier\n"
   ]
  },
  {
   "cell_type": "code",
   "execution_count": 2,
   "id": "26c2bfe5-e526-4324-9373-7cff93d01bce",
   "metadata": {},
   "outputs": [],
   "source": [
    "df=pd.read_csv('train1.csv')\n",
    "df_test=pd.read_csv('test1.csv')\n",
    "\n",
    "\n",
    "# Assuming your dataframe is named df and it doesn't have column names initially\n",
    "# If your dataframe is named differently, replace 'your_dataframe_here' with your dataframe name\n",
    "\n",
    "# Create column names\n",
    "column_names = ['ProteinId', 'DrugId', 'label'] + [ 'F'+str(i) for i in range(2547)]\n",
    "\n",
    "# Assuming data is your dataframe without column names\n",
    "# data = your_dataframe_without_column_names\n",
    "\n",
    "# Assign column names to the dataframe\n",
    "df.columns = column_names\n",
    "df_test.columns = column_names\n",
    "\n",
    "# Now your dataframe has column names 'Drugid', 'protenid', 'label', and remaining columns as '0' to 'n'\n"
   ]
  },
  {
   "cell_type": "code",
   "execution_count": 3,
   "id": "cab99d15-23fb-4fdd-8178-e0704edf51d4",
   "metadata": {},
   "outputs": [
    {
     "data": {
      "text/plain": [
       "Index(['ProteinId', 'DrugId', 'label', 'F0', 'F1', 'F2', 'F3', 'F4', 'F5',\n",
       "       'F6',\n",
       "       ...\n",
       "       'F2537', 'F2538', 'F2539', 'F2540', 'F2541', 'F2542', 'F2543', 'F2544',\n",
       "       'F2545', 'F2546'],\n",
       "      dtype='object', length=2550)"
      ]
     },
     "execution_count": 3,
     "metadata": {},
     "output_type": "execute_result"
    }
   ],
   "source": [
    "df.columns"
   ]
  },
  {
   "cell_type": "code",
   "execution_count": 4,
   "id": "af659096-77d4-43ec-9109-e4db4263c707",
   "metadata": {},
   "outputs": [
    {
     "data": {
      "text/plain": [
       "label\n",
       "0    10172\n",
       "1     5838\n",
       "Name: count, dtype: int64"
      ]
     },
     "execution_count": 4,
     "metadata": {},
     "output_type": "execute_result"
    }
   ],
   "source": [
    "df['label'].value_counts()"
   ]
  },
  {
   "cell_type": "code",
   "execution_count": 5,
   "id": "e66c5d76-a0b3-43a1-8200-8bea30b8b8d0",
   "metadata": {},
   "outputs": [],
   "source": [
    "X_train = df.drop(columns=['ProteinId','DrugId','label'])\n",
    "y_train=df['label']\n",
    "X_test = df_test.drop(columns=['ProteinId','DrugId','label'])\n",
    "y_test=df_test['label']"
   ]
  },
  {
   "cell_type": "code",
   "execution_count": 6,
   "id": "37120b77-7f2b-40aa-9735-1f31d8333360",
   "metadata": {},
   "outputs": [
    {
     "name": "stdout",
     "output_type": "stream",
     "text": [
      "0.9226498422712934\n",
      "[[4869   44]\n",
      " [ 569 2443]]\n",
      "Precision: 0.9823080016083635\n",
      "Recall: 0.8110889774236387\n",
      "F1-score: 0.8885251863975268\n",
      "Accuracy: 0.9226498422712934\n"
     ]
    }
   ],
   "source": [
    "bst = XGBClassifier(max_depth=20,subsample=0.65,scale_pos_weight=1.74,gamma=1.25) \n",
    "bst.fit(X_train, y_train)\n",
    "preds = bst.predict(X_test)\n",
    "acc=accuracy_score(preds,y_test)\n",
    "print(acc)\n",
    "cm = confusion_matrix(y_test, preds)\n",
    "print(cm)\n",
    "precision = precision_score(y_test, preds)\n",
    "recall = recall_score(y_test, preds)\n",
    "f1 = f1_score(y_test, preds)\n",
    "accuracy = accuracy_score(y_test, preds)\n",
    "print(\"Precision:\", precision)\n",
    "print(\"Recall:\", recall)\n",
    "print(\"F1-score:\", f1)\n",
    "print(\"Accuracy:\", accuracy)"
   ]
  },
  {
   "cell_type": "code",
   "execution_count": 7,
   "id": "70a8c9be-66c9-4564-b851-4417745b92be",
   "metadata": {},
   "outputs": [
    {
     "name": "stdout",
     "output_type": "stream",
     "text": [
      "0.9210094637223974\n",
      "[[4873   40]\n",
      " [ 586 2426]]\n",
      "Precision: 0.9837793998377939\n",
      "Recall: 0.8054448871181938\n",
      "F1-score: 0.8857247170500182\n",
      "Accuracy: 0.9210094637223974\n"
     ]
    }
   ],
   "source": [
    "bst = XGBClassifier(max_depth=20,subsample=0.75,gamma=2.5) \n",
    "bst.fit(X_train, y_train)\n",
    "preds = bst.predict(X_test)\n",
    "acc=accuracy_score(preds,y_test)\n",
    "print(acc)\n",
    "cm = confusion_matrix(y_test, preds)\n",
    "print(cm)\n",
    "precision = precision_score(y_test, preds)\n",
    "recall = recall_score(y_test, preds)\n",
    "f1 = f1_score(y_test, preds)\n",
    "accuracy = accuracy_score(y_test, preds)\n",
    "print(\"Precision:\", precision)\n",
    "print(\"Recall:\", recall)\n",
    "print(\"F1-score:\", f1)\n",
    "print(\"Accuracy:\", accuracy)"
   ]
  },
  {
   "cell_type": "code",
   "execution_count": 8,
   "id": "68ab238d-d74a-48f6-8ff2-6ab4b966c186",
   "metadata": {},
   "outputs": [
    {
     "name": "stdout",
     "output_type": "stream",
     "text": [
      "0.9222712933753944\n",
      "[[4870   43]\n",
      " [ 573 2439]]\n",
      "Precision: 0.9826752618855762\n",
      "Recall: 0.8097609561752988\n",
      "F1-score: 0.8878776847469967\n",
      "Accuracy: 0.9222712933753944\n"
     ]
    }
   ],
   "source": [
    "bst = XGBClassifier(max_depth=20,subsample=0.75,scale_pos_weight=1.74,gamma=2.5) \n",
    "bst.fit(X_train, y_train)\n",
    "preds = bst.predict(X_test)\n",
    "acc=accuracy_score(preds,y_test)\n",
    "print(acc)\n",
    "cm = confusion_matrix(y_test, preds)\n",
    "print(cm)\n",
    "precision = precision_score(y_test, preds)\n",
    "recall = recall_score(y_test, preds)\n",
    "f1 = f1_score(y_test, preds)\n",
    "accuracy = accuracy_score(y_test, preds)\n",
    "print(\"Precision:\", precision)\n",
    "print(\"Recall:\", recall)\n",
    "print(\"F1-score:\", f1)\n",
    "print(\"Accuracy:\", accuracy)"
   ]
  },
  {
   "cell_type": "code",
   "execution_count": 9,
   "id": "f0cc2854-41f2-40e5-ba99-d7dfebbfcbc7",
   "metadata": {},
   "outputs": [
    {
     "name": "stdout",
     "output_type": "stream",
     "text": [
      "0.9246687697160884\n",
      "[[4872   41]\n",
      " [ 556 2456]]\n",
      "Precision: 0.9835802963556267\n",
      "Recall: 0.8154050464807437\n",
      "F1-score: 0.8916318751134508\n",
      "Accuracy: 0.9246687697160884\n"
     ]
    }
   ],
   "source": [
    "bst = XGBClassifier(max_depth=30,scale_pos_weight=1.74) \n",
    "bst.fit(X_train, y_train)\n",
    "preds = bst.predict(X_test)\n",
    "acc=accuracy_score(preds,y_test)\n",
    "print(acc)\n",
    "cm = confusion_matrix(y_test, preds)\n",
    "print(cm)\n",
    "precision = precision_score(y_test, preds)\n",
    "recall = recall_score(y_test, preds)\n",
    "f1 = f1_score(y_test, preds)\n",
    "accuracy = accuracy_score(y_test, preds)\n",
    "print(\"Precision:\", precision)\n",
    "print(\"Recall:\", recall)\n",
    "print(\"F1-score:\", f1)\n",
    "print(\"Accuracy:\", accuracy)"
   ]
  },
  {
   "cell_type": "code",
   "execution_count": 10,
   "id": "6ff3f9b1-fc32-4e9a-ac9f-faddf0b41441",
   "metadata": {},
   "outputs": [
    {
     "name": "stdout",
     "output_type": "stream",
     "text": [
      "0.9245425867507886\n",
      "[[4877   36]\n",
      " [ 562 2450]]\n",
      "Precision: 0.9855189058728882\n",
      "Recall: 0.8134130146082338\n",
      "F1-score: 0.8912331757002546\n",
      "Accuracy: 0.9245425867507886\n"
     ]
    }
   ],
   "source": [
    "bst = XGBClassifier(max_depth=30,scale_pos_weight=1.74,n_estimators=500) \n",
    "bst.fit(X_train, y_train)\n",
    "preds = bst.predict(X_test)\n",
    "acc=accuracy_score(preds,y_test)\n",
    "print(acc)\n",
    "cm = confusion_matrix(y_test, preds)\n",
    "print(cm)\n",
    "precision = precision_score(y_test, preds)\n",
    "recall = recall_score(y_test, preds)\n",
    "f1 = f1_score(y_test, preds)\n",
    "accuracy = accuracy_score(y_test, preds)\n",
    "print(\"Precision:\", precision)\n",
    "print(\"Recall:\", recall)\n",
    "print(\"F1-score:\", f1)\n",
    "print(\"Accuracy:\", accuracy)"
   ]
  },
  {
   "cell_type": "code",
   "execution_count": 11,
   "id": "42fa97ab-4ff6-4d17-a390-4c54fc6a3fdc",
   "metadata": {},
   "outputs": [
    {
     "name": "stdout",
     "output_type": "stream",
     "text": [
      "0.9251735015772871\n",
      "[[4875   38]\n",
      " [ 555 2457]]\n",
      "Precision: 0.9847695390781563\n",
      "Recall: 0.8157370517928287\n",
      "F1-score: 0.892318866896677\n",
      "Accuracy: 0.9251735015772871\n"
     ]
    }
   ],
   "source": [
    "bst = XGBClassifier(max_depth=30,scale_pos_weight=1.74,n_estimators=500,learning_rate=0.5) \n",
    "bst.fit(X_train, y_train)\n",
    "preds = bst.predict(X_test)\n",
    "acc=accuracy_score(preds,y_test)\n",
    "print(acc)\n",
    "cm = confusion_matrix(y_test, preds)\n",
    "print(cm)\n",
    "precision = precision_score(y_test, preds)\n",
    "recall = recall_score(y_test, preds)\n",
    "f1 = f1_score(y_test, preds)\n",
    "accuracy = accuracy_score(y_test, preds)\n",
    "print(\"Precision:\", precision)\n",
    "print(\"Recall:\", recall)\n",
    "print(\"F1-score:\", f1)\n",
    "print(\"Accuracy:\", accuracy)"
   ]
  },
  {
   "cell_type": "code",
   "execution_count": 12,
   "id": "5a4e923c-63bd-47ae-aa53-847f2f3806f0",
   "metadata": {},
   "outputs": [
    {
     "name": "stdout",
     "output_type": "stream",
     "text": [
      "0.9237854889589905\n",
      "[[4874   39]\n",
      " [ 565 2447]]\n",
      "Precision: 0.9843121480289622\n",
      "Recall: 0.8124169986719787\n",
      "F1-score: 0.8901418697708258\n",
      "Accuracy: 0.9237854889589905\n"
     ]
    }
   ],
   "source": [
    "bst = XGBClassifier(max_depth=30,scale_pos_weight=1.74,n_estimators=500,learning_rate=1.0) \n",
    "bst.fit(X_train, y_train)\n",
    "preds = bst.predict(X_test)\n",
    "acc=accuracy_score(preds,y_test)\n",
    "print(acc)\n",
    "cm = confusion_matrix(y_test, preds)\n",
    "print(cm)\n",
    "precision = precision_score(y_test, preds)\n",
    "recall = recall_score(y_test, preds)\n",
    "f1 = f1_score(y_test, preds)\n",
    "accuracy = accuracy_score(y_test, preds)\n",
    "print(\"Precision:\", precision)\n",
    "print(\"Recall:\", recall)\n",
    "print(\"F1-score:\", f1)\n",
    "print(\"Accuracy:\", accuracy)"
   ]
  },
  {
   "cell_type": "code",
   "execution_count": 13,
   "id": "ae4ac10e-057f-4696-8eb8-ea26a215e771",
   "metadata": {},
   "outputs": [
    {
     "name": "stdout",
     "output_type": "stream",
     "text": [
      "0.9261829652996846\n",
      "[[4878   35]\n",
      " [ 550 2462]]\n",
      "Precision: 0.985983179815779\n",
      "Recall: 0.8173970783532537\n",
      "F1-score: 0.8938101288800145\n",
      "Accuracy: 0.9261829652996846\n"
     ]
    }
   ],
   "source": [
    "bst = XGBClassifier(max_depth=30,scale_pos_weight=1.74,n_estimators=500,learning_rate=0.05) \n",
    "bst.fit(X_train, y_train)\n",
    "preds = bst.predict(X_test)\n",
    "acc=accuracy_score(preds,y_test)\n",
    "print(acc)\n",
    "cm = confusion_matrix(y_test, preds)\n",
    "print(cm)\n",
    "precision = precision_score(y_test, preds)\n",
    "recall = recall_score(y_test, preds)\n",
    "f1 = f1_score(y_test, preds)\n",
    "accuracy = accuracy_score(y_test, preds)\n",
    "print(\"Precision:\", precision)\n",
    "print(\"Recall:\", recall)\n",
    "print(\"F1-score:\", f1)\n",
    "print(\"Accuracy:\", accuracy)"
   ]
  },
  {
   "cell_type": "code",
   "execution_count": 14,
   "id": "4ae99abe-41ee-40c4-8cc1-2a778f460657",
   "metadata": {},
   "outputs": [
    {
     "name": "stdout",
     "output_type": "stream",
     "text": [
      "0.924794952681388\n",
      "[[4880   33]\n",
      " [ 563 2449]]\n",
      "Precision: 0.9867042707493956\n",
      "Recall: 0.8130810092961488\n",
      "F1-score: 0.8915180196578085\n",
      "Accuracy: 0.924794952681388\n"
     ]
    }
   ],
   "source": [
    "bst = XGBClassifier(max_depth=40,scale_pos_weight=1.74,n_estimators=500,learning_rate=0.05) \n",
    "bst.fit(X_train, y_train)\n",
    "preds = bst.predict(X_test)\n",
    "acc=accuracy_score(preds,y_test)\n",
    "print(acc)\n",
    "cm = confusion_matrix(y_test, preds)\n",
    "print(cm)\n",
    "precision = precision_score(y_test, preds)\n",
    "recall = recall_score(y_test, preds)\n",
    "f1 = f1_score(y_test, preds)\n",
    "accuracy = accuracy_score(y_test, preds)\n",
    "print(\"Precision:\", precision)\n",
    "print(\"Recall:\", recall)\n",
    "print(\"F1-score:\", f1)\n",
    "print(\"Accuracy:\", accuracy)"
   ]
  },
  {
   "cell_type": "code",
   "execution_count": 16,
   "id": "0bc8c660-5f5d-47ab-b18a-3214ef25a1a1",
   "metadata": {},
   "outputs": [
    {
     "name": "stdout",
     "output_type": "stream",
     "text": [
      "0.924794952681388\n",
      "[[4880   33]\n",
      " [ 563 2449]]\n",
      "Precision: 0.9867042707493956\n",
      "Recall: 0.8130810092961488\n",
      "F1-score: 0.8915180196578085\n",
      "Accuracy: 0.924794952681388\n"
     ]
    }
   ],
   "source": [
    "bst = XGBClassifier(max_depth=40,scale_pos_weight=1.74,n_estimators=500,learning_rate=0.05,grow_policy='lossguide') \n",
    "bst.fit(X_train, y_train)\n",
    "preds = bst.predict(X_test)\n",
    "acc=accuracy_score(preds,y_test)\n",
    "print(acc)\n",
    "cm = confusion_matrix(y_test, preds)\n",
    "print(cm)\n",
    "precision = precision_score(y_test, preds)\n",
    "recall = recall_score(y_test, preds)\n",
    "f1 = f1_score(y_test, preds)\n",
    "accuracy = accuracy_score(y_test, preds)\n",
    "print(\"Precision:\", precision)\n",
    "print(\"Recall:\", recall)\n",
    "print(\"F1-score:\", f1)\n",
    "print(\"Accuracy:\", accuracy)"
   ]
  },
  {
   "cell_type": "code",
   "execution_count": 18,
   "id": "1940074b-02b6-488d-ac04-60693490edbd",
   "metadata": {},
   "outputs": [
    {
     "name": "stdout",
     "output_type": "stream",
     "text": [
      "0.9242902208201893\n",
      "[[4865   48]\n",
      " [ 552 2460]]\n",
      "Precision: 0.9808612440191388\n",
      "Recall: 0.8167330677290837\n",
      "F1-score: 0.891304347826087\n",
      "Accuracy: 0.9242902208201893\n"
     ]
    }
   ],
   "source": [
    "bst = XGBClassifier(max_depth=20,scale_pos_weight=1.74,gamma=1.25) \n",
    "bst.fit(X_train, y_train)\n",
    "preds = bst.predict(X_test)\n",
    "acc=accuracy_score(preds,y_test)\n",
    "print(acc)\n",
    "cm = confusion_matrix(y_test, preds)\n",
    "print(cm)\n",
    "precision = precision_score(y_test, preds)\n",
    "recall = recall_score(y_test, preds)\n",
    "f1 = f1_score(y_test, preds)\n",
    "accuracy = accuracy_score(y_test, preds)\n",
    "print(\"Precision:\", precision)\n",
    "print(\"Recall:\", recall)\n",
    "print(\"F1-score:\", f1)\n",
    "print(\"Accuracy:\", accuracy)"
   ]
  },
  {
   "cell_type": "code",
   "execution_count": null,
   "id": "04ef669c-baba-4cea-a1c0-bc4a2d4b9a52",
   "metadata": {},
   "outputs": [],
   "source": []
  }
 ],
 "metadata": {
  "kernelspec": {
   "display_name": "Python 3 (ipykernel)",
   "language": "python",
   "name": "python3"
  },
  "language_info": {
   "codemirror_mode": {
    "name": "ipython",
    "version": 3
   },
   "file_extension": ".py",
   "mimetype": "text/x-python",
   "name": "python",
   "nbconvert_exporter": "python",
   "pygments_lexer": "ipython3",
   "version": "3.11.5"
  }
 },
 "nbformat": 4,
 "nbformat_minor": 5
}
