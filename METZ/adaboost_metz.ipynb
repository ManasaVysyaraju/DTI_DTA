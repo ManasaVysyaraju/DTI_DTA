{
 "cells": [
  {
   "cell_type": "code",
   "execution_count": 12,
   "id": "59a1e643",
   "metadata": {},
   "outputs": [],
   "source": [
    "import pandas as pd\n",
    "from sklearn.model_selection import train_test_split, cross_val_score\n",
    "from sklearn.ensemble import AdaBoostRegressor\n",
    "from sklearn.metrics import mean_squared_error, r2_score,mean_absolute_error\n",
    "from sklearn.metrics import accuracy_score\n",
    "import numpy as np\n",
    "from sklearn.model_selection import KFold\n"
   ]
  },
  {
   "cell_type": "code",
   "execution_count": 3,
   "id": "a95829aa",
   "metadata": {},
   "outputs": [],
   "source": [
    "df=pd.read_csv('combined_feat_metz.csv')\n",
    "X = df.drop(columns=['Drug_ID','Protein_ID','affinity'])\n",
    "y = df['affinity']\n",
    "X_train, X_test, y_train, y_test = train_test_split(X, y, test_size=0.2, random_state=42)"
   ]
  },
  {
   "cell_type": "code",
   "execution_count": 13,
   "id": "0c8a5e34",
   "metadata": {},
   "outputs": [
    {
     "name": "stdout",
     "output_type": "stream",
     "text": [
      "CV mean square score  0.8402663649695852\n",
      "CV r2 score  0.08102309162797425\n",
      "CV mean absolute score  0.7849143436930105\n",
      "Mean Absolute Error (MAE): 0.7966871949471385\n",
      "Mean Squared Error on Test Set: 0.8693735984971506\n",
      "Root Mean Squared Error (RMSE): 0.9324020583938833\n",
      "R-squared (R2) Error: 0.0699158957338688\n"
     ]
    }
   ],
   "source": [
    "ada_reg = AdaBoostRegressor(n_estimators=50, learning_rate=1.0, random_state=42)\n",
    "kf = KFold(n_splits=5, shuffle=True, random_state=42)\n",
    "cv_scores = cross_val_score(ada_reg, X_train, y_train,  cv=kf, scoring='neg_mean_squared_error')\n",
    "r2_scores = cross_val_score(ada_reg, X_train, y_train, cv=kf, scoring='r2')\n",
    "mae_scores = -cross_val_score(ada_reg, X_train, y_train, cv=kf, scoring='neg_mean_absolute_error')\n",
    "\n",
    "cv_scores = -cv_scores\n",
    "print(\"CV mean square score \",cv_scores.mean())\n",
    "print(\"CV r2 score \",r2_scores.mean())\n",
    "print(\"CV mean absolute score \",mae_scores.mean())\n",
    "ada_reg.fit(X_train,y_train)\n",
    "y_pred = ada_reg.predict(X_test)\n",
    "mse = mean_squared_error(y_test, y_pred)\n",
    "rmse=np.sqrt(mse)\n",
    "r2 = r2_score(y_test, y_pred)\n",
    "mae = mean_absolute_error(y_test, y_pred)\n",
    "print(\"Mean Absolute Error (MAE):\", mae)\n",
    "print(\"Mean Squared Error on Test Set:\", mse)\n",
    "print(\"Root Mean Squared Error (RMSE):\", rmse)\n",
    "print(\"R-squared (R2) Error:\", r2)\n"
   ]
  },
  {
   "cell_type": "code",
   "execution_count": 14,
   "id": "ce510f7d",
   "metadata": {},
   "outputs": [
    {
     "name": "stdout",
     "output_type": "stream",
     "text": [
      "CV mean square score  0.7323392645338037\n",
      "CV r2 score  0.1992765064903862\n",
      "CV mean absolute score  0.6766071779068478\n",
      "Mean Absolute Error (MAE): 0.6707978404565366\n",
      "Mean Squared Error on Test Set: 0.7348290324711917\n",
      "Root Mean Squared Error (RMSE): 0.8572216938874049\n",
      "R-squared (R2) Error: 0.21385604113562662\n"
     ]
    }
   ],
   "source": [
    "ada_reg = AdaBoostRegressor(n_estimators=50, learning_rate=0.0001, random_state=42)\n",
    "kf = KFold(n_splits=5, shuffle=True, random_state=42)\n",
    "cv_scores = cross_val_score(ada_reg, X_train, y_train,  cv=kf, scoring='neg_mean_squared_error')\n",
    "r2_scores = cross_val_score(ada_reg, X_train, y_train, cv=kf, scoring='r2')\n",
    "mae_scores = -cross_val_score(ada_reg, X_train, y_train, cv=kf, scoring='neg_mean_absolute_error')\n",
    "\n",
    "cv_scores = -cv_scores\n",
    "print(\"CV mean square score \",cv_scores.mean())\n",
    "print(\"CV r2 score \",r2_scores.mean())\n",
    "print(\"CV mean absolute score \",mae_scores.mean())\n",
    "ada_reg.fit(X_train,y_train)\n",
    "y_pred = ada_reg.predict(X_test)\n",
    "mse = mean_squared_error(y_test, y_pred)\n",
    "rmse=np.sqrt(mse)\n",
    "r2 = r2_score(y_test, y_pred)\n",
    "mae = mean_absolute_error(y_test, y_pred)\n",
    "print(\"Mean Absolute Error (MAE):\", mae)\n",
    "print(\"Mean Squared Error on Test Set:\", mse)\n",
    "print(\"Root Mean Squared Error (RMSE):\", rmse)\n",
    "print(\"R-squared (R2) Error:\", r2)\n"
   ]
  },
  {
   "cell_type": "code",
   "execution_count": null,
   "id": "bd30e67f",
   "metadata": {},
   "outputs": [],
   "source": []
  }
 ],
 "metadata": {
  "kernelspec": {
   "display_name": "Python 3 (ipykernel)",
   "language": "python",
   "name": "python3"
  },
  "language_info": {
   "codemirror_mode": {
    "name": "ipython",
    "version": 3
   },
   "file_extension": ".py",
   "mimetype": "text/x-python",
   "name": "python",
   "nbconvert_exporter": "python",
   "pygments_lexer": "ipython3",
   "version": "3.11.5"
  }
 },
 "nbformat": 4,
 "nbformat_minor": 5
}
