{
 "cells": [
  {
   "cell_type": "code",
   "execution_count": 11,
   "id": "3902ffc6",
   "metadata": {},
   "outputs": [],
   "source": [
    "import pandas as pd\n",
    "from sklearn.model_selection import train_test_split, cross_val_score\n",
    "from sklearn.ensemble import GradientBoostingRegressor\n",
    "from sklearn.metrics import mean_squared_error, r2_score,mean_absolute_error\n",
    "from sklearn.metrics import accuracy_score\n",
    "import numpy as np\n",
    "from sklearn.model_selection import KFold\n"
   ]
  },
  {
   "cell_type": "code",
   "execution_count": 2,
   "id": "9d18475c",
   "metadata": {},
   "outputs": [],
   "source": [
    "df=pd.read_csv('combined_feat_metz.csv')\n",
    "X = df.drop(columns=['Drug_ID','Protein_ID','affinity'])\n",
    "y = df['affinity']\n",
    "X_train, X_test, y_train, y_test = train_test_split(X, y, test_size=0.2, random_state=42)"
   ]
  },
  {
   "cell_type": "code",
   "execution_count": 12,
   "id": "992c4caf",
   "metadata": {},
   "outputs": [
    {
     "name": "stdout",
     "output_type": "stream",
     "text": [
      "Mean Absolute Error (MAE): 0.5668987901311797\n",
      "Mean Squared Error on Test Set: 0.5249427207436713\n",
      "Root Mean Squared Error (RMSE): 0.7245293097892391\n",
      "R-squared (R2) Error: 0.4383992324382696\n"
     ]
    }
   ],
   "source": [
    "gradient_boost_reg = GradientBoostingRegressor(n_estimators=100, learning_rate=0.1, max_depth=3, random_state=42)\n",
    "kf = KFold(n_splits=5, shuffle=True, random_state=42)\n",
    "cv_scores = cross_val_score(gradient_boost_reg, X_train, y_train, cv=kf, scoring='neg_mean_squared_error')\n",
    "cv_scores = -cv_scores\n",
    "gradient_boost_reg.fit(X_train,y_train)\n",
    "y_pred=gradient_boost_reg.predict(X_test)\n",
    "mse = mean_squared_error(y_test, y_pred)\n",
    "rmse=np.sqrt(mse)\n",
    "r2 = r2_score(y_test, y_pred)\n",
    "mae = mean_absolute_error(y_test, y_pred)\n",
    "print(\"Mean Absolute Error (MAE):\", mae)\n",
    "print(\"Mean Squared Error on Test Set:\", mse)\n",
    "print(\"Root Mean Squared Error (RMSE):\", rmse)\n",
    "print(\"R-squared (R2) Error:\", r2)\n",
    "#print(\"Accuracy Score (C1 score):\", c1_score)\n"
   ]
  },
  {
   "cell_type": "code",
   "execution_count": 13,
   "id": "7ac5e533",
   "metadata": {},
   "outputs": [
    {
     "name": "stdout",
     "output_type": "stream",
     "text": [
      "Mean Absolute Error (MAE): 0.7426886514387395\n",
      "Mean Squared Error on Test Set: 0.9040069804398534\n",
      "Root Mean Squared Error (RMSE): 0.950792816779688\n",
      "R-squared (R2) Error: 0.03286397918433348\n"
     ]
    }
   ],
   "source": [
    "gradient_boost_reg = GradientBoostingRegressor(n_estimators=100, learning_rate=0.001, max_depth=3, random_state=42)\n",
    "kf = KFold(n_splits=5, shuffle=True, random_state=42)\n",
    "cv_scores = cross_val_score(gradient_boost_reg, X_train, y_train, cv=kf, scoring='neg_mean_squared_error')\n",
    "cv_scores = -cv_scores\n",
    "gradient_boost_reg.fit(X_train,y_train)\n",
    "y_pred=gradient_boost_reg.predict(X_test)\n",
    "mse = mean_squared_error(y_test, y_pred)\n",
    "rmse=np.sqrt(mse)\n",
    "r2 = r2_score(y_test, y_pred)\n",
    "mae = mean_absolute_error(y_test, y_pred)\n",
    "print(\"Mean Absolute Error (MAE):\", mae)\n",
    "print(\"Mean Squared Error on Test Set:\", mse)\n",
    "print(\"Root Mean Squared Error (RMSE):\", rmse)\n",
    "print(\"R-squared (R2) Error:\", r2)\n",
    "#print(\"Accuracy Score (C1 score):\", c1_score)\n"
   ]
  },
  {
   "cell_type": "code",
   "execution_count": 14,
   "id": "27a22a90",
   "metadata": {},
   "outputs": [
    {
     "name": "stdout",
     "output_type": "stream",
     "text": [
      "Mean Absolute Error (MAE): 0.5460000914008263\n",
      "Mean Squared Error on Test Set: 0.4964366013491353\n",
      "Root Mean Squared Error (RMSE): 0.7045825724137202\n",
      "R-squared (R2) Error: 0.4688960045613274\n"
     ]
    }
   ],
   "source": [
    "gradient_boost_reg = GradientBoostingRegressor(n_estimators=50, learning_rate=0.5, max_depth=3, random_state=42)\n",
    "kf = KFold(n_splits=5, shuffle=True, random_state=42)\n",
    "cv_scores = cross_val_score(gradient_boost_reg, X_train, y_train, cv=kf, scoring='neg_mean_squared_error')\n",
    "cv_scores = -cv_scores\n",
    "gradient_boost_reg.fit(X_train,y_train)\n",
    "y_pred=gradient_boost_reg.predict(X_test)\n",
    "mse = mean_squared_error(y_test, y_pred)\n",
    "rmse=np.sqrt(mse)\n",
    "r2 = r2_score(y_test, y_pred)\n",
    "mae = mean_absolute_error(y_test, y_pred)\n",
    "print(\"Mean Absolute Error (MAE):\", mae)\n",
    "print(\"Mean Squared Error on Test Set:\", mse)\n",
    "print(\"Root Mean Squared Error (RMSE):\", rmse)\n",
    "print(\"R-squared (R2) Error:\", r2)\n",
    "#print(\"Accuracy Score (C1 score):\", c1_score)\n"
   ]
  },
  {
   "cell_type": "code",
   "execution_count": 15,
   "id": "61efbab0",
   "metadata": {},
   "outputs": [
    {
     "name": "stdout",
     "output_type": "stream",
     "text": [
      "Mean Absolute Error (MAE): 0.5606806651363724\n",
      "Mean Squared Error on Test Set: 0.513986088515685\n",
      "Root Mean Squared Error (RMSE): 0.7169282310773408\n",
      "R-squared (R2) Error: 0.45012099335803546\n"
     ]
    }
   ],
   "source": [
    "gradient_boost_reg = GradientBoostingRegressor(n_estimators=50, learning_rate=0.25, random_state=42)\n",
    "kf = KFold(n_splits=5, shuffle=True, random_state=42)\n",
    "cv_scores = cross_val_score(gradient_boost_reg, X_train, y_train, cv=kf, scoring='neg_mean_squared_error')\n",
    "cv_scores = -cv_scores\n",
    "gradient_boost_reg.fit(X_train,y_train)\n",
    "y_pred=gradient_boost_reg.predict(X_test)\n",
    "mse = mean_squared_error(y_test, y_pred)\n",
    "rmse=np.sqrt(mse)\n",
    "r2 = r2_score(y_test, y_pred)\n",
    "mae = mean_absolute_error(y_test, y_pred)\n",
    "print(\"Mean Absolute Error (MAE):\", mae)\n",
    "print(\"Mean Squared Error on Test Set:\", mse)\n",
    "print(\"Root Mean Squared Error (RMSE):\", rmse)\n",
    "print(\"R-squared (R2) Error:\", r2)\n",
    "#print(\"Accuracy Score (C1 score):\", c1_score)\n"
   ]
  },
  {
   "cell_type": "code",
   "execution_count": null,
   "id": "777ead49",
   "metadata": {},
   "outputs": [],
   "source": [
    " "
   ]
  }
 ],
 "metadata": {
  "kernelspec": {
   "display_name": "Python 3 (ipykernel)",
   "language": "python",
   "name": "python3"
  },
  "language_info": {
   "codemirror_mode": {
    "name": "ipython",
    "version": 3
   },
   "file_extension": ".py",
   "mimetype": "text/x-python",
   "name": "python",
   "nbconvert_exporter": "python",
   "pygments_lexer": "ipython3",
   "version": "3.11.5"
  }
 },
 "nbformat": 4,
 "nbformat_minor": 5
}
