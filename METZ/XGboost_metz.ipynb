{
 "cells": [
  {
   "cell_type": "code",
   "execution_count": 20,
   "id": "26977212",
   "metadata": {},
   "outputs": [],
   "source": [
    "import pandas as pd\n",
    "from sklearn.model_selection import train_test_split, cross_val_score\n",
    "import xgboost as xgb\n",
    "from sklearn.metrics import mean_squared_error, r2_score,mean_absolute_error\n",
    "from sklearn.metrics import accuracy_score\n",
    "import numpy as np\n",
    "from sklearn.model_selection import KFold\n"
   ]
  },
  {
   "cell_type": "code",
   "execution_count": 21,
   "id": "68f14c38",
   "metadata": {},
   "outputs": [],
   "source": [
    "df=pd.read_csv('combined_feat_metz.csv')\n",
    "X = df.drop(columns=['Drug_ID','Protein_ID','affinity'])\n",
    "y = df['affinity']\n",
    "X_train, X_test, y_train, y_test = train_test_split(X, y, test_size=0.2, random_state=42)"
   ]
  },
  {
   "cell_type": "code",
   "execution_count": 25,
   "id": "2f8a1f4e",
   "metadata": {},
   "outputs": [
    {
     "name": "stdout",
     "output_type": "stream",
     "text": [
      "CV mean square score  0.41215529282148083\n",
      "CV r2 score  0.5493500315067632\n",
      "CV mean absolute score  0.4982504981443622\n",
      "Mean Absolute Error (MAE): 0.48854827859221844\n",
      "Mean Squared Error on Test Set: 0.4047438451180234\n",
      "Root Mean Squared Error (RMSE): 0.6361948169531275\n",
      "R-squared (R2) Error: 0.5669918924446606\n"
     ]
    }
   ],
   "source": [
    "xg_reg = xgb.XGBRegressor()\n",
    "kf = KFold(n_splits=5, shuffle=True, random_state=42)\n",
    "cv_scores = cross_val_score(xg_reg, X_train, y_train, cv=kf, scoring='neg_mean_squared_error')\n",
    "r2_scores = cross_val_score(xg_reg, X_train, y_train, cv=kf, scoring='r2')\n",
    "mae_scores = -cross_val_score(xg_reg, X_train, y_train, cv=kf, scoring='neg_mean_absolute_error')\n",
    "\n",
    "cv_scores = -cv_scores\n",
    "print(\"CV mean square score \",cv_scores.mean())\n",
    "print(\"CV r2 score \",r2_scores.mean())\n",
    "print(\"CV mean absolute score \",mae_scores.mean())\n",
    "\n",
    "\n",
    "xg_reg.fit(X_train, y_train)\n",
    "y_pred = xg_reg.predict(X_test)\n",
    "\n",
    "\n",
    "mse = mean_squared_error(y_test, y_pred)\n",
    "rmse=np.sqrt(mse)\n",
    "r2 = r2_score(y_test, y_pred)\n",
    "mae = mean_absolute_error(y_test, y_pred)\n",
    "print(\"Mean Absolute Error (MAE):\", mae)\n",
    "print(\"Mean Squared Error on Test Set:\", mse)\n",
    "print(\"Root Mean Squared Error (RMSE):\", rmse)\n",
    "print(\"R-squared (R2) Error:\", r2)\n"
   ]
  },
  {
   "cell_type": "code",
   "execution_count": 26,
   "id": "ab349c3e",
   "metadata": {},
   "outputs": [
    {
     "name": "stdout",
     "output_type": "stream",
     "text": [
      "CV mean square score  0.41103855767327396\n",
      "CV r2 score  0.5505062012450581\n",
      "CV mean absolute score  0.4969311975458054\n",
      "Mean Absolute Error (MAE): 0.48130712627485545\n",
      "Mean Squared Error on Test Set: 0.39618490895749847\n",
      "Root Mean Squared Error (RMSE): 0.6294322115665025\n",
      "R-squared (R2) Error: 0.5761485202581736\n"
     ]
    }
   ],
   "source": [
    "xg_reg = xgb.XGBRegressor(reg_alpha=0.5,reg_lambda=0.5)\n",
    "kf = KFold(n_splits=5, shuffle=True, random_state=42)\n",
    "cv_scores = cross_val_score(xg_reg, X_train, y_train, cv=kf, scoring='neg_mean_squared_error')\n",
    "r2_scores = cross_val_score(xg_reg, X_train, y_train, cv=kf, scoring='r2')\n",
    "mae_scores = -cross_val_score(xg_reg, X_train, y_train, cv=kf, scoring='neg_mean_absolute_error')\n",
    "\n",
    "cv_scores = -cv_scores\n",
    "print(\"CV mean square score \",cv_scores.mean())\n",
    "print(\"CV r2 score \",r2_scores.mean())\n",
    "print(\"CV mean absolute score \",mae_scores.mean())\n",
    "\n",
    "\n",
    "\n",
    "xg_reg.fit(X_train, y_train)\n",
    "y_pred = xg_reg.predict(X_test)\n",
    "\n",
    "\n",
    "mse = mean_squared_error(y_test, y_pred)\n",
    "rmse=np.sqrt(mse)\n",
    "r2 = r2_score(y_test, y_pred)\n",
    "mae = mean_absolute_error(y_test, y_pred)\n",
    "print(\"Mean Absolute Error (MAE):\", mae)\n",
    "print(\"Mean Squared Error on Test Set:\", mse)\n",
    "print(\"Root Mean Squared Error (RMSE):\", rmse)\n",
    "print(\"R-squared (R2) Error:\", r2)\n"
   ]
  },
  {
   "cell_type": "code",
   "execution_count": 27,
   "id": "3d3e828f",
   "metadata": {},
   "outputs": [
    {
     "name": "stdout",
     "output_type": "stream",
     "text": [
      "CV mean square score  0.4083152416221038\n",
      "CV r2 score  0.5535021172172845\n",
      "CV mean absolute score  0.4956268591773684\n",
      "Mean Absolute Error (MAE): 0.4827185142398624\n",
      "Mean Squared Error on Test Set: 0.39753400242688197\n",
      "Root Mean Squared Error (RMSE): 0.6305029757478405\n",
      "R-squared (R2) Error: 0.5747052162595108\n"
     ]
    }
   ],
   "source": [
    "xg_reg = xgb.XGBRegressor(reg_alpha=0.5,reg_lambda=0.5,gamma=1.5)\n",
    "kf = KFold(n_splits=5, shuffle=True, random_state=42)\n",
    "cv_scores = cross_val_score(xg_reg, X_train, y_train, cv=kf, scoring='neg_mean_squared_error')\n",
    "r2_scores = cross_val_score(xg_reg, X_train, y_train, cv=kf, scoring='r2')\n",
    "mae_scores = -cross_val_score(xg_reg, X_train, y_train, cv=kf, scoring='neg_mean_absolute_error')\n",
    "\n",
    "cv_scores = -cv_scores\n",
    "print(\"CV mean square score \",cv_scores.mean())\n",
    "print(\"CV r2 score \",r2_scores.mean())\n",
    "print(\"CV mean absolute score \",mae_scores.mean())\n",
    "\n",
    "\n",
    "\n",
    "xg_reg.fit(X_train, y_train)\n",
    "y_pred = xg_reg.predict(X_test)\n",
    "\n",
    "\n",
    "mse = mean_squared_error(y_test, y_pred)\n",
    "rmse=np.sqrt(mse)\n",
    "r2 = r2_score(y_test, y_pred)\n",
    "mae = mean_absolute_error(y_test, y_pred)\n",
    "print(\"Mean Absolute Error (MAE):\", mae)\n",
    "print(\"Mean Squared Error on Test Set:\", mse)\n",
    "print(\"Root Mean Squared Error (RMSE):\", rmse)\n",
    "print(\"R-squared (R2) Error:\", r2)\n"
   ]
  },
  {
   "cell_type": "code",
   "execution_count": 28,
   "id": "17d7f2bf",
   "metadata": {},
   "outputs": [
    {
     "name": "stdout",
     "output_type": "stream",
     "text": [
      "CV mean square score  0.4100989165573317\n",
      "CV r2 score  0.5516100294639323\n",
      "CV mean absolute score  0.4970706431595014\n",
      "Mean Absolute Error (MAE): 0.48883507109067015\n",
      "Mean Squared Error on Test Set: 0.4033678280777463\n",
      "Root Mean Squared Error (RMSE): 0.6351124530961003\n",
      "R-squared (R2) Error: 0.5684640001536749\n"
     ]
    }
   ],
   "source": [
    "xg_reg = xgb.XGBRegressor(reg_alpha=0.5,reg_lambda=0.5,gamma=2.5)\n",
    "kf = KFold(n_splits=5, shuffle=True, random_state=42)\n",
    "cv_scores = cross_val_score(xg_reg, X_train, y_train, cv=kf, scoring='neg_mean_squared_error')\n",
    "r2_scores = cross_val_score(xg_reg, X_train, y_train, cv=kf, scoring='r2')\n",
    "mae_scores = -cross_val_score(xg_reg, X_train, y_train, cv=kf, scoring='neg_mean_absolute_error')\n",
    "\n",
    "cv_scores = -cv_scores\n",
    "print(\"CV mean square score \",cv_scores.mean())\n",
    "print(\"CV r2 score \",r2_scores.mean())\n",
    "print(\"CV mean absolute score \",mae_scores.mean())\n",
    "\n",
    "\n",
    "\n",
    "xg_reg.fit(X_train, y_train)\n",
    "y_pred = xg_reg.predict(X_test)\n",
    "\n",
    "\n",
    "mse = mean_squared_error(y_test, y_pred)\n",
    "rmse=np.sqrt(mse)\n",
    "r2 = r2_score(y_test, y_pred)\n",
    "mae = mean_absolute_error(y_test, y_pred)\n",
    "print(\"Mean Absolute Error (MAE):\", mae)\n",
    "print(\"Mean Squared Error on Test Set:\", mse)\n",
    "print(\"Root Mean Squared Error (RMSE):\", rmse)\n",
    "print(\"R-squared (R2) Error:\", r2)\n"
   ]
  },
  {
   "cell_type": "code",
   "execution_count": 29,
   "id": "51fbe9e2",
   "metadata": {},
   "outputs": [
    {
     "name": "stdout",
     "output_type": "stream",
     "text": [
      "CV mean square score  0.41381075923727906\n",
      "CV r2 score  0.5475263371855539\n",
      "CV mean absolute score  0.49900812234573866\n",
      "Mean Absolute Error (MAE): 0.48977287612175036\n",
      "Mean Squared Error on Test Set: 0.40553625136001725\n",
      "Root Mean Squared Error (RMSE): 0.6368172825544367\n",
      "R-squared (R2) Error: 0.5661441505175149\n"
     ]
    }
   ],
   "source": [
    " xg_reg = xgb.XGBRegressor(reg_alpha=0.05,reg_lambda=0.05,gamma=1.5)\n",
    "kf = KFold(n_splits=5, shuffle=True, random_state=42)\n",
    "cv_scores = cross_val_score(xg_reg, X_train, y_train, cv=kf, scoring='neg_mean_squared_error')\n",
    "r2_scores = cross_val_score(xg_reg, X_train, y_train, cv=kf, scoring='r2')\n",
    "mae_scores = -cross_val_score(xg_reg, X_train, y_train, cv=kf, scoring='neg_mean_absolute_error')\n",
    "\n",
    "cv_scores = -cv_scores\n",
    "print(\"CV mean square score \",cv_scores.mean())\n",
    "print(\"CV r2 score \",r2_scores.mean())\n",
    "print(\"CV mean absolute score \",mae_scores.mean())\n",
    "\n",
    "\n",
    "\n",
    "xg_reg.fit(X_train, y_train)\n",
    "y_pred = xg_reg.predict(X_test)\n",
    "\n",
    "\n",
    "mse = mean_squared_error(y_test, y_pred)\n",
    "rmse=np.sqrt(mse)\n",
    "r2 = r2_score(y_test, y_pred)\n",
    "mae = mean_absolute_error(y_test, y_pred)\n",
    "print(\"Mean Absolute Error (MAE):\", mae)\n",
    "print(\"Mean Squared Error on Test Set:\", mse)\n",
    "print(\"Root Mean Squared Error (RMSE):\", rmse)\n",
    "print(\"R-squared (R2) Error:\", r2)\n"
   ]
  },
  {
   "cell_type": "code",
   "execution_count": null,
   "id": "a3187f3f",
   "metadata": {},
   "outputs": [],
   "source": [
    "  "
   ]
  }
 ],
 "metadata": {
  "kernelspec": {
   "display_name": "Python 3 (ipykernel)",
   "language": "python",
   "name": "python3"
  },
  "language_info": {
   "codemirror_mode": {
    "name": "ipython",
    "version": 3
   },
   "file_extension": ".py",
   "mimetype": "text/x-python",
   "name": "python",
   "nbconvert_exporter": "python",
   "pygments_lexer": "ipython3",
   "version": "3.11.5"
  }
 },
 "nbformat": 4,
 "nbformat_minor": 5
}
