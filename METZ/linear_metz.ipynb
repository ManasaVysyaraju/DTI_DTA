{
 "cells": [
  {
   "cell_type": "code",
   "execution_count": 27,
   "id": "092b3d0d",
   "metadata": {},
   "outputs": [],
   "source": [
    "import pandas as pd\n",
    "from sklearn.model_selection import train_test_split, cross_val_score\n",
    "from sklearn.linear_model import LinearRegression\n",
    "from sklearn.metrics import mean_squared_error, r2_score\n",
    "from sklearn.metrics import mean_absolute_error\n",
    "import numpy as np\n",
    "from sklearn.model_selection import KFold\n"
   ]
  },
  {
   "cell_type": "code",
   "execution_count": 28,
   "id": "d1435bec",
   "metadata": {},
   "outputs": [],
   "source": [
    "df=pd.read_csv('combined_feat_metz.csv')\n",
    "X = df.drop(columns=['Drug_ID','Protein_ID','affinity'])\n",
    "y = df['affinity']\n",
    "X_train, X_test, y_train, y_test = train_test_split(X, y, test_size=0.2, random_state=42)"
   ]
  },
  {
   "cell_type": "code",
   "execution_count": 29,
   "id": "c196025e",
   "metadata": {},
   "outputs": [
    {
     "name": "stdout",
     "output_type": "stream",
     "text": [
      "CV mean square score  0.5232913666044027\n",
      "CV r2 score  0.4277415507304683\n",
      "CV mean absolute score  0.563881345976336\n",
      "Mean Absolute Error (MAE): 0.5555235386165245\n",
      "Mean Squared Error on Test Set: 0.5174692857608468\n",
      "Root Mean Squared Error (RMSE): 0.7193533803082091\n",
      "R-squared (R2) Error: 0.44639455584561394\n"
     ]
    }
   ],
   "source": [
    "linear_reg = LinearRegression()\n",
    "kf = KFold(n_splits=5, shuffle=True, random_state=42)\n",
    "cv_scores = cross_val_score(linear_reg, X_train, y_train, cv=kf, scoring='neg_mean_squared_error')\n",
    "r2_scores = cross_val_score(linear_reg, X_train, y_train, cv=kf, scoring='r2')\n",
    "mae_scores = -cross_val_score(linear_reg, X_train, y_train, cv=kf, scoring='neg_mean_absolute_error')\n",
    "\n",
    "cv_scores = -cv_scores\n",
    "print(\"CV mean square score \",cv_scores.mean())\n",
    "print(\"CV r2 score \",r2_scores.mean())\n",
    "print(\"CV mean absolute score \",mae_scores.mean())\n",
    "\n",
    "linear_reg.fit(X_train,y_train)\n",
    "y_pred = linear_reg.predict(X_test)\n",
    "mse = mean_squared_error(y_test, y_pred)\n",
    "rmse=np.sqrt(mse)\n",
    "r2 = r2_score(y_test, y_pred)\n",
    "mae = mean_absolute_error(y_test, y_pred)\n",
    "print(\"Mean Absolute Error (MAE):\", mae)\n",
    "print(\"Mean Squared Error on Test Set:\", mse)\n",
    "print(\"Root Mean Squared Error (RMSE):\", rmse)\n",
    "print(\"R-squared (R2) Error:\", r2)\n"
   ]
  },
  {
   "cell_type": "code",
   "execution_count": null,
   "id": "671f3970",
   "metadata": {},
   "outputs": [],
   "source": []
  },
  {
   "cell_type": "code",
   "execution_count": 30,
   "id": "5154be0a",
   "metadata": {},
   "outputs": [
    {
     "name": "stdout",
     "output_type": "stream",
     "text": [
      "CV mean square score  0.5172923805342953\n",
      "CV r2 score  0.43433048487414655\n",
      "CV mean absolute score  0.5606259915524355\n",
      "mean CV score 0.5172923805342953\n",
      "Mean Absolute Error (MAE): 0.5553294531810845\n",
      "Mean Squared Error on Test Set: 0.5169804701255752\n",
      "Root Mean Squared Error (RMSE): 0.7190135395982299\n",
      "R-squared (R2) Error: 0.4469175066840898\n"
     ]
    }
   ],
   "source": [
    "linear_reg = LinearRegression(normalize=True)\n",
    "kf = KFold(n_splits=5, shuffle=True, random_state=42)\n",
    "cv_scores = cross_val_score(linear_reg, X_train, y_train, cv=kf, scoring='neg_mean_squared_error')\n",
    "r2_scores = cross_val_score(linear_reg, X_train, y_train, cv=kf, scoring='r2')\n",
    "mae_scores = -cross_val_score(linear_reg, X_train, y_train, cv=kf, scoring='neg_mean_absolute_error')\n",
    "\n",
    "cv_scores = -cv_scores\n",
    "print(\"CV mean square score \",cv_scores.mean())\n",
    "print(\"CV r2 score \",r2_scores.mean())\n",
    "print(\"CV mean absolute score \",mae_scores.mean())\n",
    "\n",
    "print(\"mean CV score\",cv_scores.mean())\n",
    "linear_reg.fit(X_train, y_train)\n",
    "y_pred = linear_reg.predict(X_test)\n",
    "mse = mean_squared_error(y_test, y_pred)\n",
    "rmse=np.sqrt(mse)\n",
    "r2 = r2_score(y_test, y_pred)\n",
    "mae = mean_absolute_error(y_test, y_pred)\n",
    "print(\"Mean Absolute Error (MAE):\", mae)\n",
    "print(\"Mean Squared Error on Test Set:\", mse)\n",
    "print(\"Root Mean Squared Error (RMSE):\", rmse)\n",
    "print(\"R-squared (R2) Error:\", r2)\n",
    "#print(\"Accuracy Score (C1 score):\", c1_score)\n"
   ]
  },
  {
   "cell_type": "code",
   "execution_count": 31,
   "id": "22dda796",
   "metadata": {},
   "outputs": [
    {
     "name": "stdout",
     "output_type": "stream",
     "text": [
      "CV mean square score  0.5172923805342953\n",
      "CV r2 score  0.43433048487414655\n",
      "CV mean absolute score  0.5606259915524355\n",
      "Mean Absolute Error (MAE): 0.5553294531810845\n",
      "Mean Squared Error on Test Set: 0.5169804701255752\n",
      "Root Mean Squared Error (RMSE): 0.7190135395982299\n",
      "R-squared (R2) Error: 0.4469175066840898\n"
     ]
    }
   ],
   "source": [
    "linear_reg = LinearRegression(normalize=True,copy_X=True)\n",
    "kf = KFold(n_splits=5, shuffle=True, random_state=42)\n",
    "cv_scores = cross_val_score(linear_reg, X_train, y_train, cv=kf, scoring='neg_mean_squared_error')\n",
    "r2_scores = cross_val_score(linear_reg, X_train, y_train, cv=kf, scoring='r2')\n",
    "mae_scores = -cross_val_score(linear_reg, X_train, y_train, cv=kf, scoring='neg_mean_absolute_error')\n",
    "\n",
    "cv_scores = -cv_scores\n",
    "print(\"CV mean square score \",cv_scores.mean())\n",
    "print(\"CV r2 score \",r2_scores.mean())\n",
    "print(\"CV mean absolute score \",mae_scores.mean())\n",
    "linear_reg.fit(X_train, y_train)\n",
    "y_pred = linear_reg.predict(X_test)\n",
    "mse = mean_squared_error(y_test, y_pred)\n",
    "rmse=np.sqrt(mse)\n",
    "r2 = r2_score(y_test, y_pred)\n",
    "mae = mean_absolute_error(y_test, y_pred)\n",
    "print(\"Mean Absolute Error (MAE):\", mae)\n",
    "print(\"Mean Squared Error on Test Set:\", mse)\n",
    "print(\"Root Mean Squared Error (RMSE):\", rmse)\n",
    "print(\"R-squared (R2) Error:\", r2)\n",
    "\n"
   ]
  },
  {
   "cell_type": "code",
   "execution_count": null,
   "id": "6767c987",
   "metadata": {},
   "outputs": [],
   "source": []
  }
 ],
 "metadata": {
  "kernelspec": {
   "display_name": "Python 3 (ipykernel)",
   "language": "python",
   "name": "python3"
  },
  "language_info": {
   "codemirror_mode": {
    "name": "ipython",
    "version": 3
   },
   "file_extension": ".py",
   "mimetype": "text/x-python",
   "name": "python",
   "nbconvert_exporter": "python",
   "pygments_lexer": "ipython3",
   "version": "3.11.5"
  }
 },
 "nbformat": 4,
 "nbformat_minor": 5
}
