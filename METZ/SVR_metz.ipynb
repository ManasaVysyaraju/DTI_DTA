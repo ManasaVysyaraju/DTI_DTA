{
 "cells": [
  {
   "cell_type": "code",
   "execution_count": 6,
   "id": "7c897b4b-5a17-4062-b460-8075b1f024f1",
   "metadata": {},
   "outputs": [],
   "source": [
    "import pandas as pd\n",
    "from sklearn.model_selection import train_test_split, cross_val_score\n",
    "from sklearn.svm import SVR\n",
    "from sklearn.metrics import mean_squared_error,r2_score,mean_absolute_error\n",
    "from sklearn.model_selection import KFold\n",
    "import numpy as np"
   ]
  },
  {
   "cell_type": "code",
   "execution_count": 7,
   "id": "30b05279-7a13-44d6-9dee-b637a843a850",
   "metadata": {},
   "outputs": [],
   "source": [
    "df=pd.read_csv('combined_feat_metz.csv')\n",
    "X = df.drop(columns=['Drug_ID','Protein_ID','affinity'])\n",
    "y = df['affinity']\n",
    "X_train, X_test, y_train, y_test = train_test_split(X, y, test_size=0.2, random_state=42)"
   ]
  },
  {
   "cell_type": "code",
   "execution_count": 8,
   "id": "5ba8dfa0-9513-458f-a530-e9d5be81fd09",
   "metadata": {},
   "outputs": [
    {
     "name": "stdout",
     "output_type": "stream",
     "text": [
      "CV mean square score  0.5421227284097163\n",
      "CV r2 score  0.40726377740789427\n",
      "CV mean absolute score  0.557216308710702\n",
      "Mean Absolute Error (MAE): 0.553325712847287\n",
      "Mean Squared Error on Test Set: 0.5458135912590796\n",
      "Root Mean Squared Error (RMSE): 0.7387919810468164\n",
      "R-squared (R2) Error: 0.4160708974829247\n"
     ]
    }
   ],
   "source": [
    "# Import necessary libraries\n",
    "model = SVR(kernel='rbf')  # You can choose different kernels (e.g., 'linear', 'poly', 'rbf')\n",
    "\n",
    "# Set up five-fold cross-validation\n",
    "kf = KFold(n_splits=5, shuffle=True, random_state=42)\n",
    "\n",
    "# Perform cross-validation and compute the scores\n",
    "cv_scores = cross_val_score(model, X_train, y_train, scoring='neg_mean_squared_error', cv=kf)\n",
    "r2_scores = cross_val_score(model, X_train, y_train, cv=kf, scoring='r2')\n",
    "mae_scores = -cross_val_score(model, X_train, y_train, cv=kf, scoring='neg_mean_absolute_error')\n",
    "\n",
    "cv_scores = -cv_scores\n",
    "print(\"CV mean square score \",cv_scores.mean())\n",
    "print(\"CV r2 score \",r2_scores.mean())\n",
    "print(\"CV mean absolute score \",mae_scores.mean())\n",
    "\n",
    "model.fit(X_train,y_train)\n",
    "y_pred = model.predict(X_test)\n",
    "mse = mean_squared_error(y_test, y_pred)\n",
    "rmse=np.sqrt(mse)\n",
    "r2 = r2_score(y_test, y_pred)\n",
    "mae = mean_absolute_error(y_test, y_pred)\n",
    "print(\"Mean Absolute Error (MAE):\", mae)\n",
    "print(\"Mean Squared Error on Test Set:\", mse)\n",
    "print(\"Root Mean Squared Error (RMSE):\", rmse)\n",
    "print(\"R-squared (R2) Error:\", r2)\n",
    "\n"
   ]
  },
  {
   "cell_type": "code",
   "execution_count": null,
   "id": "a787e693",
   "metadata": {},
   "outputs": [],
   "source": [
    "# Import necessary libraries\n",
    "model = SVR(kernel='rbf',gamma=2.5) \n",
    "\n",
    "# Set up five-fold cross-validation\n",
    "kf = KFold(n_splits=5, shuffle=True, random_state=42)\n",
    "\n",
    "# Perform cross-validation and compute the scores\n",
    "cv_scores = cross_val_score(model, X_train, y_train, scoring='neg_mean_squared_error', cv=kf)\n",
    "r2_scores = cross_val_score(model, X_train, y_train, cv=kf, scoring='r2')\n",
    "mae_scores = -cross_val_score(model, X_train, y_train, cv=kf, scoring='neg_mean_absolute_error')\n",
    "\n",
    "cv_scores = -cv_scores\n",
    "print(\"CV mean square score \",cv_scores.mean())\n",
    "print(\"CV r2 score \",r2_scores.mean())\n",
    "print(\"CV mean absolute score \",mae_scores.mean())\n",
    "\n",
    "model.fit(X_train,y_train)\n",
    "y_pred = model.predict(X_test)\n",
    "mse = mean_squared_error(y_test, y_pred)\n",
    "rmse=np.sqrt(mse)\n",
    "r2 = r2_score(y_test, y_pred)\n",
    "mae = mean_absolute_error(y_test, y_pred)\n",
    "print(\"Mean Absolute Error (MAE):\", mae)\n",
    "print(\"Mean Squared Error on Test Set:\", mse)\n",
    "print(\"Root Mean Squared Error (RMSE):\", rmse)\n",
    "print(\"R-squared (R2) Error:\", r2)\n",
    "\n"
   ]
  },
  {
   "cell_type": "code",
   "execution_count": null,
   "id": "d5ab2be4",
   "metadata": {},
   "outputs": [],
   "source": [
    " "
   ]
  }
 ],
 "metadata": {
  "kernelspec": {
   "display_name": "Python 3 (ipykernel)",
   "language": "python",
   "name": "python3"
  },
  "language_info": {
   "codemirror_mode": {
    "name": "ipython",
    "version": 3
   },
   "file_extension": ".py",
   "mimetype": "text/x-python",
   "name": "python",
   "nbconvert_exporter": "python",
   "pygments_lexer": "ipython3",
   "version": "3.11.5"
  }
 },
 "nbformat": 4,
 "nbformat_minor": 5
}
