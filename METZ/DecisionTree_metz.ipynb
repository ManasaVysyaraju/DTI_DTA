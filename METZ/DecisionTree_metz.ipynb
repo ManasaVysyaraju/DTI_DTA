{
 "cells": [
  {
   "cell_type": "code",
   "execution_count": 24,
   "id": "96c55c6e-efe3-4bf0-8b81-22e8fddac640",
   "metadata": {},
   "outputs": [],
   "source": [
    "import pandas as pd\n",
    "from sklearn.model_selection import train_test_split, cross_val_score\n",
    "from sklearn.tree import DecisionTreeRegressor\n",
    "from sklearn.metrics import mean_squared_error,r2_score,mean_absolute_error\n",
    "from sklearn.model_selection import KFold\n",
    "import numpy as np"
   ]
  },
  {
   "cell_type": "code",
   "execution_count": 25,
   "id": "98ff8766-345a-4763-b5b0-23b9a8b89143",
   "metadata": {},
   "outputs": [],
   "source": [
    "df=pd.read_csv('combined_feat_metz.csv')\n",
    "X = df.drop(columns=['Drug_ID','Protein_ID','affinity'])\n",
    "y = df['affinity']\n",
    "X_train, X_test, y_train, y_test = train_test_split(X, y, test_size=0.2, random_state=42)"
   ]
  },
  {
   "cell_type": "code",
   "execution_count": 27,
   "id": "4aad9083-661a-4c0d-8736-d05db70dae07",
   "metadata": {},
   "outputs": [
    {
     "name": "stdout",
     "output_type": "stream",
     "text": [
      "CV mean square score  0.8603984590587685\n",
      "CV r2 score  0.059036719715908695\n",
      "CV mean absolute score  0.6932427533237845\n",
      "Mean Absolute Error (MAE): 0.6744469653998866\n",
      "Mean Squared Error on Test Set: 0.8210862166761203\n",
      "Root Mean Squared Error (RMSE): 0.9061380781515145\n",
      "R-squared (R2) Error: 0.12157530469913513\n"
     ]
    }
   ],
   "source": [
    "model = DecisionTreeRegressor(random_state=42)\n",
    "\n",
    "kf = KFold(n_splits=5, shuffle=True, random_state=42)\n",
    "cv_scores = cross_val_score(model, X_train, y_train, scoring='neg_mean_squared_error', cv=kf)\n",
    "r2_scores = cross_val_score(model, X_train, y_train, cv=kf, scoring='r2')\n",
    "mae_scores = -cross_val_score(model, X_train, y_train, cv=kf, scoring='neg_mean_absolute_error')\n",
    "\n",
    "cv_scores = -cv_scores\n",
    "print(\"CV mean square score \",cv_scores.mean())\n",
    "print(\"CV r2 score \",r2_scores.mean())\n",
    "print(\"CV mean absolute score \",mae_scores.mean())\n",
    "\n",
    "model.fit(X_train, y_train)\n",
    "y_pred=model.predict(X_test)\n",
    "mse = mean_squared_error(y_test, y_pred)\n",
    "rmse=np.sqrt(mse)\n",
    "r2 = r2_score(y_test, y_pred)\n",
    "mae = mean_absolute_error(y_test, y_pred)\n",
    "print(\"Mean Absolute Error (MAE):\", mae)\n",
    "print(\"Mean Squared Error on Test Set:\", mse)\n",
    "print(\"Root Mean Squared Error (RMSE):\", rmse)\n",
    "print(\"R-squared (R2) Error:\", r2)\n"
   ]
  },
  {
   "cell_type": "code",
   "execution_count": 28,
   "id": "d449125c-9466-46b7-bfaa-cafe59f31577",
   "metadata": {},
   "outputs": [
    {
     "name": "stdout",
     "output_type": "stream",
     "text": [
      "CV mean square score  0.5750504319308963\n",
      "CV r2 score  0.3712618171869094\n",
      "CV mean absolute score  0.5857158821724834\n",
      "Mean Absolute Error (MAE): 0.582565165238845\n",
      "Mean Squared Error on Test Set: 0.5728477196693608\n",
      "Root Mean Squared Error (RMSE): 0.7568670422665799\n",
      "R-squared (R2) Error: 0.387148909110426\n"
     ]
    }
   ],
   "source": [
    "model = DecisionTreeRegressor(random_state=42,ccp_alpha=0.0005,)\n",
    "kf = KFold(n_splits=5, shuffle=True, random_state=42)\n",
    "cv_scores = cross_val_score(model, X_train, y_train, scoring='neg_mean_squared_error', cv=kf)\n",
    "r2_scores = cross_val_score(model, X_train, y_train, cv=kf, scoring='r2')\n",
    "mae_scores = -cross_val_score(model, X_train, y_train, cv=kf, scoring='neg_mean_absolute_error')\n",
    "\n",
    "cv_scores = -cv_scores\n",
    "print(\"CV mean square score \",cv_scores.mean())\n",
    "print(\"CV r2 score \",r2_scores.mean())\n",
    "print(\"CV mean absolute score \",mae_scores.mean())\n",
    "\n",
    "model.fit(X_train, y_train)\n",
    "y_pred=model.predict(X_test)\n",
    "mse = mean_squared_error(y_test, y_pred)\n",
    "rmse=np.sqrt(mse)\n",
    "r2 = r2_score(y_test, y_pred)\n",
    "mae = mean_absolute_error(y_test, y_pred)\n",
    "print(\"Mean Absolute Error (MAE):\", mae)\n",
    "print(\"Mean Squared Error on Test Set:\", mse)\n",
    "print(\"Root Mean Squared Error (RMSE):\", rmse)\n",
    "print(\"R-squared (R2) Error:\", r2)\n"
   ]
  },
  {
   "cell_type": "code",
   "execution_count": 29,
   "id": "aa2ce0f3-0f06-4f01-a79b-883d8dfc6cfa",
   "metadata": {},
   "outputs": [
    {
     "name": "stdout",
     "output_type": "stream",
     "text": [
      "CV mean square score  0.7401086529547347\n",
      "CV r2 score  0.1906188705935145\n",
      "CV mean absolute score  0.6380498166366927\n",
      "Mean Absolute Error (MAE): 0.6141284256176351\n",
      "Mean Squared Error on Test Set: 0.6889760208410161\n",
      "Root Mean Squared Error (RMSE): 0.8300457944240281\n",
      "R-squared (R2) Error: 0.2629110818266238\n"
     ]
    }
   ],
   "source": [
    "model = DecisionTreeRegressor(random_state=42,ccp_alpha=0.00005,)\n",
    "kf = KFold(n_splits=5, shuffle=True, random_state=42)\n",
    "cv_scores = cross_val_score(model, X_train, y_train, scoring='neg_mean_squared_error', cv=kf)\n",
    "r2_scores = cross_val_score(model, X_train, y_train, cv=kf, scoring='r2')\n",
    "mae_scores = -cross_val_score(model, X_train, y_train, cv=kf, scoring='neg_mean_absolute_error')\n",
    "\n",
    "cv_scores = -cv_scores\n",
    "print(\"CV mean square score \",cv_scores.mean())\n",
    "print(\"CV r2 score \",r2_scores.mean())\n",
    "print(\"CV mean absolute score \",mae_scores.mean())\n",
    "\n",
    "model.fit(X_train, y_train)\n",
    "y_pred=model.predict(X_test)\n",
    "mse = mean_squared_error(y_test, y_pred)\n",
    "rmse=np.sqrt(mse)\n",
    "r2 = r2_score(y_test, y_pred)\n",
    "mae = mean_absolute_error(y_test, y_pred)\n",
    "print(\"Mean Absolute Error (MAE):\", mae)\n",
    "print(\"Mean Squared Error on Test Set:\", mse)\n",
    "print(\"Root Mean Squared Error (RMSE):\", rmse)\n",
    "print(\"R-squared (R2) Error:\", r2)\n"
   ]
  },
  {
   "cell_type": "code",
   "execution_count": 30,
   "id": "10fe5788-d6d1-4d97-896b-be723cc62efa",
   "metadata": {},
   "outputs": [
    {
     "name": "stdout",
     "output_type": "stream",
     "text": [
      "CV mean square score  0.5800887755719533\n",
      "CV r2 score  0.3656817580164161\n",
      "CV mean absolute score  0.592462696924511\n",
      "Mean Absolute Error (MAE): 0.5955198195406363\n",
      "Mean Squared Error on Test Set: 0.5859773347188704\n",
      "Root Mean Squared Error (RMSE): 0.7654915641069275\n",
      "R-squared (R2) Error: 0.37310242061135945\n"
     ]
    }
   ],
   "source": [
    "model = DecisionTreeRegressor(random_state=42,ccp_alpha=0.0008,)\n",
    "kf = KFold(n_splits=5, shuffle=True, random_state=42)\n",
    "cv_scores = cross_val_score(model, X_train, y_train, scoring='neg_mean_squared_error', cv=kf)\n",
    "r2_scores = cross_val_score(model, X_train, y_train, cv=kf, scoring='r2')\n",
    "mae_scores = -cross_val_score(model, X_train, y_train, cv=kf, scoring='neg_mean_absolute_error')\n",
    "\n",
    "cv_scores = -cv_scores\n",
    "print(\"CV mean square score \",cv_scores.mean())\n",
    "print(\"CV r2 score \",r2_scores.mean())\n",
    "print(\"CV mean absolute score \",mae_scores.mean())\n",
    "\n",
    "model.fit(X_train, y_train)\n",
    "y_pred=model.predict(X_test)\n",
    "mse = mean_squared_error(y_test, y_pred)\n",
    "rmse=np.sqrt(mse)\n",
    "r2 = r2_score(y_test, y_pred)\n",
    "mae = mean_absolute_error(y_test, y_pred)\n",
    "print(\"Mean Absolute Error (MAE):\", mae)\n",
    "print(\"Mean Squared Error on Test Set:\", mse)\n",
    "print(\"Root Mean Squared Error (RMSE):\", rmse)\n",
    "print(\"R-squared (R2) Error:\", r2)\n"
   ]
  },
  {
   "cell_type": "code",
   "execution_count": 31,
   "id": "e6a74f3e-5ec4-4720-8e20-f3cada9c42f5",
   "metadata": {},
   "outputs": [
    {
     "name": "stdout",
     "output_type": "stream",
     "text": [
      "CV mean square score  0.5804006424694272\n",
      "CV r2 score  0.3653679400225814\n",
      "CV mean absolute score  0.5852900714697105\n",
      "Mean Absolute Error (MAE): 0.5784214660282716\n",
      "Mean Squared Error on Test Set: 0.5695481240505315\n",
      "Root Mean Squared Error (RMSE): 0.7546841220342001\n",
      "R-squared (R2) Error: 0.39067892364144496\n"
     ]
    }
   ],
   "source": [
    "model = DecisionTreeRegressor(random_state=42,ccp_alpha=0.0004,)\n",
    "kf = KFold(n_splits=5, shuffle=True, random_state=42)\n",
    "cv_scores = cross_val_score(model, X_train, y_train, scoring='neg_mean_squared_error', cv=kf)\n",
    "r2_scores = cross_val_score(model, X_train, y_train, cv=kf, scoring='r2')\n",
    "mae_scores = -cross_val_score(model, X_train, y_train, cv=kf, scoring='neg_mean_absolute_error')\n",
    "\n",
    "cv_scores = -cv_scores\n",
    "print(\"CV mean square score \",cv_scores.mean())\n",
    "print(\"CV r2 score \",r2_scores.mean())\n",
    "print(\"CV mean absolute score \",mae_scores.mean())\n",
    "\n",
    "model.fit(X_train, y_train)\n",
    "y_pred=model.predict(X_test)\n",
    "mse = mean_squared_error(y_test, y_pred)\n",
    "rmse=np.sqrt(mse)\n",
    "r2 = r2_score(y_test, y_pred)\n",
    "mae = mean_absolute_error(y_test, y_pred)\n",
    "print(\"Mean Absolute Error (MAE):\", mae)\n",
    "print(\"Mean Squared Error on Test Set:\", mse)\n",
    "print(\"Root Mean Squared Error (RMSE):\", rmse)\n",
    "print(\"R-squared (R2) Error:\", r2)\n"
   ]
  },
  {
   "cell_type": "code",
   "execution_count": 32,
   "id": "67e868a1-ef2b-4bc1-ba06-602edffa77f2",
   "metadata": {},
   "outputs": [
    {
     "data": {
      "text/plain": [
       "(35259, 1795)"
      ]
     },
     "execution_count": 32,
     "metadata": {},
     "output_type": "execute_result"
    }
   ],
   "source": [
    "df.shape"
   ]
  },
  {
   "cell_type": "code",
   "execution_count": 33,
   "id": "93fada06-c032-479b-8b7b-0c96586d2930",
   "metadata": {},
   "outputs": [
    {
     "name": "stdout",
     "output_type": "stream",
     "text": [
      "CV mean square score  0.8959628604489911\n",
      "CV r2 score  0.02080162432346111\n",
      "CV mean absolute score  0.7420391376587345\n",
      "Mean Absolute Error (MAE): 0.7526022457425849\n",
      "Mean Squared Error on Test Set: 0.9347905366832617\n",
      "Root Mean Squared Error (RMSE): 0.9668456633213296\n",
      "R-squared (R2) Error: -6.926882810920354e-05\n"
     ]
    }
   ],
   "source": [
    "model = DecisionTreeRegressor(random_state=42,ccp_alpha=0.0004,min_weight_fraction_leaf=0.5,)\n",
    "kf = KFold(n_splits=5, shuffle=True, random_state=42)\n",
    "cv_scores = cross_val_score(model, X_train, y_train, scoring='neg_mean_squared_error', cv=kf)\n",
    "r2_scores = cross_val_score(model, X_train, y_train, cv=kf, scoring='r2')\n",
    "mae_scores = -cross_val_score(model, X_train, y_train, cv=kf, scoring='neg_mean_absolute_error')\n",
    "\n",
    "cv_scores = -cv_scores\n",
    "print(\"CV mean square score \",cv_scores.mean())\n",
    "print(\"CV r2 score \",r2_scores.mean())\n",
    "print(\"CV mean absolute score \",mae_scores.mean())\n",
    "\n",
    "model.fit(X_train, y_train)\n",
    "y_pred=model.predict(X_test)\n",
    "mse = mean_squared_error(y_test, y_pred)\n",
    "rmse=np.sqrt(mse)\n",
    "r2 = r2_score(y_test, y_pred)\n",
    "mae = mean_absolute_error(y_test, y_pred)\n",
    "print(\"Mean Absolute Error (MAE):\", mae)\n",
    "print(\"Mean Squared Error on Test Set:\", mse)\n",
    "print(\"Root Mean Squared Error (RMSE):\", rmse)\n",
    "print(\"R-squared (R2) Error:\", r2)\n"
   ]
  },
  {
   "cell_type": "code",
   "execution_count": 34,
   "id": "ac470425-0194-4520-b0f7-6a432530688c",
   "metadata": {},
   "outputs": [
    {
     "name": "stdout",
     "output_type": "stream",
     "text": [
      "CV mean square score  0.7345566374771165\n",
      "CV r2 score  0.19688542870802478\n",
      "CV mean absolute score  0.6796572367525276\n",
      "Mean Absolute Error (MAE): 0.6822486946254374\n",
      "Mean Squared Error on Test Set: 0.7547537450853962\n",
      "Root Mean Squared Error (RMSE): 0.8687656445126016\n",
      "R-squared (R2) Error: 0.19253993662477265\n"
     ]
    }
   ],
   "source": [
    "model = DecisionTreeRegressor(random_state=42,ccp_alpha=0.0004,min_weight_fraction_leaf=0.05,)\n",
    "kf = KFold(n_splits=5, shuffle=True, random_state=42)\n",
    "cv_scores = cross_val_score(model, X_train, y_train, scoring='neg_mean_squared_error', cv=kf)\n",
    "r2_scores = cross_val_score(model, X_train, y_train, cv=kf, scoring='r2')\n",
    "mae_scores = -cross_val_score(model, X_train, y_train, cv=kf, scoring='neg_mean_absolute_error')\n",
    "\n",
    "cv_scores = -cv_scores\n",
    "print(\"CV mean square score \",cv_scores.mean())\n",
    "print(\"CV r2 score \",r2_scores.mean())\n",
    "print(\"CV mean absolute score \",mae_scores.mean())\n",
    "\n",
    "model.fit(X_train, y_train)\n",
    "y_pred=model.predict(X_test)\n",
    "mse = mean_squared_error(y_test, y_pred)\n",
    "rmse=np.sqrt(mse)\n",
    "r2 = r2_score(y_test, y_pred)\n",
    "mae = mean_absolute_error(y_test, y_pred)\n",
    "print(\"Mean Absolute Error (MAE):\", mae)\n",
    "print(\"Mean Squared Error on Test Set:\", mse)\n",
    "print(\"Root Mean Squared Error (RMSE):\", rmse)\n",
    "print(\"R-squared (R2) Error:\", r2)\n",
    "\n",
    "\n",
    "\n"
   ]
  },
  {
   "cell_type": "code",
   "execution_count": 35,
   "id": "267d4349-ef35-4b42-8e22-813c938fea88",
   "metadata": {},
   "outputs": [
    {
     "name": "stdout",
     "output_type": "stream",
     "text": [
      "CV mean square score  0.5764588600850864\n",
      "CV r2 score  0.36964019030557455\n",
      "CV mean absolute score  0.5848474522792133\n",
      "Mean Absolute Error (MAE): 0.5795175772907541\n",
      "Mean Squared Error on Test Set: 0.568552511392172\n",
      "Root Mean Squared Error (RMSE): 0.7540242114098008\n",
      "R-squared (R2) Error: 0.39174406239093895\n"
     ]
    }
   ],
   "source": [
    "model = DecisionTreeRegressor(random_state=42,ccp_alpha=0.0004,min_weight_fraction_leaf=0.0005,)\n",
    "kf = KFold(n_splits=5, shuffle=True, random_state=42)\n",
    "cv_scores = cross_val_score(model, X_train, y_train, scoring='neg_mean_squared_error', cv=kf)\n",
    "r2_scores = cross_val_score(model, X_train, y_train, cv=kf, scoring='r2')\n",
    "mae_scores = -cross_val_score(model, X_train, y_train, cv=kf, scoring='neg_mean_absolute_error')\n",
    "\n",
    "cv_scores = -cv_scores\n",
    "print(\"CV mean square score \",cv_scores.mean())\n",
    "print(\"CV r2 score \",r2_scores.mean())\n",
    "print(\"CV mean absolute score \",mae_scores.mean())\n",
    "\n",
    "model.fit(X_train, y_train)\n",
    "y_pred=model.predict(X_test)\n",
    "mse = mean_squared_error(y_test, y_pred)\n",
    "rmse=np.sqrt(mse)\n",
    "r2 = r2_score(y_test, y_pred)\n",
    "mae = mean_absolute_error(y_test, y_pred)\n",
    "print(\"Mean Absolute Error (MAE):\", mae)\n",
    "print(\"Mean Squared Error on Test Set:\", mse)\n",
    "print(\"Root Mean Squared Error (RMSE):\", rmse)\n",
    "print(\"R-squared (R2) Error:\", r2)\n"
   ]
  },
  {
   "cell_type": "code",
   "execution_count": 36,
   "id": "2b8817fb-519b-4776-8d33-47df9cf5a2ba",
   "metadata": {},
   "outputs": [
    {
     "name": "stdout",
     "output_type": "stream",
     "text": [
      "CV mean square score  0.5764588600850864\n",
      "CV r2 score  0.36964019030557455\n",
      "CV mean absolute score  0.5848474522792133\n",
      "Mean Absolute Error (MAE): 0.5795175772907541\n",
      "Mean Squared Error on Test Set: 0.568552511392172\n",
      "Root Mean Squared Error (RMSE): 0.7540242114098008\n",
      "R-squared (R2) Error: 0.39174406239093895\n"
     ]
    }
   ],
   "source": [
    "model = DecisionTreeRegressor(random_state=42,ccp_alpha=0.0004,min_weight_fraction_leaf=0.0005,min_samples_split=5,min_samples_leaf=5)\n",
    "kf = KFold(n_splits=5, shuffle=True, random_state=42)\n",
    "cv_scores = cross_val_score(model, X_train, y_train, scoring='neg_mean_squared_error', cv=kf)\n",
    "r2_scores = cross_val_score(model, X_train, y_train, cv=kf, scoring='r2')\n",
    "mae_scores = -cross_val_score(model, X_train, y_train, cv=kf, scoring='neg_mean_absolute_error')\n",
    "cv_scores = -cv_scores\n",
    "print(\"CV mean square score \",cv_scores.mean())\n",
    "print(\"CV r2 score \",r2_scores.mean())\n",
    "print(\"CV mean absolute score \",mae_scores.mean())\n",
    "\n",
    "model.fit(X_train, y_train)\n",
    "y_pred=model.predict(X_test)\n",
    "mse = mean_squared_error(y_test, y_pred)\n",
    "rmse=np.sqrt(mse)\n",
    "r2 = r2_score(y_test, y_pred)\n",
    "mae = mean_absolute_error(y_test, y_pred)\n",
    "print(\"Mean Absolute Error (MAE):\", mae)\n",
    "print(\"Mean Squared Error on Test Set:\", mse)\n",
    "print(\"Root Mean Squared Error (RMSE):\", rmse)\n",
    "print(\"R-squared (R2) Error:\", r2)\n"
   ]
  },
  {
   "cell_type": "code",
   "execution_count": 37,
   "id": "98570b67-8df6-4dad-b5ce-5d639f333704",
   "metadata": {},
   "outputs": [
    {
     "name": "stdout",
     "output_type": "stream",
     "text": [
      "CV mean square score  0.5764588600850864\n",
      "CV r2 score  0.36964019030557455\n",
      "CV mean absolute score  0.5848474522792133\n",
      "Mean Absolute Error (MAE): 0.5795175772907541\n",
      "Mean Squared Error on Test Set: 0.568552511392172\n",
      "Root Mean Squared Error (RMSE): 0.7540242114098008\n",
      "R-squared (R2) Error: 0.39174406239093895\n"
     ]
    }
   ],
   "source": [
    "model = DecisionTreeRegressor(random_state=42,ccp_alpha=0.0004,min_weight_fraction_leaf=0.0005,min_samples_split=10,min_samples_leaf=10)\n",
    "kf = KFold(n_splits=5, shuffle=True, random_state=42)\n",
    "cv_scores = cross_val_score(model, X_train, y_train, scoring='neg_mean_squared_error', cv=kf)\n",
    "r2_scores = cross_val_score(model, X_train, y_train, cv=kf, scoring='r2')\n",
    "mae_scores = -cross_val_score(model, X_train, y_train, cv=kf, scoring='neg_mean_absolute_error')\n",
    "\n",
    "cv_scores = -cv_scores\n",
    "print(\"CV mean square score \",cv_scores.mean())\n",
    "print(\"CV r2 score \",r2_scores.mean())\n",
    "print(\"CV mean absolute score \",mae_scores.mean())\n",
    " \n",
    "model.fit(X_train, y_train)\n",
    "y_pred=model.predict(X_test)\n",
    "mse = mean_squared_error(y_test, y_pred)\n",
    "rmse=np.sqrt(mse)\n",
    "r2 = r2_score(y_test, y_pred)\n",
    "mae = mean_absolute_error(y_test, y_pred)\n",
    "print(\"Mean Absolute Error (MAE):\", mae)\n",
    "print(\"Mean Squared Error on Test Set:\", mse)\n",
    "print(\"Root Mean Squared Error (RMSE):\", rmse)\n",
    "print(\"R-squared (R2) Error:\", r2)\n"
   ]
  },
  {
   "cell_type": "code",
   "execution_count": 38,
   "id": "d3bde37a-a8c1-412e-8734-31e62c42ee7f",
   "metadata": {},
   "outputs": [
    {
     "name": "stdout",
     "output_type": "stream",
     "text": [
      "CV mean square score  0.5716209005367311\n",
      "CV r2 score  0.374940118525671\n",
      "CV mean absolute score  0.5831405733811986\n",
      "Mean Absolute Error (MAE): 0.5817444220306003\n",
      "Mean Squared Error on Test Set: 0.5726733986960904\n",
      "Root Mean Squared Error (RMSE): 0.7567518739296853\n",
      "R-squared (R2) Error: 0.38733540334783934\n"
     ]
    }
   ],
   "source": [
    "model = DecisionTreeRegressor(random_state=42,ccp_alpha=0.0004,min_weight_fraction_leaf=0.0005,min_samples_split=20,min_samples_leaf=20)\n",
    "kf = KFold(n_splits=5, shuffle=True, random_state=42)\n",
    "cv_scores = cross_val_score(model, X_train, y_train, scoring='neg_mean_squared_error', cv=kf)\n",
    "r2_scores = cross_val_score(model, X_train, y_train, cv=kf, scoring='r2')\n",
    "mae_scores = -cross_val_score(model, X_train, y_train, cv=kf, scoring='neg_mean_absolute_error')\n",
    "\n",
    "cv_scores = -cv_scores\n",
    "print(\"CV mean square score \",cv_scores.mean())\n",
    "print(\"CV r2 score \",r2_scores.mean())\n",
    "print(\"CV mean absolute score \",mae_scores.mean())\n",
    "\n",
    "model.fit(X_train, y_train)\n",
    "y_pred=model.predict(X_test)\n",
    "mse = mean_squared_error(y_test, y_pred)\n",
    "rmse=np.sqrt(mse)\n",
    "r2 = r2_score(y_test, y_pred)\n",
    "mae = mean_absolute_error(y_test, y_pred)\n",
    "print(\"Mean Absolute Error (MAE):\", mae)\n",
    "print(\"Mean Squared Error on Test Set:\", mse)\n",
    "print(\"Root Mean Squared Error (RMSE):\", rmse)\n",
    "print(\"R-squared (R2) Error:\", r2)\n"
   ]
  },
  {
   "cell_type": "code",
   "execution_count": 39,
   "id": "91463933-fb50-49e3-ab89-20518d2061e7",
   "metadata": {},
   "outputs": [
    {
     "name": "stdout",
     "output_type": "stream",
     "text": [
      "CV mean square score  0.573661615941473\n",
      "CV r2 score  0.37268472118022156\n",
      "CV mean absolute score  0.584124113386506\n",
      "Mean Absolute Error (MAE): 0.5802000925076941\n",
      "Mean Squared Error on Test Set: 0.5689739874020828\n",
      "Root Mean Squared Error (RMSE): 0.754303644033411\n",
      "R-squared (R2) Error: 0.39129315367019424\n"
     ]
    }
   ],
   "source": [
    "model = DecisionTreeRegressor(random_state=42,ccp_alpha=0.0004,min_weight_fraction_leaf=0.0005,min_samples_split=50)\n",
    "kf = KFold(n_splits=5, shuffle=True, random_state=42)\n",
    "cv_scores = cross_val_score(model, X_train, y_train, scoring='neg_mean_squared_error', cv=kf)\n",
    "r2_scores = cross_val_score(model, X_train, y_train, cv=kf, scoring='r2')\n",
    "mae_scores = -cross_val_score(model, X_train, y_train, cv=kf, scoring='neg_mean_absolute_error')\n",
    "\n",
    "cv_scores = -cv_scores\n",
    "print(\"CV mean square score \",cv_scores.mean())\n",
    "print(\"CV r2 score \",r2_scores.mean())\n",
    "print(\"CV mean absolute score \",mae_scores.mean())\n",
    "\n",
    "model.fit(X_train, y_train)\n",
    "y_pred=model.predict(X_test)\n",
    "mse = mean_squared_error(y_test, y_pred)\n",
    "rmse=np.sqrt(mse)\n",
    "r2 = r2_score(y_test, y_pred)\n",
    "mae = mean_absolute_error(y_test, y_pred)\n",
    "print(\"Mean Absolute Error (MAE):\", mae)\n",
    "print(\"Mean Squared Error on Test Set:\", mse)\n",
    "print(\"Root Mean Squared Error (RMSE):\", rmse)\n",
    "print(\"R-squared (R2) Error:\", r2)\n"
   ]
  },
  {
   "cell_type": "code",
   "execution_count": null,
   "id": "e7494783-2f0b-4581-8ebc-5d6f1ea63120",
   "metadata": {},
   "outputs": [],
   "source": []
  }
 ],
 "metadata": {
  "kernelspec": {
   "display_name": "Python 3 (ipykernel)",
   "language": "python",
   "name": "python3"
  },
  "language_info": {
   "codemirror_mode": {
    "name": "ipython",
    "version": 3
   },
   "file_extension": ".py",
   "mimetype": "text/x-python",
   "name": "python",
   "nbconvert_exporter": "python",
   "pygments_lexer": "ipython3",
   "version": "3.11.5"
  }
 },
 "nbformat": 4,
 "nbformat_minor": 5
}
