{
 "cells": [
  {
   "cell_type": "code",
   "execution_count": 27,
   "id": "8a48f069-beb0-4911-9e31-859b054f1a2d",
   "metadata": {},
   "outputs": [],
   "source": [
    "import pandas as pd\n",
    "import seaborn as sns\n",
    "from sklearn.model_selection import train_test_split\n",
    "from sklearn.tree import DecisionTreeClassifier\n",
    "from sklearn.metrics import accuracy_score, classification_report\n",
    "from sklearn import tree\n",
    "import matplotlib.pyplot as plt\n",
    "from sklearn.metrics import precision_score, recall_score, f1_score, accuracy_score,confusion_matrix"
   ]
  },
  {
   "cell_type": "code",
   "execution_count": 5,
   "id": "20aba6b8-a169-44e3-802b-aeb79d66f471",
   "metadata": {},
   "outputs": [],
   "source": [
    "df_drug=pd.read_csv('DTA/UniqueDrug_CBF_Train.csv')\n",
    "df_pro=pd.read_csv(\"DTA/UniqueProt_PBF_Train.csv\")\n",
    "df_inter=pd.read_csv(\"DTA/InteractionsMapping_Train (2).csv\")\n",
    "df_drug_test=pd.read_csv('DTA/UniqueDrug_CBF_Test.csv')\n",
    "df_pro_test=pd.read_csv(\"DTA/UniqueProt_PBF_Test.csv\")\n",
    "df_inter_test=pd.read_csv(\"DTA/InteractionsMapping_Test (2).csv\")"
   ]
  },
  {
   "cell_type": "code",
   "execution_count": 6,
   "id": "daeb44a2-e6f2-4764-890c-08ff586c5fa4",
   "metadata": {},
   "outputs": [
    {
     "data": {
      "text/html": [
       "<div>\n",
       "<style scoped>\n",
       "    .dataframe tbody tr th:only-of-type {\n",
       "        vertical-align: middle;\n",
       "    }\n",
       "\n",
       "    .dataframe tbody tr th {\n",
       "        vertical-align: top;\n",
       "    }\n",
       "\n",
       "    .dataframe thead th {\n",
       "        text-align: right;\n",
       "    }\n",
       "</style>\n",
       "<table border=\"1\" class=\"dataframe\">\n",
       "  <thead>\n",
       "    <tr style=\"text-align: right;\">\n",
       "      <th></th>\n",
       "      <th>Drug_ID</th>\n",
       "      <th>SMILES</th>\n",
       "      <th>CBF1</th>\n",
       "      <th>CBF2</th>\n",
       "      <th>CBF3</th>\n",
       "      <th>CBF4</th>\n",
       "      <th>CBF5</th>\n",
       "      <th>CBF6</th>\n",
       "      <th>CBF7</th>\n",
       "      <th>CBF8</th>\n",
       "      <th>...</th>\n",
       "      <th>CBF759</th>\n",
       "      <th>CBF760</th>\n",
       "      <th>CBF761</th>\n",
       "      <th>CBF762</th>\n",
       "      <th>CBF763</th>\n",
       "      <th>CBF764</th>\n",
       "      <th>CBF765</th>\n",
       "      <th>CBF766</th>\n",
       "      <th>CBF767</th>\n",
       "      <th>CBF768</th>\n",
       "    </tr>\n",
       "  </thead>\n",
       "  <tbody>\n",
       "    <tr>\n",
       "      <th>0</th>\n",
       "      <td>ZINC16051658</td>\n",
       "      <td>CC1=NN=C(O1)C2C(C(C(C(O2)CO)O)O)O</td>\n",
       "      <td>0.637852</td>\n",
       "      <td>0.025078</td>\n",
       "      <td>-0.137181</td>\n",
       "      <td>0.220558</td>\n",
       "      <td>0.985396</td>\n",
       "      <td>-0.497337</td>\n",
       "      <td>-0.323126</td>\n",
       "      <td>0.108800</td>\n",
       "      <td>...</td>\n",
       "      <td>0.113765</td>\n",
       "      <td>0.303574</td>\n",
       "      <td>0.383457</td>\n",
       "      <td>-0.047252</td>\n",
       "      <td>-0.429677</td>\n",
       "      <td>0.569537</td>\n",
       "      <td>-0.275597</td>\n",
       "      <td>-0.370870</td>\n",
       "      <td>0.060566</td>\n",
       "      <td>0.977041</td>\n",
       "    </tr>\n",
       "    <tr>\n",
       "      <th>1</th>\n",
       "      <td>DB00683</td>\n",
       "      <td>CC1=NC=C2N1C3=C(C=C(C=C3)Cl)C(=NC2)C4=CC=CC=C4F</td>\n",
       "      <td>0.511134</td>\n",
       "      <td>0.610606</td>\n",
       "      <td>0.014891</td>\n",
       "      <td>-0.301693</td>\n",
       "      <td>1.006940</td>\n",
       "      <td>-0.066792</td>\n",
       "      <td>-0.333556</td>\n",
       "      <td>-0.011036</td>\n",
       "      <td>...</td>\n",
       "      <td>0.010872</td>\n",
       "      <td>0.307153</td>\n",
       "      <td>-0.626864</td>\n",
       "      <td>-0.053657</td>\n",
       "      <td>-0.850919</td>\n",
       "      <td>1.168610</td>\n",
       "      <td>-0.034645</td>\n",
       "      <td>-0.211338</td>\n",
       "      <td>-0.247332</td>\n",
       "      <td>0.665498</td>\n",
       "    </tr>\n",
       "    <tr>\n",
       "      <th>2</th>\n",
       "      <td>DB00491</td>\n",
       "      <td>C1C(C(C(C(N1CCO)CO)O)O)O</td>\n",
       "      <td>1.009394</td>\n",
       "      <td>-0.483389</td>\n",
       "      <td>0.251511</td>\n",
       "      <td>0.248934</td>\n",
       "      <td>0.956376</td>\n",
       "      <td>-0.310975</td>\n",
       "      <td>-0.287940</td>\n",
       "      <td>0.057785</td>\n",
       "      <td>...</td>\n",
       "      <td>0.383068</td>\n",
       "      <td>0.624767</td>\n",
       "      <td>0.370716</td>\n",
       "      <td>0.472160</td>\n",
       "      <td>-0.241153</td>\n",
       "      <td>0.216597</td>\n",
       "      <td>-0.484063</td>\n",
       "      <td>-0.499242</td>\n",
       "      <td>0.252377</td>\n",
       "      <td>0.608097</td>\n",
       "    </tr>\n",
       "    <tr>\n",
       "      <th>3</th>\n",
       "      <td>ARA</td>\n",
       "      <td>C1C(C(C(C(O1)O)O)O)O</td>\n",
       "      <td>0.738805</td>\n",
       "      <td>-0.497518</td>\n",
       "      <td>-0.214917</td>\n",
       "      <td>0.252138</td>\n",
       "      <td>1.002670</td>\n",
       "      <td>-0.425593</td>\n",
       "      <td>-0.379717</td>\n",
       "      <td>0.063613</td>\n",
       "      <td>...</td>\n",
       "      <td>0.531138</td>\n",
       "      <td>0.861370</td>\n",
       "      <td>0.393844</td>\n",
       "      <td>0.111346</td>\n",
       "      <td>0.050331</td>\n",
       "      <td>0.533231</td>\n",
       "      <td>-0.227467</td>\n",
       "      <td>-0.513811</td>\n",
       "      <td>0.507615</td>\n",
       "      <td>0.945831</td>\n",
       "    </tr>\n",
       "    <tr>\n",
       "      <th>4</th>\n",
       "      <td>DB00430</td>\n",
       "      <td>CC1=CC(=O)C(=CN1)C(=O)NC(C2=CC=C(C=C2)O)C(=O)N...</td>\n",
       "      <td>0.432591</td>\n",
       "      <td>-0.156011</td>\n",
       "      <td>-0.739867</td>\n",
       "      <td>0.043201</td>\n",
       "      <td>0.614482</td>\n",
       "      <td>-0.497177</td>\n",
       "      <td>-0.644078</td>\n",
       "      <td>-0.063058</td>\n",
       "      <td>...</td>\n",
       "      <td>-0.099798</td>\n",
       "      <td>0.148621</td>\n",
       "      <td>-0.086503</td>\n",
       "      <td>-0.565915</td>\n",
       "      <td>-0.574261</td>\n",
       "      <td>0.783125</td>\n",
       "      <td>-0.110612</td>\n",
       "      <td>-0.025541</td>\n",
       "      <td>-0.386042</td>\n",
       "      <td>0.759858</td>\n",
       "    </tr>\n",
       "  </tbody>\n",
       "</table>\n",
       "<p>5 rows × 770 columns</p>\n",
       "</div>"
      ],
      "text/plain": [
       "        Drug_ID                                             SMILES      CBF1  \\\n",
       "0  ZINC16051658                  CC1=NN=C(O1)C2C(C(C(C(O2)CO)O)O)O  0.637852   \n",
       "1       DB00683    CC1=NC=C2N1C3=C(C=C(C=C3)Cl)C(=NC2)C4=CC=CC=C4F  0.511134   \n",
       "2       DB00491                           C1C(C(C(C(N1CCO)CO)O)O)O  1.009394   \n",
       "3           ARA                               C1C(C(C(C(O1)O)O)O)O  0.738805   \n",
       "4       DB00430  CC1=CC(=O)C(=CN1)C(=O)NC(C2=CC=C(C=C2)O)C(=O)N...  0.432591   \n",
       "\n",
       "       CBF2      CBF3      CBF4      CBF5      CBF6      CBF7      CBF8  ...  \\\n",
       "0  0.025078 -0.137181  0.220558  0.985396 -0.497337 -0.323126  0.108800  ...   \n",
       "1  0.610606  0.014891 -0.301693  1.006940 -0.066792 -0.333556 -0.011036  ...   \n",
       "2 -0.483389  0.251511  0.248934  0.956376 -0.310975 -0.287940  0.057785  ...   \n",
       "3 -0.497518 -0.214917  0.252138  1.002670 -0.425593 -0.379717  0.063613  ...   \n",
       "4 -0.156011 -0.739867  0.043201  0.614482 -0.497177 -0.644078 -0.063058  ...   \n",
       "\n",
       "     CBF759    CBF760    CBF761    CBF762    CBF763    CBF764    CBF765  \\\n",
       "0  0.113765  0.303574  0.383457 -0.047252 -0.429677  0.569537 -0.275597   \n",
       "1  0.010872  0.307153 -0.626864 -0.053657 -0.850919  1.168610 -0.034645   \n",
       "2  0.383068  0.624767  0.370716  0.472160 -0.241153  0.216597 -0.484063   \n",
       "3  0.531138  0.861370  0.393844  0.111346  0.050331  0.533231 -0.227467   \n",
       "4 -0.099798  0.148621 -0.086503 -0.565915 -0.574261  0.783125 -0.110612   \n",
       "\n",
       "     CBF766    CBF767    CBF768  \n",
       "0 -0.370870  0.060566  0.977041  \n",
       "1 -0.211338 -0.247332  0.665498  \n",
       "2 -0.499242  0.252377  0.608097  \n",
       "3 -0.513811  0.507615  0.945831  \n",
       "4 -0.025541 -0.386042  0.759858  \n",
       "\n",
       "[5 rows x 770 columns]"
      ]
     },
     "execution_count": 6,
     "metadata": {},
     "output_type": "execute_result"
    }
   ],
   "source": [
    "for i in range(768):\n",
    "    df_drug_test=df_drug_test.rename(columns={str(i):\"CBF\"+str((i+1))})\n",
    "df_drug_test.head()"
   ]
  },
  {
   "cell_type": "code",
   "execution_count": 7,
   "id": "a449b182-169e-4455-b778-216fc3bdd368",
   "metadata": {},
   "outputs": [],
   "source": [
    "merge_df=df_inter.merge(df_drug, on='Drug_ID' , how='inner')\n",
    "merge_df=merge_df.merge(df_pro,on='P_ID', how='inner')\n",
    "merge_df_test=df_inter_test.merge(df_drug_test, on='Drug_ID' , how='inner')\n",
    "merge_df_test=merge_df_test.merge(df_pro_test,on='P_ID', how='inner')"
   ]
  },
  {
   "cell_type": "code",
   "execution_count": 8,
   "id": "09558c7e-51a7-4bab-9ff9-b765dad99006",
   "metadata": {},
   "outputs": [
    {
     "data": {
      "text/plain": [
       "(16010, 1797)"
      ]
     },
     "execution_count": 8,
     "metadata": {},
     "output_type": "execute_result"
    }
   ],
   "source": [
    "merge_df.shape"
   ]
  },
  {
   "cell_type": "code",
   "execution_count": 9,
   "id": "1dc085ac-bfc4-4fbf-be4f-b0c282e19ba0",
   "metadata": {},
   "outputs": [
    {
     "data": {
      "text/html": [
       "<div>\n",
       "<style scoped>\n",
       "    .dataframe tbody tr th:only-of-type {\n",
       "        vertical-align: middle;\n",
       "    }\n",
       "\n",
       "    .dataframe tbody tr th {\n",
       "        vertical-align: top;\n",
       "    }\n",
       "\n",
       "    .dataframe thead th {\n",
       "        text-align: right;\n",
       "    }\n",
       "</style>\n",
       "<table border=\"1\" class=\"dataframe\">\n",
       "  <thead>\n",
       "    <tr style=\"text-align: right;\">\n",
       "      <th></th>\n",
       "      <th>P_ID</th>\n",
       "      <th>Drug_ID</th>\n",
       "      <th>Labels</th>\n",
       "      <th>SMILES</th>\n",
       "      <th>CBF1</th>\n",
       "      <th>CBF2</th>\n",
       "      <th>CBF3</th>\n",
       "      <th>CBF4</th>\n",
       "      <th>CBF5</th>\n",
       "      <th>CBF6</th>\n",
       "      <th>...</th>\n",
       "      <th>PBF1015</th>\n",
       "      <th>PBF1016</th>\n",
       "      <th>PBF1017</th>\n",
       "      <th>PBF1018</th>\n",
       "      <th>PBF1019</th>\n",
       "      <th>PBF1020</th>\n",
       "      <th>PBF1021</th>\n",
       "      <th>PBF1022</th>\n",
       "      <th>PBF1023</th>\n",
       "      <th>PBF1024</th>\n",
       "    </tr>\n",
       "  </thead>\n",
       "  <tbody>\n",
       "    <tr>\n",
       "      <th>0</th>\n",
       "      <td>Q8TBG4</td>\n",
       "      <td>D00332</td>\n",
       "      <td>1</td>\n",
       "      <td>C1CCC(CC1)(CC(=O)O)CN</td>\n",
       "      <td>0.037544</td>\n",
       "      <td>-0.099144</td>\n",
       "      <td>0.531602</td>\n",
       "      <td>-1.092002</td>\n",
       "      <td>0.138534</td>\n",
       "      <td>-1.023876</td>\n",
       "      <td>...</td>\n",
       "      <td>-0.062044</td>\n",
       "      <td>0.026981</td>\n",
       "      <td>0.072355</td>\n",
       "      <td>-0.028478</td>\n",
       "      <td>-0.042176</td>\n",
       "      <td>-0.032984</td>\n",
       "      <td>-0.055388</td>\n",
       "      <td>-0.068559</td>\n",
       "      <td>-0.001095</td>\n",
       "      <td>-0.016142</td>\n",
       "    </tr>\n",
       "    <tr>\n",
       "      <th>1</th>\n",
       "      <td>P54284</td>\n",
       "      <td>D00332</td>\n",
       "      <td>1</td>\n",
       "      <td>C1CCC(CC1)(CC(=O)O)CN</td>\n",
       "      <td>0.037544</td>\n",
       "      <td>-0.099144</td>\n",
       "      <td>0.531602</td>\n",
       "      <td>-1.092002</td>\n",
       "      <td>0.138534</td>\n",
       "      <td>-1.023876</td>\n",
       "      <td>...</td>\n",
       "      <td>-0.003452</td>\n",
       "      <td>-0.046586</td>\n",
       "      <td>0.067139</td>\n",
       "      <td>-0.026609</td>\n",
       "      <td>-0.057467</td>\n",
       "      <td>0.004535</td>\n",
       "      <td>-0.075994</td>\n",
       "      <td>-0.026111</td>\n",
       "      <td>-0.038772</td>\n",
       "      <td>-0.043060</td>\n",
       "    </tr>\n",
       "    <tr>\n",
       "      <th>2</th>\n",
       "      <td>P54284</td>\n",
       "      <td>D00437</td>\n",
       "      <td>1</td>\n",
       "      <td>CC1=C(C(C(=C(N1)C)C(=O)OC)C2=CC=CC=C2[N+](=O)[...</td>\n",
       "      <td>0.218090</td>\n",
       "      <td>0.224981</td>\n",
       "      <td>-0.091393</td>\n",
       "      <td>0.174591</td>\n",
       "      <td>0.517229</td>\n",
       "      <td>-0.395668</td>\n",
       "      <td>...</td>\n",
       "      <td>-0.003452</td>\n",
       "      <td>-0.046586</td>\n",
       "      <td>0.067139</td>\n",
       "      <td>-0.026609</td>\n",
       "      <td>-0.057467</td>\n",
       "      <td>0.004535</td>\n",
       "      <td>-0.075994</td>\n",
       "      <td>-0.026111</td>\n",
       "      <td>-0.038772</td>\n",
       "      <td>-0.043060</td>\n",
       "    </tr>\n",
       "    <tr>\n",
       "      <th>3</th>\n",
       "      <td>P54284</td>\n",
       "      <td>D02356</td>\n",
       "      <td>1</td>\n",
       "      <td>CC(C)C(CCCN(C)CCC1=CC(=C(C=C1)OC)OC)(C#N)C2=CC...</td>\n",
       "      <td>0.712332</td>\n",
       "      <td>0.123390</td>\n",
       "      <td>0.143302</td>\n",
       "      <td>-0.155832</td>\n",
       "      <td>0.807934</td>\n",
       "      <td>-0.323886</td>\n",
       "      <td>...</td>\n",
       "      <td>-0.003452</td>\n",
       "      <td>-0.046586</td>\n",
       "      <td>0.067139</td>\n",
       "      <td>-0.026609</td>\n",
       "      <td>-0.057467</td>\n",
       "      <td>0.004535</td>\n",
       "      <td>-0.075994</td>\n",
       "      <td>-0.026111</td>\n",
       "      <td>-0.038772</td>\n",
       "      <td>-0.043060</td>\n",
       "    </tr>\n",
       "    <tr>\n",
       "      <th>4</th>\n",
       "      <td>P54284</td>\n",
       "      <td>D00560</td>\n",
       "      <td>1</td>\n",
       "      <td>C1CN(CCC1N2C3=CC=CC=C3NC2=O)CCCC(C4=CC=C(C=C4)...</td>\n",
       "      <td>0.470674</td>\n",
       "      <td>0.087535</td>\n",
       "      <td>-0.046992</td>\n",
       "      <td>-0.344518</td>\n",
       "      <td>0.889780</td>\n",
       "      <td>-0.013317</td>\n",
       "      <td>...</td>\n",
       "      <td>-0.003452</td>\n",
       "      <td>-0.046586</td>\n",
       "      <td>0.067139</td>\n",
       "      <td>-0.026609</td>\n",
       "      <td>-0.057467</td>\n",
       "      <td>0.004535</td>\n",
       "      <td>-0.075994</td>\n",
       "      <td>-0.026111</td>\n",
       "      <td>-0.038772</td>\n",
       "      <td>-0.043060</td>\n",
       "    </tr>\n",
       "    <tr>\n",
       "      <th>...</th>\n",
       "      <td>...</td>\n",
       "      <td>...</td>\n",
       "      <td>...</td>\n",
       "      <td>...</td>\n",
       "      <td>...</td>\n",
       "      <td>...</td>\n",
       "      <td>...</td>\n",
       "      <td>...</td>\n",
       "      <td>...</td>\n",
       "      <td>...</td>\n",
       "      <td>...</td>\n",
       "      <td>...</td>\n",
       "      <td>...</td>\n",
       "      <td>...</td>\n",
       "      <td>...</td>\n",
       "      <td>...</td>\n",
       "      <td>...</td>\n",
       "      <td>...</td>\n",
       "      <td>...</td>\n",
       "      <td>...</td>\n",
       "      <td>...</td>\n",
       "    </tr>\n",
       "    <tr>\n",
       "      <th>95</th>\n",
       "      <td>O15382</td>\n",
       "      <td>D00332</td>\n",
       "      <td>1</td>\n",
       "      <td>C1CCC(CC1)(CC(=O)O)CN</td>\n",
       "      <td>0.037544</td>\n",
       "      <td>-0.099144</td>\n",
       "      <td>0.531602</td>\n",
       "      <td>-1.092002</td>\n",
       "      <td>0.138534</td>\n",
       "      <td>-1.023876</td>\n",
       "      <td>...</td>\n",
       "      <td>-0.027437</td>\n",
       "      <td>-0.011167</td>\n",
       "      <td>0.005468</td>\n",
       "      <td>-0.024377</td>\n",
       "      <td>-0.021546</td>\n",
       "      <td>-0.018221</td>\n",
       "      <td>-0.056238</td>\n",
       "      <td>-0.028174</td>\n",
       "      <td>-0.012972</td>\n",
       "      <td>-0.010167</td>\n",
       "    </tr>\n",
       "    <tr>\n",
       "      <th>96</th>\n",
       "      <td>O15382</td>\n",
       "      <td>D00065</td>\n",
       "      <td>1</td>\n",
       "      <td>CCC(C)C(C(=O)O)N</td>\n",
       "      <td>0.509761</td>\n",
       "      <td>-0.064930</td>\n",
       "      <td>0.182271</td>\n",
       "      <td>-0.517200</td>\n",
       "      <td>0.844497</td>\n",
       "      <td>-0.679391</td>\n",
       "      <td>...</td>\n",
       "      <td>-0.027437</td>\n",
       "      <td>-0.011167</td>\n",
       "      <td>0.005468</td>\n",
       "      <td>-0.024377</td>\n",
       "      <td>-0.021546</td>\n",
       "      <td>-0.018221</td>\n",
       "      <td>-0.056238</td>\n",
       "      <td>-0.028174</td>\n",
       "      <td>-0.012972</td>\n",
       "      <td>-0.010167</td>\n",
       "    </tr>\n",
       "    <tr>\n",
       "      <th>97</th>\n",
       "      <td>O15382</td>\n",
       "      <td>GBN</td>\n",
       "      <td>0</td>\n",
       "      <td>C1CCC(CC1)(CC(=O)O)CN</td>\n",
       "      <td>0.037544</td>\n",
       "      <td>-0.099144</td>\n",
       "      <td>0.531602</td>\n",
       "      <td>-1.092002</td>\n",
       "      <td>0.138534</td>\n",
       "      <td>-1.023876</td>\n",
       "      <td>...</td>\n",
       "      <td>-0.027437</td>\n",
       "      <td>-0.011167</td>\n",
       "      <td>0.005468</td>\n",
       "      <td>-0.024377</td>\n",
       "      <td>-0.021546</td>\n",
       "      <td>-0.018221</td>\n",
       "      <td>-0.056238</td>\n",
       "      <td>-0.028174</td>\n",
       "      <td>-0.012972</td>\n",
       "      <td>-0.010167</td>\n",
       "    </tr>\n",
       "    <tr>\n",
       "      <th>98</th>\n",
       "      <td>P54687</td>\n",
       "      <td>D00332</td>\n",
       "      <td>1</td>\n",
       "      <td>C1CCC(CC1)(CC(=O)O)CN</td>\n",
       "      <td>0.037544</td>\n",
       "      <td>-0.099144</td>\n",
       "      <td>0.531602</td>\n",
       "      <td>-1.092002</td>\n",
       "      <td>0.138534</td>\n",
       "      <td>-1.023876</td>\n",
       "      <td>...</td>\n",
       "      <td>-0.080036</td>\n",
       "      <td>-0.010009</td>\n",
       "      <td>0.080573</td>\n",
       "      <td>-0.069651</td>\n",
       "      <td>-0.000526</td>\n",
       "      <td>-0.065119</td>\n",
       "      <td>-0.044475</td>\n",
       "      <td>-0.082696</td>\n",
       "      <td>-0.057049</td>\n",
       "      <td>-0.014230</td>\n",
       "    </tr>\n",
       "    <tr>\n",
       "      <th>99</th>\n",
       "      <td>P54687</td>\n",
       "      <td>D00065</td>\n",
       "      <td>1</td>\n",
       "      <td>CCC(C)C(C(=O)O)N</td>\n",
       "      <td>0.509761</td>\n",
       "      <td>-0.064930</td>\n",
       "      <td>0.182271</td>\n",
       "      <td>-0.517200</td>\n",
       "      <td>0.844497</td>\n",
       "      <td>-0.679391</td>\n",
       "      <td>...</td>\n",
       "      <td>-0.080036</td>\n",
       "      <td>-0.010009</td>\n",
       "      <td>0.080573</td>\n",
       "      <td>-0.069651</td>\n",
       "      <td>-0.000526</td>\n",
       "      <td>-0.065119</td>\n",
       "      <td>-0.044475</td>\n",
       "      <td>-0.082696</td>\n",
       "      <td>-0.057049</td>\n",
       "      <td>-0.014230</td>\n",
       "    </tr>\n",
       "  </tbody>\n",
       "</table>\n",
       "<p>100 rows × 1797 columns</p>\n",
       "</div>"
      ],
      "text/plain": [
       "      P_ID Drug_ID  Labels                                             SMILES  \\\n",
       "0   Q8TBG4  D00332       1                              C1CCC(CC1)(CC(=O)O)CN   \n",
       "1   P54284  D00332       1                              C1CCC(CC1)(CC(=O)O)CN   \n",
       "2   P54284  D00437       1  CC1=C(C(C(=C(N1)C)C(=O)OC)C2=CC=CC=C2[N+](=O)[...   \n",
       "3   P54284  D02356       1  CC(C)C(CCCN(C)CCC1=CC(=C(C=C1)OC)OC)(C#N)C2=CC...   \n",
       "4   P54284  D00560       1  C1CN(CCC1N2C3=CC=CC=C3NC2=O)CCCC(C4=CC=C(C=C4)...   \n",
       "..     ...     ...     ...                                                ...   \n",
       "95  O15382  D00332       1                              C1CCC(CC1)(CC(=O)O)CN   \n",
       "96  O15382  D00065       1                                   CCC(C)C(C(=O)O)N   \n",
       "97  O15382     GBN       0                              C1CCC(CC1)(CC(=O)O)CN   \n",
       "98  P54687  D00332       1                              C1CCC(CC1)(CC(=O)O)CN   \n",
       "99  P54687  D00065       1                                   CCC(C)C(C(=O)O)N   \n",
       "\n",
       "        CBF1      CBF2      CBF3      CBF4      CBF5      CBF6  ...   PBF1015  \\\n",
       "0   0.037544 -0.099144  0.531602 -1.092002  0.138534 -1.023876  ... -0.062044   \n",
       "1   0.037544 -0.099144  0.531602 -1.092002  0.138534 -1.023876  ... -0.003452   \n",
       "2   0.218090  0.224981 -0.091393  0.174591  0.517229 -0.395668  ... -0.003452   \n",
       "3   0.712332  0.123390  0.143302 -0.155832  0.807934 -0.323886  ... -0.003452   \n",
       "4   0.470674  0.087535 -0.046992 -0.344518  0.889780 -0.013317  ... -0.003452   \n",
       "..       ...       ...       ...       ...       ...       ...  ...       ...   \n",
       "95  0.037544 -0.099144  0.531602 -1.092002  0.138534 -1.023876  ... -0.027437   \n",
       "96  0.509761 -0.064930  0.182271 -0.517200  0.844497 -0.679391  ... -0.027437   \n",
       "97  0.037544 -0.099144  0.531602 -1.092002  0.138534 -1.023876  ... -0.027437   \n",
       "98  0.037544 -0.099144  0.531602 -1.092002  0.138534 -1.023876  ... -0.080036   \n",
       "99  0.509761 -0.064930  0.182271 -0.517200  0.844497 -0.679391  ... -0.080036   \n",
       "\n",
       "     PBF1016   PBF1017   PBF1018   PBF1019   PBF1020   PBF1021   PBF1022  \\\n",
       "0   0.026981  0.072355 -0.028478 -0.042176 -0.032984 -0.055388 -0.068559   \n",
       "1  -0.046586  0.067139 -0.026609 -0.057467  0.004535 -0.075994 -0.026111   \n",
       "2  -0.046586  0.067139 -0.026609 -0.057467  0.004535 -0.075994 -0.026111   \n",
       "3  -0.046586  0.067139 -0.026609 -0.057467  0.004535 -0.075994 -0.026111   \n",
       "4  -0.046586  0.067139 -0.026609 -0.057467  0.004535 -0.075994 -0.026111   \n",
       "..       ...       ...       ...       ...       ...       ...       ...   \n",
       "95 -0.011167  0.005468 -0.024377 -0.021546 -0.018221 -0.056238 -0.028174   \n",
       "96 -0.011167  0.005468 -0.024377 -0.021546 -0.018221 -0.056238 -0.028174   \n",
       "97 -0.011167  0.005468 -0.024377 -0.021546 -0.018221 -0.056238 -0.028174   \n",
       "98 -0.010009  0.080573 -0.069651 -0.000526 -0.065119 -0.044475 -0.082696   \n",
       "99 -0.010009  0.080573 -0.069651 -0.000526 -0.065119 -0.044475 -0.082696   \n",
       "\n",
       "     PBF1023   PBF1024  \n",
       "0  -0.001095 -0.016142  \n",
       "1  -0.038772 -0.043060  \n",
       "2  -0.038772 -0.043060  \n",
       "3  -0.038772 -0.043060  \n",
       "4  -0.038772 -0.043060  \n",
       "..       ...       ...  \n",
       "95 -0.012972 -0.010167  \n",
       "96 -0.012972 -0.010167  \n",
       "97 -0.012972 -0.010167  \n",
       "98 -0.057049 -0.014230  \n",
       "99 -0.057049 -0.014230  \n",
       "\n",
       "[100 rows x 1797 columns]"
      ]
     },
     "execution_count": 9,
     "metadata": {},
     "output_type": "execute_result"
    }
   ],
   "source": [
    "merge_df.head(100)"
   ]
  },
  {
   "cell_type": "code",
   "execution_count": 10,
   "id": "1b4b5a37-c25f-4fc1-9f51-a439dc886656",
   "metadata": {},
   "outputs": [
    {
     "data": {
      "text/plain": [
       "Index(['P_ID', 'Drug_ID', 'Labels'], dtype='object')"
      ]
     },
     "execution_count": 10,
     "metadata": {},
     "output_type": "execute_result"
    }
   ],
   "source": [
    "df_inter.columns"
   ]
  },
  {
   "cell_type": "code",
   "execution_count": 11,
   "id": "08225014-bff3-4a10-a286-1e3ff997b585",
   "metadata": {},
   "outputs": [
    {
     "data": {
      "text/plain": [
       "Index(['Drug_ID', 'SMILES', 'CBF1', 'CBF2', 'CBF3', 'CBF4', 'CBF5', 'CBF6',\n",
       "       'CBF7', 'CBF8',\n",
       "       ...\n",
       "       'CBF759', 'CBF760', 'CBF761', 'CBF762', 'CBF763', 'CBF764', 'CBF765',\n",
       "       'CBF766', 'CBF767', 'CBF768'],\n",
       "      dtype='object', length=770)"
      ]
     },
     "execution_count": 11,
     "metadata": {},
     "output_type": "execute_result"
    }
   ],
   "source": [
    "df_drug.columns"
   ]
  },
  {
   "cell_type": "code",
   "execution_count": 12,
   "id": "f7c32811-10a8-49a9-b528-162176c606df",
   "metadata": {},
   "outputs": [
    {
     "data": {
      "text/plain": [
       "Index(['P_ID', 'Sequence', 'PBF1', 'PBF2', 'PBF3', 'PBF4', 'PBF5', 'PBF6',\n",
       "       'PBF7', 'PBF8',\n",
       "       ...\n",
       "       'PBF1015', 'PBF1016', 'PBF1017', 'PBF1018', 'PBF1019', 'PBF1020',\n",
       "       'PBF1021', 'PBF1022', 'PBF1023', 'PBF1024'],\n",
       "      dtype='object', length=1026)"
      ]
     },
     "execution_count": 12,
     "metadata": {},
     "output_type": "execute_result"
    }
   ],
   "source": [
    "df_pro.columns"
   ]
  },
  {
   "cell_type": "code",
   "execution_count": 13,
   "id": "0d85290e-57c2-4251-af0d-75a8df2c09f1",
   "metadata": {},
   "outputs": [],
   "source": [
    "X = merge_df.drop(columns=['Labels', 'P_ID', 'Drug_ID','SMILES','Sequence'])\n",
    "y=merge_df['Labels']\n",
    "X_test = merge_df_test.drop(columns=['Labels', 'P_ID', 'Drug_ID','SMILES','Sequence'])\n",
    "y_test=merge_df_test['Labels']"
   ]
  },
  {
   "cell_type": "code",
   "execution_count": 14,
   "id": "3c4e32f3-271f-4996-a473-792730e753c8",
   "metadata": {},
   "outputs": [
    {
     "data": {
      "text/plain": [
       "Index(['P_ID', 'Drug_ID', 'Labels', 'SMILES', 'CBF1', 'CBF2', 'CBF3', 'CBF4',\n",
       "       'CBF5', 'CBF6',\n",
       "       ...\n",
       "       'PBF1015', 'PBF1016', 'PBF1017', 'PBF1018', 'PBF1019', 'PBF1020',\n",
       "       'PBF1021', 'PBF1022', 'PBF1023', 'PBF1024'],\n",
       "      dtype='object', length=1797)"
      ]
     },
     "execution_count": 14,
     "metadata": {},
     "output_type": "execute_result"
    }
   ],
   "source": [
    "merge_df_test.columns"
   ]
  },
  {
   "cell_type": "code",
   "execution_count": 15,
   "id": "125d6db7-4d05-42d8-8601-13ebe54cbd3e",
   "metadata": {},
   "outputs": [
    {
     "data": {
      "text/plain": [
       "Index(['P_ID', 'Drug_ID', 'Labels', 'SMILES', 'CBF1', 'CBF2', 'CBF3', 'CBF4',\n",
       "       'CBF5', 'CBF6',\n",
       "       ...\n",
       "       'PBF1015', 'PBF1016', 'PBF1017', 'PBF1018', 'PBF1019', 'PBF1020',\n",
       "       'PBF1021', 'PBF1022', 'PBF1023', 'PBF1024'],\n",
       "      dtype='object', length=1797)"
      ]
     },
     "execution_count": 15,
     "metadata": {},
     "output_type": "execute_result"
    }
   ],
   "source": [
    "merge_df.columns"
   ]
  },
  {
   "cell_type": "code",
   "execution_count": 16,
   "id": "fb05de25-5418-4f35-a2f6-22b8754b1abb",
   "metadata": {},
   "outputs": [],
   "source": [
    "clf=tree.DecisionTreeClassifier(random_state=42,max_depth=20,min_samples_leaf=10,max_features=1750,min_samples_split=20)"
   ]
  },
  {
   "cell_type": "code",
   "execution_count": 17,
   "id": "9aded1d4-1d9f-4b8d-8fda-8a37e2fc0b22",
   "metadata": {},
   "outputs": [
    {
     "data": {
      "text/html": [
       "<style>#sk-container-id-1 {color: black;background-color: white;}#sk-container-id-1 pre{padding: 0;}#sk-container-id-1 div.sk-toggleable {background-color: white;}#sk-container-id-1 label.sk-toggleable__label {cursor: pointer;display: block;width: 100%;margin-bottom: 0;padding: 0.3em;box-sizing: border-box;text-align: center;}#sk-container-id-1 label.sk-toggleable__label-arrow:before {content: \"▸\";float: left;margin-right: 0.25em;color: #696969;}#sk-container-id-1 label.sk-toggleable__label-arrow:hover:before {color: black;}#sk-container-id-1 div.sk-estimator:hover label.sk-toggleable__label-arrow:before {color: black;}#sk-container-id-1 div.sk-toggleable__content {max-height: 0;max-width: 0;overflow: hidden;text-align: left;background-color: #f0f8ff;}#sk-container-id-1 div.sk-toggleable__content pre {margin: 0.2em;color: black;border-radius: 0.25em;background-color: #f0f8ff;}#sk-container-id-1 input.sk-toggleable__control:checked~div.sk-toggleable__content {max-height: 200px;max-width: 100%;overflow: auto;}#sk-container-id-1 input.sk-toggleable__control:checked~label.sk-toggleable__label-arrow:before {content: \"▾\";}#sk-container-id-1 div.sk-estimator input.sk-toggleable__control:checked~label.sk-toggleable__label {background-color: #d4ebff;}#sk-container-id-1 div.sk-label input.sk-toggleable__control:checked~label.sk-toggleable__label {background-color: #d4ebff;}#sk-container-id-1 input.sk-hidden--visually {border: 0;clip: rect(1px 1px 1px 1px);clip: rect(1px, 1px, 1px, 1px);height: 1px;margin: -1px;overflow: hidden;padding: 0;position: absolute;width: 1px;}#sk-container-id-1 div.sk-estimator {font-family: monospace;background-color: #f0f8ff;border: 1px dotted black;border-radius: 0.25em;box-sizing: border-box;margin-bottom: 0.5em;}#sk-container-id-1 div.sk-estimator:hover {background-color: #d4ebff;}#sk-container-id-1 div.sk-parallel-item::after {content: \"\";width: 100%;border-bottom: 1px solid gray;flex-grow: 1;}#sk-container-id-1 div.sk-label:hover label.sk-toggleable__label {background-color: #d4ebff;}#sk-container-id-1 div.sk-serial::before {content: \"\";position: absolute;border-left: 1px solid gray;box-sizing: border-box;top: 0;bottom: 0;left: 50%;z-index: 0;}#sk-container-id-1 div.sk-serial {display: flex;flex-direction: column;align-items: center;background-color: white;padding-right: 0.2em;padding-left: 0.2em;position: relative;}#sk-container-id-1 div.sk-item {position: relative;z-index: 1;}#sk-container-id-1 div.sk-parallel {display: flex;align-items: stretch;justify-content: center;background-color: white;position: relative;}#sk-container-id-1 div.sk-item::before, #sk-container-id-1 div.sk-parallel-item::before {content: \"\";position: absolute;border-left: 1px solid gray;box-sizing: border-box;top: 0;bottom: 0;left: 50%;z-index: -1;}#sk-container-id-1 div.sk-parallel-item {display: flex;flex-direction: column;z-index: 1;position: relative;background-color: white;}#sk-container-id-1 div.sk-parallel-item:first-child::after {align-self: flex-end;width: 50%;}#sk-container-id-1 div.sk-parallel-item:last-child::after {align-self: flex-start;width: 50%;}#sk-container-id-1 div.sk-parallel-item:only-child::after {width: 0;}#sk-container-id-1 div.sk-dashed-wrapped {border: 1px dashed gray;margin: 0 0.4em 0.5em 0.4em;box-sizing: border-box;padding-bottom: 0.4em;background-color: white;}#sk-container-id-1 div.sk-label label {font-family: monospace;font-weight: bold;display: inline-block;line-height: 1.2em;}#sk-container-id-1 div.sk-label-container {text-align: center;}#sk-container-id-1 div.sk-container {/* jupyter's `normalize.less` sets `[hidden] { display: none; }` but bootstrap.min.css set `[hidden] { display: none !important; }` so we also need the `!important` here to be able to override the default hidden behavior on the sphinx rendered scikit-learn.org. See: https://github.com/scikit-learn/scikit-learn/issues/21755 */display: inline-block !important;position: relative;}#sk-container-id-1 div.sk-text-repr-fallback {display: none;}</style><div id=\"sk-container-id-1\" class=\"sk-top-container\"><div class=\"sk-text-repr-fallback\"><pre>DecisionTreeClassifier(max_depth=20, max_features=1750, min_samples_leaf=10,\n",
       "                       min_samples_split=20, random_state=42)</pre><b>In a Jupyter environment, please rerun this cell to show the HTML representation or trust the notebook. <br />On GitHub, the HTML representation is unable to render, please try loading this page with nbviewer.org.</b></div><div class=\"sk-container\" hidden><div class=\"sk-item\"><div class=\"sk-estimator sk-toggleable\"><input class=\"sk-toggleable__control sk-hidden--visually\" id=\"sk-estimator-id-1\" type=\"checkbox\" checked><label for=\"sk-estimator-id-1\" class=\"sk-toggleable__label sk-toggleable__label-arrow\">DecisionTreeClassifier</label><div class=\"sk-toggleable__content\"><pre>DecisionTreeClassifier(max_depth=20, max_features=1750, min_samples_leaf=10,\n",
       "                       min_samples_split=20, random_state=42)</pre></div></div></div></div></div>"
      ],
      "text/plain": [
       "DecisionTreeClassifier(max_depth=20, max_features=1750, min_samples_leaf=10,\n",
       "                       min_samples_split=20, random_state=42)"
      ]
     },
     "execution_count": 17,
     "metadata": {},
     "output_type": "execute_result"
    }
   ],
   "source": [
    "clf.fit(X,y)"
   ]
  },
  {
   "cell_type": "code",
   "execution_count": 18,
   "id": "301144f2-db1f-4396-8ce8-dc4d0bc7ce5d",
   "metadata": {},
   "outputs": [
    {
     "name": "stdout",
     "output_type": "stream",
     "text": [
      "Accuracy on training data: 0.9765146783260462\n"
     ]
    }
   ],
   "source": [
    "y_pred_train = clf.predict(X)\n",
    "accuracy_train = accuracy_score(y, y_pred_train)\n",
    "print(\"Accuracy on training data:\", accuracy_train)"
   ]
  },
  {
   "cell_type": "code",
   "execution_count": 30,
   "id": "f59229ea-6d4d-43fd-982b-eac7522f36f1",
   "metadata": {},
   "outputs": [
    {
     "name": "stdout",
     "output_type": "stream",
     "text": [
      "[[4791  123]\n",
      " [ 442 2570]]\n",
      "Precision: 0.9543260304493131\n",
      "Recall: 0.853253652058433\n",
      "F1-score: 0.9009640666082385\n",
      "Accuracy: 0.9287156194801918\n"
     ]
    }
   ],
   "source": [
    "y_predict = clf.predict(X_test)\n",
    "accuracy_test = accuracy_score(y_test,y_predict )\n",
    "cm= confusion_matrix(y_test, y_predict)\n",
    "print(cm)\n",
    "precision = precision_score(y_test, y_predict )\n",
    "recall = recall_score(y_test, y_predict)\n",
    "f1 = f1_score(y_test, y_predict)\n",
    "accuracy = accuracy_score(y_test, y_predict)\n",
    "print(\"Precision:\", precision)\n",
    "print(\"Recall:\", recall)\n",
    "print(\"F1-score:\", f1)\n",
    "print(\"Accuracy:\", accuracy)\n"
   ]
  },
  {
   "cell_type": "code",
   "execution_count": 20,
   "id": "a30085af-b28b-4586-b3ac-2ce16c1a11e5",
   "metadata": {},
   "outputs": [
    {
     "data": {
      "text/plain": [
       "[Text(0.4420609287709497, 0.9761904761904762, 'x[1138] <= 0.009\\ngini = 0.463\\nsamples = 16010\\nvalue = [10171, 5839]'),\n",
       " Text(0.17549755586592178, 0.9285714285714286, 'x[843] <= 0.052\\ngini = 0.309\\nsamples = 9106\\nvalue = [7369, 1737]'),\n",
       " Text(0.08004539106145252, 0.8809523809523809, 'x[1693] <= 0.04\\ngini = 0.201\\nsamples = 7604\\nvalue = [6740, 864]'),\n",
       " Text(0.05336359404096834, 0.8333333333333334, 'x[632] <= -0.215\\ngini = 0.165\\nsamples = 7404\\nvalue = [6732, 672]'),\n",
       " Text(0.0223463687150838, 0.7857142857142857, 'x[1443] <= 0.01\\ngini = 0.108\\nsamples = 87\\nvalue = [5, 82]'),\n",
       " Text(0.0148975791433892, 0.7380952380952381, 'x[477] <= -0.568\\ngini = 0.026\\nsamples = 77\\nvalue = [1, 76]'),\n",
       " Text(0.0074487895716946, 0.6904761904761905, 'gini = 0.0\\nsamples = 67\\nvalue = [0, 67]'),\n",
       " Text(0.0223463687150838, 0.6904761904761905, 'gini = 0.18\\nsamples = 10\\nvalue = [1, 9]'),\n",
       " Text(0.0297951582867784, 0.7380952380952381, 'gini = 0.48\\nsamples = 10\\nvalue = [4, 6]'),\n",
       " Text(0.08438081936685289, 0.7857142857142857, 'x[1618] <= 0.103\\ngini = 0.148\\nsamples = 7317\\nvalue = [6727, 590]'),\n",
       " Text(0.06121973929236499, 0.7380952380952381, 'x[955] <= -0.026\\ngini = 0.133\\nsamples = 7234\\nvalue = [6716, 518]'),\n",
       " Text(0.037243947858473, 0.6904761904761905, 'x[1777] <= 0.01\\ngini = 0.423\\nsamples = 115\\nvalue = [35, 80]'),\n",
       " Text(0.0297951582867784, 0.6428571428571429, 'x[1357] <= -0.056\\ngini = 0.024\\nsamples = 81\\nvalue = [1, 80]'),\n",
       " Text(0.0223463687150838, 0.5952380952380952, 'gini = 0.18\\nsamples = 10\\nvalue = [1, 9]'),\n",
       " Text(0.037243947858473, 0.5952380952380952, 'gini = 0.0\\nsamples = 71\\nvalue = [0, 71]'),\n",
       " Text(0.0446927374301676, 0.6428571428571429, 'gini = 0.0\\nsamples = 34\\nvalue = [34, 0]'),\n",
       " Text(0.08519553072625698, 0.6904761904761905, 'x[829] <= -0.074\\ngini = 0.115\\nsamples = 7119\\nvalue = [6681, 438]'),\n",
       " Text(0.0595903165735568, 0.6428571428571429, 'x[704] <= 0.451\\ngini = 0.042\\nsamples = 47\\nvalue = [1, 46]'),\n",
       " Text(0.0521415270018622, 0.5952380952380952, 'gini = 0.18\\nsamples = 10\\nvalue = [1, 9]'),\n",
       " Text(0.0670391061452514, 0.5952380952380952, 'gini = 0.0\\nsamples = 37\\nvalue = [0, 37]'),\n",
       " Text(0.11080074487895716, 0.6428571428571429, 'x[1296] <= -0.028\\ngini = 0.105\\nsamples = 7072\\nvalue = [6680, 392]'),\n",
       " Text(0.08193668528864059, 0.5952380952380952, 'x[1470] <= -0.015\\ngini = 0.487\\nsamples = 110\\nvalue = [46, 64]'),\n",
       " Text(0.074487895716946, 0.5476190476190477, 'x[68] <= -0.265\\ngini = 0.293\\nsamples = 56\\nvalue = [46, 10]'),\n",
       " Text(0.0670391061452514, 0.5, 'gini = 0.165\\nsamples = 11\\nvalue = [1, 10]'),\n",
       " Text(0.08193668528864059, 0.5, 'gini = 0.0\\nsamples = 45\\nvalue = [45, 0]'),\n",
       " Text(0.0893854748603352, 0.5476190476190477, 'gini = 0.0\\nsamples = 54\\nvalue = [0, 54]'),\n",
       " Text(0.13966480446927373, 0.5952380952380952, 'x[891] <= -0.034\\ngini = 0.09\\nsamples = 6962\\nvalue = [6634, 328]'),\n",
       " Text(0.1042830540037244, 0.5476190476190477, 'x[405] <= -0.432\\ngini = 0.311\\nsamples = 52\\nvalue = [10, 42]'),\n",
       " Text(0.09683426443202979, 0.5, 'gini = 0.298\\nsamples = 11\\nvalue = [9, 2]'),\n",
       " Text(0.11173184357541899, 0.5, 'x[130] <= 0.18\\ngini = 0.048\\nsamples = 41\\nvalue = [1, 40]'),\n",
       " Text(0.1042830540037244, 0.4523809523809524, 'gini = 0.18\\nsamples = 10\\nvalue = [1, 9]'),\n",
       " Text(0.1191806331471136, 0.4523809523809524, 'gini = 0.0\\nsamples = 31\\nvalue = [0, 31]'),\n",
       " Text(0.1750465549348231, 0.5476190476190477, 'x[1528] <= 0.07\\ngini = 0.079\\nsamples = 6910\\nvalue = [6624, 286]'),\n",
       " Text(0.148975791433892, 0.5, 'x[1342] <= -0.089\\ngini = 0.071\\nsamples = 6862\\nvalue = [6609, 253]'),\n",
       " Text(0.1340782122905028, 0.4523809523809524, 'x[1344] <= 0.017\\ngini = 0.255\\nsamples = 20\\nvalue = [3, 17]'),\n",
       " Text(0.1266294227188082, 0.40476190476190477, 'gini = 0.42\\nsamples = 10\\nvalue = [3, 7]'),\n",
       " Text(0.14152700186219738, 0.40476190476190477, 'gini = 0.0\\nsamples = 10\\nvalue = [0, 10]'),\n",
       " Text(0.16387337057728119, 0.4523809523809524, 'x[1658] <= -0.024\\ngini = 0.067\\nsamples = 6842\\nvalue = [6606, 236]'),\n",
       " Text(0.1564245810055866, 0.40476190476190477, 'gini = 0.124\\nsamples = 15\\nvalue = [1, 14]'),\n",
       " Text(0.1713221601489758, 0.40476190476190477, 'x[776] <= 0.053\\ngini = 0.063\\nsamples = 6827\\nvalue = [6605, 222]'),\n",
       " Text(0.16387337057728119, 0.35714285714285715, 'x[1704] <= -0.094\\ngini = 0.06\\nsamples = 6816\\nvalue = [6605, 211]'),\n",
       " Text(0.1564245810055866, 0.30952380952380953, 'gini = 0.0\\nsamples = 11\\nvalue = [0, 11]'),\n",
       " Text(0.1713221601489758, 0.30952380952380953, 'x[1646] <= -0.047\\ngini = 0.057\\nsamples = 6805\\nvalue = [6605, 200]'),\n",
       " Text(0.16387337057728119, 0.2619047619047619, 'gini = 0.153\\nsamples = 12\\nvalue = [1, 11]'),\n",
       " Text(0.1787709497206704, 0.2619047619047619, 'x[1670] <= 0.052\\ngini = 0.054\\nsamples = 6793\\nvalue = [6604, 189]'),\n",
       " Text(0.1713221601489758, 0.21428571428571427, 'x[849] <= -0.014\\ngini = 0.051\\nsamples = 6774\\nvalue = [6598, 176]'),\n",
       " Text(0.1564245810055866, 0.16666666666666666, 'x[767] <= 0.588\\ngini = 0.499\\nsamples = 29\\nvalue = [14, 15]'),\n",
       " Text(0.148975791433892, 0.11904761904761904, 'gini = 0.124\\nsamples = 15\\nvalue = [14, 1]'),\n",
       " Text(0.16387337057728119, 0.11904761904761904, 'gini = 0.0\\nsamples = 14\\nvalue = [0, 14]'),\n",
       " Text(0.186219739292365, 0.16666666666666666, 'x[1336] <= -0.049\\ngini = 0.047\\nsamples = 6745\\nvalue = [6584, 161]'),\n",
       " Text(0.1787709497206704, 0.11904761904761904, 'gini = 0.463\\nsamples = 11\\nvalue = [4, 7]'),\n",
       " Text(0.19366852886405958, 0.11904761904761904, 'x[1512] <= -0.155\\ngini = 0.045\\nsamples = 6734\\nvalue = [6580, 154]'),\n",
       " Text(0.186219739292365, 0.07142857142857142, 'gini = 0.48\\nsamples = 10\\nvalue = [4, 6]'),\n",
       " Text(0.2011173184357542, 0.07142857142857142, 'x[1408] <= 0.02\\ngini = 0.043\\nsamples = 6724\\nvalue = [6576, 148]'),\n",
       " Text(0.19366852886405958, 0.023809523809523808, 'gini = 0.039\\nsamples = 6653\\nvalue = [6521, 132]'),\n",
       " Text(0.2085661080074488, 0.023809523809523808, 'gini = 0.349\\nsamples = 71\\nvalue = [55, 16]'),\n",
       " Text(0.186219739292365, 0.21428571428571427, 'gini = 0.432\\nsamples = 19\\nvalue = [6, 13]'),\n",
       " Text(0.1787709497206704, 0.35714285714285715, 'gini = 0.0\\nsamples = 11\\nvalue = [0, 11]'),\n",
       " Text(0.2011173184357542, 0.5, 'x[1621] <= -0.01\\ngini = 0.43\\nsamples = 48\\nvalue = [15, 33]'),\n",
       " Text(0.19366852886405958, 0.4523809523809524, 'x[1562] <= 0.034\\ngini = 0.059\\nsamples = 33\\nvalue = [1, 32]'),\n",
       " Text(0.186219739292365, 0.40476190476190477, 'gini = 0.0\\nsamples = 23\\nvalue = [0, 23]'),\n",
       " Text(0.2011173184357542, 0.40476190476190477, 'gini = 0.18\\nsamples = 10\\nvalue = [1, 9]'),\n",
       " Text(0.2085661080074488, 0.4523809523809524, 'gini = 0.124\\nsamples = 15\\nvalue = [14, 1]'),\n",
       " Text(0.10754189944134078, 0.7380952380952381, 'x[1403] <= 0.082\\ngini = 0.23\\nsamples = 83\\nvalue = [11, 72]'),\n",
       " Text(0.10009310986964619, 0.6904761904761905, 'gini = 0.0\\nsamples = 72\\nvalue = [0, 72]'),\n",
       " Text(0.11499068901303539, 0.6904761904761905, 'gini = 0.0\\nsamples = 11\\nvalue = [11, 0]'),\n",
       " Text(0.10672718808193668, 0.8333333333333334, 'x[1335] <= 0.031\\ngini = 0.077\\nsamples = 200\\nvalue = [8, 192]'),\n",
       " Text(0.09927839851024209, 0.7857142857142857, 'gini = 0.0\\nsamples = 190\\nvalue = [0, 190]'),\n",
       " Text(0.11417597765363129, 0.7857142857142857, 'gini = 0.32\\nsamples = 10\\nvalue = [8, 2]'),\n",
       " Text(0.2709497206703911, 0.8809523809523809, 'x[827] <= 0.009\\ngini = 0.487\\nsamples = 1502\\nvalue = [629, 873]'),\n",
       " Text(0.22346368715083798, 0.8333333333333334, 'x[1772] <= 0.057\\ngini = 0.233\\nsamples = 669\\nvalue = [90, 579]'),\n",
       " Text(0.20297951582867785, 0.7857142857142857, 'x[1096] <= -0.087\\ngini = 0.14\\nsamples = 623\\nvalue = [47, 576]'),\n",
       " Text(0.18435754189944134, 0.7380952380952381, 'x[1186] <= 0.011\\ngini = 0.457\\nsamples = 116\\nvalue = [41, 75]'),\n",
       " Text(0.16945996275605213, 0.6904761904761905, 'x[599] <= 0.666\\ngini = 0.211\\nsamples = 75\\nvalue = [9, 66]'),\n",
       " Text(0.16201117318435754, 0.6428571428571429, 'x[391] <= 0.17\\ngini = 0.031\\nsamples = 64\\nvalue = [1, 63]'),\n",
       " Text(0.15456238361266295, 0.5952380952380952, 'gini = 0.0\\nsamples = 54\\nvalue = [0, 54]'),\n",
       " Text(0.16945996275605213, 0.5952380952380952, 'gini = 0.18\\nsamples = 10\\nvalue = [1, 9]'),\n",
       " Text(0.17690875232774675, 0.6428571428571429, 'gini = 0.397\\nsamples = 11\\nvalue = [8, 3]'),\n",
       " Text(0.19925512104283055, 0.6904761904761905, 'x[609] <= 0.098\\ngini = 0.343\\nsamples = 41\\nvalue = [32, 9]'),\n",
       " Text(0.19180633147113593, 0.6428571428571429, 'gini = 0.397\\nsamples = 11\\nvalue = [3, 8]'),\n",
       " Text(0.20670391061452514, 0.6428571428571429, 'x[15] <= 0.409\\ngini = 0.064\\nsamples = 30\\nvalue = [29, 1]'),\n",
       " Text(0.19925512104283055, 0.5952380952380952, 'gini = 0.0\\nsamples = 20\\nvalue = [20, 0]'),\n",
       " Text(0.21415270018621974, 0.5952380952380952, 'gini = 0.18\\nsamples = 10\\nvalue = [9, 1]'),\n",
       " Text(0.22160148975791433, 0.7380952380952381, 'x[642] <= -0.082\\ngini = 0.023\\nsamples = 507\\nvalue = [6, 501]'),\n",
       " Text(0.21415270018621974, 0.6904761904761905, 'gini = 0.375\\nsamples = 16\\nvalue = [4, 12]'),\n",
       " Text(0.22905027932960895, 0.6904761904761905, 'x[366] <= 0.546\\ngini = 0.008\\nsamples = 491\\nvalue = [2, 489]'),\n",
       " Text(0.22160148975791433, 0.6428571428571429, 'gini = 0.0\\nsamples = 471\\nvalue = [0, 471]'),\n",
       " Text(0.23649906890130354, 0.6428571428571429, 'x[191] <= -0.207\\ngini = 0.18\\nsamples = 20\\nvalue = [2, 18]'),\n",
       " Text(0.22905027932960895, 0.5952380952380952, 'gini = 0.0\\nsamples = 10\\nvalue = [0, 10]'),\n",
       " Text(0.24394785847299813, 0.5952380952380952, 'gini = 0.32\\nsamples = 10\\nvalue = [2, 8]'),\n",
       " Text(0.24394785847299813, 0.7857142857142857, 'x[1350] <= 0.048\\ngini = 0.122\\nsamples = 46\\nvalue = [43, 3]'),\n",
       " Text(0.23649906890130354, 0.7380952380952381, 'gini = 0.0\\nsamples = 36\\nvalue = [36, 0]'),\n",
       " Text(0.25139664804469275, 0.7380952380952381, 'gini = 0.42\\nsamples = 10\\nvalue = [7, 3]'),\n",
       " Text(0.31843575418994413, 0.8333333333333334, 'x[1530] <= 0.044\\ngini = 0.457\\nsamples = 833\\nvalue = [539, 294]'),\n",
       " Text(0.2811918063314711, 0.7857142857142857, 'x[1217] <= 0.004\\ngini = 0.26\\nsamples = 587\\nvalue = [497, 90]'),\n",
       " Text(0.26629422718808193, 0.7380952380952381, 'x[1444] <= -0.025\\ngini = 0.32\\nsamples = 65\\nvalue = [13, 52]'),\n",
       " Text(0.25884543761638734, 0.6904761904761905, 'gini = 0.0\\nsamples = 13\\nvalue = [13, 0]'),\n",
       " Text(0.2737430167597765, 0.6904761904761905, 'gini = 0.0\\nsamples = 52\\nvalue = [0, 52]'),\n",
       " Text(0.29608938547486036, 0.7380952380952381, 'x[1582] <= 0.026\\ngini = 0.135\\nsamples = 522\\nvalue = [484, 38]'),\n",
       " Text(0.2886405959031657, 0.6904761904761905, 'gini = 0.0\\nsamples = 15\\nvalue = [0, 15]'),\n",
       " Text(0.30353817504655495, 0.6904761904761905, 'x[926] <= -0.055\\ngini = 0.087\\nsamples = 507\\nvalue = [484, 23]'),\n",
       " Text(0.29608938547486036, 0.6428571428571429, 'gini = 0.397\\nsamples = 11\\nvalue = [3, 8]'),\n",
       " Text(0.31098696461824954, 0.6428571428571429, 'x[161] <= -0.604\\ngini = 0.059\\nsamples = 496\\nvalue = [481, 15]'),\n",
       " Text(0.29608938547486036, 0.5952380952380952, 'x[400] <= -0.476\\ngini = 0.009\\nsamples = 435\\nvalue = [433, 2]'),\n",
       " Text(0.2886405959031657, 0.5476190476190477, 'gini = 0.32\\nsamples = 10\\nvalue = [8, 2]'),\n",
       " Text(0.30353817504655495, 0.5476190476190477, 'gini = 0.0\\nsamples = 425\\nvalue = [425, 0]'),\n",
       " Text(0.3258845437616387, 0.5952380952380952, 'x[753] <= 0.385\\ngini = 0.335\\nsamples = 61\\nvalue = [48, 13]'),\n",
       " Text(0.31843575418994413, 0.5476190476190477, 'x[566] <= 1.201\\ngini = 0.113\\nsamples = 50\\nvalue = [47, 3]'),\n",
       " Text(0.31098696461824954, 0.5, 'gini = 0.0\\nsamples = 40\\nvalue = [40, 0]'),\n",
       " Text(0.3258845437616387, 0.5, 'gini = 0.42\\nsamples = 10\\nvalue = [7, 3]'),\n",
       " Text(0.3333333333333333, 0.5476190476190477, 'gini = 0.165\\nsamples = 11\\nvalue = [1, 10]'),\n",
       " Text(0.35567970204841715, 0.7857142857142857, 'x[1718] <= 0.003\\ngini = 0.283\\nsamples = 246\\nvalue = [42, 204]'),\n",
       " Text(0.3407821229050279, 0.7380952380952381, 'x[1040] <= 0.032\\ngini = 0.098\\nsamples = 212\\nvalue = [11, 201]'),\n",
       " Text(0.3333333333333333, 0.6904761904761905, 'x[40] <= -0.271\\ngini = 0.029\\nsamples = 202\\nvalue = [3, 199]'),\n",
       " Text(0.3258845437616387, 0.6428571428571429, 'gini = 0.0\\nsamples = 192\\nvalue = [0, 192]'),\n",
       " Text(0.3407821229050279, 0.6428571428571429, 'gini = 0.42\\nsamples = 10\\nvalue = [3, 7]'),\n",
       " Text(0.34823091247672255, 0.6904761904761905, 'gini = 0.32\\nsamples = 10\\nvalue = [8, 2]'),\n",
       " Text(0.37057728119180633, 0.7380952380952381, 'x[187] <= 0.14\\ngini = 0.161\\nsamples = 34\\nvalue = [31, 3]'),\n",
       " Text(0.36312849162011174, 0.6904761904761905, 'gini = 0.0\\nsamples = 24\\nvalue = [24, 0]'),\n",
       " Text(0.3780260707635009, 0.6904761904761905, 'gini = 0.42\\nsamples = 10\\nvalue = [7, 3]'),\n",
       " Text(0.7086243016759777, 0.9285714285714286, 'x[1789] <= -0.067\\ngini = 0.482\\nsamples = 6904\\nvalue = [2802, 4102]'),\n",
       " Text(0.5559823091247672, 0.8809523809523809, 'x[1281] <= -0.015\\ngini = 0.448\\nsamples = 3451\\nvalue = [2282, 1169]'),\n",
       " Text(0.47416201117318435, 0.8333333333333334, 'x[873] <= 0.016\\ngini = 0.35\\nsamples = 2692\\nvalue = [2083, 609]'),\n",
       " Text(0.42877094972067037, 0.7857142857142857, 'x[859] <= -0.042\\ngini = 0.27\\nsamples = 2387\\nvalue = [2003, 384]'),\n",
       " Text(0.40037243947858475, 0.7380952380952381, 'x[1056] <= 0.047\\ngini = 0.285\\nsamples = 116\\nvalue = [20, 96]'),\n",
       " Text(0.3929236499068901, 0.6904761904761905, 'x[398] <= 0.356\\ngini = 0.04\\nsamples = 98\\nvalue = [2, 96]'),\n",
       " Text(0.3854748603351955, 0.6428571428571429, 'gini = 0.0\\nsamples = 88\\nvalue = [0, 88]'),\n",
       " Text(0.40037243947858475, 0.6428571428571429, 'gini = 0.32\\nsamples = 10\\nvalue = [2, 8]'),\n",
       " Text(0.40782122905027934, 0.6904761904761905, 'gini = 0.0\\nsamples = 18\\nvalue = [18, 0]'),\n",
       " Text(0.45716945996275604, 0.7380952380952381, 'x[1477] <= 0.006\\ngini = 0.221\\nsamples = 2271\\nvalue = [1983, 288]'),\n",
       " Text(0.43575418994413406, 0.6904761904761905, 'x[1213] <= 0.043\\ngini = 0.174\\nsamples = 2177\\nvalue = [1968, 209]'),\n",
       " Text(0.41527001862197394, 0.6428571428571429, 'x[951] <= -0.074\\ngini = 0.143\\nsamples = 2132\\nvalue = [1967, 165]'),\n",
       " Text(0.39664804469273746, 0.5952380952380952, 'x[942] <= 0.052\\ngini = 0.129\\nsamples = 2112\\nvalue = [1966, 146]'),\n",
       " Text(0.3817504655493482, 0.5476190476190477, 'x[44] <= 0.413\\ngini = 0.112\\nsamples = 2075\\nvalue = [1952, 123]'),\n",
       " Text(0.3743016759776536, 0.5, 'x[421] <= -0.506\\ngini = 0.104\\nsamples = 2063\\nvalue = [1950, 113]'),\n",
       " Text(0.36685288640595903, 0.4523809523809524, 'gini = 0.298\\nsamples = 11\\nvalue = [2, 9]'),\n",
       " Text(0.3817504655493482, 0.4523809523809524, 'x[628] <= -1.204\\ngini = 0.096\\nsamples = 2052\\nvalue = [1948, 104]'),\n",
       " Text(0.3743016759776536, 0.40476190476190477, 'gini = 0.397\\nsamples = 11\\nvalue = [3, 8]'),\n",
       " Text(0.3891992551210428, 0.40476190476190477, 'x[432] <= 1.139\\ngini = 0.09\\nsamples = 2041\\nvalue = [1945, 96]'),\n",
       " Text(0.36685288640595903, 0.35714285714285715, 'x[271] <= 0.957\\ngini = 0.071\\nsamples = 1954\\nvalue = [1882, 72]'),\n",
       " Text(0.35940409683426444, 0.30952380952380953, 'x[38] <= -0.282\\ngini = 0.066\\nsamples = 1944\\nvalue = [1878, 66]'),\n",
       " Text(0.34450651769087526, 0.2619047619047619, 'x[50] <= 0.537\\ngini = 0.057\\nsamples = 1913\\nvalue = [1857, 56]'),\n",
       " Text(0.3370577281191806, 0.21428571428571427, 'x[585] <= 0.248\\ngini = 0.052\\nsamples = 1903\\nvalue = [1852, 51]'),\n",
       " Text(0.31843575418994413, 0.16666666666666666, 'x[732] <= 0.142\\ngini = 0.044\\nsamples = 1870\\nvalue = [1828, 42]'),\n",
       " Text(0.31098696461824954, 0.11904761904761904, 'x[1039] <= 0.023\\ngini = 0.04\\nsamples = 1860\\nvalue = [1822, 38]'),\n",
       " Text(0.29608938547486036, 0.07142857142857142, 'x[1735] <= 0.02\\ngini = 0.15\\nsamples = 244\\nvalue = [224, 20]'),\n",
       " Text(0.2886405959031657, 0.023809523809523808, 'gini = 0.42\\nsamples = 10\\nvalue = [3, 7]'),\n",
       " Text(0.30353817504655495, 0.023809523809523808, 'gini = 0.105\\nsamples = 234\\nvalue = [221, 13]'),\n",
       " Text(0.3258845437616387, 0.07142857142857142, 'x[286] <= -0.986\\ngini = 0.022\\nsamples = 1616\\nvalue = [1598, 18]'),\n",
       " Text(0.31843575418994413, 0.023809523809523808, 'gini = 0.227\\nsamples = 46\\nvalue = [40, 6]'),\n",
       " Text(0.3333333333333333, 0.023809523809523808, 'gini = 0.015\\nsamples = 1570\\nvalue = [1558, 12]'),\n",
       " Text(0.3258845437616387, 0.11904761904761904, 'gini = 0.48\\nsamples = 10\\nvalue = [6, 4]'),\n",
       " Text(0.35567970204841715, 0.16666666666666666, 'x[424] <= 0.577\\ngini = 0.397\\nsamples = 33\\nvalue = [24, 9]'),\n",
       " Text(0.34823091247672255, 0.11904761904761904, 'x[905] <= -0.005\\ngini = 0.095\\nsamples = 20\\nvalue = [19, 1]'),\n",
       " Text(0.3407821229050279, 0.07142857142857142, 'gini = 0.0\\nsamples = 10\\nvalue = [10, 0]'),\n",
       " Text(0.35567970204841715, 0.07142857142857142, 'gini = 0.18\\nsamples = 10\\nvalue = [9, 1]'),\n",
       " Text(0.36312849162011174, 0.11904761904761904, 'gini = 0.473\\nsamples = 13\\nvalue = [5, 8]'),\n",
       " Text(0.35195530726256985, 0.21428571428571427, 'gini = 0.5\\nsamples = 10\\nvalue = [5, 5]'),\n",
       " Text(0.3743016759776536, 0.2619047619047619, 'x[245] <= -0.343\\ngini = 0.437\\nsamples = 31\\nvalue = [21, 10]'),\n",
       " Text(0.36685288640595903, 0.21428571428571427, 'gini = 0.278\\nsamples = 12\\nvalue = [2, 10]'),\n",
       " Text(0.3817504655493482, 0.21428571428571427, 'gini = 0.0\\nsamples = 19\\nvalue = [19, 0]'),\n",
       " Text(0.3743016759776536, 0.30952380952380953, 'gini = 0.48\\nsamples = 10\\nvalue = [4, 6]'),\n",
       " Text(0.41154562383612664, 0.35714285714285715, 'x[1753] <= 0.001\\ngini = 0.4\\nsamples = 87\\nvalue = [63, 24]'),\n",
       " Text(0.39664804469273746, 0.30952380952380953, 'x[992] <= 0.068\\ngini = 0.278\\nsamples = 24\\nvalue = [4, 20]'),\n",
       " Text(0.3891992551210428, 0.2619047619047619, 'gini = 0.0\\nsamples = 14\\nvalue = [0, 14]'),\n",
       " Text(0.40409683426443205, 0.2619047619047619, 'gini = 0.48\\nsamples = 10\\nvalue = [4, 6]'),\n",
       " Text(0.4264432029795158, 0.30952380952380953, 'x[1404] <= 0.069\\ngini = 0.119\\nsamples = 63\\nvalue = [59, 4]'),\n",
       " Text(0.41899441340782123, 0.2619047619047619, 'gini = 0.0\\nsamples = 49\\nvalue = [49, 0]'),\n",
       " Text(0.4338919925512104, 0.2619047619047619, 'gini = 0.408\\nsamples = 14\\nvalue = [10, 4]'),\n",
       " Text(0.3891992551210428, 0.5, 'gini = 0.278\\nsamples = 12\\nvalue = [2, 10]'),\n",
       " Text(0.41154562383612664, 0.5476190476190477, 'x[1602] <= 0.013\\ngini = 0.47\\nsamples = 37\\nvalue = [14, 23]'),\n",
       " Text(0.40409683426443205, 0.5, 'gini = 0.124\\nsamples = 15\\nvalue = [14, 1]'),\n",
       " Text(0.41899441340782123, 0.5, 'gini = 0.0\\nsamples = 22\\nvalue = [0, 22]'),\n",
       " Text(0.4338919925512104, 0.5952380952380952, 'x[157] <= -0.427\\ngini = 0.095\\nsamples = 20\\nvalue = [1, 19]'),\n",
       " Text(0.4264432029795158, 0.5476190476190477, 'gini = 0.18\\nsamples = 10\\nvalue = [1, 9]'),\n",
       " Text(0.441340782122905, 0.5476190476190477, 'gini = 0.0\\nsamples = 10\\nvalue = [0, 10]'),\n",
       " Text(0.45623836126629425, 0.6428571428571429, 'x[572] <= -0.534\\ngini = 0.043\\nsamples = 45\\nvalue = [1, 44]'),\n",
       " Text(0.44878957169459965, 0.5952380952380952, 'gini = 0.18\\nsamples = 10\\nvalue = [1, 9]'),\n",
       " Text(0.46368715083798884, 0.5952380952380952, 'gini = 0.0\\nsamples = 35\\nvalue = [0, 35]'),\n",
       " Text(0.478584729981378, 0.6904761904761905, 'x[1424] <= -0.033\\ngini = 0.268\\nsamples = 94\\nvalue = [15, 79]'),\n",
       " Text(0.47113594040968343, 0.6428571428571429, 'gini = 0.0\\nsamples = 15\\nvalue = [15, 0]'),\n",
       " Text(0.4860335195530726, 0.6428571428571429, 'gini = 0.0\\nsamples = 79\\nvalue = [0, 79]'),\n",
       " Text(0.5195530726256983, 0.7857142857142857, 'x[1716] <= -0.034\\ngini = 0.387\\nsamples = 305\\nvalue = [80, 225]'),\n",
       " Text(0.5121042830540037, 0.7380952380952381, 'gini = 0.0\\nsamples = 52\\nvalue = [52, 0]'),\n",
       " Text(0.527001862197393, 0.7380952380952381, 'x[1365] <= -0.025\\ngini = 0.197\\nsamples = 253\\nvalue = [28, 225]'),\n",
       " Text(0.5083798882681564, 0.6904761904761905, 'x[556] <= 0.011\\ngini = 0.011\\nsamples = 177\\nvalue = [1, 176]'),\n",
       " Text(0.5009310986964618, 0.6428571428571429, 'gini = 0.0\\nsamples = 167\\nvalue = [0, 167]'),\n",
       " Text(0.515828677839851, 0.6428571428571429, 'gini = 0.18\\nsamples = 10\\nvalue = [1, 9]'),\n",
       " Text(0.5456238361266295, 0.6904761904761905, 'x[122] <= 0.427\\ngini = 0.458\\nsamples = 76\\nvalue = [27, 49]'),\n",
       " Text(0.5307262569832403, 0.6428571428571429, 'x[497] <= -0.046\\ngini = 0.482\\nsamples = 42\\nvalue = [25, 17]'),\n",
       " Text(0.5232774674115456, 0.5952380952380952, 'x[131] <= 0.206\\ngini = 0.211\\nsamples = 25\\nvalue = [22, 3]'),\n",
       " Text(0.515828677839851, 0.5476190476190477, 'gini = 0.0\\nsamples = 15\\nvalue = [15, 0]'),\n",
       " Text(0.5307262569832403, 0.5476190476190477, 'gini = 0.42\\nsamples = 10\\nvalue = [7, 3]'),\n",
       " Text(0.5381750465549349, 0.5952380952380952, 'gini = 0.291\\nsamples = 17\\nvalue = [3, 14]'),\n",
       " Text(0.5605214152700186, 0.6428571428571429, 'x[0] <= 0.189\\ngini = 0.111\\nsamples = 34\\nvalue = [2, 32]'),\n",
       " Text(0.553072625698324, 0.5952380952380952, 'gini = 0.0\\nsamples = 24\\nvalue = [0, 24]'),\n",
       " Text(0.5679702048417132, 0.5952380952380952, 'gini = 0.32\\nsamples = 10\\nvalue = [2, 8]'),\n",
       " Text(0.6378026070763501, 0.8333333333333334, 'x[912] <= -0.027\\ngini = 0.387\\nsamples = 759\\nvalue = [199, 560]'),\n",
       " Text(0.5828677839851024, 0.7857142857142857, 'x[1305] <= 0.063\\ngini = 0.079\\nsamples = 437\\nvalue = [18, 419]'),\n",
       " Text(0.5754189944134078, 0.7380952380952381, 'gini = 0.0\\nsamples = 10\\nvalue = [10, 0]'),\n",
       " Text(0.590316573556797, 0.7380952380952381, 'x[79] <= -0.05\\ngini = 0.037\\nsamples = 427\\nvalue = [8, 419]'),\n",
       " Text(0.5828677839851024, 0.6904761904761905, 'gini = 0.444\\nsamples = 12\\nvalue = [4, 8]'),\n",
       " Text(0.5977653631284916, 0.6904761904761905, 'x[1005] <= 0.012\\ngini = 0.019\\nsamples = 415\\nvalue = [4, 411]'),\n",
       " Text(0.590316573556797, 0.6428571428571429, 'x[655] <= 0.259\\ngini = 0.005\\nsamples = 401\\nvalue = [1, 400]'),\n",
       " Text(0.5828677839851024, 0.5952380952380952, 'gini = 0.0\\nsamples = 391\\nvalue = [0, 391]'),\n",
       " Text(0.5977653631284916, 0.5952380952380952, 'gini = 0.18\\nsamples = 10\\nvalue = [1, 9]'),\n",
       " Text(0.6052141527001862, 0.6428571428571429, 'gini = 0.337\\nsamples = 14\\nvalue = [3, 11]'),\n",
       " Text(0.6927374301675978, 0.7857142857142857, 'x[956] <= -0.008\\ngini = 0.492\\nsamples = 322\\nvalue = [181, 141]'),\n",
       " Text(0.6610800744878957, 0.7380952380952381, 'x[673] <= -0.656\\ngini = 0.475\\nsamples = 219\\nvalue = [85, 134]'),\n",
       " Text(0.6350093109869647, 0.6904761904761905, 'x[21] <= -0.267\\ngini = 0.442\\nsamples = 88\\nvalue = [59, 29]'),\n",
       " Text(0.6201117318435754, 0.6428571428571429, 'x[330] <= -0.192\\ngini = 0.47\\nsamples = 45\\nvalue = [17, 28]'),\n",
       " Text(0.6126629422718808, 0.5952380952380952, 'gini = 0.0\\nsamples = 13\\nvalue = [13, 0]'),\n",
       " Text(0.62756052141527, 0.5952380952380952, 'x[188] <= -0.377\\ngini = 0.219\\nsamples = 32\\nvalue = [4, 28]'),\n",
       " Text(0.6201117318435754, 0.5476190476190477, 'gini = 0.48\\nsamples = 10\\nvalue = [4, 6]'),\n",
       " Text(0.6350093109869647, 0.5476190476190477, 'gini = 0.0\\nsamples = 22\\nvalue = [0, 22]'),\n",
       " Text(0.6499068901303539, 0.6428571428571429, 'x[32] <= 0.49\\ngini = 0.045\\nsamples = 43\\nvalue = [42, 1]'),\n",
       " Text(0.6424581005586593, 0.5952380952380952, 'gini = 0.0\\nsamples = 33\\nvalue = [33, 0]'),\n",
       " Text(0.6573556797020484, 0.5952380952380952, 'gini = 0.18\\nsamples = 10\\nvalue = [9, 1]'),\n",
       " Text(0.6871508379888268, 0.6904761904761905, 'x[913] <= 0.012\\ngini = 0.318\\nsamples = 131\\nvalue = [26, 105]'),\n",
       " Text(0.6797020484171322, 0.6428571428571429, 'x[380] <= -0.951\\ngini = 0.243\\nsamples = 120\\nvalue = [17, 103]'),\n",
       " Text(0.6722532588454376, 0.5952380952380952, 'gini = 0.463\\nsamples = 11\\nvalue = [7, 4]'),\n",
       " Text(0.6871508379888268, 0.5952380952380952, 'x[196] <= 0.498\\ngini = 0.167\\nsamples = 109\\nvalue = [10, 99]'),\n",
       " Text(0.6797020484171322, 0.5476190476190477, 'x[401] <= 0.375\\ngini = 0.096\\nsamples = 99\\nvalue = [5, 94]'),\n",
       " Text(0.6722532588454376, 0.5, 'x[416] <= 0.899\\ngini = 0.022\\nsamples = 88\\nvalue = [1, 87]'),\n",
       " Text(0.664804469273743, 0.4523809523809524, 'gini = 0.0\\nsamples = 78\\nvalue = [0, 78]'),\n",
       " Text(0.6797020484171322, 0.4523809523809524, 'gini = 0.18\\nsamples = 10\\nvalue = [1, 9]'),\n",
       " Text(0.6871508379888268, 0.5, 'gini = 0.463\\nsamples = 11\\nvalue = [4, 7]'),\n",
       " Text(0.6945996275605214, 0.5476190476190477, 'gini = 0.5\\nsamples = 10\\nvalue = [5, 5]'),\n",
       " Text(0.6945996275605214, 0.6428571428571429, 'gini = 0.298\\nsamples = 11\\nvalue = [9, 2]'),\n",
       " Text(0.7243947858472998, 0.7380952380952381, 'x[1383] <= -0.027\\ngini = 0.127\\nsamples = 103\\nvalue = [96, 7]'),\n",
       " Text(0.7169459962756052, 0.6904761904761905, 'x[457] <= -0.46\\ngini = 0.021\\nsamples = 93\\nvalue = [92, 1]'),\n",
       " Text(0.7094972067039106, 0.6428571428571429, 'gini = 0.18\\nsamples = 10\\nvalue = [9, 1]'),\n",
       " Text(0.7243947858472998, 0.6428571428571429, 'gini = 0.0\\nsamples = 83\\nvalue = [83, 0]'),\n",
       " Text(0.7318435754189944, 0.6904761904761905, 'gini = 0.48\\nsamples = 10\\nvalue = [4, 6]'),\n",
       " Text(0.861266294227188, 0.8809523809523809, 'x[997] <= 0.004\\ngini = 0.256\\nsamples = 3453\\nvalue = [520, 2933]'),\n",
       " Text(0.8119180633147114, 0.8333333333333334, 'x[1758] <= 0.009\\ngini = 0.477\\nsamples = 383\\nvalue = [233, 150]'),\n",
       " Text(0.7802607076350093, 0.7857142857142857, 'x[1072] <= 0.079\\ngini = 0.233\\nsamples = 245\\nvalue = [212, 33]'),\n",
       " Text(0.7616387337057728, 0.7380952380952381, 'x[146] <= 1.07\\ngini = 0.117\\nsamples = 224\\nvalue = [210, 14]'),\n",
       " Text(0.7467411545623837, 0.6904761904761905, 'x[842] <= 0.05\\ngini = 0.021\\nsamples = 189\\nvalue = [187, 2]'),\n",
       " Text(0.7392923649906891, 0.6428571428571429, 'gini = 0.0\\nsamples = 179\\nvalue = [179, 0]'),\n",
       " Text(0.7541899441340782, 0.6428571428571429, 'gini = 0.32\\nsamples = 10\\nvalue = [8, 2]'),\n",
       " Text(0.776536312849162, 0.6904761904761905, 'x[1135] <= 0.031\\ngini = 0.451\\nsamples = 35\\nvalue = [23, 12]'),\n",
       " Text(0.7690875232774674, 0.6428571428571429, 'x[19] <= -0.367\\ngini = 0.087\\nsamples = 22\\nvalue = [21, 1]'),\n",
       " Text(0.7616387337057728, 0.5952380952380952, 'gini = 0.0\\nsamples = 12\\nvalue = [12, 0]'),\n",
       " Text(0.776536312849162, 0.5952380952380952, 'gini = 0.18\\nsamples = 10\\nvalue = [9, 1]'),\n",
       " Text(0.7839851024208566, 0.6428571428571429, 'gini = 0.26\\nsamples = 13\\nvalue = [2, 11]'),\n",
       " Text(0.7988826815642458, 0.7380952380952381, 'x[743] <= -0.192\\ngini = 0.172\\nsamples = 21\\nvalue = [2, 19]'),\n",
       " Text(0.7914338919925512, 0.6904761904761905, 'gini = 0.0\\nsamples = 11\\nvalue = [0, 11]'),\n",
       " Text(0.8063314711359404, 0.6904761904761905, 'gini = 0.32\\nsamples = 10\\nvalue = [2, 8]'),\n",
       " Text(0.8435754189944135, 0.7857142857142857, 'x[1003] <= 0.047\\ngini = 0.258\\nsamples = 138\\nvalue = [21, 117]'),\n",
       " Text(0.8286778398510242, 0.7380952380952381, 'x[200] <= -0.977\\ngini = 0.035\\nsamples = 111\\nvalue = [2, 109]'),\n",
       " Text(0.8212290502793296, 0.6904761904761905, 'gini = 0.32\\nsamples = 10\\nvalue = [2, 8]'),\n",
       " Text(0.8361266294227188, 0.6904761904761905, 'gini = 0.0\\nsamples = 101\\nvalue = [0, 101]'),\n",
       " Text(0.8584729981378026, 0.7380952380952381, 'x[366] <= 0.259\\ngini = 0.417\\nsamples = 27\\nvalue = [19, 8]'),\n",
       " Text(0.851024208566108, 0.6904761904761905, 'gini = 0.42\\nsamples = 10\\nvalue = [3, 7]'),\n",
       " Text(0.8659217877094972, 0.6904761904761905, 'gini = 0.111\\nsamples = 17\\nvalue = [16, 1]'),\n",
       " Text(0.9106145251396648, 0.8333333333333334, 'x[1228] <= -0.067\\ngini = 0.169\\nsamples = 3070\\nvalue = [287, 2783]'),\n",
       " Text(0.8808193668528864, 0.7857142857142857, 'x[1698] <= 0.033\\ngini = 0.294\\nsamples = 145\\nvalue = [119, 26]'),\n",
       " Text(0.8733705772811918, 0.7380952380952381, 'gini = 0.0\\nsamples = 23\\nvalue = [0, 23]'),\n",
       " Text(0.888268156424581, 0.7380952380952381, 'x[596] <= -0.582\\ngini = 0.048\\nsamples = 122\\nvalue = [119, 3]'),\n",
       " Text(0.8808193668528864, 0.6904761904761905, 'gini = 0.0\\nsamples = 112\\nvalue = [112, 0]'),\n",
       " Text(0.8957169459962756, 0.6904761904761905, 'gini = 0.42\\nsamples = 10\\nvalue = [7, 3]'),\n",
       " Text(0.9404096834264432, 0.7857142857142857, 'x[1122] <= -0.082\\ngini = 0.108\\nsamples = 2925\\nvalue = [168, 2757]'),\n",
       " Text(0.9180633147113594, 0.7380952380952381, 'x[1087] <= -0.064\\ngini = 0.2\\nsamples = 62\\nvalue = [55, 7]'),\n",
       " Text(0.9106145251396648, 0.6904761904761905, 'gini = 0.42\\nsamples = 10\\nvalue = [3, 7]'),\n",
       " Text(0.925512104283054, 0.6904761904761905, 'gini = 0.0\\nsamples = 52\\nvalue = [52, 0]'),\n",
       " Text(0.962756052141527, 0.7380952380952381, 'x[1784] <= 0.109\\ngini = 0.076\\nsamples = 2863\\nvalue = [113, 2750]'),\n",
       " Text(0.9404096834264432, 0.6904761904761905, 'x[1438] <= -0.051\\ngini = 0.049\\nsamples = 2803\\nvalue = [71, 2732]'),\n",
       " Text(0.9329608938547486, 0.6428571428571429, 'gini = 0.0\\nsamples = 23\\nvalue = [23, 0]'),\n",
       " Text(0.9478584729981379, 0.6428571428571429, 'x[1402] <= -0.023\\ngini = 0.034\\nsamples = 2780\\nvalue = [48, 2732]'),\n",
       " Text(0.9404096834264432, 0.5952380952380952, 'gini = 0.124\\nsamples = 15\\nvalue = [14, 1]'),\n",
       " Text(0.9553072625698324, 0.5952380952380952, 'x[998] <= -0.027\\ngini = 0.024\\nsamples = 2765\\nvalue = [34, 2731]'),\n",
       " Text(0.9478584729981379, 0.5476190476190477, 'gini = 0.494\\nsamples = 18\\nvalue = [10, 8]'),\n",
       " Text(0.962756052141527, 0.5476190476190477, 'x[864] <= -0.0\\ngini = 0.017\\nsamples = 2747\\nvalue = [24, 2723]'),\n",
       " Text(0.9404096834264432, 0.5, 'x[1401] <= -0.036\\ngini = 0.361\\nsamples = 89\\nvalue = [21, 68]'),\n",
       " Text(0.9329608938547486, 0.4523809523809524, 'gini = 0.0\\nsamples = 52\\nvalue = [0, 52]'),\n",
       " Text(0.9478584729981379, 0.4523809523809524, 'x[666] <= -0.135\\ngini = 0.491\\nsamples = 37\\nvalue = [21, 16]'),\n",
       " Text(0.9404096834264432, 0.40476190476190477, 'gini = 0.0\\nsamples = 10\\nvalue = [0, 10]'),\n",
       " Text(0.9553072625698324, 0.40476190476190477, 'x[318] <= 1.057\\ngini = 0.346\\nsamples = 27\\nvalue = [21, 6]'),\n",
       " Text(0.9478584729981379, 0.35714285714285715, 'gini = 0.497\\nsamples = 13\\nvalue = [7, 6]'),\n",
       " Text(0.962756052141527, 0.35714285714285715, 'gini = 0.0\\nsamples = 14\\nvalue = [14, 0]'),\n",
       " Text(0.9851024208566108, 0.5, 'x[740] <= 1.481\\ngini = 0.002\\nsamples = 2658\\nvalue = [3, 2655]'),\n",
       " Text(0.9776536312849162, 0.4523809523809524, 'x[1050] <= 0.025\\ngini = 0.001\\nsamples = 2647\\nvalue = [1, 2646]'),\n",
       " Text(0.9702048417132216, 0.40476190476190477, 'gini = 0.0\\nsamples = 2637\\nvalue = [0, 2637]'),\n",
       " Text(0.9851024208566108, 0.40476190476190477, 'gini = 0.18\\nsamples = 10\\nvalue = [1, 9]'),\n",
       " Text(0.9925512104283054, 0.4523809523809524, 'gini = 0.298\\nsamples = 11\\nvalue = [2, 9]'),\n",
       " Text(0.9851024208566108, 0.6904761904761905, 'x[1464] <= 0.111\\ngini = 0.42\\nsamples = 60\\nvalue = [42, 18]'),\n",
       " Text(0.9776536312849162, 0.6428571428571429, 'x[877] <= -0.057\\ngini = 0.159\\nsamples = 46\\nvalue = [42, 4]'),\n",
       " Text(0.9702048417132216, 0.5952380952380952, 'gini = 0.48\\nsamples = 10\\nvalue = [6, 4]'),\n",
       " Text(0.9851024208566108, 0.5952380952380952, 'gini = 0.0\\nsamples = 36\\nvalue = [36, 0]'),\n",
       " Text(0.9925512104283054, 0.6428571428571429, 'gini = 0.0\\nsamples = 14\\nvalue = [0, 14]')]"
      ]
     },
     "execution_count": 20,
     "metadata": {},
     "output_type": "execute_result"
    },
    {
     "data": {
      "image/png": "[encoded data removed]",
      "text/plain": [
       "<Figure size 640x480 with 1 Axes>"
      ]
     },
     "metadata": {},
     "output_type": "display_data"
    }
   ],
   "source": [
    "tree.plot_tree(clf)"
   ]
  },
  {
   "cell_type": "code",
   "execution_count": 21,
   "id": "33043df1-76c8-431b-bb40-2b868d0ffa67",
   "metadata": {},
   "outputs": [
    {
     "data": {
      "text/plain": [
       "20"
      ]
     },
     "execution_count": 21,
     "metadata": {},
     "output_type": "execute_result"
    }
   ],
   "source": [
    "tree_depth = clf.tree_.max_depth\n",
    "tree_depth"
   ]
  },
  {
   "cell_type": "code",
   "execution_count": 22,
   "id": "c24802eb-532a-490c-b314-19ea035625b0",
   "metadata": {},
   "outputs": [
    {
     "data": {
      "image/png": "[encoded data removed]",
      "text/plain": [
       "<Figure size 1000x600 with 1 Axes>"
      ]
     },
     "metadata": {},
     "output_type": "display_data"
    }
   ],
   "source": [
    "import numpy as np\n",
    "import matplotlib.pyplot as plt\n",
    "from sklearn.model_selection import validation_curve\n",
    "\n",
    "# Define a range of depths to explore\n",
    "param_range = np.arange(1, 65)\n",
    "\n",
    "# Create a decision tree classifier\n",
    "\n",
    "# Compute validation curve for the decision tree classifier\n",
    "train_scores, valid_scores = validation_curve(\n",
    "    clf, X, y, param_name=\"max_depth\", param_range=param_range,\n",
    "    cv=5, scoring=\"accuracy\", n_jobs=-1)\n",
    "\n",
    "# Calculate mean and standard deviation of training and validation scores\n",
    "train_scores_mean = np.mean(train_scores, axis=1)\n",
    "train_scores_std = np.std(train_scores, axis=1)\n",
    "valid_scores_mean = np.mean(valid_scores, axis=1)\n",
    "valid_scores_std = np.std(valid_scores, axis=1)\n",
    "\n",
    "# Plot validation curve\n",
    "plt.figure(figsize=(10, 6))\n",
    "plt.title(\"Validation Curve with Decision Tree\")\n",
    "plt.xlabel(\"Tree Depth\")\n",
    "plt.ylabel(\"Accuracy\")\n",
    "plt.ylim(0.0, 1.1)\n",
    "lw = 2\n",
    "plt.plot(param_range, train_scores_mean, label=\"Training score\", color=\"darkorange\", lw=lw)\n",
    "plt.fill_between(param_range, train_scores_mean - train_scores_std,\n",
    "                 train_scores_mean + train_scores_std, alpha=0.2,\n",
    "                 color=\"darkorange\", lw=lw)\n",
    "plt.plot(param_range, valid_scores_mean, label=\"Cross-validation score\",\n",
    "             color=\"navy\", lw=lw)\n",
    "plt.fill_between(param_range, valid_scores_mean - valid_scores_std,\n",
    "                 valid_scores_mean + valid_scores_std, alpha=0.2,\n",
    "                 color=\"navy\", lw=lw)\n",
    "plt.legend(loc=\"best\")\n",
    "plt.show()\n"
   ]
  },
  {
   "cell_type": "code",
   "execution_count": 32,
   "id": "54a25a00-5433-43ec-9f5e-cb1554ec75c9",
   "metadata": {},
   "outputs": [
    {
     "name": "stdout",
     "output_type": "stream",
     "text": [
      "[[4791  123]\n",
      " [ 442 2570]]\n",
      "Precision: 0.9543260304493131\n",
      "Recall: 0.853253652058433\n",
      "F1-score: 0.9009640666082385\n",
      "Accuracy: 0.9287156194801918\n"
     ]
    }
   ],
   "source": [
    "clf=tree.DecisionTreeClassifier(random_state=42,max_depth=20,min_samples_leaf=10,max_features=1750,min_samples_split=10)\n",
    "clf.fit(X,y)\n",
    "y_predict = clf.predict(X_test)\n",
    "accuracy_test = accuracy_score(y_test,y_predict )\n",
    "cm= confusion_matrix(y_test, y_predict)\n",
    "print(cm)\n",
    "precision = precision_score(y_test, y_predict )\n",
    "recall = recall_score(y_test, y_predict)\n",
    "f1 = f1_score(y_test, y_predict)\n",
    "accuracy = accuracy_score(y_test, y_predict)\n",
    "print(\"Precision:\", precision)\n",
    "print(\"Recall:\", recall)\n",
    "print(\"F1-score:\", f1)\n",
    "print(\"Accuracy:\", accuracy)"
   ]
  },
  {
   "cell_type": "code",
   "execution_count": 34,
   "id": "0ce334f3-295f-4d4d-a29e-d3c50fc74f5f",
   "metadata": {},
   "outputs": [
    {
     "name": "stdout",
     "output_type": "stream",
     "text": [
      "[[4791  123]\n",
      " [ 442 2570]]\n",
      "Precision: 0.9543260304493131\n",
      "Recall: 0.853253652058433\n",
      "F1-score: 0.9009640666082385\n",
      "Accuracy: 0.9287156194801918\n"
     ]
    }
   ],
   "source": [
    "clf=tree.DecisionTreeClassifier(random_state=42,max_depth=20,min_samples_leaf=10,max_features=1750,min_samples_split=10,min_impurity_decrease=0.00001)\n",
    "clf.fit(X,y)\n",
    "y_predict = clf.predict(X_test)\n",
    "accuracy_test = accuracy_score(y_test,y_predict )\n",
    "cm= confusion_matrix(y_test, y_predict)\n",
    "print(cm)\n",
    "precision = precision_score(y_test, y_predict )\n",
    "recall = recall_score(y_test, y_predict)\n",
    "f1 = f1_score(y_test, y_predict)\n",
    "accuracy = accuracy_score(y_test, y_predict)\n",
    "print(\"Precision:\", precision)\n",
    "print(\"Recall:\", recall)\n",
    "print(\"F1-score:\", f1)\n",
    "print(\"Accuracy:\", accuracy)"
   ]
  },
  {
   "cell_type": "code",
   "execution_count": 37,
   "id": "9d222f3e-59df-41fa-9ba0-49b1b5443b5b",
   "metadata": {},
   "outputs": [
    {
     "name": "stdout",
     "output_type": "stream",
     "text": [
      "[[4786  128]\n",
      " [ 495 2517]]\n",
      "Precision: 0.9516068052930057\n",
      "Recall: 0.8356573705179283\n",
      "F1-score: 0.8898709563372812\n",
      "Accuracy: 0.9213979308604593\n"
     ]
    }
   ],
   "source": [
    "clf=tree.DecisionTreeClassifier(random_state=42,max_depth=20,min_samples_leaf=10,max_features=1700,min_samples_split=10,min_impurity_decrease=0.000052,ccp_alpha=0.00015)\n",
    "clf.fit(X,y)\n",
    "y_predict = clf.predict(X_test)\n",
    "accuracy_test = accuracy_score(y_test,y_predict )\n",
    "cm= confusion_matrix(y_test, y_predict)\n",
    "print(cm)\n",
    "precision = precision_score(y_test, y_predict )\n",
    "recall = recall_score(y_test, y_predict)\n",
    "f1 = f1_score(y_test, y_predict)\n",
    "accuracy = accuracy_score(y_test, y_predict)\n",
    "print(\"Precision:\", precision)\n",
    "print(\"Recall:\", recall)\n",
    "print(\"F1-score:\", f1)\n",
    "print(\"Accuracy:\", accuracy)"
   ]
  },
  {
   "cell_type": "code",
   "execution_count": 39,
   "id": "ffb5e8e2-2cba-4821-90ee-6a071c4d0723",
   "metadata": {},
   "outputs": [
    {
     "name": "stdout",
     "output_type": "stream",
     "text": [
      "[[4786  128]\n",
      " [ 495 2517]]\n",
      "Precision: 0.9516068052930057\n",
      "Recall: 0.8356573705179283\n",
      "F1-score: 0.8898709563372812\n",
      "Accuracy: 0.9213979308604593\n"
     ]
    }
   ],
   "source": [
    "clf=tree.DecisionTreeClassifier(random_state=42,max_depth=20,min_samples_leaf=10,max_features=1700,min_samples_split=10,min_impurity_decrease=0.000052)\n",
    "clf.fit(X,y)\n",
    "y_predict = clf.predict(X_test)\n",
    "accuracy_test = accuracy_score(y_test,y_predict )\n",
    "cm= confusion_matrix(y_test, y_predict)\n",
    "print(cm)\n",
    "precision = precision_score(y_test, y_predict )\n",
    "recall = recall_score(y_test, y_predict)\n",
    "f1 = f1_score(y_test, y_predict)\n",
    "accuracy = accuracy_score(y_test, y_predict)\n",
    "print(\"Precision:\", precision)\n",
    "print(\"Recall:\", recall)\n",
    "print(\"F1-score:\", f1)\n",
    "print(\"Accuracy:\", accuracy)"
   ]
  },
  {
   "cell_type": "code",
   "execution_count": 40,
   "id": "6f611f06-ed7b-4ee6-a3df-795223b677e8",
   "metadata": {},
   "outputs": [
    {
     "name": "stdout",
     "output_type": "stream",
     "text": [
      "[[4810  104]\n",
      " [ 508 2504]]\n",
      "Precision: 0.9601226993865031\n",
      "Recall: 0.8313413014608234\n",
      "F1-score: 0.8911032028469751\n",
      "Accuracy: 0.9227857683573051\n"
     ]
    }
   ],
   "source": [
    "clf=tree.DecisionTreeClassifier(random_state=42,max_depth=20,min_samples_leaf=10,max_features=900,min_samples_split=10,min_impurity_decrease=0.000052)\n",
    "clf.fit(X,y)\n",
    "y_predict = clf.predict(X_test)\n",
    "accuracy_test = accuracy_score(y_test,y_predict )\n",
    "cm= confusion_matrix(y_test, y_predict)\n",
    "print(cm)\n",
    "precision = precision_score(y_test, y_predict )\n",
    "recall = recall_score(y_test, y_predict)\n",
    "f1 = f1_score(y_test, y_predict)\n",
    "accuracy = accuracy_score(y_test, y_predict)\n",
    "print(\"Precision:\", precision)\n",
    "print(\"Recall:\", recall)\n",
    "print(\"F1-score:\", f1)\n",
    "print(\"Accuracy:\", accuracy)"
   ]
  },
  {
   "cell_type": "code",
   "execution_count": 41,
   "id": "22c9db3f-9042-4ada-a633-8ff2bf0be2f6",
   "metadata": {},
   "outputs": [
    {
     "name": "stdout",
     "output_type": "stream",
     "text": [
      "[[4821   93]\n",
      " [ 541 2471]]\n",
      "Precision: 0.9637285491419657\n",
      "Recall: 0.8203851261620186\n",
      "F1-score: 0.8862984218077475\n",
      "Accuracy: 0.9200100933636134\n"
     ]
    }
   ],
   "source": [
    "clf=tree.DecisionTreeClassifier(random_state=42,max_depth=20,min_samples_leaf=5,max_features=1200,min_samples_split=5,min_impurity_decrease=0.000052)\n",
    "clf.fit(X,y)\n",
    "y_predict = clf.predict(X_test)\n",
    "accuracy_test = accuracy_score(y_test,y_predict )\n",
    "cm= confusion_matrix(y_test, y_predict)\n",
    "print(cm)\n",
    "precision = precision_score(y_test, y_predict )\n",
    "recall = recall_score(y_test, y_predict)\n",
    "f1 = f1_score(y_test, y_predict)\n",
    "accuracy = accuracy_score(y_test, y_predict)\n",
    "print(\"Precision:\", precision)\n",
    "print(\"Recall:\", recall)\n",
    "print(\"F1-score:\", f1)\n",
    "print(\"Accuracy:\", accuracy)"
   ]
  },
  {
   "cell_type": "code",
   "execution_count": 43,
   "id": "2f3ad000-f79e-438c-9871-0b823e2e69c6",
   "metadata": {},
   "outputs": [
    {
     "name": "stdout",
     "output_type": "stream",
     "text": [
      "[[4791  123]\n",
      " [ 442 2570]]\n",
      "Precision: 0.9543260304493131\n",
      "Recall: 0.853253652058433\n",
      "F1-score: 0.9009640666082385\n",
      "Accuracy: 0.9287156194801918\n"
     ]
    }
   ],
   "source": [
    "clf=tree.DecisionTreeClassifier(random_state=42,max_depth=20,min_samples_leaf=10,max_features=1750,min_samples_split=10,min_impurity_decrease=0.00001)\n",
    "clf.fit(X,y)\n",
    "y_predict = clf.predict(X_test)\n",
    "accuracy_test = accuracy_score(y_test,y_predict )\n",
    "cm= confusion_matrix(y_test, y_predict)\n",
    "print(cm)\n",
    "precision = precision_score(y_test, y_predict )\n",
    "recall = recall_score(y_test, y_predict)\n",
    "f1 = f1_score(y_test, y_predict)\n",
    "accuracy = accuracy_score(y_test, y_predict)\n",
    "print(\"Precision:\", precision)\n",
    "print(\"Recall:\", recall)\n",
    "print(\"F1-score:\", f1)\n",
    "print(\"Accuracy:\", accuracy)"
   ]
  },
  {
   "cell_type": "code",
   "execution_count": 44,
   "id": "3aa7456a-dd41-4ff9-93a7-779ce5ef2c26",
   "metadata": {},
   "outputs": [
    {
     "name": "stdout",
     "output_type": "stream",
     "text": [
      "[[4632  282]\n",
      " [ 975 2037]]\n",
      "Precision: 0.8783958602846055\n",
      "Recall: 0.6762948207171314\n",
      "F1-score: 0.7642093415869443\n",
      "Accuracy: 0.8414080242240727\n"
     ]
    }
   ],
   "source": [
    "clf=tree.DecisionTreeClassifier(random_state=42,max_depth=20,min_samples_leaf=10,max_features=1750,min_samples_split=10,min_impurity_decrease=0.01)\n",
    "clf.fit(X,y)\n",
    "y_predict = clf.predict(X_test)\n",
    "accuracy_test = accuracy_score(y_test,y_predict )\n",
    "cm= confusion_matrix(y_test, y_predict)\n",
    "print(cm)\n",
    "precision = precision_score(y_test, y_predict )\n",
    "recall = recall_score(y_test, y_predict)\n",
    "f1 = f1_score(y_test, y_predict)\n",
    "accuracy = accuracy_score(y_test, y_predict)\n",
    "print(\"Precision:\", precision)\n",
    "print(\"Recall:\", recall)\n",
    "print(\"F1-score:\", f1)\n",
    "print(\"Accuracy:\", accuracy)"
   ]
  },
  {
   "cell_type": "code",
   "execution_count": 45,
   "id": "4ce2fc3e-b6fc-4391-ba92-2871bbac78e6",
   "metadata": {},
   "outputs": [
    {
     "name": "stdout",
     "output_type": "stream",
     "text": [
      "[[4781  133]\n",
      " [ 463 2549]]\n",
      "Precision: 0.9504101416853095\n",
      "Recall: 0.8462815405046481\n",
      "F1-score: 0.8953284158763611\n",
      "Accuracy: 0.9248044410799899\n"
     ]
    }
   ],
   "source": [
    "clf=tree.DecisionTreeClassifier(random_state=42,max_depth=20,min_samples_leaf=10,max_features=1750,min_samples_split=10,min_impurity_decrease=0.0001)\n",
    "clf.fit(X,y)\n",
    "y_predict = clf.predict(X_test)\n",
    "accuracy_test = accuracy_score(y_test,y_predict )\n",
    "cm= confusion_matrix(y_test, y_predict)\n",
    "print(cm)\n",
    "precision = precision_score(y_test, y_predict )\n",
    "recall = recall_score(y_test, y_predict)\n",
    "f1 = f1_score(y_test, y_predict)\n",
    "accuracy = accuracy_score(y_test, y_predict)\n",
    "print(\"Precision:\", precision)\n",
    "print(\"Recall:\", recall)\n",
    "print(\"F1-score:\", f1)\n",
    "print(\"Accuracy:\", accuracy)"
   ]
  },
  {
   "cell_type": "code",
   "execution_count": 46,
   "id": "b853d98b-99d6-4a6a-a9b2-b2cb14124c3e",
   "metadata": {},
   "outputs": [
    {
     "name": "stdout",
     "output_type": "stream",
     "text": [
      "[[4691  223]\n",
      " [ 476 2536]]\n",
      "Precision: 0.9191736136281261\n",
      "Recall: 0.8419654714475432\n",
      "F1-score: 0.8788771443424017\n",
      "Accuracy: 0.9118092354277063\n"
     ]
    }
   ],
   "source": [
    "clf=tree.DecisionTreeClassifier(random_state=42,max_depth=20,min_samples_leaf=10,max_features=1750,min_samples_split=10,class_weight={0:1,1:1.74})\n",
    "clf.fit(X,y)\n",
    "y_predict = clf.predict(X_test)\n",
    "accuracy_test = accuracy_score(y_test,y_predict )\n",
    "cm= confusion_matrix(y_test, y_predict)\n",
    "print(cm)\n",
    "precision = precision_score(y_test, y_predict )\n",
    "recall = recall_score(y_test, y_predict)\n",
    "f1 = f1_score(y_test, y_predict)\n",
    "accuracy = accuracy_score(y_test, y_predict)\n",
    "print(\"Precision:\", precision)\n",
    "print(\"Recall:\", recall)\n",
    "print(\"F1-score:\", f1)\n",
    "print(\"Accuracy:\", accuracy)"
   ]
  },
  {
   "cell_type": "code",
   "execution_count": 47,
   "id": "26b69f93-0bc1-415b-9c45-652a0dd294ca",
   "metadata": {},
   "outputs": [
    {
     "name": "stdout",
     "output_type": "stream",
     "text": [
      "[[4674  240]\n",
      " [ 463 2549]]\n",
      "Precision: 0.9139476514879885\n",
      "Recall: 0.8462815405046481\n",
      "F1-score: 0.878813997586623\n",
      "Accuracy: 0.9113045672470351\n"
     ]
    }
   ],
   "source": [
    "clf=tree.DecisionTreeClassifier(random_state=42,min_samples_leaf=10,max_features=1750,min_samples_split=10,class_weight={0:1,1:1.74})\n",
    "clf.fit(X,y)\n",
    "y_predict = clf.predict(X_test)\n",
    "accuracy_test = accuracy_score(y_test,y_predict )\n",
    "cm= confusion_matrix(y_test, y_predict)\n",
    "print(cm)\n",
    "precision = precision_score(y_test, y_predict )\n",
    "recall = recall_score(y_test, y_predict)\n",
    "f1 = f1_score(y_test, y_predict)\n",
    "accuracy = accuracy_score(y_test, y_predict)\n",
    "print(\"Precision:\", precision)\n",
    "print(\"Recall:\", recall)\n",
    "print(\"F1-score:\", f1)\n",
    "print(\"Accuracy:\", accuracy)"
   ]
  },
  {
   "cell_type": "code",
   "execution_count": 48,
   "id": "7169d15b-bcd7-4652-aa04-42ddbe214861",
   "metadata": {},
   "outputs": [
    {
     "name": "stdout",
     "output_type": "stream",
     "text": [
      "[[4706  208]\n",
      " [ 475 2537]]\n",
      "Precision: 0.9242258652094718\n",
      "Recall: 0.8422974767596282\n",
      "F1-score: 0.8813618203925656\n",
      "Accuracy: 0.9138279081503912\n"
     ]
    }
   ],
   "source": [
    "clf=tree.DecisionTreeClassifier(random_state=42,min_samples_leaf=10,max_features=1750,min_samples_split=10,class_weight='balanced')\n",
    "clf.fit(X,y)\n",
    "y_predict = clf.predict(X_test)\n",
    "accuracy_test = accuracy_score(y_test,y_predict )\n",
    "cm= confusion_matrix(y_test, y_predict)\n",
    "print(cm)\n",
    "precision = precision_score(y_test, y_predict )\n",
    "recall = recall_score(y_test, y_predict)\n",
    "f1 = f1_score(y_test, y_predict)\n",
    "accuracy = accuracy_score(y_test, y_predict)\n",
    "print(\"Precision:\", precision)\n",
    "print(\"Recall:\", recall)\n",
    "print(\"F1-score:\", f1)\n",
    "print(\"Accuracy:\", accuracy)"
   ]
  },
  {
   "cell_type": "code",
   "execution_count": 49,
   "id": "34550789-5d0f-46c6-b3a6-c9f3d437b06e",
   "metadata": {},
   "outputs": [
    {
     "name": "stdout",
     "output_type": "stream",
     "text": [
      "[[4775  139]\n",
      " [ 609 2403]]\n",
      "Precision: 0.9453186467348544\n",
      "Recall: 0.797808764940239\n",
      "F1-score: 0.8653222902412675\n",
      "Accuracy: 0.905627050214484\n"
     ]
    }
   ],
   "source": [
    "clf=tree.DecisionTreeClassifier(random_state=42,max_features=1700,class_weight='balanced')\n",
    "clf.fit(X,y)\n",
    "y_predict = clf.predict(X_test)\n",
    "accuracy_test = accuracy_score(y_test,y_predict )\n",
    "cm= confusion_matrix(y_test, y_predict)\n",
    "print(cm)\n",
    "precision = precision_score(y_test, y_predict )\n",
    "recall = recall_score(y_test, y_predict)\n",
    "f1 = f1_score(y_test, y_predict)\n",
    "accuracy = accuracy_score(y_test, y_predict)\n",
    "print(\"Precision:\", precision)\n",
    "print(\"Recall:\", recall)\n",
    "print(\"F1-score:\", f1)\n",
    "print(\"Accuracy:\", accuracy)"
   ]
  },
  {
   "cell_type": "code",
   "execution_count": 50,
   "id": "a0029f28-6626-4577-b0d0-29bbee5b8437",
   "metadata": {},
   "outputs": [
    {
     "name": "stdout",
     "output_type": "stream",
     "text": [
      "[[4706  208]\n",
      " [ 475 2537]]\n",
      "Precision: 0.9242258652094718\n",
      "Recall: 0.8422974767596282\n",
      "F1-score: 0.8813618203925656\n",
      "Accuracy: 0.9138279081503912\n"
     ]
    }
   ],
   "source": [
    "clf=tree.DecisionTreeClassifier(random_state=42,min_samples_leaf=10,max_features=1750,min_samples_split=5,class_weight='balanced')\n",
    "clf.fit(X,y)\n",
    "y_predict = clf.predict(X_test)\n",
    "accuracy_test = accuracy_score(y_test,y_predict )\n",
    "cm= confusion_matrix(y_test, y_predict)\n",
    "print(cm)\n",
    "precision = precision_score(y_test, y_predict )\n",
    "recall = recall_score(y_test, y_predict)\n",
    "f1 = f1_score(y_test, y_predict)\n",
    "accuracy = accuracy_score(y_test, y_predict)\n",
    "print(\"Precision:\", precision)\n",
    "print(\"Recall:\", recall)\n",
    "print(\"F1-score:\", f1)\n",
    "print(\"Accuracy:\", accuracy)"
   ]
  },
  {
   "cell_type": "code",
   "execution_count": 51,
   "id": "fc21b291-7abd-403a-9d9b-422638d88784",
   "metadata": {},
   "outputs": [
    {
     "name": "stdout",
     "output_type": "stream",
     "text": [
      "[[4681  233]\n",
      " [ 430 2582]]\n",
      "Precision: 0.9172291296625222\n",
      "Recall: 0.8572377158034529\n",
      "F1-score: 0.8862193238373091\n",
      "Accuracy: 0.9163512490537472\n"
     ]
    }
   ],
   "source": [
    "clf=tree.DecisionTreeClassifier(random_state=42,min_samples_leaf=5,max_features=1750,min_samples_split=5,class_weight='balanced')\n",
    "clf.fit(X,y)\n",
    "y_predict = clf.predict(X_test)\n",
    "accuracy_test = accuracy_score(y_test,y_predict )\n",
    "cm= confusion_matrix(y_test, y_predict)\n",
    "print(cm)\n",
    "precision = precision_score(y_test, y_predict )\n",
    "recall = recall_score(y_test, y_predict)\n",
    "f1 = f1_score(y_test, y_predict)\n",
    "accuracy = accuracy_score(y_test, y_predict)\n",
    "print(\"Precision:\", precision)\n",
    "print(\"Recall:\", recall)\n",
    "print(\"F1-score:\", f1)\n",
    "print(\"Accuracy:\", accuracy)"
   ]
  },
  {
   "cell_type": "code",
   "execution_count": 52,
   "id": "c71b64fe-f796-4ed5-99a7-70a0f9b7e47f",
   "metadata": {},
   "outputs": [
    {
     "name": "stdout",
     "output_type": "stream",
     "text": [
      "[[4760  154]\n",
      " [ 540 2472]]\n",
      "Precision: 0.9413556740289414\n",
      "Recall: 0.8207171314741036\n",
      "F1-score: 0.8769067045051437\n",
      "Accuracy: 0.9124400706535453\n"
     ]
    }
   ],
   "source": [
    "clf=tree.DecisionTreeClassifier(random_state=42,max_features=1750,class_weight='balanced')\n",
    "clf.fit(X,y)\n",
    "y_predict = clf.predict(X_test)\n",
    "accuracy_test = accuracy_score(y_test,y_predict )\n",
    "cm= confusion_matrix(y_test, y_predict)\n",
    "print(cm)\n",
    "precision = precision_score(y_test, y_predict )\n",
    "recall = recall_score(y_test, y_predict)\n",
    "f1 = f1_score(y_test, y_predict)\n",
    "accuracy = accuracy_score(y_test, y_predict)\n",
    "print(\"Precision:\", precision)\n",
    "print(\"Recall:\", recall)\n",
    "print(\"F1-score:\", f1)\n",
    "print(\"Accuracy:\", accuracy)"
   ]
  },
  {
   "cell_type": "code",
   "execution_count": 53,
   "id": "79b18687-138c-4a83-9f2d-7046868451d3",
   "metadata": {},
   "outputs": [
    {
     "name": "stdout",
     "output_type": "stream",
     "text": [
      "[[4700  214]\n",
      " [ 476 2536]]\n",
      "Precision: 0.9221818181818182\n",
      "Recall: 0.8419654714475432\n",
      "F1-score: 0.8802499132245749\n",
      "Accuracy: 0.9129447388342165\n"
     ]
    }
   ],
   "source": [
    "clf=tree.DecisionTreeClassifier(random_state=42,min_samples_leaf=5,max_features=1500,min_samples_split=5,class_weight='balanced')\n",
    "clf.fit(X,y)\n",
    "y_predict = clf.predict(X_test)\n",
    "accuracy_test = accuracy_score(y_test,y_predict )\n",
    "cm= confusion_matrix(y_test, y_predict)\n",
    "print(cm)\n",
    "precision = precision_score(y_test, y_predict )\n",
    "recall = recall_score(y_test, y_predict)\n",
    "f1 = f1_score(y_test, y_predict)\n",
    "accuracy = accuracy_score(y_test, y_predict)\n",
    "print(\"Precision:\", precision)\n",
    "print(\"Recall:\", recall)\n",
    "print(\"F1-score:\", f1)\n",
    "print(\"Accuracy:\", accuracy)"
   ]
  },
  {
   "cell_type": "code",
   "execution_count": 54,
   "id": "0c16d1e2-eac4-4acd-b69f-e1a139228070",
   "metadata": {},
   "outputs": [
    {
     "name": "stdout",
     "output_type": "stream",
     "text": [
      "[[4695  219]\n",
      " [ 478 2534]]\n",
      "Precision: 0.9204504177261169\n",
      "Recall: 0.8413014608233732\n",
      "F1-score: 0.8790980052038161\n",
      "Accuracy: 0.9120615695180418\n"
     ]
    }
   ],
   "source": [
    "clf=tree.DecisionTreeClassifier(random_state=42,min_samples_leaf=5,max_features=1500,min_samples_split=5,class_weight='balanced',max_depth=20)\n",
    "clf.fit(X,y)\n",
    "y_predict = clf.predict(X_test)\n",
    "accuracy_test = accuracy_score(y_test,y_predict )\n",
    "cm= confusion_matrix(y_test, y_predict)\n",
    "print(cm)\n",
    "precision = precision_score(y_test, y_predict )\n",
    "recall = recall_score(y_test, y_predict)\n",
    "f1 = f1_score(y_test, y_predict)\n",
    "accuracy = accuracy_score(y_test, y_predict)\n",
    "print(\"Precision:\", precision)\n",
    "print(\"Recall:\", recall)\n",
    "print(\"F1-score:\", f1)\n",
    "print(\"Accuracy:\", accuracy)"
   ]
  },
  {
   "cell_type": "code",
   "execution_count": 55,
   "id": "c44e4d55-8950-433b-b30c-c15c91e1efa1",
   "metadata": {},
   "outputs": [
    {
     "name": "stdout",
     "output_type": "stream",
     "text": [
      "[[4709  205]\n",
      " [ 494 2518]]\n",
      "Precision: 0.9247153874403232\n",
      "Recall: 0.8359893758300133\n",
      "F1-score: 0.8781168265039233\n",
      "Accuracy: 0.9118092354277063\n"
     ]
    }
   ],
   "source": [
    "clf=tree.DecisionTreeClassifier(random_state=42,min_samples_leaf=5,max_features=1750,min_samples_split=5,class_weight='balanced',max_depth=20)\n",
    "clf.fit(X,y)\n",
    "y_predict = clf.predict(X_test)\n",
    "accuracy_test = accuracy_score(y_test,y_predict )\n",
    "cm= confusion_matrix(y_test, y_predict)\n",
    "print(cm)\n",
    "precision = precision_score(y_test, y_predict )\n",
    "recall = recall_score(y_test, y_predict)\n",
    "f1 = f1_score(y_test, y_predict)\n",
    "accuracy = accuracy_score(y_test, y_predict)\n",
    "print(\"Precision:\", precision)\n",
    "print(\"Recall:\", recall)\n",
    "print(\"F1-score:\", f1)\n",
    "print(\"Accuracy:\", accuracy)"
   ]
  },
  {
   "cell_type": "code",
   "execution_count": 56,
   "id": "fba389da-3243-40a6-9177-acf053a9aa1d",
   "metadata": {},
   "outputs": [
    {
     "name": "stdout",
     "output_type": "stream",
     "text": [
      "[[4681  233]\n",
      " [ 430 2582]]\n",
      "Precision: 0.9172291296625222\n",
      "Recall: 0.8572377158034529\n",
      "F1-score: 0.8862193238373091\n",
      "Accuracy: 0.9163512490537472\n"
     ]
    }
   ],
   "source": [
    "clf=tree.DecisionTreeClassifier(random_state=42,min_samples_leaf=5,max_features=1750,min_samples_split=5,class_weight='balanced',)\n",
    "clf.fit(X,y)\n",
    "y_predict = clf.predict(X_test)\n",
    "accuracy_test = accuracy_score(y_test,y_predict )\n",
    "cm= confusion_matrix(y_test, y_predict)\n",
    "print(cm)\n",
    "precision = precision_score(y_test, y_predict )\n",
    "recall = recall_score(y_test, y_predict)\n",
    "f1 = f1_score(y_test, y_predict)\n",
    "accuracy = accuracy_score(y_test, y_predict)\n",
    "print(\"Precision:\", precision)\n",
    "print(\"Recall:\", recall)\n",
    "print(\"F1-score:\", f1)\n",
    "print(\"Accuracy:\", accuracy)"
   ]
  },
  {
   "cell_type": "code",
   "execution_count": 60,
   "id": "a30d2b2a-6f1f-444f-96f7-4c4d47b8a974",
   "metadata": {},
   "outputs": [
    {
     "name": "stdout",
     "output_type": "stream",
     "text": [
      "[[4601  313]\n",
      " [ 493 2519]]\n",
      "Precision: 0.8894774011299436\n",
      "Recall: 0.8363213811420983\n",
      "F1-score: 0.8620807665982204\n",
      "Accuracy: 0.8983093615947515\n"
     ]
    }
   ],
   "source": [
    "clf=tree.DecisionTreeClassifier(random_state=42,min_samples_leaf=5,max_features=1750,min_samples_split=5,class_weight='balanced',min_weight_fraction_leaf=0.005)\n",
    "clf.fit(X,y)\n",
    "y_predict = clf.predict(X_test)\n",
    "accuracy_test = accuracy_score(y_test,y_predict )\n",
    "cm= confusion_matrix(y_test, y_predict)\n",
    "print(cm)\n",
    "precision = precision_score(y_test, y_predict )\n",
    "recall = recall_score(y_test, y_predict)\n",
    "f1 = f1_score(y_test, y_predict)\n",
    "accuracy = accuracy_score(y_test, y_predict)\n",
    "print(\"Precision:\", precision)\n",
    "print(\"Recall:\", recall)\n",
    "print(\"F1-score:\", f1)\n",
    "print(\"Accuracy:\", accuracy)"
   ]
  },
  {
   "cell_type": "code",
   "execution_count": 63,
   "id": "464474c5-a3ba-4c0d-8e6e-f80ab8699092",
   "metadata": {},
   "outputs": [
    {
     "name": "stdout",
     "output_type": "stream",
     "text": [
      "[[4681  233]\n",
      " [ 430 2582]]\n",
      "Precision: 0.9172291296625222\n",
      "Recall: 0.8572377158034529\n",
      "F1-score: 0.8862193238373091\n",
      "Accuracy: 0.9163512490537472\n"
     ]
    }
   ],
   "source": [
    "clf=tree.DecisionTreeClassifier(random_state=42,min_samples_leaf=5,max_features=1750,min_samples_split=5,class_weight='balanced',ccp_alpha=0.000052)\n",
    "clf.fit(X,y)\n",
    "y_predict = clf.predict(X_test)\n",
    "accuracy_test = accuracy_score(y_test,y_predict )\n",
    "cm= confusion_matrix(y_test, y_predict)\n",
    "print(cm)\n",
    "precision = precision_score(y_test, y_predict )\n",
    "recall = recall_score(y_test, y_predict)\n",
    "f1 = f1_score(y_test, y_predict)\n",
    "accuracy = accuracy_score(y_test, y_predict)\n",
    "print(\"Precision:\", precision)\n",
    "print(\"Recall:\", recall)\n",
    "print(\"F1-score:\", f1)\n",
    "print(\"Accuracy:\", accuracy)"
   ]
  },
  {
   "cell_type": "code",
   "execution_count": 64,
   "id": "4ad2dcfd-a2a5-471f-95a0-3c3fdbf92354",
   "metadata": {},
   "outputs": [
    {
     "name": "stdout",
     "output_type": "stream",
     "text": [
      "[[4724  190]\n",
      " [ 494 2518]]\n",
      "Precision: 0.9298375184638109\n",
      "Recall: 0.8359893758300133\n",
      "F1-score: 0.8804195804195803\n",
      "Accuracy: 0.9137017411052233\n"
     ]
    }
   ],
   "source": [
    "clf=tree.DecisionTreeClassifier(random_state=42,min_samples_leaf=5,max_features=1750,min_samples_split=5,class_weight={0:1,1:2},ccp_alpha=0.000052)\n",
    "clf.fit(X,y)\n",
    "y_predict = clf.predict(X_test)\n",
    "accuracy_test = accuracy_score(y_test,y_predict )\n",
    "cm= confusion_matrix(y_test, y_predict)\n",
    "print(cm)\n",
    "precision = precision_score(y_test, y_predict )\n",
    "recall = recall_score(y_test, y_predict)\n",
    "f1 = f1_score(y_test, y_predict)\n",
    "accuracy = accuracy_score(y_test, y_predict)\n",
    "print(\"Precision:\", precision)\n",
    "print(\"Recall:\", recall)\n",
    "print(\"F1-score:\", f1)\n",
    "print(\"Accuracy:\", accuracy)"
   ]
  },
  {
   "cell_type": "code",
   "execution_count": null,
   "id": "7d731e1c-0373-4e34-b52b-03c0cf95ab1b",
   "metadata": {},
   "outputs": [],
   "source": []
  }
 ],
 "metadata": {
  "kernelspec": {
   "display_name": "Python 3 (ipykernel)",
   "language": "python",
   "name": "python3"
  },
  "language_info": {
   "codemirror_mode": {
    "name": "ipython",
    "version": 3
   },
   "file_extension": ".py",
   "mimetype": "text/x-python",
   "name": "python",
   "nbconvert_exporter": "python",
   "pygments_lexer": "ipython3",
   "version": "3.11.5"
  }
 },
 "nbformat": 4,
 "nbformat_minor": 5
}
