{
 "cells": [
  {
   "cell_type": "code",
   "execution_count": 15,
   "id": "fe324939",
   "metadata": {},
   "outputs": [],
   "source": [
    "import pandas as pd\n",
    "import seaborn as sns\n",
    "from sklearn.model_selection import train_test_split\n",
    "from sklearn.svm import SVC\n",
    "from sklearn.preprocessing import StandardScaler\n",
    "from sklearn.metrics import accuracy_score, classification_report\n",
    "from sklearn import tree\n",
    "import numpy as np\n",
    "import matplotlib.pyplot as plt\n",
    "from sklearn.datasets import make_classification\n",
    "from sklearn.decomposition import PCA\n",
    "from mlxtend.plotting import plot_decision_regions\n",
    "from sklearn.metrics import confusion_matrix\n",
    "import matplotlib.pyplot as plt\n",
    "from sklearn.metrics import precision_score, recall_score, f1_score, accuracy_score"
   ]
  },
  {
   "cell_type": "code",
   "execution_count": 16,
   "id": "b8c897c3",
   "metadata": {},
   "outputs": [],
   "source": [
    "df_drug=pd.read_csv('DTA/UniqueDrug_CBF_Train.csv')\n",
    "df_pro=pd.read_csv(\"DTA/UniqueProt_PBF_Train.csv\")\n",
    "df_inter=pd.read_csv(\"DTA/InteractionsMapping_Train (2).csv\")\n",
    "df_drug_test=pd.read_csv('DTA/UniqueDrug_CBF_Test.csv')\n",
    "df_pro_test=pd.read_csv(\"DTA/UniqueProt_PBF_Test.csv\")\n",
    "df_inter_test=pd.read_csv(\"DTA/InteractionsMapping_Test (2).csv\")"
   ]
  },
  {
   "cell_type": "code",
   "execution_count": 17,
   "id": "7ec43d10",
   "metadata": {},
   "outputs": [
    {
     "data": {
      "text/html": [
       "<div>\n",
       "<style scoped>\n",
       "    .dataframe tbody tr th:only-of-type {\n",
       "        vertical-align: middle;\n",
       "    }\n",
       "\n",
       "    .dataframe tbody tr th {\n",
       "        vertical-align: top;\n",
       "    }\n",
       "\n",
       "    .dataframe thead th {\n",
       "        text-align: right;\n",
       "    }\n",
       "</style>\n",
       "<table border=\"1\" class=\"dataframe\">\n",
       "  <thead>\n",
       "    <tr style=\"text-align: right;\">\n",
       "      <th></th>\n",
       "      <th>Drug_ID</th>\n",
       "      <th>SMILES</th>\n",
       "      <th>CBF1</th>\n",
       "      <th>CBF2</th>\n",
       "      <th>CBF3</th>\n",
       "      <th>CBF4</th>\n",
       "      <th>CBF5</th>\n",
       "      <th>CBF6</th>\n",
       "      <th>CBF7</th>\n",
       "      <th>CBF8</th>\n",
       "      <th>...</th>\n",
       "      <th>CBF759</th>\n",
       "      <th>CBF760</th>\n",
       "      <th>CBF761</th>\n",
       "      <th>CBF762</th>\n",
       "      <th>CBF763</th>\n",
       "      <th>CBF764</th>\n",
       "      <th>CBF765</th>\n",
       "      <th>CBF766</th>\n",
       "      <th>CBF767</th>\n",
       "      <th>CBF768</th>\n",
       "    </tr>\n",
       "  </thead>\n",
       "  <tbody>\n",
       "    <tr>\n",
       "      <th>0</th>\n",
       "      <td>D00332</td>\n",
       "      <td>C1CCC(CC1)(CC(=O)O)CN</td>\n",
       "      <td>0.037544</td>\n",
       "      <td>-0.099144</td>\n",
       "      <td>0.531602</td>\n",
       "      <td>-1.092002</td>\n",
       "      <td>0.138534</td>\n",
       "      <td>-1.023876</td>\n",
       "      <td>0.052266</td>\n",
       "      <td>0.229308</td>\n",
       "      <td>...</td>\n",
       "      <td>-0.237594</td>\n",
       "      <td>0.063648</td>\n",
       "      <td>-0.361055</td>\n",
       "      <td>-0.789500</td>\n",
       "      <td>-0.465886</td>\n",
       "      <td>-0.529316</td>\n",
       "      <td>-0.698997</td>\n",
       "      <td>-0.952023</td>\n",
       "      <td>0.655639</td>\n",
       "      <td>0.239113</td>\n",
       "    </tr>\n",
       "    <tr>\n",
       "      <th>1</th>\n",
       "      <td>ZINC27191322</td>\n",
       "      <td>C1=C(C(=O)NC(=O)N1CC(C(=O)O)N)[N+](=O)[O-]</td>\n",
       "      <td>-0.258293</td>\n",
       "      <td>0.238235</td>\n",
       "      <td>-0.223422</td>\n",
       "      <td>0.067166</td>\n",
       "      <td>0.067607</td>\n",
       "      <td>-0.600219</td>\n",
       "      <td>-0.459803</td>\n",
       "      <td>0.028299</td>\n",
       "      <td>...</td>\n",
       "      <td>0.098411</td>\n",
       "      <td>0.609853</td>\n",
       "      <td>-0.267673</td>\n",
       "      <td>-0.212289</td>\n",
       "      <td>-0.063081</td>\n",
       "      <td>0.234073</td>\n",
       "      <td>-0.327776</td>\n",
       "      <td>-0.777139</td>\n",
       "      <td>-0.068785</td>\n",
       "      <td>0.186652</td>\n",
       "    </tr>\n",
       "    <tr>\n",
       "      <th>2</th>\n",
       "      <td>ZINC96142463</td>\n",
       "      <td>CCCC(=O)C1=C(SC(C1=O)(C)C=C(C)C=C)O</td>\n",
       "      <td>0.321486</td>\n",
       "      <td>0.002419</td>\n",
       "      <td>0.250102</td>\n",
       "      <td>-0.492102</td>\n",
       "      <td>0.697824</td>\n",
       "      <td>-0.383989</td>\n",
       "      <td>-0.253627</td>\n",
       "      <td>-0.136740</td>\n",
       "      <td>...</td>\n",
       "      <td>-0.141038</td>\n",
       "      <td>0.050899</td>\n",
       "      <td>-0.037386</td>\n",
       "      <td>0.040839</td>\n",
       "      <td>-0.630284</td>\n",
       "      <td>0.954118</td>\n",
       "      <td>0.025331</td>\n",
       "      <td>-0.314066</td>\n",
       "      <td>-0.411639</td>\n",
       "      <td>0.784826</td>\n",
       "    </tr>\n",
       "    <tr>\n",
       "      <th>3</th>\n",
       "      <td>ZINC13809235</td>\n",
       "      <td>CCCC1N=C(N=C(N1C2=CC=C(C=C2)C)N)N</td>\n",
       "      <td>0.345021</td>\n",
       "      <td>0.096738</td>\n",
       "      <td>0.557861</td>\n",
       "      <td>-0.297296</td>\n",
       "      <td>0.896446</td>\n",
       "      <td>-0.032985</td>\n",
       "      <td>-0.270661</td>\n",
       "      <td>-0.065642</td>\n",
       "      <td>...</td>\n",
       "      <td>0.236711</td>\n",
       "      <td>0.737370</td>\n",
       "      <td>-0.518561</td>\n",
       "      <td>0.511849</td>\n",
       "      <td>-0.820826</td>\n",
       "      <td>1.201285</td>\n",
       "      <td>0.370854</td>\n",
       "      <td>-0.434524</td>\n",
       "      <td>-0.433207</td>\n",
       "      <td>0.910684</td>\n",
       "    </tr>\n",
       "    <tr>\n",
       "      <th>4</th>\n",
       "      <td>ZINC26475560</td>\n",
       "      <td>CC(C)N1CCC(C2=C1C=CC(=C2)C#CC3=CC=C(C=C3)C(=O)...</td>\n",
       "      <td>0.621289</td>\n",
       "      <td>-0.243912</td>\n",
       "      <td>0.133150</td>\n",
       "      <td>-0.270405</td>\n",
       "      <td>0.884132</td>\n",
       "      <td>-0.411581</td>\n",
       "      <td>-0.052357</td>\n",
       "      <td>-0.015780</td>\n",
       "      <td>...</td>\n",
       "      <td>0.080137</td>\n",
       "      <td>0.141621</td>\n",
       "      <td>-0.015267</td>\n",
       "      <td>-0.466190</td>\n",
       "      <td>-0.924487</td>\n",
       "      <td>0.557753</td>\n",
       "      <td>-0.239291</td>\n",
       "      <td>-0.065333</td>\n",
       "      <td>-0.234828</td>\n",
       "      <td>0.338684</td>\n",
       "    </tr>\n",
       "  </tbody>\n",
       "</table>\n",
       "<p>5 rows × 770 columns</p>\n",
       "</div>"
      ],
      "text/plain": [
       "        Drug_ID                                             SMILES      CBF1  \\\n",
       "0        D00332                              C1CCC(CC1)(CC(=O)O)CN  0.037544   \n",
       "1  ZINC27191322         C1=C(C(=O)NC(=O)N1CC(C(=O)O)N)[N+](=O)[O-] -0.258293   \n",
       "2  ZINC96142463                CCCC(=O)C1=C(SC(C1=O)(C)C=C(C)C=C)O  0.321486   \n",
       "3  ZINC13809235                  CCCC1N=C(N=C(N1C2=CC=C(C=C2)C)N)N  0.345021   \n",
       "4  ZINC26475560  CC(C)N1CCC(C2=C1C=CC(=C2)C#CC3=CC=C(C=C3)C(=O)...  0.621289   \n",
       "\n",
       "       CBF2      CBF3      CBF4      CBF5      CBF6      CBF7      CBF8  ...  \\\n",
       "0 -0.099144  0.531602 -1.092002  0.138534 -1.023876  0.052266  0.229308  ...   \n",
       "1  0.238235 -0.223422  0.067166  0.067607 -0.600219 -0.459803  0.028299  ...   \n",
       "2  0.002419  0.250102 -0.492102  0.697824 -0.383989 -0.253627 -0.136740  ...   \n",
       "3  0.096738  0.557861 -0.297296  0.896446 -0.032985 -0.270661 -0.065642  ...   \n",
       "4 -0.243912  0.133150 -0.270405  0.884132 -0.411581 -0.052357 -0.015780  ...   \n",
       "\n",
       "     CBF759    CBF760    CBF761    CBF762    CBF763    CBF764    CBF765  \\\n",
       "0 -0.237594  0.063648 -0.361055 -0.789500 -0.465886 -0.529316 -0.698997   \n",
       "1  0.098411  0.609853 -0.267673 -0.212289 -0.063081  0.234073 -0.327776   \n",
       "2 -0.141038  0.050899 -0.037386  0.040839 -0.630284  0.954118  0.025331   \n",
       "3  0.236711  0.737370 -0.518561  0.511849 -0.820826  1.201285  0.370854   \n",
       "4  0.080137  0.141621 -0.015267 -0.466190 -0.924487  0.557753 -0.239291   \n",
       "\n",
       "     CBF766    CBF767    CBF768  \n",
       "0 -0.952023  0.655639  0.239113  \n",
       "1 -0.777139 -0.068785  0.186652  \n",
       "2 -0.314066 -0.411639  0.784826  \n",
       "3 -0.434524 -0.433207  0.910684  \n",
       "4 -0.065333 -0.234828  0.338684  \n",
       "\n",
       "[5 rows x 770 columns]"
      ]
     },
     "execution_count": 17,
     "metadata": {},
     "output_type": "execute_result"
    }
   ],
   "source": [
    "for i in range(768):\n",
    "    df_drug_test=df_drug_test.rename(columns={str(i):\"CBF\"+str((i+1))})\n",
    "df_drug_test.head()\n",
    "df_drug.head()"
   ]
  },
  {
   "cell_type": "code",
   "execution_count": 18,
   "id": "8935199d",
   "metadata": {},
   "outputs": [],
   "source": [
    "merge_df=df_inter.merge(df_drug, on='Drug_ID' , how='inner')\n",
    "merge_df=merge_df.merge(df_pro,on='P_ID', how='inner')\n",
    "merge_df_test=df_inter_test.merge(df_drug_test, on='Drug_ID' , how='inner')\n",
    "merge_df_test=merge_df_test.merge(df_pro_test,on='P_ID', how='inner')"
   ]
  },
  {
   "cell_type": "code",
   "execution_count": 19,
   "id": "04e7ef7a",
   "metadata": {},
   "outputs": [],
   "source": [
    "X = merge_df.drop(columns=['Labels', 'P_ID', 'Drug_ID','SMILES','Sequence'])\n",
    "y=merge_df['Labels']\n",
    "X_test = merge_df_test.drop(columns=['Labels', 'P_ID', 'Drug_ID','SMILES','Sequence'])\n",
    "y_test=merge_df_test['Labels']"
   ]
  },
  {
   "cell_type": "code",
   "execution_count": 20,
   "id": "99d956f8",
   "metadata": {},
   "outputs": [
    {
     "name": "stdout",
     "output_type": "stream",
     "text": [
      "[[4865   49]\n",
      " [ 582 2430]]\n",
      "Accuracy: 0.9203885944991168\n",
      "Precision: 0.9802339653085922\n",
      "Recall: 0.8067729083665338\n",
      "F1-score: 0.8850846840284102\n",
      "Accuracy: 0.9203885944991168\n"
     ]
    }
   ],
   "source": [
    "sc = StandardScaler()\n",
    "X = sc.fit_transform(X)\n",
    "X_test = sc.transform(X_test)\n",
    "svm_classifier = SVC(kernel='poly',random_state=42,C=2.45,)\n",
    "svm_classifier.fit(X, y)\n",
    "y_pred = svm_classifier.predict(X_test)\n",
    "cm= confusion_matrix(y_test, y_pred)\n",
    "print(cm)\n",
    "print(\"Accuracy:\", accuracy_score(y_test, y_pred))\n",
    "precision = precision_score(y_test, y_pred)\n",
    "recall = recall_score(y_test, y_pred)\n",
    "f1 = f1_score(y_test, y_pred)\n",
    "accuracy = accuracy_score(y_test, y_pred)\n",
    "print(\"Precision:\", precision)\n",
    "print(\"Recall:\", recall)\n",
    "print(\"F1-score:\", f1)\n",
    "print(\"Accuracy:\", accuracy)\n"
   ]
  },
  {
   "cell_type": "markdown",
   "id": "0035d845-5f03-4434-8ecd-ab60d480a912",
   "metadata": {},
   "source": [
    "linear  =90.24\n",
    "poly = 91.96  c=2.5 ->92.038\n",
    "rdf= 90.95    c=2.0 ->91.06 c=2.5->91.11 c=3.0-> 91.09 c=4.0 ->91.06"
   ]
  },
  {
   "cell_type": "code",
   "execution_count": 22,
   "id": "d83f380b",
   "metadata": {},
   "outputs": [
    {
     "name": "stdout",
     "output_type": "stream",
     "text": [
      "[[4874   40]\n",
      " [ 664 2348]]\n",
      "Accuracy: 0.9111784002018672\n",
      "Precision: 0.983249581239531\n",
      "Recall: 0.7795484727755644\n",
      "F1-score: 0.8696296296296296\n",
      "Accuracy: 0.9111784002018672\n"
     ]
    }
   ],
   "source": [
    "\n",
    "sc = StandardScaler()\n",
    "X = sc.fit_transform(X)\n",
    "X_test = sc.transform(X_test)\n",
    "svm_classifier = SVC(kernel='rbf',random_state=42,C=2.45,)\n",
    "svm_classifier.fit(X, y)\n",
    "y_pred = svm_classifier.predict(X_test)\n",
    "cm= confusion_matrix(y_test, y_pred)\n",
    "print(cm)\n",
    "print(\"Accuracy:\", accuracy_score(y_test, y_pred))\n",
    "precision = precision_score(y_test, y_pred)\n",
    "recall = recall_score(y_test, y_pred)\n",
    "f1 = f1_score(y_test, y_pred)\n",
    "accuracy = accuracy_score(y_test, y_pred)\n",
    "print(\"Precision:\", precision)\n",
    "print(\"Recall:\", recall)\n",
    "print(\"F1-score:\", f1)\n",
    "print(\"Accuracy:\", accuracy)\n"
   ]
  },
  {
   "cell_type": "code",
   "execution_count": 23,
   "id": "f9e99a75-9cff-48b8-94d5-890a70b1224e",
   "metadata": {},
   "outputs": [
    {
     "name": "stdout",
     "output_type": "stream",
     "text": [
      "[[4888   26]\n",
      " [1751 1261]]\n",
      "Accuracy: 0.7758011607368156\n",
      "Precision: 0.9797979797979798\n",
      "Recall: 0.41865869853917664\n",
      "F1-score: 0.5866480576878345\n",
      "Accuracy: 0.7758011607368156\n"
     ]
    }
   ],
   "source": [
    "\n",
    "X = sc.fit_transform(X)\n",
    "X_test = sc.transform(X_test)\n",
    "svm_classifier = SVC(kernel='poly',degree=10,random_state=42,C=2.45,)\n",
    "svm_classifier.fit(X, y)\n",
    "y_pred = svm_classifier.predict(X_test)\n",
    "cm= confusion_matrix(y_test, y_pred)\n",
    "print(cm)\n",
    "print(\"Accuracy:\", accuracy_score(y_test, y_pred))\n",
    "precision = precision_score(y_test, y_pred)\n",
    "recall = recall_score(y_test, y_pred)\n",
    "f1 = f1_score(y_test, y_pred)\n",
    "accuracy = accuracy_score(y_test, y_pred)\n",
    "print(\"Precision:\", precision)\n",
    "print(\"Recall:\", recall)\n",
    "print(\"F1-score:\", f1)\n",
    "print(\"Accuracy:\", accuracy)\n"
   ]
  },
  {
   "cell_type": "code",
   "execution_count": 26,
   "id": "d08a37f2-cfdd-4c55-8561-319dea15856e",
   "metadata": {},
   "outputs": [
    {
     "name": "stdout",
     "output_type": "stream",
     "text": [
      "[[4874   40]\n",
      " [ 664 2348]]\n",
      "Accuracy: 0.9111784002018672\n",
      "Precision: 0.983249581239531\n",
      "Recall: 0.7795484727755644\n",
      "F1-score: 0.8696296296296296\n",
      "Accuracy: 0.9111784002018672\n"
     ]
    }
   ],
   "source": [
    "\n",
    "X = sc.fit_transform(X)\n",
    "X_test = sc.transform(X_test)\n",
    "svm_classifier = SVC(kernel='rbf',decision_function_shape='ovr',random_state=42,C=2.45,)\n",
    "svm_classifier.fit(X, y)\n",
    "y_pred = svm_classifier.predict(X_test)\n",
    "cm= confusion_matrix(y_test, y_pred)\n",
    "print(cm)\n",
    "print(\"Accuracy:\", accuracy_score(y_test, y_pred))\n",
    "precision = precision_score(y_test, y_pred)\n",
    "recall = recall_score(y_test, y_pred)\n",
    "f1 = f1_score(y_test, y_pred)\n",
    "accuracy = accuracy_score(y_test, y_pred)\n",
    "print(\"Precision:\", precision)\n",
    "print(\"Recall:\", recall)\n",
    "print(\"F1-score:\", f1)\n",
    "print(\"Accuracy:\", accuracy)\n"
   ]
  },
  {
   "cell_type": "code",
   "execution_count": 27,
   "id": "d32f2ef1-6079-4d54-a1e8-ccd09680e13a",
   "metadata": {},
   "outputs": [
    {
     "name": "stdout",
     "output_type": "stream",
     "text": [
      "[[4865   49]\n",
      " [ 582 2430]]\n",
      "Accuracy: 0.9203885944991168\n",
      "Precision: 0.9802339653085922\n",
      "Recall: 0.8067729083665338\n",
      "F1-score: 0.8850846840284102\n",
      "Accuracy: 0.9203885944991168\n"
     ]
    }
   ],
   "source": [
    "\n",
    "X = sc.fit_transform(X)\n",
    "X_test = sc.transform(X_test)\n",
    "svm_classifier = SVC(kernel='poly',decision_function_shape='ovr',random_state=42,C=2.45,)\n",
    "svm_classifier.fit(X, y)\n",
    "y_pred = svm_classifier.predict(X_test)\n",
    "cm= confusion_matrix(y_test, y_pred)\n",
    "print(cm)\n",
    "print(\"Accuracy:\", accuracy_score(y_test, y_pred))\n",
    "precision = precision_score(y_test, y_pred)\n",
    "recall = recall_score(y_test, y_pred)\n",
    "f1 = f1_score(y_test, y_pred)\n",
    "accuracy = accuracy_score(y_test, y_pred)\n",
    "print(\"Precision:\", precision)\n",
    "print(\"Recall:\", recall)\n",
    "print(\"F1-score:\", f1)\n",
    "print(\"Accuracy:\", accuracy)\n"
   ]
  },
  {
   "cell_type": "code",
   "execution_count": 29,
   "id": "ae5efc9e-49fa-4433-8ce0-591794d17e64",
   "metadata": {},
   "outputs": [
    {
     "name": "stdout",
     "output_type": "stream",
     "text": [
      "[[4844   70]\n",
      " [ 560 2452]]\n",
      "Accuracy: 0.9205147615442847\n",
      "Precision: 0.972244250594766\n",
      "Recall: 0.8140770252324038\n",
      "F1-score: 0.886158294181424\n",
      "Accuracy: 0.9205147615442847\n"
     ]
    }
   ],
   "source": [
    "\n",
    "X = sc.fit_transform(X)\n",
    "X_test = sc.transform(X_test)\n",
    "svm_classifier = SVC(kernel='poly',decision_function_shape='ovr',random_state=42,C=2.45,class_weight={0:1,1:1.745},)\n",
    "svm_classifier.fit(X, y)\n",
    "y_pred = svm_classifier.predict(X_test)\n",
    "cm= confusion_matrix(y_test, y_pred)\n",
    "print(cm)\n",
    "print(\"Accuracy:\", accuracy_score(y_test, y_pred))\n",
    "precision = precision_score(y_test, y_pred)\n",
    "recall = recall_score(y_test, y_pred)\n",
    "f1 = f1_score(y_test, y_pred)\n",
    "accuracy = accuracy_score(y_test, y_pred)\n",
    "print(\"Precision:\", precision)\n",
    "print(\"Recall:\", recall)\n",
    "print(\"F1-score:\", f1)\n",
    "print(\"Accuracy:\", accuracy)\n"
   ]
  },
  {
   "cell_type": "code",
   "execution_count": 30,
   "id": "5a8e9746-6d5a-4820-90e0-98a83d9fd61a",
   "metadata": {},
   "outputs": [
    {
     "name": "stdout",
     "output_type": "stream",
     "text": [
      "[[4844   70]\n",
      " [ 560 2452]]\n",
      "Accuracy: 0.9205147615442847\n",
      "Precision: 0.972244250594766\n",
      "Recall: 0.8140770252324038\n",
      "F1-score: 0.886158294181424\n",
      "Accuracy: 0.9205147615442847\n"
     ]
    }
   ],
   "source": [
    "\n",
    "X = sc.fit_transform(X)\n",
    "X_test = sc.transform(X_test)\n",
    "svm_classifier = SVC(kernel='poly',decision_function_shape='ovo',random_state=42,C=2.45,class_weight={0:1,1:1.745},)\n",
    "svm_classifier.fit(X, y)\n",
    "y_pred = svm_classifier.predict(X_test)\n",
    "cm= confusion_matrix(y_test, y_pred)\n",
    "print(cm)\n",
    "print(\"Accuracy:\", accuracy_score(y_test, y_pred))\n",
    "precision = precision_score(y_test, y_pred)\n",
    "recall = recall_score(y_test, y_pred)\n",
    "f1 = f1_score(y_test, y_pred)\n",
    "accuracy = accuracy_score(y_test, y_pred)\n",
    "print(\"Precision:\", precision)\n",
    "print(\"Recall:\", recall)\n",
    "print(\"F1-score:\", f1)\n",
    "print(\"Accuracy:\", accuracy)\n"
   ]
  },
  {
   "cell_type": "code",
   "execution_count": 33,
   "id": "e3fd4ca6-ba25-42fc-b978-83f949f6c17a",
   "metadata": {},
   "outputs": [
    {
     "name": "stdout",
     "output_type": "stream",
     "text": [
      "[[4902   12]\n",
      " [2393  619]]\n",
      "Accuracy: 0.6965682563714358\n",
      "Precision: 0.9809825673534073\n",
      "Recall: 0.2055112881806109\n",
      "F1-score: 0.339829810595663\n",
      "Accuracy: 0.6965682563714358\n"
     ]
    }
   ],
   "source": [
    "\n",
    "X = sc.fit_transform(X)\n",
    "X_test = sc.transform(X_test)\n",
    "svm_classifier = SVC(kernel='rbf',gamma=0.05,decision_function_shape='ovo',random_state=42,C=2.45,class_weight={0:1,1:1.745},)\n",
    "svm_classifier.fit(X, y)\n",
    "y_pred = svm_classifier.predict(X_test)\n",
    "cm= confusion_matrix(y_test, y_pred)\n",
    "print(cm)\n",
    "print(\"Accuracy:\", accuracy_score(y_test, y_pred))\n",
    "precision = precision_score(y_test, y_pred)\n",
    "recall = recall_score(y_test, y_pred)\n",
    "f1 = f1_score(y_test, y_pred)\n",
    "accuracy = accuracy_score(y_test, y_pred)\n",
    "print(\"Precision:\", precision)\n",
    "print(\"Recall:\", recall)\n",
    "print(\"F1-score:\", f1)\n",
    "print(\"Accuracy:\", accuracy)\n"
   ]
  },
  {
   "cell_type": "code",
   "execution_count": null,
   "id": "c07baedc-841b-44ea-a215-6ec93abd5b05",
   "metadata": {},
   "outputs": [],
   "source": []
  }
 ],
 "metadata": {
  "kernelspec": {
   "display_name": "Python 3 (ipykernel)",
   "language": "python",
   "name": "python3"
  },
  "language_info": {
   "codemirror_mode": {
    "name": "ipython",
    "version": 3
   },
   "file_extension": ".py",
   "mimetype": "text/x-python",
   "name": "python",
   "nbconvert_exporter": "python",
   "pygments_lexer": "ipython3",
   "version": "3.11.5"
  }
 },
 "nbformat": 4,
 "nbformat_minor": 5
}
