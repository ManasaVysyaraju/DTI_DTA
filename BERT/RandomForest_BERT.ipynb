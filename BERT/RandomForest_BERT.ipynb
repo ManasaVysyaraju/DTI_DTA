{
 "cells": [
  {
   "cell_type": "code",
   "execution_count": 14,
   "id": "7a66c0d1",
   "metadata": {},
   "outputs": [],
   "source": [
    "import pandas as pd\n",
    "import numpy as np\n",
    "import seaborn as sns\n",
    "from sklearn.model_selection import train_test_split\n",
    "from sklearn.tree import DecisionTreeClassifier\n",
    "from sklearn.metrics import accuracy_score, classification_report\n",
    "from sklearn import tree\n",
    "from sklearn.ensemble import RandomForestClassifier\n",
    "import matplotlib.pyplot as plt\n",
    "from sklearn.metrics import precision_score, recall_score, f1_score, accuracy_score"
   ]
  },
  {
   "cell_type": "code",
   "execution_count": 2,
   "id": "1873b92e",
   "metadata": {},
   "outputs": [],
   "source": [
    "df_drug=pd.read_csv('DTA/UniqueDrug_CBF_Train.csv')\n",
    "df_pro=pd.read_csv(\"DTA/UniqueProt_PBF_Train.csv\")\n",
    "df_inter=pd.read_csv(\"DTA/InteractionsMapping_Train (2).csv\")\n",
    "df_drug_test=pd.read_csv('DTA/UniqueDrug_CBF_Test.csv')\n",
    "df_pro_test=pd.read_csv(\"DTA/UniqueProt_PBF_Test.csv\")\n",
    "df_inter_test=pd.read_csv(\"DTA/InteractionsMapping_Test (2).csv\")"
   ]
  },
  {
   "cell_type": "code",
   "execution_count": 3,
   "id": "cb63ff74",
   "metadata": {},
   "outputs": [
    {
     "data": {
      "text/html": [
       "<div>\n",
       "<style scoped>\n",
       "    .dataframe tbody tr th:only-of-type {\n",
       "        vertical-align: middle;\n",
       "    }\n",
       "\n",
       "    .dataframe tbody tr th {\n",
       "        vertical-align: top;\n",
       "    }\n",
       "\n",
       "    .dataframe thead th {\n",
       "        text-align: right;\n",
       "    }\n",
       "</style>\n",
       "<table border=\"1\" class=\"dataframe\">\n",
       "  <thead>\n",
       "    <tr style=\"text-align: right;\">\n",
       "      <th></th>\n",
       "      <th>Drug_ID</th>\n",
       "      <th>SMILES</th>\n",
       "      <th>CBF1</th>\n",
       "      <th>CBF2</th>\n",
       "      <th>CBF3</th>\n",
       "      <th>CBF4</th>\n",
       "      <th>CBF5</th>\n",
       "      <th>CBF6</th>\n",
       "      <th>CBF7</th>\n",
       "      <th>CBF8</th>\n",
       "      <th>...</th>\n",
       "      <th>CBF759</th>\n",
       "      <th>CBF760</th>\n",
       "      <th>CBF761</th>\n",
       "      <th>CBF762</th>\n",
       "      <th>CBF763</th>\n",
       "      <th>CBF764</th>\n",
       "      <th>CBF765</th>\n",
       "      <th>CBF766</th>\n",
       "      <th>CBF767</th>\n",
       "      <th>CBF768</th>\n",
       "    </tr>\n",
       "  </thead>\n",
       "  <tbody>\n",
       "    <tr>\n",
       "      <th>0</th>\n",
       "      <td>ZINC16051658</td>\n",
       "      <td>CC1=NN=C(O1)C2C(C(C(C(O2)CO)O)O)O</td>\n",
       "      <td>0.637852</td>\n",
       "      <td>0.025078</td>\n",
       "      <td>-0.137181</td>\n",
       "      <td>0.220558</td>\n",
       "      <td>0.985396</td>\n",
       "      <td>-0.497337</td>\n",
       "      <td>-0.323126</td>\n",
       "      <td>0.108800</td>\n",
       "      <td>...</td>\n",
       "      <td>0.113765</td>\n",
       "      <td>0.303574</td>\n",
       "      <td>0.383457</td>\n",
       "      <td>-0.047252</td>\n",
       "      <td>-0.429677</td>\n",
       "      <td>0.569537</td>\n",
       "      <td>-0.275597</td>\n",
       "      <td>-0.370870</td>\n",
       "      <td>0.060566</td>\n",
       "      <td>0.977041</td>\n",
       "    </tr>\n",
       "    <tr>\n",
       "      <th>1</th>\n",
       "      <td>DB00683</td>\n",
       "      <td>CC1=NC=C2N1C3=C(C=C(C=C3)Cl)C(=NC2)C4=CC=CC=C4F</td>\n",
       "      <td>0.511134</td>\n",
       "      <td>0.610606</td>\n",
       "      <td>0.014891</td>\n",
       "      <td>-0.301693</td>\n",
       "      <td>1.006940</td>\n",
       "      <td>-0.066792</td>\n",
       "      <td>-0.333556</td>\n",
       "      <td>-0.011036</td>\n",
       "      <td>...</td>\n",
       "      <td>0.010872</td>\n",
       "      <td>0.307153</td>\n",
       "      <td>-0.626864</td>\n",
       "      <td>-0.053657</td>\n",
       "      <td>-0.850919</td>\n",
       "      <td>1.168610</td>\n",
       "      <td>-0.034645</td>\n",
       "      <td>-0.211338</td>\n",
       "      <td>-0.247332</td>\n",
       "      <td>0.665498</td>\n",
       "    </tr>\n",
       "    <tr>\n",
       "      <th>2</th>\n",
       "      <td>DB00491</td>\n",
       "      <td>C1C(C(C(C(N1CCO)CO)O)O)O</td>\n",
       "      <td>1.009394</td>\n",
       "      <td>-0.483389</td>\n",
       "      <td>0.251511</td>\n",
       "      <td>0.248934</td>\n",
       "      <td>0.956376</td>\n",
       "      <td>-0.310975</td>\n",
       "      <td>-0.287940</td>\n",
       "      <td>0.057785</td>\n",
       "      <td>...</td>\n",
       "      <td>0.383068</td>\n",
       "      <td>0.624767</td>\n",
       "      <td>0.370716</td>\n",
       "      <td>0.472160</td>\n",
       "      <td>-0.241153</td>\n",
       "      <td>0.216597</td>\n",
       "      <td>-0.484063</td>\n",
       "      <td>-0.499242</td>\n",
       "      <td>0.252377</td>\n",
       "      <td>0.608097</td>\n",
       "    </tr>\n",
       "    <tr>\n",
       "      <th>3</th>\n",
       "      <td>ARA</td>\n",
       "      <td>C1C(C(C(C(O1)O)O)O)O</td>\n",
       "      <td>0.738805</td>\n",
       "      <td>-0.497518</td>\n",
       "      <td>-0.214917</td>\n",
       "      <td>0.252138</td>\n",
       "      <td>1.002670</td>\n",
       "      <td>-0.425593</td>\n",
       "      <td>-0.379717</td>\n",
       "      <td>0.063613</td>\n",
       "      <td>...</td>\n",
       "      <td>0.531138</td>\n",
       "      <td>0.861370</td>\n",
       "      <td>0.393844</td>\n",
       "      <td>0.111346</td>\n",
       "      <td>0.050331</td>\n",
       "      <td>0.533231</td>\n",
       "      <td>-0.227467</td>\n",
       "      <td>-0.513811</td>\n",
       "      <td>0.507615</td>\n",
       "      <td>0.945831</td>\n",
       "    </tr>\n",
       "    <tr>\n",
       "      <th>4</th>\n",
       "      <td>DB00430</td>\n",
       "      <td>CC1=CC(=O)C(=CN1)C(=O)NC(C2=CC=C(C=C2)O)C(=O)N...</td>\n",
       "      <td>0.432591</td>\n",
       "      <td>-0.156011</td>\n",
       "      <td>-0.739867</td>\n",
       "      <td>0.043201</td>\n",
       "      <td>0.614482</td>\n",
       "      <td>-0.497177</td>\n",
       "      <td>-0.644078</td>\n",
       "      <td>-0.063058</td>\n",
       "      <td>...</td>\n",
       "      <td>-0.099798</td>\n",
       "      <td>0.148621</td>\n",
       "      <td>-0.086503</td>\n",
       "      <td>-0.565915</td>\n",
       "      <td>-0.574261</td>\n",
       "      <td>0.783125</td>\n",
       "      <td>-0.110612</td>\n",
       "      <td>-0.025541</td>\n",
       "      <td>-0.386042</td>\n",
       "      <td>0.759858</td>\n",
       "    </tr>\n",
       "  </tbody>\n",
       "</table>\n",
       "<p>5 rows × 770 columns</p>\n",
       "</div>"
      ],
      "text/plain": [
       "        Drug_ID                                             SMILES      CBF1  \\\n",
       "0  ZINC16051658                  CC1=NN=C(O1)C2C(C(C(C(O2)CO)O)O)O  0.637852   \n",
       "1       DB00683    CC1=NC=C2N1C3=C(C=C(C=C3)Cl)C(=NC2)C4=CC=CC=C4F  0.511134   \n",
       "2       DB00491                           C1C(C(C(C(N1CCO)CO)O)O)O  1.009394   \n",
       "3           ARA                               C1C(C(C(C(O1)O)O)O)O  0.738805   \n",
       "4       DB00430  CC1=CC(=O)C(=CN1)C(=O)NC(C2=CC=C(C=C2)O)C(=O)N...  0.432591   \n",
       "\n",
       "       CBF2      CBF3      CBF4      CBF5      CBF6      CBF7      CBF8  ...  \\\n",
       "0  0.025078 -0.137181  0.220558  0.985396 -0.497337 -0.323126  0.108800  ...   \n",
       "1  0.610606  0.014891 -0.301693  1.006940 -0.066792 -0.333556 -0.011036  ...   \n",
       "2 -0.483389  0.251511  0.248934  0.956376 -0.310975 -0.287940  0.057785  ...   \n",
       "3 -0.497518 -0.214917  0.252138  1.002670 -0.425593 -0.379717  0.063613  ...   \n",
       "4 -0.156011 -0.739867  0.043201  0.614482 -0.497177 -0.644078 -0.063058  ...   \n",
       "\n",
       "     CBF759    CBF760    CBF761    CBF762    CBF763    CBF764    CBF765  \\\n",
       "0  0.113765  0.303574  0.383457 -0.047252 -0.429677  0.569537 -0.275597   \n",
       "1  0.010872  0.307153 -0.626864 -0.053657 -0.850919  1.168610 -0.034645   \n",
       "2  0.383068  0.624767  0.370716  0.472160 -0.241153  0.216597 -0.484063   \n",
       "3  0.531138  0.861370  0.393844  0.111346  0.050331  0.533231 -0.227467   \n",
       "4 -0.099798  0.148621 -0.086503 -0.565915 -0.574261  0.783125 -0.110612   \n",
       "\n",
       "     CBF766    CBF767    CBF768  \n",
       "0 -0.370870  0.060566  0.977041  \n",
       "1 -0.211338 -0.247332  0.665498  \n",
       "2 -0.499242  0.252377  0.608097  \n",
       "3 -0.513811  0.507615  0.945831  \n",
       "4 -0.025541 -0.386042  0.759858  \n",
       "\n",
       "[5 rows x 770 columns]"
      ]
     },
     "execution_count": 3,
     "metadata": {},
     "output_type": "execute_result"
    }
   ],
   "source": [
    "for i in range(768):\n",
    "    df_drug_test=df_drug_test.rename(columns={str(i):\"CBF\"+str((i+1))})\n",
    "df_drug_test.head()"
   ]
  },
  {
   "cell_type": "code",
   "execution_count": 4,
   "id": "8749d96e",
   "metadata": {},
   "outputs": [],
   "source": [
    "merge_df=df_inter.merge(df_drug, on='Drug_ID' , how='inner')\n",
    "merge_df=merge_df.merge(df_pro,on='P_ID', how='inner')\n",
    "merge_df_test=df_inter_test.merge(df_drug_test, on='Drug_ID' , how='inner')\n",
    "merge_df_test=merge_df_test.merge(df_pro_test,on='P_ID', how='inner')\n",
    "merge_df =merge_df.sample(frac=1).reset_index(drop=True)\n",
    "merge_df_test =merge_df_test.sample(frac=1).reset_index(drop=True) \n",
    "merge_df.to_csv('train.csv', index=False) \n",
    " "
   ]
  },
  {
   "cell_type": "code",
   "execution_count": 5,
   "id": "08d1cce1",
   "metadata": {},
   "outputs": [],
   "source": [
    "X = merge_df.drop(columns=['Labels', 'P_ID', 'Drug_ID','SMILES','Sequence'])\n",
    "y=merge_df['Labels']\n",
    "X_test = merge_df_test.drop(columns=['Labels', 'P_ID', 'Drug_ID','SMILES','Sequence'])\n",
    "y_test=merge_df_test['Labels']"
   ]
  },
  {
   "cell_type": "code",
   "execution_count": 6,
   "id": "f6d1717b",
   "metadata": {},
   "outputs": [],
   "source": [
    "clf=RandomForestClassifier(n_estimators=78,ccp_alpha=0.000015,random_state=42,min_impurity_decrease=0.0000052,max_leaf_nodes=400,class_weight=\"balanced_subsample\")\n",
    "#clf=RandomForestClassifier(verbose=3,n_estimators=78,ccp_alpha=0.00001,random_state=42,min_impurity_decrease=0.0000012) 93.47\n",
    "#clf=RandomForestClassifier(verbose=3,n_estimators=78,ccp_alpha=0.000015,random_state=42,min_impurity_decrease=0.0000052) 93.54\n",
    "#clf=RandomForestClassifier(verbose=3,n_estimators=78,ccp_alpha=0.000015,random_state=42,min_impurity_decrease=0.0000052,max_leaf_nodes=400) 93.603"
   ]
  },
  {
   "cell_type": "raw",
   "id": "2aa113da-6764-428b-8c6c-cf5bacc900f6",
   "metadata": {},
   "source": [
    "n_estimators | acc_score| oob_score=True| max_depth=20| max_features=1750|min_samples_leaf=10|min_samples_split=20\n",
    "100           93.123        93.22\n",
    "50            92.28         93.18             93.464      92.51                92.5             92.80\n",
    "75            93.27         93.23             93.123\n",
    "80            93.06         93.06\n",
    "78            93.123        93.35             93.26"
   ]
  },
  {
   "cell_type": "code",
   "execution_count": 7,
   "id": "9c42a352",
   "metadata": {},
   "outputs": [
    {
     "data": {
      "text/html": [
       "<style>#sk-container-id-1 {color: black;background-color: white;}#sk-container-id-1 pre{padding: 0;}#sk-container-id-1 div.sk-toggleable {background-color: white;}#sk-container-id-1 label.sk-toggleable__label {cursor: pointer;display: block;width: 100%;margin-bottom: 0;padding: 0.3em;box-sizing: border-box;text-align: center;}#sk-container-id-1 label.sk-toggleable__label-arrow:before {content: \"▸\";float: left;margin-right: 0.25em;color: #696969;}#sk-container-id-1 label.sk-toggleable__label-arrow:hover:before {color: black;}#sk-container-id-1 div.sk-estimator:hover label.sk-toggleable__label-arrow:before {color: black;}#sk-container-id-1 div.sk-toggleable__content {max-height: 0;max-width: 0;overflow: hidden;text-align: left;background-color: #f0f8ff;}#sk-container-id-1 div.sk-toggleable__content pre {margin: 0.2em;color: black;border-radius: 0.25em;background-color: #f0f8ff;}#sk-container-id-1 input.sk-toggleable__control:checked~div.sk-toggleable__content {max-height: 200px;max-width: 100%;overflow: auto;}#sk-container-id-1 input.sk-toggleable__control:checked~label.sk-toggleable__label-arrow:before {content: \"▾\";}#sk-container-id-1 div.sk-estimator input.sk-toggleable__control:checked~label.sk-toggleable__label {background-color: #d4ebff;}#sk-container-id-1 div.sk-label input.sk-toggleable__control:checked~label.sk-toggleable__label {background-color: #d4ebff;}#sk-container-id-1 input.sk-hidden--visually {border: 0;clip: rect(1px 1px 1px 1px);clip: rect(1px, 1px, 1px, 1px);height: 1px;margin: -1px;overflow: hidden;padding: 0;position: absolute;width: 1px;}#sk-container-id-1 div.sk-estimator {font-family: monospace;background-color: #f0f8ff;border: 1px dotted black;border-radius: 0.25em;box-sizing: border-box;margin-bottom: 0.5em;}#sk-container-id-1 div.sk-estimator:hover {background-color: #d4ebff;}#sk-container-id-1 div.sk-parallel-item::after {content: \"\";width: 100%;border-bottom: 1px solid gray;flex-grow: 1;}#sk-container-id-1 div.sk-label:hover label.sk-toggleable__label {background-color: #d4ebff;}#sk-container-id-1 div.sk-serial::before {content: \"\";position: absolute;border-left: 1px solid gray;box-sizing: border-box;top: 0;bottom: 0;left: 50%;z-index: 0;}#sk-container-id-1 div.sk-serial {display: flex;flex-direction: column;align-items: center;background-color: white;padding-right: 0.2em;padding-left: 0.2em;position: relative;}#sk-container-id-1 div.sk-item {position: relative;z-index: 1;}#sk-container-id-1 div.sk-parallel {display: flex;align-items: stretch;justify-content: center;background-color: white;position: relative;}#sk-container-id-1 div.sk-item::before, #sk-container-id-1 div.sk-parallel-item::before {content: \"\";position: absolute;border-left: 1px solid gray;box-sizing: border-box;top: 0;bottom: 0;left: 50%;z-index: -1;}#sk-container-id-1 div.sk-parallel-item {display: flex;flex-direction: column;z-index: 1;position: relative;background-color: white;}#sk-container-id-1 div.sk-parallel-item:first-child::after {align-self: flex-end;width: 50%;}#sk-container-id-1 div.sk-parallel-item:last-child::after {align-self: flex-start;width: 50%;}#sk-container-id-1 div.sk-parallel-item:only-child::after {width: 0;}#sk-container-id-1 div.sk-dashed-wrapped {border: 1px dashed gray;margin: 0 0.4em 0.5em 0.4em;box-sizing: border-box;padding-bottom: 0.4em;background-color: white;}#sk-container-id-1 div.sk-label label {font-family: monospace;font-weight: bold;display: inline-block;line-height: 1.2em;}#sk-container-id-1 div.sk-label-container {text-align: center;}#sk-container-id-1 div.sk-container {/* jupyter's `normalize.less` sets `[hidden] { display: none; }` but bootstrap.min.css set `[hidden] { display: none !important; }` so we also need the `!important` here to be able to override the default hidden behavior on the sphinx rendered scikit-learn.org. See: https://github.com/scikit-learn/scikit-learn/issues/21755 */display: inline-block !important;position: relative;}#sk-container-id-1 div.sk-text-repr-fallback {display: none;}</style><div id=\"sk-container-id-1\" class=\"sk-top-container\"><div class=\"sk-text-repr-fallback\"><pre>RandomForestClassifier(ccp_alpha=1.5e-05, class_weight=&#x27;balanced_subsample&#x27;,\n",
       "                       max_leaf_nodes=400, min_impurity_decrease=5.2e-06,\n",
       "                       n_estimators=78, random_state=42)</pre><b>In a Jupyter environment, please rerun this cell to show the HTML representation or trust the notebook. <br />On GitHub, the HTML representation is unable to render, please try loading this page with nbviewer.org.</b></div><div class=\"sk-container\" hidden><div class=\"sk-item\"><div class=\"sk-estimator sk-toggleable\"><input class=\"sk-toggleable__control sk-hidden--visually\" id=\"sk-estimator-id-1\" type=\"checkbox\" checked><label for=\"sk-estimator-id-1\" class=\"sk-toggleable__label sk-toggleable__label-arrow\">RandomForestClassifier</label><div class=\"sk-toggleable__content\"><pre>RandomForestClassifier(ccp_alpha=1.5e-05, class_weight=&#x27;balanced_subsample&#x27;,\n",
       "                       max_leaf_nodes=400, min_impurity_decrease=5.2e-06,\n",
       "                       n_estimators=78, random_state=42)</pre></div></div></div></div></div>"
      ],
      "text/plain": [
       "RandomForestClassifier(ccp_alpha=1.5e-05, class_weight='balanced_subsample',\n",
       "                       max_leaf_nodes=400, min_impurity_decrease=5.2e-06,\n",
       "                       n_estimators=78, random_state=42)"
      ]
     },
     "execution_count": 7,
     "metadata": {},
     "output_type": "execute_result"
    }
   ],
   "source": [
    "clf.fit(X,y)\n"
   ]
  },
  {
   "cell_type": "code",
   "execution_count": 8,
   "id": "db7e3a16",
   "metadata": {},
   "outputs": [],
   "source": [
    "y_predict=clf.predict(X_test)"
   ]
  },
  {
   "cell_type": "code",
   "execution_count": 9,
   "id": "c23f5b86",
   "metadata": {
    "scrolled": true
   },
   "outputs": [
    {
     "data": {
      "text/plain": [
       "0.9288417865253595"
      ]
     },
     "execution_count": 9,
     "metadata": {},
     "output_type": "execute_result"
    }
   ],
   "source": [
    "acc_score=accuracy_score(y_test,y_predict)\n",
    "acc_score"
   ]
  },
  {
   "cell_type": "code",
   "execution_count": 10,
   "id": "ef95e23c-2e8a-4e35-8acf-0e9bdf3ca35b",
   "metadata": {
    "jp-MarkdownHeadingCollapsed": true
   },
   "outputs": [
    {
     "name": "stdout",
     "output_type": "stream",
     "text": [
      "[[4860   54]\n",
      " [ 510 2502]]\n"
     ]
    },
    {
     "data": {
      "text/plain": [
       "\"plt.figure(figsize=(8, 6))\\nsns.heatmap(cm, annot=True, fmt='d', cmap='Blues', xticklabels=['Class 0', 'Class 1'], yticklabels=['Class 0', 'Class 1'])\\nplt.title('Confusion Matrix')\\nplt.xlabel('Predicted')\\nplt.ylabel('True \\nplt.show()\""
      ]
     },
     "execution_count": 10,
     "metadata": {},
     "output_type": "execute_result"
    }
   ],
   "source": [
    " from sklearn.metrics import confusion_matrix\n",
    "import matplotlib.pyplot as plt\n",
    "# Compute confusion matrix\n",
    "cm = confusion_matrix(y_test, y_predict)\n",
    "print(cm)\n",
    "# Plot confusion matrix\n",
    "\"\"\"plt.figure(figsize=(8, 6))\n",
    "sns.heatmap(cm, annot=True, fmt='d', cmap='Blues', xticklabels=['Class 0', 'Class 1'], yticklabels=['Class 0', 'Class 1'])\n",
    "plt.title('Confusion Matrix')\n",
    "plt.xlabel('Predicted')\n",
    "plt.ylabel('True \n",
    "plt.show()\"\"\""
   ]
  },
  {
   "cell_type": "code",
   "execution_count": null,
   "id": "c1b234f5-abc8-486f-aade-3de8964a2742",
   "metadata": {},
   "outputs": [],
   "source": []
  },
  {
   "cell_type": "code",
   "execution_count": null,
   "id": "3d71939d-020b-41a6-9f02-1f2c0015f569",
   "metadata": {},
   "outputs": [],
   "source": []
  },
  {
   "cell_type": "code",
   "execution_count": 13,
   "id": "2c198c12-ee34-43fe-8717-4bcccfde763a",
   "metadata": {
    "scrolled": true
   },
   "outputs": [
    {
     "name": "stderr",
     "output_type": "stream",
     "text": [
      "[Parallel(n_jobs=1)]: Using backend SequentialBackend with 1 concurrent workers.\n"
     ]
    },
    {
     "name": "stdout",
     "output_type": "stream",
     "text": [
      "building tree 1 of 78\n"
     ]
    },
    {
     "name": "stderr",
     "output_type": "stream",
     "text": [
      "[Parallel(n_jobs=1)]: Done   1 out of   1 | elapsed:   14.7s remaining:    0.0s\n"
     ]
    },
    {
     "name": "stdout",
     "output_type": "stream",
     "text": [
      "building tree 2 of 78\n"
     ]
    },
    {
     "name": "stderr",
     "output_type": "stream",
     "text": [
      "[Parallel(n_jobs=1)]: Done   2 out of   2 | elapsed:   29.6s remaining:    0.0s\n"
     ]
    },
    {
     "name": "stdout",
     "output_type": "stream",
     "text": [
      "building tree 3 of 78\n",
      "building tree 4 of 78\n",
      "building tree 5 of 78\n",
      "building tree 6 of 78\n",
      "building tree 7 of 78\n",
      "building tree 8 of 78\n",
      "building tree 9 of 78\n",
      "building tree 10 of 78\n",
      "building tree 11 of 78\n",
      "building tree 12 of 78\n",
      "building tree 13 of 78\n",
      "building tree 14 of 78\n",
      "building tree 15 of 78\n",
      "building tree 16 of 78\n",
      "building tree 17 of 78\n",
      "building tree 18 of 78\n",
      "building tree 19 of 78\n",
      "building tree 20 of 78\n",
      "building tree 21 of 78\n",
      "building tree 22 of 78\n",
      "building tree 23 of 78\n",
      "building tree 24 of 78\n",
      "building tree 25 of 78\n",
      "building tree 26 of 78\n",
      "building tree 27 of 78\n",
      "building tree 28 of 78\n",
      "building tree 29 of 78\n",
      "building tree 30 of 78\n",
      "building tree 31 of 78\n",
      "building tree 32 of 78\n",
      "building tree 33 of 78\n",
      "building tree 34 of 78\n",
      "building tree 35 of 78\n",
      "building tree 36 of 78\n",
      "building tree 37 of 78\n",
      "building tree 38 of 78\n",
      "building tree 39 of 78\n",
      "building tree 40 of 78\n",
      "building tree 41 of 78\n",
      "building tree 42 of 78\n",
      "building tree 43 of 78\n",
      "building tree 44 of 78\n",
      "building tree 45 of 78\n",
      "building tree 46 of 78\n",
      "building tree 47 of 78\n",
      "building tree 48 of 78\n",
      "building tree 49 of 78\n",
      "building tree 50 of 78\n",
      "building tree 51 of 78\n",
      "building tree 52 of 78\n",
      "building tree 53 of 78\n",
      "building tree 54 of 78\n",
      "building tree 55 of 78\n",
      "building tree 56 of 78\n",
      "building tree 57 of 78\n",
      "building tree 58 of 78\n",
      "building tree 59 of 78\n",
      "building tree 60 of 78\n",
      "building tree 61 of 78\n",
      "building tree 62 of 78\n",
      "building tree 63 of 78\n",
      "building tree 64 of 78\n",
      "building tree 65 of 78\n",
      "building tree 66 of 78\n",
      "building tree 67 of 78\n",
      "building tree 68 of 78\n",
      "building tree 69 of 78\n",
      "building tree 70 of 78\n",
      "building tree 71 of 78\n",
      "building tree 72 of 78\n",
      "building tree 73 of 78\n",
      "building tree 74 of 78\n",
      "building tree 75 of 78\n",
      "building tree 76 of 78\n",
      "building tree 77 of 78\n",
      "building tree 78 of 78\n"
     ]
    },
    {
     "name": "stderr",
     "output_type": "stream",
     "text": [
      "[Parallel(n_jobs=1)]: Done  78 out of  78 | elapsed: 32.6min finished\n",
      "[Parallel(n_jobs=1)]: Using backend SequentialBackend with 1 concurrent workers.\n",
      "[Parallel(n_jobs=1)]: Done   1 out of   1 | elapsed:    0.0s remaining:    0.0s\n",
      "[Parallel(n_jobs=1)]: Done   2 out of   2 | elapsed:    0.0s remaining:    0.0s\n",
      "[Parallel(n_jobs=1)]: Done  78 out of  78 | elapsed:    0.1s finished\n"
     ]
    },
    {
     "data": {
      "text/plain": [
       "0.9288417865253595"
      ]
     },
     "execution_count": 13,
     "metadata": {},
     "output_type": "execute_result"
    }
   ],
   "source": [
    "clf=RandomForestClassifier(verbose=3,n_estimators=78,ccp_alpha=0.000015,random_state=42,min_impurity_decrease=0.0000052,min_samples_split=5,max_features=800)\n",
    "clf.fit(X_train_resampled, y_train_resampled)\n",
    "y_predict=clf.predict(X_test)\n",
    "acc_score=accuracy_score(y_test,y_predict)\n",
    "acc_score "
   ]
  },
  {
   "cell_type": "code",
   "execution_count": 17,
   "id": "80b21334-24d8-4542-88e9-9ccca31633b4",
   "metadata": {},
   "outputs": [
    {
     "name": "stdout",
     "output_type": "stream",
     "text": [
      "[[4855   59]\n",
      " [ 505 2507]]\n",
      "Accuracy: 0.9288417865253595\n",
      "Precision: 0.9770070148090413\n",
      "Recall: 0.8323373173970784\n",
      "F1-score: 0.8988884904983865\n",
      "Accuracy: 0.9288417865253595\n"
     ]
    }
   ],
   "source": [
    "cm= confusion_matrix(y_test, y_predict)\n",
    "print(cm)\n",
    "print(\"Accuracy:\", accuracy_score(y_test, y_predict))\n",
    "precision = precision_score(y_test, y_predict )\n",
    "recall = recall_score(y_test, y_predict)\n",
    "f1 = f1_score(y_test, y_predict)\n",
    "accuracy = accuracy_score(y_test, y_predict)\n",
    "print(\"Precision:\", precision)\n",
    "print(\"Recall:\", recall)\n",
    "print(\"F1-score:\", f1)\n",
    "print(\"Accuracy:\", accuracy)\n"
   ]
  },
  {
   "cell_type": "code",
   "execution_count": 18,
   "id": "c468da20-40f3-46f5-a855-8b19c8223d7a",
   "metadata": {
    "scrolled": true
   },
   "outputs": [
    {
     "name": "stderr",
     "output_type": "stream",
     "text": [
      "[Parallel(n_jobs=1)]: Using backend SequentialBackend with 1 concurrent workers.\n"
     ]
    },
    {
     "name": "stdout",
     "output_type": "stream",
     "text": [
      "building tree 1 of 78\n"
     ]
    },
    {
     "name": "stderr",
     "output_type": "stream",
     "text": [
      "[Parallel(n_jobs=1)]: Done   1 out of   1 | elapsed:    0.6s remaining:    0.0s\n"
     ]
    },
    {
     "name": "stdout",
     "output_type": "stream",
     "text": [
      "building tree 2 of 78\n"
     ]
    },
    {
     "name": "stderr",
     "output_type": "stream",
     "text": [
      "[Parallel(n_jobs=1)]: Done   2 out of   2 | elapsed:    1.1s remaining:    0.0s\n"
     ]
    },
    {
     "name": "stdout",
     "output_type": "stream",
     "text": [
      "building tree 3 of 78\n",
      "building tree 4 of 78\n",
      "building tree 5 of 78\n",
      "building tree 6 of 78\n",
      "building tree 7 of 78\n",
      "building tree 8 of 78\n",
      "building tree 9 of 78\n",
      "building tree 10 of 78\n",
      "building tree 11 of 78\n",
      "building tree 12 of 78\n",
      "building tree 13 of 78\n",
      "building tree 14 of 78\n",
      "building tree 15 of 78\n",
      "building tree 16 of 78\n",
      "building tree 17 of 78\n",
      "building tree 18 of 78\n",
      "building tree 19 of 78\n",
      "building tree 20 of 78\n",
      "building tree 21 of 78\n",
      "building tree 22 of 78\n",
      "building tree 23 of 78\n",
      "building tree 24 of 78\n",
      "building tree 25 of 78\n",
      "building tree 26 of 78\n",
      "building tree 27 of 78\n",
      "building tree 28 of 78\n",
      "building tree 29 of 78\n",
      "building tree 30 of 78\n",
      "building tree 31 of 78\n",
      "building tree 32 of 78\n",
      "building tree 33 of 78\n",
      "building tree 34 of 78\n",
      "building tree 35 of 78\n",
      "building tree 36 of 78\n",
      "building tree 37 of 78\n",
      "building tree 38 of 78\n",
      "building tree 39 of 78\n",
      "building tree 40 of 78\n",
      "building tree 41 of 78\n",
      "building tree 42 of 78\n",
      "building tree 43 of 78\n",
      "building tree 44 of 78\n",
      "building tree 45 of 78\n",
      "building tree 46 of 78\n",
      "building tree 47 of 78\n",
      "building tree 48 of 78\n",
      "building tree 49 of 78\n",
      "building tree 50 of 78\n",
      "building tree 51 of 78\n",
      "building tree 52 of 78\n",
      "building tree 53 of 78\n",
      "building tree 54 of 78\n",
      "building tree 55 of 78\n",
      "building tree 56 of 78\n",
      "building tree 57 of 78\n",
      "building tree 58 of 78\n",
      "building tree 59 of 78\n",
      "building tree 60 of 78\n",
      "building tree 61 of 78\n",
      "building tree 62 of 78\n",
      "building tree 63 of 78\n",
      "building tree 64 of 78\n",
      "building tree 65 of 78\n",
      "building tree 66 of 78\n",
      "building tree 67 of 78\n",
      "building tree 68 of 78\n",
      "building tree 69 of 78\n",
      "building tree 70 of 78\n",
      "building tree 71 of 78\n",
      "building tree 72 of 78\n",
      "building tree 73 of 78\n",
      "building tree 74 of 78\n",
      "building tree 75 of 78\n",
      "building tree 76 of 78\n",
      "building tree 77 of 78\n",
      "building tree 78 of 78\n",
      "[[4855   59]\n",
      " [ 502 2510]]\n",
      "Accuracy: 0.929220287660863\n",
      "Precision: 0.977033865317244\n",
      "Recall: 0.8333333333333334\n",
      "F1-score: 0.89948037986024\n",
      "Accuracy: 0.929220287660863\n"
     ]
    },
    {
     "name": "stderr",
     "output_type": "stream",
     "text": [
      "[Parallel(n_jobs=1)]: Done  78 out of  78 | elapsed:   45.7s finished\n",
      "[Parallel(n_jobs=1)]: Using backend SequentialBackend with 1 concurrent workers.\n",
      "[Parallel(n_jobs=1)]: Done   1 out of   1 | elapsed:    0.0s remaining:    0.0s\n",
      "[Parallel(n_jobs=1)]: Done   2 out of   2 | elapsed:    0.0s remaining:    0.0s\n",
      "[Parallel(n_jobs=1)]: Done  78 out of  78 | elapsed:    0.0s finished\n"
     ]
    }
   ],
   "source": [
    "clf=RandomForestClassifier(verbose=3,n_estimators=78,ccp_alpha=0.000015,random_state=42,min_impurity_decrease=0.0000052,max_leaf_nodes=400) \n",
    "clf.fit(X_train_resampled, y_train_resampled)\n",
    "y_predict=clf.predict(X_test)\n",
    "acc_score=accuracy_score(y_test,y_predict)\n",
    "cm= confusion_matrix(y_test, y_predict)\n",
    "print(cm)\n",
    "print(\"Accuracy:\", accuracy_score(y_test, y_predict))\n",
    "precision = precision_score(y_test, y_predict )\n",
    "recall = recall_score(y_test, y_predict)\n",
    "f1 = f1_score(y_test, y_predict)\n",
    "accuracy = accuracy_score(y_test, y_predict)\n",
    "print(\"Precision:\", precision)\n",
    "print(\"Recall:\", recall)\n",
    "print(\"F1-score:\", f1)\n",
    "print(\"Accuracy:\", accuracy)\n"
   ]
  },
  {
   "cell_type": "code",
   "execution_count": 19,
   "id": "8b34aab9-fa87-4be5-b007-ac0c739ed3b2",
   "metadata": {
    "scrolled": true
   },
   "outputs": [
    {
     "name": "stderr",
     "output_type": "stream",
     "text": [
      "[Parallel(n_jobs=1)]: Using backend SequentialBackend with 1 concurrent workers.\n"
     ]
    },
    {
     "name": "stdout",
     "output_type": "stream",
     "text": [
      "building tree 1 of 78\n"
     ]
    },
    {
     "name": "stderr",
     "output_type": "stream",
     "text": [
      "[Parallel(n_jobs=1)]: Done   1 out of   1 | elapsed:    0.5s remaining:    0.0s\n"
     ]
    },
    {
     "name": "stdout",
     "output_type": "stream",
     "text": [
      "building tree 2 of 78\n"
     ]
    },
    {
     "name": "stderr",
     "output_type": "stream",
     "text": [
      "[Parallel(n_jobs=1)]: Done   2 out of   2 | elapsed:    1.0s remaining:    0.0s\n"
     ]
    },
    {
     "name": "stdout",
     "output_type": "stream",
     "text": [
      "building tree 3 of 78\n",
      "building tree 4 of 78\n",
      "building tree 5 of 78\n",
      "building tree 6 of 78\n",
      "building tree 7 of 78\n",
      "building tree 8 of 78\n",
      "building tree 9 of 78\n",
      "building tree 10 of 78\n",
      "building tree 11 of 78\n",
      "building tree 12 of 78\n",
      "building tree 13 of 78\n",
      "building tree 14 of 78\n",
      "building tree 15 of 78\n",
      "building tree 16 of 78\n",
      "building tree 17 of 78\n",
      "building tree 18 of 78\n",
      "building tree 19 of 78\n",
      "building tree 20 of 78\n",
      "building tree 21 of 78\n",
      "building tree 22 of 78\n",
      "building tree 23 of 78\n",
      "building tree 24 of 78\n",
      "building tree 25 of 78\n",
      "building tree 26 of 78\n",
      "building tree 27 of 78\n",
      "building tree 28 of 78\n",
      "building tree 29 of 78\n",
      "building tree 30 of 78\n",
      "building tree 31 of 78\n",
      "building tree 32 of 78\n",
      "building tree 33 of 78\n",
      "building tree 34 of 78\n",
      "building tree 35 of 78\n",
      "building tree 36 of 78\n",
      "building tree 37 of 78\n",
      "building tree 38 of 78\n",
      "building tree 39 of 78\n",
      "building tree 40 of 78\n",
      "building tree 41 of 78\n",
      "building tree 42 of 78\n",
      "building tree 43 of 78\n",
      "building tree 44 of 78\n",
      "building tree 45 of 78\n",
      "building tree 46 of 78\n",
      "building tree 47 of 78\n",
      "building tree 48 of 78\n",
      "building tree 49 of 78\n",
      "building tree 50 of 78\n",
      "building tree 51 of 78\n",
      "building tree 52 of 78\n",
      "building tree 53 of 78\n",
      "building tree 54 of 78\n",
      "building tree 55 of 78\n",
      "building tree 56 of 78\n",
      "building tree 57 of 78\n",
      "building tree 58 of 78\n",
      "building tree 59 of 78\n",
      "building tree 60 of 78\n",
      "building tree 61 of 78\n",
      "building tree 62 of 78\n",
      "building tree 63 of 78\n",
      "building tree 64 of 78\n",
      "building tree 65 of 78\n",
      "building tree 66 of 78\n",
      "building tree 67 of 78\n",
      "building tree 68 of 78\n",
      "building tree 69 of 78\n",
      "building tree 70 of 78\n",
      "building tree 71 of 78\n",
      "building tree 72 of 78\n",
      "building tree 73 of 78\n",
      "building tree 74 of 78\n",
      "building tree 75 of 78\n",
      "building tree 76 of 78\n",
      "building tree 77 of 78\n",
      "building tree 78 of 78\n",
      "[[4850   64]\n",
      " [ 505 2507]]\n",
      "Accuracy: 0.9282109512995206\n",
      "Precision: 0.9751069622714897\n",
      "Recall: 0.8323373173970784\n",
      "F1-score: 0.8980834676697117\n",
      "Accuracy: 0.9282109512995206\n"
     ]
    },
    {
     "name": "stderr",
     "output_type": "stream",
     "text": [
      "[Parallel(n_jobs=1)]: Done  78 out of  78 | elapsed:   46.8s finished\n",
      "[Parallel(n_jobs=1)]: Using backend SequentialBackend with 1 concurrent workers.\n",
      "[Parallel(n_jobs=1)]: Done   1 out of   1 | elapsed:    0.0s remaining:    0.0s\n",
      "[Parallel(n_jobs=1)]: Done   2 out of   2 | elapsed:    0.0s remaining:    0.0s\n",
      "[Parallel(n_jobs=1)]: Done  78 out of  78 | elapsed:    0.0s finished\n"
     ]
    }
   ],
   "source": [
    "clf=RandomForestClassifier(verbose=3,n_estimators=78,ccp_alpha=0.000015,random_state=42,min_impurity_decrease=0.0000052) \n",
    "clf.fit(X_train_resampled, y_train_resampled)\n",
    "y_predict=clf.predict(X_test)\n",
    "acc_score=accuracy_score(y_test,y_predict)\n",
    "cm= confusion_matrix(y_test, y_predict)\n",
    "print(cm)\n",
    "print(\"Accuracy:\", accuracy_score(y_test, y_predict))\n",
    "precision = precision_score(y_test, y_predict )\n",
    "recall = recall_score(y_test, y_predict)\n",
    "f1 = f1_score(y_test, y_predict)\n",
    "accuracy = accuracy_score(y_test, y_predict)\n",
    "print(\"Precision:\", precision)\n",
    "print(\"Recall:\", recall)\n",
    "print(\"F1-score:\", f1)\n",
    "print(\"Accuracy:\", accuracy)\n"
   ]
  },
  {
   "cell_type": "code",
   "execution_count": 21,
   "id": "d179b1c1-365e-45b1-afc2-77c904d90825",
   "metadata": {},
   "outputs": [
    {
     "name": "stdout",
     "output_type": "stream",
     "text": [
      "[[4825   89]\n",
      " [ 490 2522]]\n",
      "Accuracy: 0.9269492808478426\n",
      "Precision: 0.9659134431252394\n",
      "Recall: 0.8373173970783533\n",
      "F1-score: 0.8970300551307133\n",
      "Accuracy: 0.9269492808478426\n"
     ]
    }
   ],
   "source": [
    "clf=RandomForestClassifier(n_estimators=78,ccp_alpha=0.000015,random_state=42,min_impurity_decrease=0.0000052,min_samples_leaf=10) \n",
    "clf.fit(X_train_resampled, y_train_resampled)\n",
    "y_predict=clf.predict(X_test)\n",
    "acc_score=accuracy_score(y_test,y_predict)\n",
    "cm= confusion_matrix(y_test, y_predict)\n",
    "print(cm)\n",
    "print(\"Accuracy:\", accuracy_score(y_test, y_predict))\n",
    "precision = precision_score(y_test, y_predict )\n",
    "recall = recall_score(y_test, y_predict)\n",
    "f1 = f1_score(y_test, y_predict)\n",
    "accuracy = accuracy_score(y_test, y_predict)\n",
    "print(\"Precision:\", precision)\n",
    "print(\"Recall:\", recall)\n",
    "print(\"F1-score:\", f1)\n",
    "print(\"Accuracy:\", accuracy)\n"
   ]
  },
  {
   "cell_type": "code",
   "execution_count": 22,
   "id": "c32d2298-289a-4a39-887c-489b67caf1d9",
   "metadata": {},
   "outputs": [
    {
     "name": "stdout",
     "output_type": "stream",
     "text": [
      "[[4832   82]\n",
      " [ 496 2516]]\n",
      "Accuracy: 0.9270754478930103\n",
      "Precision: 0.968437259430331\n",
      "Recall: 0.8353253652058433\n",
      "F1-score: 0.896969696969697\n",
      "Accuracy: 0.9270754478930103\n"
     ]
    }
   ],
   "source": [
    "clf=RandomForestClassifier(n_estimators=78,ccp_alpha=0.000015,random_state=42,min_impurity_decrease=0.0000052,min_samples_leaf=8) \n",
    "clf.fit(X_train_resampled, y_train_resampled)\n",
    "y_predict=clf.predict(X_test)\n",
    "acc_score=accuracy_score(y_test,y_predict)\n",
    "cm= confusion_matrix(y_test, y_predict)\n",
    "print(cm)\n",
    "print(\"Accuracy:\", accuracy_score(y_test, y_predict))\n",
    "precision = precision_score(y_test, y_predict )\n",
    "recall = recall_score(y_test, y_predict)\n",
    "f1 = f1_score(y_test, y_predict)\n",
    "accuracy = accuracy_score(y_test, y_predict)\n",
    "print(\"Precision:\", precision)\n",
    "print(\"Recall:\", recall)\n",
    "print(\"F1-score:\", f1)\n",
    "print(\"Accuracy:\", accuracy)\n"
   ]
  },
  {
   "cell_type": "code",
   "execution_count": 23,
   "id": "553ff93b-13c8-40ba-b40e-e2eb3aac3a5c",
   "metadata": {},
   "outputs": [
    {
     "name": "stdout",
     "output_type": "stream",
     "text": [
      "[[4794  120]\n",
      " [ 488 2524]]\n",
      "Accuracy: 0.9232904365379763\n",
      "Precision: 0.9546142208774584\n",
      "Recall: 0.8379814077025233\n",
      "F1-score: 0.8925035360678925\n",
      "Accuracy: 0.9232904365379763\n"
     ]
    }
   ],
   "source": [
    "clf=RandomForestClassifier(n_estimators=78,ccp_alpha=0.000015,random_state=42,min_impurity_decrease=0.0000052,min_samples_leaf=10,max_features=1000,class_weight={0:1,1:2}) \n",
    "clf.fit(X_train_resampled, y_train_resampled)\n",
    "y_predict=clf.predict(X_test)\n",
    "acc_score=accuracy_score(y_test,y_predict)\n",
    "cm= confusion_matrix(y_test, y_predict)\n",
    "print(cm)\n",
    "print(\"Accuracy:\", accuracy_score(y_test, y_predict))\n",
    "precision = precision_score(y_test, y_predict )\n",
    "recall = recall_score(y_test, y_predict)\n",
    "f1 = f1_score(y_test, y_predict)\n",
    "accuracy = accuracy_score(y_test, y_predict)\n",
    "print(\"Precision:\", precision)\n",
    "print(\"Recall:\", recall)\n",
    "print(\"F1-score:\", f1)\n",
    "print(\"Accuracy:\", accuracy)\n"
   ]
  },
  {
   "cell_type": "code",
   "execution_count": 24,
   "id": "6f9c3650-cbaf-4970-800e-f5fdbbac0c61",
   "metadata": {},
   "outputs": [
    {
     "name": "stdout",
     "output_type": "stream",
     "text": [
      "[[4794  120]\n",
      " [ 486 2526]]\n",
      "Accuracy: 0.9235427706283119\n",
      "Precision: 0.9546485260770975\n",
      "Recall: 0.8386454183266933\n",
      "F1-score: 0.8928950159066809\n",
      "Accuracy: 0.9235427706283119\n"
     ]
    }
   ],
   "source": [
    "clf=RandomForestClassifier(n_estimators=78,ccp_alpha=0.000015,random_state=42,min_impurity_decrease=0.0000052,min_samples_leaf=10,max_features=1700,class_weight={0:1,1:2}) \n",
    "clf.fit(X_train_resampled, y_train_resampled)\n",
    "y_predict=clf.predict(X_test)\n",
    "acc_score=accuracy_score(y_test,y_predict)\n",
    "cm= confusion_matrix(y_test, y_predict)\n",
    "print(cm)\n",
    "print(\"Accuracy:\", accuracy_score(y_test, y_predict))\n",
    "precision = precision_score(y_test, y_predict )\n",
    "recall = recall_score(y_test, y_predict)\n",
    "f1 = f1_score(y_test, y_predict)\n",
    "accuracy = accuracy_score(y_test, y_predict)\n",
    "print(\"Precision:\", precision)\n",
    "print(\"Recall:\", recall)\n",
    "print(\"F1-score:\", f1)\n",
    "print(\"Accuracy:\", accuracy)\n"
   ]
  },
  {
   "cell_type": "code",
   "execution_count": null,
   "id": "459fcd16-7f1d-4396-aaa9-a6c772fe2603",
   "metadata": {},
   "outputs": [],
   "source": []
  }
 ],
 "metadata": {
  "kernelspec": {
   "display_name": "Python 3 (ipykernel)",
   "language": "python",
   "name": "python3"
  },
  "language_info": {
   "codemirror_mode": {
    "name": "ipython",
    "version": 3
   },
   "file_extension": ".py",
   "mimetype": "text/x-python",
   "name": "python",
   "nbconvert_exporter": "python",
   "pygments_lexer": "ipython3",
   "version": "3.11.5"
  }
 },
 "nbformat": 4,
 "nbformat_minor": 5
}
