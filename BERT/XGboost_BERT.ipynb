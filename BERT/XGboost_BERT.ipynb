{
 "cells": [
  {
   "cell_type": "code",
   "execution_count": 40,
   "id": "ac580d5d-dc3d-4890-8b28-316745f4efde",
   "metadata": {},
   "outputs": [],
   "source": [
    "import pandas as pd\n",
    "from xgboost import XGBClassifier\n",
    "from sklearn.metrics import accuracy_score\n",
    "from sklearn.metrics import confusion_matrix\n",
    "import matplotlib.pyplot as plt\n",
    "from sklearn.metrics import precision_score, recall_score, f1_score, accuracy_score"
   ]
  },
  {
   "cell_type": "code",
   "execution_count": 11,
   "id": "ff1cfae9-6c96-453d-a058-9fef33d47ab0",
   "metadata": {},
   "outputs": [],
   "source": [
    "df=pd.read_csv('train.csv')\n",
    "df_test=pd.read_csv('test.csv')"
   ]
  },
  {
   "cell_type": "code",
   "execution_count": 12,
   "id": "b013484f-843f-4865-a82f-e1fbee55d19c",
   "metadata": {},
   "outputs": [
    {
     "data": {
      "text/plain": [
       "Index(['CBF1', 'CBF2', 'CBF3', 'CBF4', 'CBF5', 'CBF6', 'CBF7', 'CBF8', 'CBF9',\n",
       "       'CBF10',\n",
       "       ...\n",
       "       'PBF1015', 'PBF1016', 'PBF1017', 'PBF1018', 'PBF1019', 'PBF1020',\n",
       "       'PBF1021', 'PBF1022', 'PBF1023', 'PBF1024'],\n",
       "      dtype='object', length=1792)"
      ]
     },
     "execution_count": 12,
     "metadata": {},
     "output_type": "execute_result"
    }
   ],
   "source": [
    "X_train = df.drop(columns=['Labels', 'P_ID', 'Drug_ID','SMILES','Sequence'])\n",
    "y_train=df['Labels']\n",
    "X_test = df_test.drop(columns=['Labels', 'P_ID', 'Drug_ID','SMILES','Sequence'])\n",
    "y_test=df_test['Labels']\n",
    "X_train.columns"
   ]
  },
  {
   "cell_type": "code",
   "execution_count": 13,
   "id": "e24e29f9-5dc7-4ee5-9d73-671b71663f43",
   "metadata": {},
   "outputs": [
    {
     "data": {
      "text/plain": [
       "Labels\n",
       "0    10171\n",
       "1     5839\n",
       "Name: count, dtype: int64"
      ]
     },
     "execution_count": 13,
     "metadata": {},
     "output_type": "execute_result"
    }
   ],
   "source": [
    "df['Labels'].value_counts()"
   ]
  },
  {
   "cell_type": "code",
   "execution_count": 14,
   "id": "97d2870d-a895-4579-8f02-4f9cde8a6462",
   "metadata": {},
   "outputs": [],
   "source": [
    "label_counts = df['Labels'].value_counts()\n",
    "\n",
    "# Calculate the scale_pos_weight\n",
    "# It should be equal to (number of negative instances) / (number of positive instances)\n",
    "scale_pos_weight = label_counts[0] / label_counts[1]\n"
   ]
  },
  {
   "cell_type": "code",
   "execution_count": 37,
   "id": "b825cf11-6681-42f0-9801-52faf6118930",
   "metadata": {},
   "outputs": [
    {
     "name": "stdout",
     "output_type": "stream",
     "text": [
      "0.9264446126671714\n",
      "[[4864   50]\n",
      " [ 533 2479]]\n"
     ]
    }
   ],
   "source": [
    "bst = XGBClassifier(max_depth=20,subsample=0.65,scale_pos_weight=3.5,gamma=1.25,n_estimators=100,eta=0.15,min_child_weight=0.25,)\n",
    "bst.fit(X_train, y_train)\n",
    "preds = bst.predict(X_test)\n",
    "#bst = XGBClassifier(n_estimators=750,max_depth=20) =>92.34\n",
    "#bst = XGBClassifier(n_estimators=750,max_depth=20,scale_pos_weight=2) 92.58\n",
    "#bst = XGBClassifier(max_depth=20,subsample=0.65,scale_pos_weight=scale_pos_weight,gamma=1.25) 92.59\n",
    "#bst = XGBClassifier(max_depth=20,subsample=0.65,scale_pos_weight=2,gamma=1.25,n_estimators=100,eta=0.15) 92.73\n",
    "#bst = XGBClassifier(max_depth=20,subsample=0.65,scale_pos_weight=3,gamma=1.25,n_estimators=100,eta=0.15) 92.909\n",
    "#bst = XGBClassifier(max_depth=20,subsample=0.65,scale_pos_weight=3.5,gamma=1.25,n_estimators=100,eta=0.15 92.97\n",
    "#bst = XGBClassifier(max_depth=20,subsample=0.65,scale_pos_weight=3.5,gamma=1.25,n_estimators=100,eta=0.15,min_child_weight=0.25) 93.01\n",
    "#bst = XGBClassifier(max_depth=20,subsample=0.65,scale_pos_weight=3.5,gamma=1.25,n_estimators=100,eta=0.15,min_child_weight=0.295,randm_state=42) 92.78\n",
    "acc=accuracy_score(preds,y_test)\n",
    "print(acc)\n",
    "cm = confusion_matrix(y_test, preds)\n",
    "print(cm)"
   ]
  },
  {
   "cell_type": "code",
   "execution_count": 42,
   "id": "febb1cee-94e0-436d-9595-9a1f027f7047",
   "metadata": {},
   "outputs": [
    {
     "name": "stdout",
     "output_type": "stream",
     "text": [
      "0.9219025990411305\n",
      "[[4880   34]\n",
      " [ 585 2427]]\n"
     ]
    }
   ],
   "source": [
    "bst = XGBClassifier(n_estimators=750,max_depth=20) \n",
    "bst.fit(X_train, y_train)\n",
    "preds = bst.predict(X_test)\n",
    "acc=accuracy_score(preds,y_test)\n",
    "print(acc)\n",
    "cm = confusion_matrix(y_test, preds)\n",
    "print(cm)"
   ]
  },
  {
   "cell_type": "code",
   "execution_count": 43,
   "id": "99fe067d-04d9-4222-a107-89a17e614825",
   "metadata": {},
   "outputs": [
    {
     "name": "stdout",
     "output_type": "stream",
     "text": [
      "0.9225334342669694\n",
      "[[4869   45]\n",
      " [ 569 2443]]\n",
      "Precision: 0.9819131832797428\n",
      "Recall: 0.8110889774236387\n",
      "F1-score: 0.8883636363636364\n",
      "Accuracy: 0.9225334342669694\n"
     ]
    }
   ],
   "source": [
    "bst = XGBClassifier(max_depth=20,subsample=0.65,scale_pos_weight=scale_pos_weight,gamma=1.25) \n",
    "bst.fit(X_train, y_train)\n",
    "preds = bst.predict(X_test)\n",
    "acc=accuracy_score(preds,y_test)\n",
    "print(acc)\n",
    "cm = confusion_matrix(y_test, preds)\n",
    "print(cm)\n",
    "precision = precision_score(y_test, preds)\n",
    "recall = recall_score(y_test, preds)\n",
    "f1 = f1_score(y_test, preds)\n",
    "accuracy = accuracy_score(y_test, preds)\n",
    "print(\"Precision:\", precision)\n",
    "print(\"Recall:\", recall)\n",
    "print(\"F1-score:\", f1)\n",
    "print(\"Accuracy:\", accuracy)"
   ]
  },
  {
   "cell_type": "code",
   "execution_count": 44,
   "id": "c7e2fe43-fae8-441f-8b4f-f3b01a156702",
   "metadata": {},
   "outputs": [
    {
     "name": "stdout",
     "output_type": "stream",
     "text": [
      "0.9225334342669694\n",
      "[[4869   45]\n",
      " [ 569 2443]]\n",
      "Precision: 0.9819131832797428\n",
      "Recall: 0.8110889774236387\n",
      "F1-score: 0.8883636363636364\n",
      "Accuracy: 0.9225334342669694\n"
     ]
    }
   ],
   "source": [
    "bst = XGBClassifier(max_depth=20,subsample=0.65,scale_pos_weight=scale_pos_weight,gamma=1.25) \n",
    "bst.fit(X_train, y_train)\n",
    "preds = bst.predict(X_test)\n",
    "acc=accuracy_score(preds,y_test)\n",
    "print(acc)\n",
    "cm = confusion_matrix(y_test, preds)\n",
    "print(cm)\n",
    "precision = precision_score(y_test, preds)\n",
    "recall = recall_score(y_test, preds)\n",
    "f1 = f1_score(y_test, preds)\n",
    "accuracy = accuracy_score(y_test, preds)\n",
    "print(\"Precision:\", precision)\n",
    "print(\"Recall:\", recall)\n",
    "print(\"F1-score:\", f1)\n",
    "print(\"Accuracy:\", accuracy)"
   ]
  },
  {
   "cell_type": "code",
   "execution_count": 45,
   "id": "afad3b0a-badb-4dc7-88d1-56a035c6d5b6",
   "metadata": {},
   "outputs": [
    {
     "name": "stdout",
     "output_type": "stream",
     "text": [
      "0.9250567751703255\n",
      "[[4859   55]\n",
      " [ 539 2473]]\n",
      "Precision: 0.978243670886076\n",
      "Recall: 0.8210491367861886\n",
      "F1-score: 0.8927797833935018\n",
      "Accuracy: 0.9250567751703255\n"
     ]
    }
   ],
   "source": [
    "bst = XGBClassifier(max_depth=20,subsample=0.65,scale_pos_weight=3.5,gamma=1.25) \n",
    "bst.fit(X_train, y_train)\n",
    "preds = bst.predict(X_test)\n",
    "acc=accuracy_score(preds,y_test)\n",
    "print(acc)\n",
    "cm = confusion_matrix(y_test, preds)\n",
    "print(cm)\n",
    "precision = precision_score(y_test, preds)\n",
    "recall = recall_score(y_test, preds)\n",
    "f1 = f1_score(y_test, preds)\n",
    "accuracy = accuracy_score(y_test, preds)\n",
    "print(\"Precision:\", precision)\n",
    "print(\"Recall:\", recall)\n",
    "print(\"F1-score:\", f1)\n",
    "print(\"Accuracy:\", accuracy)"
   ]
  },
  {
   "cell_type": "code",
   "execution_count": 46,
   "id": "cf3db592-9428-4979-a1f7-24ead01b681c",
   "metadata": {},
   "outputs": [
    {
     "name": "stdout",
     "output_type": "stream",
     "text": [
      "0.41117840020186724\n",
      "[[ 324 4590]\n",
      " [  77 2935]]\n",
      "Precision: 0.39003322259136214\n",
      "Recall: 0.9744355909694555\n",
      "F1-score: 0.5570845591724399\n",
      "Accuracy: 0.41117840020186724\n"
     ]
    }
   ],
   "source": [
    "bst = XGBClassifier(max_depth=20,subsample=0.65,scale_pos_weight=3.5,gamma=1.25,eta=2.5) \n",
    "bst.fit(X_train, y_train)\n",
    "preds = bst.predict(X_test)\n",
    "acc=accuracy_score(preds,y_test)\n",
    "print(acc)\n",
    "cm = confusion_matrix(y_test, preds)\n",
    "print(cm)\n",
    "precision = precision_score(y_test, preds)\n",
    "recall = recall_score(y_test, preds)\n",
    "f1 = f1_score(y_test, preds)\n",
    "accuracy = accuracy_score(y_test, preds)\n",
    "print(\"Precision:\", precision)\n",
    "print(\"Recall:\", recall)\n",
    "print(\"F1-score:\", f1)\n",
    "print(\"Accuracy:\", accuracy)"
   ]
  },
  {
   "cell_type": "code",
   "execution_count": 47,
   "id": "3f768655-3305-403e-95a2-c3040b2e0866",
   "metadata": {},
   "outputs": [
    {
     "name": "stdout",
     "output_type": "stream",
     "text": [
      "0.9105475649760283\n",
      "[[4834   80]\n",
      " [ 629 2383]]\n",
      "Precision: 0.9675192854242793\n",
      "Recall: 0.7911686586985391\n",
      "F1-score: 0.8705022831050229\n",
      "Accuracy: 0.9105475649760283\n"
     ]
    }
   ],
   "source": [
    "bst = XGBClassifier(max_depth=20,subsample=0.75,scale_pos_weight=1.74,gamma=1.25,eta=1.25) \n",
    "bst.fit(X_train, y_train)\n",
    "preds = bst.predict(X_test)\n",
    "acc=accuracy_score(preds,y_test)\n",
    "print(acc)\n",
    "cm = confusion_matrix(y_test, preds)\n",
    "print(cm)\n",
    "precision = precision_score(y_test, preds)\n",
    "recall = recall_score(y_test, preds)\n",
    "f1 = f1_score(y_test, preds)\n",
    "accuracy = accuracy_score(y_test, preds)\n",
    "print(\"Precision:\", precision)\n",
    "print(\"Recall:\", recall)\n",
    "print(\"F1-score:\", f1)\n",
    "print(\"Accuracy:\", accuracy)"
   ]
  },
  {
   "cell_type": "code",
   "execution_count": 48,
   "id": "c3815681-316b-40db-b7dc-38df9c91dfd6",
   "metadata": {},
   "outputs": [
    {
     "name": "stderr",
     "output_type": "stream",
     "text": [
      "C:\\Users\\EXAM-OS\\anaconda3\\Lib\\site-packages\\xgboost\\core.py:160: UserWarning: [12:34:35] WARNING: C:\\buildkite-agent\\builds\\buildkite-windows-cpu-autoscaling-group-i-0b3782d1791676daf-1\\xgboost\\xgboost-ci-windows\\src\\learner.cc:742: \n",
      "Parameters: { \"ccp_alpha\" } are not used.\n",
      "\n",
      "  warnings.warn(smsg, UserWarning)\n"
     ]
    },
    {
     "name": "stdout",
     "output_type": "stream",
     "text": [
      "0.9249306081251577\n",
      "[[4877   37]\n",
      " [ 558 2454]]\n",
      "Precision: 0.9851465274989963\n",
      "Recall: 0.8147410358565738\n",
      "F1-score: 0.8918771579138651\n",
      "Accuracy: 0.9249306081251577\n"
     ]
    }
   ],
   "source": [
    "bst = XGBClassifier(max_depth=20,subsample=0.75,scale_pos_weight=1.74,ccp_alpha=0.000052) \n",
    "bst.fit(X_train, y_train)\n",
    "preds = bst.predict(X_test)\n",
    "acc=accuracy_score(preds,y_test)\n",
    "print(acc)\n",
    "cm = confusion_matrix(y_test, preds)\n",
    "print(cm)\n",
    "precision = precision_score(y_test, preds)\n",
    "recall = recall_score(y_test, preds)\n",
    "f1 = f1_score(y_test, preds)\n",
    "accuracy = accuracy_score(y_test, preds)\n",
    "print(\"Precision:\", precision)\n",
    "print(\"Recall:\", recall)\n",
    "print(\"F1-score:\", f1)\n",
    "print(\"Accuracy:\", accuracy)"
   ]
  },
  {
   "cell_type": "code",
   "execution_count": 49,
   "id": "75dd9746-5547-44ba-83de-c1bdaa16d5de",
   "metadata": {},
   "outputs": [
    {
     "name": "stdout",
     "output_type": "stream",
     "text": [
      "0.9249306081251577\n",
      "[[4877   37]\n",
      " [ 558 2454]]\n",
      "Precision: 0.9851465274989963\n",
      "Recall: 0.8147410358565738\n",
      "F1-score: 0.8918771579138651\n",
      "Accuracy: 0.9249306081251577\n"
     ]
    }
   ],
   "source": [
    "bst = XGBClassifier(max_depth=20,subsample=0.75,scale_pos_weight=1.74,gamma=0.000052) \n",
    "bst.fit(X_train, y_train)\n",
    "preds = bst.predict(X_test)\n",
    "acc=accuracy_score(preds,y_test)\n",
    "print(acc)\n",
    "cm = confusion_matrix(y_test, preds)\n",
    "print(cm)\n",
    "precision = precision_score(y_test, preds)\n",
    "recall = recall_score(y_test, preds)\n",
    "f1 = f1_score(y_test, preds)\n",
    "accuracy = accuracy_score(y_test, preds)\n",
    "print(\"Precision:\", precision)\n",
    "print(\"Recall:\", recall)\n",
    "print(\"F1-score:\", f1)\n",
    "print(\"Accuracy:\", accuracy)"
   ]
  },
  {
   "cell_type": "code",
   "execution_count": 50,
   "id": "fc4308a4-208a-4ee4-af60-279b9f0e3736",
   "metadata": {},
   "outputs": [
    {
     "name": "stdout",
     "output_type": "stream",
     "text": [
      "0.926066111531668\n",
      "[[4865   49]\n",
      " [ 537 2475]]\n",
      "Precision: 0.9805863708399366\n",
      "Recall: 0.8217131474103586\n",
      "F1-score: 0.8941473988439307\n",
      "Accuracy: 0.926066111531668\n"
     ]
    }
   ],
   "source": [
    "bst = XGBClassifier(max_depth=20,subsample=0.75,scale_pos_weight=1.74,gamma=2.5) \n",
    "bst.fit(X_train, y_train)\n",
    "preds = bst.predict(X_test)\n",
    "acc=accuracy_score(preds,y_test)\n",
    "print(acc)\n",
    "cm = confusion_matrix(y_test, preds)\n",
    "print(cm)\n",
    "precision = precision_score(y_test, preds)\n",
    "recall = recall_score(y_test, preds)\n",
    "f1 = f1_score(y_test, preds)\n",
    "accuracy = accuracy_score(y_test, preds)\n",
    "print(\"Precision:\", precision)\n",
    "print(\"Recall:\", recall)\n",
    "print(\"F1-score:\", f1)\n",
    "print(\"Accuracy:\", accuracy)"
   ]
  },
  {
   "cell_type": "code",
   "execution_count": 51,
   "id": "437dbcee-bfbb-4daa-921f-2ab048fbbb5e",
   "metadata": {},
   "outputs": [
    {
     "name": "stdout",
     "output_type": "stream",
     "text": [
      "0.9244259399444865\n",
      "[[4868   46]\n",
      " [ 553 2459]]\n",
      "Precision: 0.9816367265469061\n",
      "Recall: 0.8164010624169987\n",
      "F1-score: 0.8914264999093712\n",
      "Accuracy: 0.9244259399444865\n"
     ]
    }
   ],
   "source": [
    "bst = XGBClassifier(max_depth=20,subsample=0.75,scale_pos_weight=1.74,gamma=1.25) \n",
    "bst.fit(X_train, y_train)\n",
    "preds = bst.predict(X_test)\n",
    "acc=accuracy_score(preds,y_test)\n",
    "print(acc)\n",
    "cm = confusion_matrix(y_test, preds)\n",
    "print(cm)\n",
    "precision = precision_score(y_test, preds)\n",
    "recall = recall_score(y_test, preds)\n",
    "f1 = f1_score(y_test, preds)\n",
    "accuracy = accuracy_score(y_test, preds)\n",
    "print(\"Precision:\", precision)\n",
    "print(\"Recall:\", recall)\n",
    "print(\"F1-score:\", f1)\n",
    "print(\"Accuracy:\", accuracy)"
   ]
  },
  {
   "cell_type": "code",
   "execution_count": 52,
   "id": "9061c2c1-2495-4a76-a9a0-72e712a0f0fb",
   "metadata": {},
   "outputs": [
    {
     "name": "stdout",
     "output_type": "stream",
     "text": [
      "0.9244259399444865\n",
      "[[4868   46]\n",
      " [ 553 2459]]\n",
      "Precision: 0.9816367265469061\n",
      "Recall: 0.8164010624169987\n",
      "F1-score: 0.8914264999093712\n",
      "Accuracy: 0.9244259399444865\n"
     ]
    }
   ],
   "source": [
    "bst = XGBClassifier(max_depth=20,subsample=0.75,scale_pos_weight=1.74,gamma=1.25,booster='gbtree') \n",
    "bst.fit(X_train, y_train)\n",
    "preds = bst.predict(X_test)\n",
    "acc=accuracy_score(preds,y_test)\n",
    "print(acc)\n",
    "cm = confusion_matrix(y_test, preds)\n",
    "print(cm)\n",
    "precision = precision_score(y_test, preds)\n",
    "recall = recall_score(y_test, preds)\n",
    "f1 = f1_score(y_test, preds)\n",
    "accuracy = accuracy_score(y_test, preds)\n",
    "print(\"Precision:\", precision)\n",
    "print(\"Recall:\", recall)\n",
    "print(\"F1-score:\", f1)\n",
    "print(\"Accuracy:\", accuracy)"
   ]
  },
  {
   "cell_type": "code",
   "execution_count": null,
   "id": "e92374d4-5733-43ff-8add-2b001f1c4d2c",
   "metadata": {},
   "outputs": [],
   "source": []
  }
 ],
 "metadata": {
  "kernelspec": {
   "display_name": "Python 3 (ipykernel)",
   "language": "python",
   "name": "python3"
  },
  "language_info": {
   "codemirror_mode": {
    "name": "ipython",
    "version": 3
   },
   "file_extension": ".py",
   "mimetype": "text/x-python",
   "name": "python",
   "nbconvert_exporter": "python",
   "pygments_lexer": "ipython3",
   "version": "3.11.5"
  }
 },
 "nbformat": 4,
 "nbformat_minor": 5
}
