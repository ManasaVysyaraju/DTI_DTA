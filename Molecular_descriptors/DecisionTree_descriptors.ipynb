{
 "cells": [
  {
   "cell_type": "code",
   "execution_count": 17,
   "id": "74036669",
   "metadata": {},
   "outputs": [],
   "source": [
    "import pandas as pd\n",
    "from sklearn.tree import DecisionTreeClassifier\n",
    "from sklearn import tree\n",
    "from sklearn.metrics import accuracy_score, classification_report\n",
    "from sklearn.metrics import precision_score, recall_score, f1_score, accuracy_score,confusion_matrix"
   ]
  },
  {
   "cell_type": "code",
   "execution_count": 5,
   "id": "dc3e8184",
   "metadata": {},
   "outputs": [],
   "source": [
    "df=pd.read_csv('Descriptors_Train_Dataset.csv')\n",
    "df_test=pd.read_csv('Descriptors_Test_Dataset.csv')"
   ]
  },
  {
   "cell_type": "code",
   "execution_count": 8,
   "id": "89ddc0dd",
   "metadata": {},
   "outputs": [],
   "source": [
    "X_train=df.drop(columns=['P_ID','Drug_ID','MD1']) #MD1 contains labels\n",
    "y_train=df['MD1']\n",
    "X_test=df_test.drop(columns=['P_ID','Drug_ID','MD1'])\n",
    "y_test=df_test['MD1']"
   ]
  },
  {
   "cell_type": "code",
   "execution_count": 15,
   "id": "3651471f",
   "metadata": {},
   "outputs": [
    {
     "name": "stdout",
     "output_type": "stream",
     "text": [
      "[[4775  139]\n",
      " [ 544 2468]]\n",
      "Precision: 0.9466820099731492\n",
      "Recall: 0.8193891102257637\n",
      "F1-score: 0.8784481224417157\n",
      "Accuracy: 0.9138279081503912\n"
     ]
    }
   ],
   "source": [
    "clf=DecisionTreeClassifier(random_state=42,max_depth=20,min_samples_leaf=10,min_samples_split=10)\n",
    "clf.fit(X_train,y_train)\n",
    "y_predict = clf.predict(X_test)\n",
    "accuracy_test = accuracy_score(y_test,y_predict )\n",
    "cm= confusion_matrix(y_test, y_predict)\n",
    "print(cm)\n",
    "precision = precision_score(y_test, y_predict )\n",
    "recall = recall_score(y_test, y_predict)\n",
    "f1 = f1_score(y_test, y_predict)\n",
    "accuracy = accuracy_score(y_test, y_predict)\n",
    "print(\"Precision:\", precision)\n",
    "print(\"Recall:\", recall)\n",
    "print(\"F1-score:\", f1)\n",
    "print(\"Accuracy:\", accuracy)"
   ]
  },
  {
   "cell_type": "code",
   "execution_count": 18,
   "id": "01db8a74",
   "metadata": {},
   "outputs": [
    {
     "name": "stdout",
     "output_type": "stream",
     "text": [
      "[[4777  137]\n",
      " [ 449 2563]]\n",
      "Precision: 0.9492592592592592\n",
      "Recall: 0.850929614873838\n",
      "F1-score: 0.8974089635854341\n",
      "Accuracy: 0.926066111531668\n"
     ]
    }
   ],
   "source": [
    "clf=tree.DecisionTreeClassifier()\n",
    "clf.fit(X_train,y_train)\n",
    "y_predict = clf.predict(X_test)\n",
    "accuracy_test = accuracy_score(y_test,y_predict )\n",
    "cm= confusion_matrix(y_test, y_predict)\n",
    "print(cm)\n",
    "precision = precision_score(y_test, y_predict )\n",
    "recall = recall_score(y_test, y_predict)\n",
    "f1 = f1_score(y_test, y_predict)\n",
    "accuracy = accuracy_score(y_test, y_predict)\n",
    "print(\"Precision:\", precision)\n",
    "print(\"Recall:\", recall)\n",
    "print(\"F1-score:\", f1)\n",
    "print(\"Accuracy:\", accuracy)"
   ]
  },
  {
   "cell_type": "code",
   "execution_count": 20,
   "id": "40bbe83c",
   "metadata": {},
   "outputs": [
    {
     "data": {
      "text/plain": [
       "47"
      ]
     },
     "execution_count": 20,
     "metadata": {},
     "output_type": "execute_result"
    }
   ],
   "source": [
    "tree_depth = clf.tree_.max_depth\n",
    "tree_depth"
   ]
  },
  {
   "cell_type": "code",
   "execution_count": 21,
   "id": "1d2cd61d",
   "metadata": {},
   "outputs": [
    {
     "name": "stdout",
     "output_type": "stream",
     "text": [
      "[[4805  109]\n",
      " [ 510 2502]]\n",
      "Precision: 0.9582535427039448\n",
      "Recall: 0.8306772908366534\n",
      "F1-score: 0.8899164147252356\n",
      "Accuracy: 0.9219025990411305\n"
     ]
    }
   ],
   "source": [
    "clf=tree.DecisionTreeClassifier(random_state=42,max_depth=20)\n",
    "clf.fit(X_train,y_train)\n",
    "y_predict = clf.predict(X_test)\n",
    "accuracy_test = accuracy_score(y_test,y_predict )\n",
    "cm= confusion_matrix(y_test, y_predict)\n",
    "print(cm)\n",
    "precision = precision_score(y_test, y_predict )\n",
    "recall = recall_score(y_test, y_predict)\n",
    "f1 = f1_score(y_test, y_predict)\n",
    "accuracy = accuracy_score(y_test, y_predict)\n",
    "print(\"Precision:\", precision)\n",
    "print(\"Recall:\", recall)\n",
    "print(\"F1-score:\", f1)\n",
    "print(\"Accuracy:\", accuracy)"
   ]
  },
  {
   "cell_type": "code",
   "execution_count": 22,
   "id": "428826f6",
   "metadata": {},
   "outputs": [
    {
     "name": "stdout",
     "output_type": "stream",
     "text": [
      "[[4793  121]\n",
      " [ 488 2524]]\n",
      "Precision: 0.9542533081285445\n",
      "Recall: 0.8379814077025233\n",
      "F1-score: 0.89234576630723\n",
      "Accuracy: 0.9231642694928085\n"
     ]
    }
   ],
   "source": [
    "clf=tree.DecisionTreeClassifier(random_state=42,max_depth=30)\n",
    "clf.fit(X_train,y_train)\n",
    "y_predict = clf.predict(X_test)\n",
    "accuracy_test = accuracy_score(y_test,y_predict )\n",
    "cm= confusion_matrix(y_test, y_predict)\n",
    "print(cm)\n",
    "precision = precision_score(y_test, y_predict )\n",
    "recall = recall_score(y_test, y_predict)\n",
    "f1 = f1_score(y_test, y_predict)\n",
    "accuracy = accuracy_score(y_test, y_predict)\n",
    "print(\"Precision:\", precision)\n",
    "print(\"Recall:\", recall)\n",
    "print(\"F1-score:\", f1)\n",
    "print(\"Accuracy:\", accuracy)"
   ]
  },
  {
   "cell_type": "code",
   "execution_count": 23,
   "id": "c8eea933",
   "metadata": {},
   "outputs": [
    {
     "name": "stdout",
     "output_type": "stream",
     "text": [
      "[[4791  123]\n",
      " [ 508 2504]]\n",
      "Precision: 0.9531785306433194\n",
      "Recall: 0.8313413014608234\n",
      "F1-score: 0.8881007270792693\n",
      "Accuracy: 0.9203885944991168\n"
     ]
    }
   ],
   "source": [
    "clf=tree.DecisionTreeClassifier(random_state=42,max_depth=35)\n",
    "clf.fit(X_train,y_train)\n",
    "y_predict = clf.predict(X_test)\n",
    "accuracy_test = accuracy_score(y_test,y_predict )\n",
    "cm= confusion_matrix(y_test, y_predict)\n",
    "print(cm)\n",
    "precision = precision_score(y_test, y_predict )\n",
    "recall = recall_score(y_test, y_predict)\n",
    "f1 = f1_score(y_test, y_predict)\n",
    "accuracy = accuracy_score(y_test, y_predict)\n",
    "print(\"Precision:\", precision)\n",
    "print(\"Recall:\", recall)\n",
    "print(\"F1-score:\", f1)\n",
    "print(\"Accuracy:\", accuracy)"
   ]
  },
  {
   "cell_type": "code",
   "execution_count": 32,
   "id": "48d955c5",
   "metadata": {},
   "outputs": [
    {
     "name": "stdout",
     "output_type": "stream",
     "text": [
      "[[4772  142]\n",
      " [ 481 2531]]\n",
      "Precision: 0.9468761690983913\n",
      "Recall: 0.8403054448871182\n",
      "F1-score: 0.8904133685136324\n",
      "Accuracy: 0.9213979308604593\n"
     ]
    }
   ],
   "source": [
    "clf=tree.DecisionTreeClassifier(random_state=42,min_samples_split=5)\n",
    "clf.fit(X_train,y_train)\n",
    "y_predict = clf.predict(X_test)\n",
    "accuracy_test = accuracy_score(y_test,y_predict )\n",
    "cm= confusion_matrix(y_test, y_predict)\n",
    "print(cm)\n",
    "precision = precision_score(y_test, y_predict )\n",
    "recall = recall_score(y_test, y_predict)\n",
    "f1 = f1_score(y_test, y_predict)\n",
    "accuracy = accuracy_score(y_test, y_predict)\n",
    "print(\"Precision:\", precision)\n",
    "print(\"Recall:\", recall)\n",
    "print(\"F1-score:\", f1)\n",
    "print(\"Accuracy:\", accuracy)"
   ]
  },
  {
   "cell_type": "code",
   "execution_count": 34,
   "id": "34f5a1a6",
   "metadata": {},
   "outputs": [
    {
     "name": "stdout",
     "output_type": "stream",
     "text": [
      "[[4767  147]\n",
      " [ 458 2554]]\n",
      "Precision: 0.9455757126990003\n",
      "Recall: 0.8479415670650731\n",
      "F1-score: 0.894101172763872\n",
      "Accuracy: 0.9236689376734797\n"
     ]
    }
   ],
   "source": [
    "clf=tree.DecisionTreeClassifier(random_state=42,min_samples_split=10)\n",
    "clf.fit(X_train,y_train)\n",
    "y_predict = clf.predict(X_test)\n",
    "accuracy_test = accuracy_score(y_test,y_predict )\n",
    "cm= confusion_matrix(y_test, y_predict)\n",
    "print(cm)\n",
    "precision = precision_score(y_test, y_predict )\n",
    "recall = recall_score(y_test, y_predict)\n",
    "f1 = f1_score(y_test, y_predict)\n",
    "accuracy = accuracy_score(y_test, y_predict)\n",
    "print(\"Precision:\", precision)\n",
    "print(\"Recall:\", recall)\n",
    "print(\"F1-score:\", f1)\n",
    "print(\"Accuracy:\", accuracy)"
   ]
  },
  {
   "cell_type": "code",
   "execution_count": 37,
   "id": "ae06deb4",
   "metadata": {},
   "outputs": [
    {
     "name": "stdout",
     "output_type": "stream",
     "text": [
      "[[4768  146]\n",
      " [ 440 2572]]\n",
      "Precision: 0.9462840323767476\n",
      "Recall: 0.8539176626826029\n",
      "F1-score: 0.8977312390924957\n",
      "Accuracy: 0.926066111531668\n"
     ]
    }
   ],
   "source": [
    "clf=tree.DecisionTreeClassifier(random_state=42,min_samples_split=9)\n",
    "clf.fit(X_train,y_train)\n",
    "y_predict = clf.predict(X_test)\n",
    "accuracy_test = accuracy_score(y_test,y_predict )\n",
    "cm= confusion_matrix(y_test, y_predict)\n",
    "print(cm)\n",
    "precision = precision_score(y_test, y_predict )\n",
    "recall = recall_score(y_test, y_predict)\n",
    "f1 = f1_score(y_test, y_predict)\n",
    "accuracy = accuracy_score(y_test, y_predict)\n",
    "print(\"Precision:\", precision)\n",
    "print(\"Recall:\", recall)\n",
    "print(\"F1-score:\", f1)\n",
    "print(\"Accuracy:\", accuracy)"
   ]
  },
  {
   "cell_type": "code",
   "execution_count": 38,
   "id": "78d3fa0c",
   "metadata": {},
   "outputs": [
    {
     "name": "stdout",
     "output_type": "stream",
     "text": [
      "[[4762  152]\n",
      " [ 422 2590]]\n",
      "Precision: 0.9445660102115244\n",
      "Recall: 0.8598937583001328\n",
      "F1-score: 0.9002433090024331\n",
      "Accuracy: 0.9275801160736815\n"
     ]
    }
   ],
   "source": [
    "clf=tree.DecisionTreeClassifier(random_state=42,min_samples_split=9,class_weight='balanced')\n",
    "clf.fit(X_train,y_train)\n",
    "y_predict = clf.predict(X_test)\n",
    "accuracy_test = accuracy_score(y_test,y_predict )\n",
    "cm= confusion_matrix(y_test, y_predict)\n",
    "print(cm)\n",
    "precision = precision_score(y_test, y_predict )\n",
    "recall = recall_score(y_test, y_predict)\n",
    "f1 = f1_score(y_test, y_predict)\n",
    "accuracy = accuracy_score(y_test, y_predict)\n",
    "print(\"Precision:\", precision)\n",
    "print(\"Recall:\", recall)\n",
    "print(\"F1-score:\", f1)\n",
    "print(\"Accuracy:\", accuracy)"
   ]
  },
  {
   "cell_type": "code",
   "execution_count": 40,
   "id": "aca7b849",
   "metadata": {},
   "outputs": [
    {
     "name": "stdout",
     "output_type": "stream",
     "text": [
      "[[4745  169]\n",
      " [ 476 2536]]\n",
      "Precision: 0.9375231053604436\n",
      "Recall: 0.8419654714475432\n",
      "F1-score: 0.8871785901696694\n",
      "Accuracy: 0.9186222558667676\n"
     ]
    }
   ],
   "source": [
    "clf=tree.DecisionTreeClassifier(random_state=42,min_samples_split=9,class_weight='balanced',min_samples_leaf=10)\n",
    "clf.fit(X_train,y_train)\n",
    "y_predict = clf.predict(X_test)\n",
    "accuracy_test = accuracy_score(y_test,y_predict )\n",
    "cm= confusion_matrix(y_test, y_predict)\n",
    "print(cm)\n",
    "precision = precision_score(y_test, y_predict )\n",
    "recall = recall_score(y_test, y_predict)\n",
    "f1 = f1_score(y_test, y_predict)\n",
    "accuracy = accuracy_score(y_test, y_predict)\n",
    "print(\"Precision:\", precision)\n",
    "print(\"Recall:\", recall)\n",
    "print(\"F1-score:\", f1)\n",
    "print(\"Accuracy:\", accuracy)"
   ]
  },
  {
   "cell_type": "code",
   "execution_count": 41,
   "id": "5b2ed499",
   "metadata": {},
   "outputs": [
    {
     "name": "stdout",
     "output_type": "stream",
     "text": [
      "[[4730  184]\n",
      " [ 408 2604]]\n",
      "Precision: 0.9340028694404591\n",
      "Recall: 0.8645418326693227\n",
      "F1-score: 0.8979310344827586\n",
      "Accuracy: 0.9253091092606611\n"
     ]
    }
   ],
   "source": [
    "clf=tree.DecisionTreeClassifier(random_state=42,min_samples_split=9,class_weight='balanced',min_samples_leaf=5)\n",
    "clf.fit(X_train,y_train)\n",
    "y_predict = clf.predict(X_test)\n",
    "accuracy_test = accuracy_score(y_test,y_predict )\n",
    "cm= confusion_matrix(y_test, y_predict)\n",
    "print(cm)\n",
    "precision = precision_score(y_test, y_predict )\n",
    "recall = recall_score(y_test, y_predict)\n",
    "f1 = f1_score(y_test, y_predict)\n",
    "accuracy = accuracy_score(y_test, y_predict)\n",
    "print(\"Precision:\", precision)\n",
    "print(\"Recall:\", recall)\n",
    "print(\"F1-score:\", f1)\n",
    "print(\"Accuracy:\", accuracy)"
   ]
  },
  {
   "cell_type": "code",
   "execution_count": 45,
   "id": "379d27e4",
   "metadata": {},
   "outputs": [
    {
     "name": "stdout",
     "output_type": "stream",
     "text": [
      "[[4757  157]\n",
      " [ 446 2566]]\n",
      "Precision: 0.9423430040396621\n",
      "Recall: 0.851925630810093\n",
      "F1-score: 0.8948561464690497\n",
      "Accuracy: 0.9239212717638153\n"
     ]
    }
   ],
   "source": [
    "clf=tree.DecisionTreeClassifier(random_state=42,min_samples_split=9,class_weight='balanced',min_samples_leaf=4)\n",
    "clf.fit(X_train,y_train)\n",
    "y_predict = clf.predict(X_test)\n",
    "accuracy_test = accuracy_score(y_test,y_predict )\n",
    "cm= confusion_matrix(y_test, y_predict)\n",
    "print(cm)\n",
    "precision = precision_score(y_test, y_predict )\n",
    "recall = recall_score(y_test, y_predict)\n",
    "f1 = f1_score(y_test, y_predict)\n",
    "accuracy = accuracy_score(y_test, y_predict)\n",
    "print(\"Precision:\", precision)\n",
    "print(\"Recall:\", recall)\n",
    "print(\"F1-score:\", f1)\n",
    "print(\"Accuracy:\", accuracy)"
   ]
  },
  {
   "cell_type": "code",
   "execution_count": 46,
   "id": "75ae7aa5",
   "metadata": {},
   "outputs": [
    {
     "name": "stdout",
     "output_type": "stream",
     "text": [
      "[[   0 4914]\n",
      " [   0 3012]]\n",
      "Precision: 0.38001514004542014\n",
      "Recall: 1.0\n",
      "F1-score: 0.5507405375754252\n",
      "Accuracy: 0.38001514004542014\n"
     ]
    }
   ],
   "source": [
    "clf=tree.DecisionTreeClassifier(random_state=42,min_samples_split=9,class_weight='balanced',min_samples_leaf=5,ccp_alpha=0.5)\n",
    "clf.fit(X_train,y_train)\n",
    "y_predict = clf.predict(X_test)\n",
    "accuracy_test = accuracy_score(y_test,y_predict )\n",
    "cm= confusion_matrix(y_test, y_predict)\n",
    "print(cm)\n",
    "precision = precision_score(y_test, y_predict )\n",
    "recall = recall_score(y_test, y_predict)\n",
    "f1 = f1_score(y_test, y_predict)\n",
    "accuracy = accuracy_score(y_test, y_predict)\n",
    "print(\"Precision:\", precision)\n",
    "print(\"Recall:\", recall)\n",
    "print(\"F1-score:\", f1)\n",
    "print(\"Accuracy:\", accuracy)"
   ]
  },
  {
   "cell_type": "code",
   "execution_count": 47,
   "id": "4ca05c49",
   "metadata": {},
   "outputs": [
    {
     "name": "stdout",
     "output_type": "stream",
     "text": [
      "[[4506  408]\n",
      " [ 575 2437]]\n",
      "Precision: 0.8565905096660809\n",
      "Recall: 0.8090969455511288\n",
      "F1-score: 0.832166638210688\n",
      "Accuracy: 0.8759777946000504\n"
     ]
    }
   ],
   "source": [
    "clf=tree.DecisionTreeClassifier(random_state=42,min_samples_split=9,class_weight='balanced',min_samples_leaf=5,ccp_alpha=0.005)\n",
    "clf.fit(X_train,y_train)\n",
    "y_predict = clf.predict(X_test)\n",
    "accuracy_test = accuracy_score(y_test,y_predict )\n",
    "cm= confusion_matrix(y_test, y_predict)\n",
    "print(cm)\n",
    "precision = precision_score(y_test, y_predict )\n",
    "recall = recall_score(y_test, y_predict)\n",
    "f1 = f1_score(y_test, y_predict)\n",
    "accuracy = accuracy_score(y_test, y_predict)\n",
    "print(\"Precision:\", precision)\n",
    "print(\"Recall:\", recall)\n",
    "print(\"F1-score:\", f1)\n",
    "print(\"Accuracy:\", accuracy)"
   ]
  },
  {
   "cell_type": "code",
   "execution_count": 51,
   "id": "6130fdec",
   "metadata": {},
   "outputs": [
    {
     "name": "stdout",
     "output_type": "stream",
     "text": [
      "[[4737  177]\n",
      " [ 410 2602]]\n",
      "Precision: 0.9363080244692336\n",
      "Recall: 0.8638778220451527\n",
      "F1-score: 0.8986358141944397\n",
      "Accuracy: 0.9259399444865001\n"
     ]
    }
   ],
   "source": [
    "clf=tree.DecisionTreeClassifier(random_state=42,min_samples_split=9,class_weight='balanced',min_samples_leaf=5,ccp_alpha=0.0001)\n",
    "clf.fit(X_train,y_train)\n",
    "y_predict = clf.predict(X_test)\n",
    "accuracy_test = accuracy_score(y_test,y_predict )\n",
    "cm= confusion_matrix(y_test, y_predict)\n",
    "print(cm)\n",
    "precision = precision_score(y_test, y_predict )\n",
    "recall = recall_score(y_test, y_predict)\n",
    "f1 = f1_score(y_test, y_predict)\n",
    "accuracy = accuracy_score(y_test, y_predict)\n",
    "print(\"Precision:\", precision)\n",
    "print(\"Recall:\", recall)\n",
    "print(\"F1-score:\", f1)\n",
    "print(\"Accuracy:\", accuracy)"
   ]
  },
  {
   "cell_type": "code",
   "execution_count": 54,
   "id": "298d5a1a",
   "metadata": {},
   "outputs": [
    {
     "name": "stdout",
     "output_type": "stream",
     "text": [
      "[[4730  184]\n",
      " [ 408 2604]]\n",
      "Precision: 0.9340028694404591\n",
      "Recall: 0.8645418326693227\n",
      "F1-score: 0.8979310344827586\n",
      "Accuracy: 0.9253091092606611\n"
     ]
    }
   ],
   "source": [
    "clf=tree.DecisionTreeClassifier(random_state=42,min_samples_split=9,class_weight='balanced',min_samples_leaf=5,ccp_alpha=0.00002)\n",
    "clf.fit(X_train,y_train)\n",
    "y_predict = clf.predict(X_test)\n",
    "accuracy_test = accuracy_score(y_test,y_predict )\n",
    "cm= confusion_matrix(y_test, y_predict)\n",
    "print(cm)\n",
    "precision = precision_score(y_test, y_predict )\n",
    "recall = recall_score(y_test, y_predict)\n",
    "f1 = f1_score(y_test, y_predict)\n",
    "accuracy = accuracy_score(y_test, y_predict)\n",
    "print(\"Precision:\", precision)\n",
    "print(\"Recall:\", recall)\n",
    "print(\"F1-score:\", f1)\n",
    "print(\"Accuracy:\", accuracy)"
   ]
  },
  {
   "cell_type": "code",
   "execution_count": 55,
   "id": "0250eb5c",
   "metadata": {},
   "outputs": [
    {
     "data": {
      "text/plain": [
       "0    10172\n",
       "1     5839\n",
       "Name: MD1, dtype: int64"
      ]
     },
     "execution_count": 55,
     "metadata": {},
     "output_type": "execute_result"
    }
   ],
   "source": [
    "y_train.value_counts()"
   ]
  },
  {
   "cell_type": "code",
   "execution_count": 57,
   "id": "2d0bf47b",
   "metadata": {},
   "outputs": [
    {
     "name": "stdout",
     "output_type": "stream",
     "text": [
      "[[4692  222]\n",
      " [ 406 2606]]\n",
      "Precision: 0.9214992927864215\n",
      "Recall: 0.8652058432934927\n",
      "F1-score: 0.8924657534246576\n",
      "Accuracy: 0.9207670956346202\n"
     ]
    }
   ],
   "source": [
    "clf=tree.DecisionTreeClassifier(random_state=42,min_samples_split=9,class_weight={0:1,1:2},min_samples_leaf=5,ccp_alpha=0.00002)\n",
    "clf.fit(X_train,y_train)\n",
    "y_predict = clf.predict(X_test)\n",
    "accuracy_test = accuracy_score(y_test,y_predict )\n",
    "cm= confusion_matrix(y_test, y_predict)\n",
    "print(cm)\n",
    "precision = precision_score(y_test, y_predict )\n",
    "recall = recall_score(y_test, y_predict)\n",
    "f1 = f1_score(y_test, y_predict)\n",
    "accuracy = accuracy_score(y_test, y_predict)\n",
    "print(\"Precision:\", precision)\n",
    "print(\"Recall:\", recall)\n",
    "print(\"F1-score:\", f1)\n",
    "print(\"Accuracy:\", accuracy)"
   ]
  },
  {
   "cell_type": "code",
   "execution_count": 59,
   "id": "7d35d8a2",
   "metadata": {},
   "outputs": [
    {
     "name": "stdout",
     "output_type": "stream",
     "text": [
      "[[4726  188]\n",
      " [ 448 2564]]\n",
      "Precision: 0.9316860465116279\n",
      "Recall: 0.851261620185923\n",
      "F1-score: 0.8896599583622484\n",
      "Accuracy: 0.9197577592732779\n"
     ]
    }
   ],
   "source": [
    "clf=tree.DecisionTreeClassifier(random_state=42,min_samples_split=9,class_weight={0:1,1:2},min_samples_leaf=5,ccp_alpha=0.00002,min_impurity_decrease=0.0001)\n",
    "clf.fit(X_train,y_train)\n",
    "y_predict = clf.predict(X_test)\n",
    "accuracy_test = accuracy_score(y_test,y_predict )\n",
    "cm= confusion_matrix(y_test, y_predict)\n",
    "print(cm)\n",
    "precision = precision_score(y_test, y_predict )\n",
    "recall = recall_score(y_test, y_predict)\n",
    "f1 = f1_score(y_test, y_predict)\n",
    "accuracy = accuracy_score(y_test, y_predict)\n",
    "print(\"Precision:\", precision)\n",
    "print(\"Recall:\", recall)\n",
    "print(\"F1-score:\", f1)\n",
    "print(\"Accuracy:\", accuracy)"
   ]
  },
  {
   "cell_type": "code",
   "execution_count": 60,
   "id": "aca0f5b6",
   "metadata": {},
   "outputs": [
    {
     "name": "stdout",
     "output_type": "stream",
     "text": [
      "[[4705  209]\n",
      " [ 449 2563]]\n",
      "Precision: 0.9246031746031746\n",
      "Recall: 0.850929614873838\n",
      "F1-score: 0.8862378976486861\n",
      "Accuracy: 0.9169820842795862\n"
     ]
    }
   ],
   "source": [
    "clf=tree.DecisionTreeClassifier(random_state=42,min_samples_split=9,class_weight={0:1,1:2},min_samples_leaf=5,ccp_alpha=0.00002,min_impurity_decrease=0.00001)\n",
    "clf.fit(X_train,y_train)\n",
    "y_predict = clf.predict(X_test)\n",
    "accuracy_test = accuracy_score(y_test,y_predict )\n",
    "cm= confusion_matrix(y_test, y_predict)\n",
    "print(cm)\n",
    "precision = precision_score(y_test, y_predict )\n",
    "recall = recall_score(y_test, y_predict)\n",
    "f1 = f1_score(y_test, y_predict)\n",
    "accuracy = accuracy_score(y_test, y_predict)\n",
    "print(\"Precision:\", precision)\n",
    "print(\"Recall:\", recall)\n",
    "print(\"F1-score:\", f1)\n",
    "print(\"Accuracy:\", accuracy)"
   ]
  },
  {
   "cell_type": "code",
   "execution_count": 62,
   "id": "adea41a4",
   "metadata": {},
   "outputs": [
    {
     "name": "stdout",
     "output_type": "stream",
     "text": [
      "[[4692  222]\n",
      " [ 406 2606]]\n",
      "Precision: 0.9214992927864215\n",
      "Recall: 0.8652058432934927\n",
      "F1-score: 0.8924657534246576\n",
      "Accuracy: 0.9207670956346202\n"
     ]
    }
   ],
   "source": [
    "clf=tree.DecisionTreeClassifier(random_state=42,min_samples_split=9,class_weight={0:1,1:2},min_samples_leaf=5,ccp_alpha=0.00002,min_impurity_decrease=0.0000001)\n",
    "clf.fit(X_train,y_train)\n",
    "y_predict = clf.predict(X_test)\n",
    "accuracy_test = accuracy_score(y_test,y_predict )\n",
    "cm= confusion_matrix(y_test, y_predict)\n",
    "print(cm)\n",
    "precision = precision_score(y_test, y_predict )\n",
    "recall = recall_score(y_test, y_predict)\n",
    "f1 = f1_score(y_test, y_predict)\n",
    "accuracy = accuracy_score(y_test, y_predict)\n",
    "print(\"Precision:\", precision)\n",
    "print(\"Recall:\", recall)\n",
    "print(\"F1-score:\", f1)\n",
    "print(\"Accuracy:\", accuracy)"
   ]
  },
  {
   "cell_type": "code",
   "execution_count": 63,
   "id": "9d287c1e",
   "metadata": {},
   "outputs": [
    {
     "name": "stdout",
     "output_type": "stream",
     "text": [
      "[[4730  184]\n",
      " [ 408 2604]]\n",
      "Precision: 0.9340028694404591\n",
      "Recall: 0.8645418326693227\n",
      "F1-score: 0.8979310344827586\n",
      "Accuracy: 0.9253091092606611\n"
     ]
    }
   ],
   "source": [
    "clf=tree.DecisionTreeClassifier(random_state=42,min_samples_split=9,class_weight='balanced',min_samples_leaf=5,ccp_alpha=0.00002,min_impurity_decrease=0.0000001)\n",
    "clf.fit(X_train,y_train)\n",
    "y_predict = clf.predict(X_test)\n",
    "accuracy_test = accuracy_score(y_test,y_predict )\n",
    "cm= confusion_matrix(y_test, y_predict)\n",
    "print(cm)\n",
    "precision = precision_score(y_test, y_predict )\n",
    "recall = recall_score(y_test, y_predict)\n",
    "f1 = f1_score(y_test, y_predict)\n",
    "accuracy = accuracy_score(y_test, y_predict)\n",
    "print(\"Precision:\", precision)\n",
    "print(\"Recall:\", recall)\n",
    "print(\"F1-score:\", f1)\n",
    "print(\"Accuracy:\", accuracy)\n"
   ]
  },
  {
   "cell_type": "code",
   "execution_count": null,
   "id": "0e5818b6",
   "metadata": {},
   "outputs": [],
   "source": []
  }
 ],
 "metadata": {
  "kernelspec": {
   "display_name": "Python 3 (ipykernel)",
   "language": "python",
   "name": "python3"
  },
  "language_info": {
   "codemirror_mode": {
    "name": "ipython",
    "version": 3
   },
   "file_extension": ".py",
   "mimetype": "text/x-python",
   "name": "python",
   "nbconvert_exporter": "python",
   "pygments_lexer": "ipython3",
   "version": "3.11.5"
  }
 },
 "nbformat": 4,
 "nbformat_minor": 5
}
