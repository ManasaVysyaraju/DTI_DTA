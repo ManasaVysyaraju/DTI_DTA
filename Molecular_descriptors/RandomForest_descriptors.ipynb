{
 "cells": [
  {
   "cell_type": "code",
   "execution_count": 1,
   "id": "edd0367a",
   "metadata": {},
   "outputs": [],
   "source": [
    "import pandas as pd\n",
    "from sklearn.ensemble import RandomForestClassifier\n",
    "from sklearn.metrics import accuracy_score, classification_report\n",
    "from sklearn.metrics import precision_score, recall_score, f1_score, accuracy_score,confusion_matrix"
   ]
  },
  {
   "cell_type": "code",
   "execution_count": 2,
   "id": "5975cf96",
   "metadata": {},
   "outputs": [],
   "source": [
    "df=pd.read_csv('Descriptors_Train_Dataset.csv')\n",
    "df_test=pd.read_csv('Descriptors_Test_Dataset.csv')"
   ]
  },
  {
   "cell_type": "code",
   "execution_count": 3,
   "id": "e5ebb842",
   "metadata": {},
   "outputs": [],
   "source": [
    "X_train=df.drop(columns=['P_ID','Drug_ID','MD1'])\n",
    "y_train=df['MD1']\n",
    "X_test=df_test.drop(columns=['P_ID','Drug_ID','MD1'])\n",
    "y_test=df_test['MD1']"
   ]
  },
  {
   "cell_type": "code",
   "execution_count": 5,
   "id": "a89028c6",
   "metadata": {},
   "outputs": [
    {
     "name": "stderr",
     "output_type": "stream",
     "text": [
      "[Parallel(n_jobs=1)]: Using backend SequentialBackend with 1 concurrent workers.\n"
     ]
    },
    {
     "name": "stdout",
     "output_type": "stream",
     "text": [
      "building tree 1 of 78\n"
     ]
    },
    {
     "name": "stderr",
     "output_type": "stream",
     "text": [
      "[Parallel(n_jobs=1)]: Done   1 out of   1 | elapsed:    0.2s remaining:    0.0s\n"
     ]
    },
    {
     "name": "stdout",
     "output_type": "stream",
     "text": [
      "building tree 2 of 78\n"
     ]
    },
    {
     "name": "stderr",
     "output_type": "stream",
     "text": [
      "[Parallel(n_jobs=1)]: Done   2 out of   2 | elapsed:    0.4s remaining:    0.0s\n"
     ]
    },
    {
     "name": "stdout",
     "output_type": "stream",
     "text": [
      "building tree 3 of 78\n",
      "building tree 4 of 78\n",
      "building tree 5 of 78\n",
      "building tree 6 of 78\n",
      "building tree 7 of 78\n",
      "building tree 8 of 78\n",
      "building tree 9 of 78\n",
      "building tree 10 of 78\n",
      "building tree 11 of 78\n",
      "building tree 12 of 78\n",
      "building tree 13 of 78\n",
      "building tree 14 of 78\n",
      "building tree 15 of 78\n",
      "building tree 16 of 78\n",
      "building tree 17 of 78\n",
      "building tree 18 of 78\n",
      "building tree 19 of 78\n",
      "building tree 20 of 78\n",
      "building tree 21 of 78\n",
      "building tree 22 of 78\n",
      "building tree 23 of 78\n",
      "building tree 24 of 78\n",
      "building tree 25 of 78\n",
      "building tree 26 of 78\n",
      "building tree 27 of 78\n",
      "building tree 28 of 78\n",
      "building tree 29 of 78\n",
      "building tree 30 of 78\n",
      "building tree 31 of 78\n",
      "building tree 32 of 78\n",
      "building tree 33 of 78\n",
      "building tree 34 of 78\n",
      "building tree 35 of 78\n",
      "building tree 36 of 78\n",
      "building tree 37 of 78\n",
      "building tree 38 of 78\n",
      "building tree 39 of 78\n",
      "building tree 40 of 78\n",
      "building tree 41 of 78\n",
      "building tree 42 of 78\n",
      "building tree 43 of 78\n",
      "building tree 44 of 78\n",
      "building tree 45 of 78\n",
      "building tree 46 of 78\n",
      "building tree 47 of 78\n",
      "building tree 48 of 78\n",
      "building tree 49 of 78\n",
      "building tree 50 of 78\n",
      "building tree 51 of 78\n",
      "building tree 52 of 78\n",
      "building tree 53 of 78\n",
      "building tree 54 of 78\n",
      "building tree 55 of 78\n",
      "building tree 56 of 78\n",
      "building tree 57 of 78\n",
      "building tree 58 of 78\n",
      "building tree 59 of 78\n",
      "building tree 60 of 78\n",
      "building tree 61 of 78\n",
      "building tree 62 of 78\n",
      "building tree 63 of 78\n",
      "building tree 64 of 78\n",
      "building tree 65 of 78\n",
      "building tree 66 of 78\n",
      "building tree 67 of 78\n",
      "building tree 68 of 78\n",
      "building tree 69 of 78\n",
      "building tree 70 of 78\n",
      "building tree 71 of 78\n",
      "building tree 72 of 78\n",
      "building tree 73 of 78\n",
      "building tree 74 of 78\n",
      "building tree 75 of 78\n",
      "building tree 76 of 78\n",
      "building tree 77 of 78\n",
      "building tree 78 of 78\n"
     ]
    },
    {
     "name": "stderr",
     "output_type": "stream",
     "text": [
      "[Parallel(n_jobs=1)]: Done  78 out of  78 | elapsed:   15.9s finished\n",
      "[Parallel(n_jobs=1)]: Using backend SequentialBackend with 1 concurrent workers.\n",
      "[Parallel(n_jobs=1)]: Done   1 out of   1 | elapsed:    0.0s remaining:    0.0s\n",
      "[Parallel(n_jobs=1)]: Done   2 out of   2 | elapsed:    0.0s remaining:    0.0s\n"
     ]
    },
    {
     "name": "stdout",
     "output_type": "stream",
     "text": [
      "[[4864   50]\n",
      " [ 435 2577]]\n",
      "Accuracy: 0.9388089830936159\n",
      "Precision: 0.980966882375333\n",
      "Recall: 0.8555776892430279\n",
      "F1-score: 0.9139918425252703\n",
      "Accuracy: 0.9388089830936159\n"
     ]
    },
    {
     "name": "stderr",
     "output_type": "stream",
     "text": [
      "[Parallel(n_jobs=1)]: Done  78 out of  78 | elapsed:    0.2s finished\n"
     ]
    }
   ],
   "source": [
    "clf=RandomForestClassifier(verbose=3,n_estimators=78,ccp_alpha=0.000015,random_state=42,min_impurity_decrease=0.0000052,max_leaf_nodes=400) \n",
    "clf.fit(X_train, y_train)\n",
    "y_predict=clf.predict(X_test)\n",
    "acc_score=accuracy_score(y_test,y_predict)\n",
    "cm= confusion_matrix(y_test, y_predict)\n",
    "print(cm)\n",
    "print(\"Accuracy:\", accuracy_score(y_test, y_predict))\n",
    "precision = precision_score(y_test, y_predict )\n",
    "recall = recall_score(y_test, y_predict)\n",
    "f1 = f1_score(y_test, y_predict)\n",
    "accuracy = accuracy_score(y_test, y_predict)\n",
    "print(\"Precision:\", precision)\n",
    "print(\"Recall:\", recall)\n",
    "print(\"F1-score:\", f1)\n",
    "print(\"Accuracy:\", accuracy)\n"
   ]
  },
  {
   "cell_type": "code",
   "execution_count": 6,
   "id": "8a846c5d",
   "metadata": {},
   "outputs": [
    {
     "name": "stdout",
     "output_type": "stream",
     "text": [
      "[[4864   50]\n",
      " [ 451 2561]]\n",
      "Accuracy: 0.9367903103709311\n",
      "Precision: 0.9808502489467636\n",
      "Recall: 0.850265604249668\n",
      "F1-score: 0.9109016539213942\n",
      "Accuracy: 0.9367903103709311\n"
     ]
    }
   ],
   "source": [
    "clf=RandomForestClassifier() \n",
    "clf.fit(X_train, y_train)\n",
    "y_predict=clf.predict(X_test)\n",
    "acc_score=accuracy_score(y_test,y_predict)\n",
    "cm= confusion_matrix(y_test, y_predict)\n",
    "print(cm)\n",
    "print(\"Accuracy:\", accuracy_score(y_test, y_predict))\n",
    "precision = precision_score(y_test, y_predict )\n",
    "recall = recall_score(y_test, y_predict)\n",
    "f1 = f1_score(y_test, y_predict)\n",
    "accuracy = accuracy_score(y_test, y_predict)\n",
    "print(\"Precision:\", precision)\n",
    "print(\"Recall:\", recall)\n",
    "print(\"F1-score:\", f1)\n",
    "print(\"Accuracy:\", accuracy)\n"
   ]
  },
  {
   "cell_type": "code",
   "execution_count": 7,
   "id": "208b9854",
   "metadata": {},
   "outputs": [
    {
     "name": "stdout",
     "output_type": "stream",
     "text": [
      "[[4863   51]\n",
      " [ 457 2555]]\n",
      "Accuracy: 0.9359071410547565\n",
      "Precision: 0.9804297774366846\n",
      "Recall: 0.8482735723771581\n",
      "F1-score: 0.9095763616945531\n",
      "Accuracy: 0.9359071410547565\n"
     ]
    }
   ],
   "source": [
    "clf=RandomForestClassifier(random_state=42,n_estimators=500) \n",
    "clf.fit(X_train, y_train)\n",
    "y_predict=clf.predict(X_test)\n",
    "acc_score=accuracy_score(y_test,y_predict)\n",
    "cm= confusion_matrix(y_test, y_predict)\n",
    "print(cm)\n",
    "print(\"Accuracy:\", accuracy_score(y_test, y_predict))\n",
    "precision = precision_score(y_test, y_predict )\n",
    "recall = recall_score(y_test, y_predict)\n",
    "f1 = f1_score(y_test, y_predict)\n",
    "accuracy = accuracy_score(y_test, y_predict)\n",
    "print(\"Precision:\", precision)\n",
    "print(\"Recall:\", recall)\n",
    "print(\"F1-score:\", f1)\n",
    "print(\"Accuracy:\", accuracy)\n"
   ]
  },
  {
   "cell_type": "code",
   "execution_count": 8,
   "id": "c52b095a",
   "metadata": {},
   "outputs": [
    {
     "name": "stdout",
     "output_type": "stream",
     "text": [
      "[[4864   50]\n",
      " [ 453 2559]]\n",
      "Accuracy: 0.9365379762805955\n",
      "Precision: 0.9808355691835953\n",
      "Recall: 0.849601593625498\n",
      "F1-score: 0.9105141433908558\n",
      "Accuracy: 0.9365379762805955\n"
     ]
    }
   ],
   "source": [
    "clf=RandomForestClassifier(random_state=42,n_estimators=150) \n",
    "clf.fit(X_train, y_train)\n",
    "y_predict=clf.predict(X_test)\n",
    "acc_score=accuracy_score(y_test,y_predict)\n",
    "cm= confusion_matrix(y_test, y_predict)\n",
    "print(cm)\n",
    "print(\"Accuracy:\", accuracy_score(y_test, y_predict))\n",
    "precision = precision_score(y_test, y_predict )\n",
    "recall = recall_score(y_test, y_predict)\n",
    "f1 = f1_score(y_test, y_predict)\n",
    "accuracy = accuracy_score(y_test, y_predict)\n",
    "print(\"Precision:\", precision)\n",
    "print(\"Recall:\", recall)\n",
    "print(\"F1-score:\", f1)\n",
    "print(\"Accuracy:\", accuracy)\n"
   ]
  },
  {
   "cell_type": "code",
   "execution_count": 11,
   "id": "3f245547",
   "metadata": {},
   "outputs": [
    {
     "name": "stdout",
     "output_type": "stream",
     "text": [
      "[[4867   47]\n",
      " [ 537 2475]]\n",
      "Accuracy: 0.9263184456220035\n",
      "Precision: 0.9813639968279143\n",
      "Recall: 0.8217131474103586\n",
      "F1-score: 0.8944705457173835\n",
      "Accuracy: 0.9263184456220035\n"
     ]
    }
   ],
   "source": [
    "clf=RandomForestClassifier(random_state=42,max_features=226) \n",
    "clf.fit(X_train, y_train)\n",
    "y_predict=clf.predict(X_test)\n",
    "acc_score=accuracy_score(y_test,y_predict)\n",
    "cm= confusion_matrix(y_test, y_predict)\n",
    "print(cm)\n",
    "print(\"Accuracy:\", accuracy_score(y_test, y_predict))\n",
    "precision = precision_score(y_test, y_predict )\n",
    "recall = recall_score(y_test, y_predict)\n",
    "f1 = f1_score(y_test, y_predict)\n",
    "accuracy = accuracy_score(y_test, y_predict)\n",
    "print(\"Precision:\", precision)\n",
    "print(\"Recall:\", recall)\n",
    "print(\"F1-score:\", f1)\n",
    "print(\"Accuracy:\", accuracy)\n"
   ]
  },
  {
   "cell_type": "code",
   "execution_count": 13,
   "id": "cc80cc35",
   "metadata": {},
   "outputs": [
    {
     "name": "stdout",
     "output_type": "stream",
     "text": [
      "[[4864   50]\n",
      " [ 511 2501]]\n",
      "Accuracy: 0.929220287660863\n",
      "Precision: 0.9803998431987456\n",
      "Recall: 0.8303452855245684\n",
      "F1-score: 0.8991551321229553\n",
      "Accuracy: 0.929220287660863\n"
     ]
    }
   ],
   "source": [
    "clf=RandomForestClassifier(random_state=42,n_estimators=150,max_features=150) \n",
    "clf.fit(X_train, y_train)\n",
    "y_predict=clf.predict(X_test)\n",
    "acc_score=accuracy_score(y_test,y_predict)\n",
    "cm= confusion_matrix(y_test, y_predict)\n",
    "print(cm)\n",
    "print(\"Accuracy:\", accuracy_score(y_test, y_predict))\n",
    "precision = precision_score(y_test, y_predict )\n",
    "recall = recall_score(y_test, y_predict)\n",
    "f1 = f1_score(y_test, y_predict)\n",
    "accuracy = accuracy_score(y_test, y_predict)\n",
    "print(\"Precision:\", precision)\n",
    "print(\"Recall:\", recall)\n",
    "print(\"F1-score:\", f1)\n",
    "print(\"Accuracy:\", accuracy)\n"
   ]
  },
  {
   "cell_type": "code",
   "execution_count": 14,
   "id": "76a3392d",
   "metadata": {},
   "outputs": [
    {
     "name": "stdout",
     "output_type": "stream",
     "text": [
      "[[4861   53]\n",
      " [ 507 2505]]\n",
      "Accuracy: 0.9293464547060308\n",
      "Precision: 0.9792806880375293\n",
      "Recall: 0.8316733067729084\n",
      "F1-score: 0.8994614003590664\n",
      "Accuracy: 0.9293464547060308\n"
     ]
    }
   ],
   "source": [
    "clf=RandomForestClassifier(random_state=42,max_features=150) \n",
    "clf.fit(X_train, y_train)\n",
    "y_predict=clf.predict(X_test)\n",
    "acc_score=accuracy_score(y_test,y_predict)\n",
    "cm= confusion_matrix(y_test, y_predict)\n",
    "print(cm)\n",
    "print(\"Accuracy:\", accuracy_score(y_test, y_predict))\n",
    "precision = precision_score(y_test, y_predict )\n",
    "recall = recall_score(y_test, y_predict)\n",
    "f1 = f1_score(y_test, y_predict)\n",
    "accuracy = accuracy_score(y_test, y_predict)\n",
    "print(\"Precision:\", precision)\n",
    "print(\"Recall:\", recall)\n",
    "print(\"F1-score:\", f1)\n",
    "print(\"Accuracy:\", accuracy)\n"
   ]
  },
  {
   "cell_type": "code",
   "execution_count": 16,
   "id": "93bf43e7",
   "metadata": {},
   "outputs": [
    {
     "name": "stdout",
     "output_type": "stream",
     "text": [
      "[[4852   62]\n",
      " [ 536 2476]]\n",
      "Accuracy: 0.9245521069896543\n",
      "Precision: 0.9755713159968479\n",
      "Recall: 0.8220451527224436\n",
      "F1-score: 0.8922522522522524\n",
      "Accuracy: 0.9245521069896543\n"
     ]
    }
   ],
   "source": [
    "clf=RandomForestClassifier(random_state=42,n_estimators=75,max_features=200) \n",
    "clf.fit(X_train, y_train)\n",
    "y_predict=clf.predict(X_test)\n",
    "acc_score=accuracy_score(y_test,y_predict)\n",
    "cm= confusion_matrix(y_test, y_predict)\n",
    "print(cm)\n",
    "print(\"Accuracy:\", accuracy_score(y_test, y_predict))\n",
    "precision = precision_score(y_test, y_predict )\n",
    "recall = recall_score(y_test, y_predict)\n",
    "f1 = f1_score(y_test, y_predict)\n",
    "accuracy = accuracy_score(y_test, y_predict)\n",
    "print(\"Precision:\", precision)\n",
    "print(\"Recall:\", recall)\n",
    "print(\"F1-score:\", f1)\n",
    "print(\"Accuracy:\", accuracy)\n"
   ]
  },
  {
   "cell_type": "code",
   "execution_count": 17,
   "id": "67e3bfc6",
   "metadata": {},
   "outputs": [
    {
     "name": "stdout",
     "output_type": "stream",
     "text": [
      "[[4859   55]\n",
      " [ 535 2477]]\n",
      "Accuracy: 0.9255614433509968\n",
      "Precision: 0.9782780410742496\n",
      "Recall: 0.8223771580345286\n",
      "F1-score: 0.8935786435786436\n",
      "Accuracy: 0.9255614433509968\n"
     ]
    }
   ],
   "source": [
    "clf=RandomForestClassifier(random_state=42,n_estimators=150,max_features=200) \n",
    "clf.fit(X_train, y_train)\n",
    "y_predict=clf.predict(X_test)\n",
    "acc_score=accuracy_score(y_test,y_predict)\n",
    "cm= confusion_matrix(y_test, y_predict)\n",
    "print(cm)\n",
    "print(\"Accuracy:\", accuracy_score(y_test, y_predict))\n",
    "precision = precision_score(y_test, y_predict )\n",
    "recall = recall_score(y_test, y_predict)\n",
    "f1 = f1_score(y_test, y_predict)\n",
    "accuracy = accuracy_score(y_test, y_predict)\n",
    "print(\"Precision:\", precision)\n",
    "print(\"Recall:\", recall)\n",
    "print(\"F1-score:\", f1)\n",
    "print(\"Accuracy:\", accuracy)\n"
   ]
  },
  {
   "cell_type": "code",
   "execution_count": 18,
   "id": "1aa5c8df",
   "metadata": {},
   "outputs": [
    {
     "name": "stdout",
     "output_type": "stream",
     "text": [
      "[[4858   56]\n",
      " [ 370 2642]]\n",
      "Accuracy: 0.9462528387585163\n",
      "Precision: 0.9792438843587843\n",
      "Recall: 0.8771580345285525\n",
      "F1-score: 0.9253940455341506\n",
      "Accuracy: 0.9462528387585163\n"
     ]
    }
   ],
   "source": [
    "clf=RandomForestClassifier(ccp_alpha=0.000015,random_state=42,min_impurity_decrease=0.0000052) \n",
    "clf.fit(X_train, y_train)\n",
    "y_predict=clf.predict(X_test)\n",
    "acc_score=accuracy_score(y_test,y_predict)\n",
    "cm= confusion_matrix(y_test, y_predict)\n",
    "print(cm)\n",
    "print(\"Accuracy:\", accuracy_score(y_test, y_predict))\n",
    "precision = precision_score(y_test, y_predict )\n",
    "recall = recall_score(y_test, y_predict)\n",
    "f1 = f1_score(y_test, y_predict)\n",
    "accuracy = accuracy_score(y_test, y_predict)\n",
    "print(\"Precision:\", precision)\n",
    "print(\"Recall:\", recall)\n",
    "print(\"F1-score:\", f1)\n",
    "print(\"Accuracy:\", accuracy)\n"
   ]
  },
  {
   "cell_type": "code",
   "execution_count": 24,
   "id": "74a4ca8f",
   "metadata": {},
   "outputs": [
    {
     "name": "stdout",
     "output_type": "stream",
     "text": [
      "[[4849   65]\n",
      " [ 386 2626]]\n",
      "Accuracy: 0.9430986626293212\n",
      "Precision: 0.9758454106280193\n",
      "Recall: 0.8718459495351926\n",
      "F1-score: 0.9209188146589514\n",
      "Accuracy: 0.9430986626293212\n"
     ]
    }
   ],
   "source": [
    "clf=RandomForestClassifier(ccp_alpha=0.000015,random_state=42,min_impurity_decrease=0.0000052,n_estimators=56) \n",
    "clf.fit(X_train, y_train)\n",
    "y_predict=clf.predict(X_test)\n",
    "acc_score=accuracy_score(y_test,y_predict)\n",
    "cm= confusion_matrix(y_test, y_predict)\n",
    "print(cm)\n",
    "print(\"Accuracy:\", accuracy_score(y_test, y_predict))\n",
    "precision = precision_score(y_test, y_predict )\n",
    "recall = recall_score(y_test, y_predict)\n",
    "f1 = f1_score(y_test, y_predict)\n",
    "accuracy = accuracy_score(y_test, y_predict)\n",
    "print(\"Precision:\", precision)\n",
    "print(\"Recall:\", recall)\n",
    "print(\"F1-score:\", f1)\n",
    "print(\"Accuracy:\", accuracy)\n"
   ]
  },
  {
   "cell_type": "code",
   "execution_count": 25,
   "id": "13dbe642",
   "metadata": {},
   "outputs": [
    {
     "name": "stdout",
     "output_type": "stream",
     "text": [
      "[[4861   53]\n",
      " [ 449 2563]]\n",
      "Accuracy: 0.9366641433257633\n",
      "Precision: 0.9797400611620795\n",
      "Recall: 0.850929614873838\n",
      "F1-score: 0.9108031272210377\n",
      "Accuracy: 0.9366641433257633\n"
     ]
    }
   ],
   "source": [
    "clf=RandomForestClassifier(ccp_alpha=0.000015,random_state=42,min_impurity_decrease=0.0000052,class_weight={0:1,1:1.745}) \n",
    "clf.fit(X_train, y_train)\n",
    "y_predict=clf.predict(X_test)\n",
    "acc_score=accuracy_score(y_test,y_predict)\n",
    "cm= confusion_matrix(y_test, y_predict)\n",
    "print(cm)\n",
    "print(\"Accuracy:\", accuracy_score(y_test, y_predict))\n",
    "precision = precision_score(y_test, y_predict )\n",
    "recall = recall_score(y_test, y_predict)\n",
    "f1 = f1_score(y_test, y_predict)\n",
    "accuracy = accuracy_score(y_test, y_predict)\n",
    "print(\"Precision:\", precision)\n",
    "print(\"Recall:\", recall)\n",
    "print(\"F1-score:\", f1)\n",
    "print(\"Accuracy:\", accuracy)\n"
   ]
  },
  {
   "cell_type": "code",
   "execution_count": 27,
   "id": "2ce2cc18",
   "metadata": {},
   "outputs": [
    {
     "name": "stdout",
     "output_type": "stream",
     "text": [
      "[[4860   54]\n",
      " [ 417 2595]]\n",
      "Accuracy: 0.9405753217259651\n",
      "Precision: 0.9796149490373726\n",
      "Recall: 0.8615537848605578\n",
      "F1-score: 0.9167991520932698\n",
      "Accuracy: 0.9405753217259651\n"
     ]
    }
   ],
   "source": [
    "clf=RandomForestClassifier(ccp_alpha=0.000015,random_state=42,min_impurity_decrease=0.0000052,n_estimators=150) \n",
    "clf.fit(X_train, y_train)\n",
    "y_predict=clf.predict(X_test)\n",
    "acc_score=accuracy_score(y_test,y_predict)\n",
    "cm= confusion_matrix(y_test, y_predict)\n",
    "print(cm)\n",
    "print(\"Accuracy:\", accuracy_score(y_test, y_predict))\n",
    "precision = precision_score(y_test, y_predict )\n",
    "recall = recall_score(y_test, y_predict)\n",
    "f1 = f1_score(y_test, y_predict)\n",
    "accuracy = accuracy_score(y_test, y_predict)\n",
    "print(\"Precision:\", precision)\n",
    "print(\"Recall:\", recall)\n",
    "print(\"F1-score:\", f1)\n",
    "print(\"Accuracy:\", accuracy)\n"
   ]
  },
  {
   "cell_type": "code",
   "execution_count": 28,
   "id": "1f42fc8c",
   "metadata": {},
   "outputs": [
    {
     "name": "stdout",
     "output_type": "stream",
     "text": [
      "[[4858   56]\n",
      " [ 388 2624]]\n",
      "Accuracy: 0.9439818319454958\n",
      "Precision: 0.9791044776119403\n",
      "Recall: 0.8711819389110226\n",
      "F1-score: 0.921995783555868\n",
      "Accuracy: 0.9439818319454958\n"
     ]
    }
   ],
   "source": [
    "clf=RandomForestClassifier(ccp_alpha=0.000015,random_state=42,min_impurity_decrease=0.0000052,n_estimators=75) \n",
    "clf.fit(X_train, y_train)\n",
    "y_predict=clf.predict(X_test)\n",
    "acc_score=accuracy_score(y_test,y_predict)\n",
    "cm= confusion_matrix(y_test, y_predict)\n",
    "print(cm)\n",
    "print(\"Accuracy:\", accuracy_score(y_test, y_predict))\n",
    "precision = precision_score(y_test, y_predict )\n",
    "recall = recall_score(y_test, y_predict)\n",
    "f1 = f1_score(y_test, y_predict)\n",
    "accuracy = accuracy_score(y_test, y_predict)\n",
    "print(\"Precision:\", precision)\n",
    "print(\"Recall:\", recall)\n",
    "print(\"F1-score:\", f1)\n",
    "print(\"Accuracy:\", accuracy)\n"
   ]
  },
  {
   "cell_type": "code",
   "execution_count": 29,
   "id": "f6e8a221",
   "metadata": {},
   "outputs": [
    {
     "name": "stdout",
     "output_type": "stream",
     "text": [
      "[[4854   60]\n",
      " [ 382 2630]]\n",
      "Accuracy: 0.9442341660358314\n",
      "Precision: 0.9776951672862454\n",
      "Recall: 0.8731739707835325\n",
      "F1-score: 0.9224833391792354\n",
      "Accuracy: 0.9442341660358314\n"
     ]
    }
   ],
   "source": [
    "clf=RandomForestClassifier(ccp_alpha=0.000015,random_state=42,min_impurity_decrease=0.0000052,n_estimators=80) \n",
    "clf.fit(X_train, y_train)\n",
    "y_predict=clf.predict(X_test)\n",
    "acc_score=accuracy_score(y_test,y_predict)\n",
    "cm= confusion_matrix(y_test, y_predict)\n",
    "print(cm)\n",
    "print(\"Accuracy:\", accuracy_score(y_test, y_predict))\n",
    "precision = precision_score(y_test, y_predict )\n",
    "recall = recall_score(y_test, y_predict)\n",
    "f1 = f1_score(y_test, y_predict)\n",
    "accuracy = accuracy_score(y_test, y_predict)\n",
    "print(\"Precision:\", precision)\n",
    "print(\"Recall:\", recall)\n",
    "print(\"F1-score:\", f1)\n",
    "print(\"Accuracy:\", accuracy)\n"
   ]
  },
  {
   "cell_type": "code",
   "execution_count": 31,
   "id": "05ae723a",
   "metadata": {},
   "outputs": [
    {
     "name": "stdout",
     "output_type": "stream",
     "text": [
      "[[4853   61]\n",
      " [ 374 2638]]\n",
      "Accuracy: 0.945117335352006\n",
      "Precision: 0.977399036680252\n",
      "Recall: 0.8758300132802125\n",
      "F1-score: 0.9238312029416915\n",
      "Accuracy: 0.945117335352006\n"
     ]
    }
   ],
   "source": [
    "clf=RandomForestClassifier(ccp_alpha=0.000015,random_state=42,min_impurity_decrease=0.0000052,n_estimators=28) \n",
    "clf.fit(X_train, y_train)\n",
    "y_predict=clf.predict(X_test)\n",
    "acc_score=accuracy_score(y_test,y_predict)\n",
    "cm= confusion_matrix(y_test, y_predict)\n",
    "print(cm)\n",
    "print(\"Accuracy:\", accuracy_score(y_test, y_predict))\n",
    "precision = precision_score(y_test, y_predict )\n",
    "recall = recall_score(y_test, y_predict)\n",
    "f1 = f1_score(y_test, y_predict)\n",
    "accuracy = accuracy_score(y_test, y_predict)\n",
    "print(\"Precision:\", precision)\n",
    "print(\"Recall:\", recall)\n",
    "print(\"F1-score:\", f1)\n",
    "print(\"Accuracy:\", accuracy)"
   ]
  },
  {
   "cell_type": "code",
   "execution_count": 32,
   "id": "84abe412",
   "metadata": {},
   "outputs": [
    {
     "name": "stdout",
     "output_type": "stream",
     "text": [
      "[[4856   58]\n",
      " [ 379 2633]]\n",
      "Accuracy: 0.9448650012616705\n",
      "Precision: 0.978446674098848\n",
      "Recall: 0.8741699867197875\n",
      "F1-score: 0.923373662984394\n",
      "Accuracy: 0.9448650012616705\n"
     ]
    }
   ],
   "source": [
    "clf=RandomForestClassifier(ccp_alpha=0.000015,random_state=42,min_impurity_decrease=0.0000052,n_estimators=30) \n",
    "clf.fit(X_train, y_train)\n",
    "y_predict=clf.predict(X_test)\n",
    "acc_score=accuracy_score(y_test,y_predict)\n",
    "cm= confusion_matrix(y_test, y_predict)\n",
    "print(cm)\n",
    "print(\"Accuracy:\", accuracy_score(y_test, y_predict))\n",
    "precision = precision_score(y_test, y_predict )\n",
    "recall = recall_score(y_test, y_predict)\n",
    "f1 = f1_score(y_test, y_predict)\n",
    "accuracy = accuracy_score(y_test, y_predict)\n",
    "print(\"Precision:\", precision)\n",
    "print(\"Recall:\", recall)\n",
    "print(\"F1-score:\", f1)\n",
    "print(\"Accuracy:\", accuracy)"
   ]
  },
  {
   "cell_type": "code",
   "execution_count": 33,
   "id": "5b5cac38",
   "metadata": {},
   "outputs": [
    {
     "name": "stdout",
     "output_type": "stream",
     "text": [
      "[[4855   59]\n",
      " [ 395 2617]]\n",
      "Accuracy: 0.9427201614938178\n",
      "Precision: 0.9779521674140508\n",
      "Recall: 0.8688579017264276\n",
      "F1-score: 0.9201828410689171\n",
      "Accuracy: 0.9427201614938178\n"
     ]
    }
   ],
   "source": [
    "clf=RandomForestClassifier(ccp_alpha=0.000015,random_state=42,min_impurity_decrease=0.0000052,n_estimators=29) \n",
    "clf.fit(X_train, y_train)\n",
    "y_predict=clf.predict(X_test)\n",
    "acc_score=accuracy_score(y_test,y_predict)\n",
    "cm= confusion_matrix(y_test, y_predict)\n",
    "print(cm)\n",
    "print(\"Accuracy:\", accuracy_score(y_test, y_predict))\n",
    "precision = precision_score(y_test, y_predict )\n",
    "recall = recall_score(y_test, y_predict)\n",
    "f1 = f1_score(y_test, y_predict)\n",
    "accuracy = accuracy_score(y_test, y_predict)\n",
    "print(\"Precision:\", precision)\n",
    "print(\"Recall:\", recall)\n",
    "print(\"F1-score:\", f1)\n",
    "print(\"Accuracy:\", accuracy)"
   ]
  },
  {
   "cell_type": "code",
   "execution_count": 34,
   "id": "8b691129",
   "metadata": {},
   "outputs": [
    {
     "name": "stdout",
     "output_type": "stream",
     "text": [
      "[[4853   61]\n",
      " [ 374 2638]]\n",
      "Accuracy: 0.945117335352006\n",
      "Precision: 0.977399036680252\n",
      "Recall: 0.8758300132802125\n",
      "F1-score: 0.9238312029416915\n",
      "Accuracy: 0.945117335352006\n"
     ]
    }
   ],
   "source": [
    "clf=RandomForestClassifier(ccp_alpha=0.000015,random_state=42,min_impurity_decrease=0.0000052,n_estimators=28,max_features=27) \n",
    "clf.fit(X_train, y_train)\n",
    "y_predict=clf.predict(X_test)\n",
    "acc_score=accuracy_score(y_test,y_predict)\n",
    "cm= confusion_matrix(y_test, y_predict)\n",
    "print(cm)\n",
    "print(\"Accuracy:\", accuracy_score(y_test, y_predict))\n",
    "precision = precision_score(y_test, y_predict )\n",
    "recall = recall_score(y_test, y_predict)\n",
    "f1 = f1_score(y_test, y_predict)\n",
    "accuracy = accuracy_score(y_test, y_predict)\n",
    "print(\"Precision:\", precision)\n",
    "print(\"Recall:\", recall)\n",
    "print(\"F1-score:\", f1)\n",
    "print(\"Accuracy:\", accuracy)"
   ]
  },
  {
   "cell_type": "code",
   "execution_count": 36,
   "id": "55d2cd2a",
   "metadata": {},
   "outputs": [
    {
     "name": "stdout",
     "output_type": "stream",
     "text": [
      "[[4849   65]\n",
      " [ 386 2626]]\n",
      "Accuracy: 0.9430986626293212\n",
      "Precision: 0.9758454106280193\n",
      "Recall: 0.8718459495351926\n",
      "F1-score: 0.9209188146589514\n",
      "Accuracy: 0.9430986626293212\n"
     ]
    }
   ],
   "source": [
    "clf=RandomForestClassifier(ccp_alpha=0.000015,random_state=42,min_impurity_decrease=0.0000052,n_estimators=56,max_features=27) \n",
    "clf.fit(X_train, y_train)\n",
    "y_predict=clf.predict(X_test)\n",
    "acc_score=accuracy_score(y_test,y_predict)\n",
    "cm= confusion_matrix(y_test, y_predict)\n",
    "print(cm)\n",
    "print(\"Accuracy:\", accuracy_score(y_test, y_predict))\n",
    "precision = precision_score(y_test, y_predict )\n",
    "recall = recall_score(y_test, y_predict)\n",
    "f1 = f1_score(y_test, y_predict)\n",
    "accuracy = accuracy_score(y_test, y_predict)\n",
    "print(\"Precision:\", precision)\n",
    "print(\"Recall:\", recall)\n",
    "print(\"F1-score:\", f1)\n",
    "print(\"Accuracy:\", accuracy)"
   ]
  },
  {
   "cell_type": "code",
   "execution_count": 37,
   "id": "50b1a3c8",
   "metadata": {},
   "outputs": [
    {
     "name": "stdout",
     "output_type": "stream",
     "text": [
      "[[4854   60]\n",
      " [ 383 2629]]\n",
      "Accuracy: 0.9441079989906637\n",
      "Precision: 0.9776868724432874\n",
      "Recall: 0.8728419654714475\n",
      "F1-score: 0.9222943343273109\n",
      "Accuracy: 0.9441079989906637\n"
     ]
    }
   ],
   "source": [
    "clf=RandomForestClassifier(ccp_alpha=0.000015,random_state=42,min_impurity_decrease=0.0000052,n_estimators=84,max_features=27) \n",
    "clf.fit(X_train, y_train)\n",
    "y_predict=clf.predict(X_test)\n",
    "acc_score=accuracy_score(y_test,y_predict)\n",
    "cm= confusion_matrix(y_test, y_predict)\n",
    "print(cm)\n",
    "print(\"Accuracy:\", accuracy_score(y_test, y_predict))\n",
    "precision = precision_score(y_test, y_predict )\n",
    "recall = recall_score(y_test, y_predict)\n",
    "f1 = f1_score(y_test, y_predict)\n",
    "accuracy = accuracy_score(y_test, y_predict)\n",
    "print(\"Precision:\", precision)\n",
    "print(\"Recall:\", recall)\n",
    "print(\"F1-score:\", f1)\n",
    "print(\"Accuracy:\", accuracy)"
   ]
  },
  {
   "cell_type": "code",
   "execution_count": 38,
   "id": "1846f8d4",
   "metadata": {},
   "outputs": [
    {
     "name": "stdout",
     "output_type": "stream",
     "text": [
      "[[4861   53]\n",
      " [ 358 2654]]\n",
      "Accuracy: 0.9481453444360333\n",
      "Precision: 0.9804211304026598\n",
      "Recall: 0.8811420982735724\n",
      "F1-score: 0.9281342892114006\n",
      "Accuracy: 0.9481453444360333\n"
     ]
    }
   ],
   "source": [
    "clf=RandomForestClassifier(ccp_alpha=0.000015,random_state=42,min_impurity_decrease=0.000005) \n",
    "clf.fit(X_train, y_train)\n",
    "y_predict=clf.predict(X_test)\n",
    "acc_score=accuracy_score(y_test,y_predict)\n",
    "cm= confusion_matrix(y_test, y_predict)\n",
    "print(cm)\n",
    "print(\"Accuracy:\", accuracy_score(y_test, y_predict))\n",
    "precision = precision_score(y_test, y_predict )\n",
    "recall = recall_score(y_test, y_predict)\n",
    "f1 = f1_score(y_test, y_predict)\n",
    "accuracy = accuracy_score(y_test, y_predict)\n",
    "print(\"Precision:\", precision)\n",
    "print(\"Recall:\", recall)\n",
    "print(\"F1-score:\", f1)\n",
    "print(\"Accuracy:\", accuracy)"
   ]
  },
  {
   "cell_type": "code",
   "execution_count": 40,
   "id": "c9b97b25",
   "metadata": {},
   "outputs": [
    {
     "name": "stdout",
     "output_type": "stream",
     "text": [
      "[[4861   53]\n",
      " [ 358 2654]]\n",
      "Accuracy: 0.9481453444360333\n",
      "Precision: 0.9804211304026598\n",
      "Recall: 0.8811420982735724\n",
      "F1-score: 0.9281342892114006\n",
      "Accuracy: 0.9481453444360333\n"
     ]
    }
   ],
   "source": [
    "clf=RandomForestClassifier(ccp_alpha=0.00001,random_state=42,min_impurity_decrease=0.000005) \n",
    "clf.fit(X_train, y_train)\n",
    "y_predict=clf.predict(X_test)\n",
    "acc_score=accuracy_score(y_test,y_predict)\n",
    "cm= confusion_matrix(y_test, y_predict)\n",
    "print(cm)\n",
    "print(\"Accuracy:\", accuracy_score(y_test, y_predict))\n",
    "precision = precision_score(y_test, y_predict )\n",
    "recall = recall_score(y_test, y_predict)\n",
    "f1 = f1_score(y_test, y_predict)\n",
    "accuracy = accuracy_score(y_test, y_predict)\n",
    "print(\"Precision:\", precision)\n",
    "print(\"Recall:\", recall)\n",
    "print(\"F1-score:\", f1)\n",
    "print(\"Accuracy:\", accuracy)"
   ]
  },
  {
   "cell_type": "code",
   "execution_count": 41,
   "id": "1dc6ffff",
   "metadata": {},
   "outputs": [
    {
     "name": "stdout",
     "output_type": "stream",
     "text": [
      "[[4861   53]\n",
      " [ 358 2654]]\n",
      "Accuracy: 0.9481453444360333\n",
      "Precision: 0.9804211304026598\n",
      "Recall: 0.8811420982735724\n",
      "F1-score: 0.9281342892114006\n",
      "Accuracy: 0.9481453444360333\n"
     ]
    }
   ],
   "source": [
    "clf=RandomForestClassifier(ccp_alpha=0.000001,random_state=42,min_impurity_decrease=0.000005) \n",
    "clf.fit(X_train, y_train)\n",
    "y_predict=clf.predict(X_test)\n",
    "acc_score=accuracy_score(y_test,y_predict)\n",
    "cm= confusion_matrix(y_test, y_predict)\n",
    "print(cm)\n",
    "print(\"Accuracy:\", accuracy_score(y_test, y_predict))\n",
    "precision = precision_score(y_test, y_predict )\n",
    "recall = recall_score(y_test, y_predict)\n",
    "f1 = f1_score(y_test, y_predict)\n",
    "accuracy = accuracy_score(y_test, y_predict)\n",
    "print(\"Precision:\", precision)\n",
    "print(\"Recall:\", recall)\n",
    "print(\"F1-score:\", f1)\n",
    "print(\"Accuracy:\", accuracy)"
   ]
  },
  {
   "cell_type": "code",
   "execution_count": 42,
   "id": "da9b4342",
   "metadata": {},
   "outputs": [
    {
     "name": "stdout",
     "output_type": "stream",
     "text": [
      "[[4861   53]\n",
      " [ 359 2653]]\n",
      "Accuracy: 0.9480191773908655\n",
      "Precision: 0.9804138950480414\n",
      "Recall: 0.8808100929614874\n",
      "F1-score: 0.9279468345575377\n",
      "Accuracy: 0.9480191773908655\n"
     ]
    }
   ],
   "source": [
    "clf=RandomForestClassifier(ccp_alpha=0.00002,random_state=42,min_impurity_decrease=0.000005) \n",
    "clf.fit(X_train, y_train)\n",
    "y_predict=clf.predict(X_test)\n",
    "acc_score=accuracy_score(y_test,y_predict)\n",
    "cm= confusion_matrix(y_test, y_predict)\n",
    "print(cm)\n",
    "print(\"Accuracy:\", accuracy_score(y_test, y_predict))\n",
    "precision = precision_score(y_test, y_predict )\n",
    "recall = recall_score(y_test, y_predict)\n",
    "f1 = f1_score(y_test, y_predict)\n",
    "accuracy = accuracy_score(y_test, y_predict)\n",
    "print(\"Precision:\", precision)\n",
    "print(\"Recall:\", recall)\n",
    "print(\"F1-score:\", f1)\n",
    "print(\"Accuracy:\", accuracy)"
   ]
  },
  {
   "cell_type": "code",
   "execution_count": 43,
   "id": "bf7f9b76",
   "metadata": {},
   "outputs": [
    {
     "name": "stdout",
     "output_type": "stream",
     "text": [
      "[[4861   53]\n",
      " [ 362 2650]]\n",
      "Accuracy: 0.9476406762553621\n",
      "Precision: 0.9803921568627451\n",
      "Recall: 0.8798140770252324\n",
      "F1-score: 0.9273840769903763\n",
      "Accuracy: 0.9476406762553621\n"
     ]
    }
   ],
   "source": [
    "clf=RandomForestClassifier(ccp_alpha=0.00005,random_state=42,min_impurity_decrease=0.000005) \n",
    "clf.fit(X_train, y_train)\n",
    "y_predict=clf.predict(X_test)\n",
    "acc_score=accuracy_score(y_test,y_predict)\n",
    "cm= confusion_matrix(y_test, y_predict)\n",
    "print(cm)\n",
    "print(\"Accuracy:\", accuracy_score(y_test, y_predict))\n",
    "precision = precision_score(y_test, y_predict )\n",
    "recall = recall_score(y_test, y_predict)\n",
    "f1 = f1_score(y_test, y_predict)\n",
    "accuracy = accuracy_score(y_test, y_predict)\n",
    "print(\"Precision:\", precision)\n",
    "print(\"Recall:\", recall)\n",
    "print(\"F1-score:\", f1)\n",
    "print(\"Accuracy:\", accuracy)"
   ]
  },
  {
   "cell_type": "code",
   "execution_count": 44,
   "id": "63a5f9c1",
   "metadata": {},
   "outputs": [
    {
     "name": "stdout",
     "output_type": "stream",
     "text": [
      "[[4859   55]\n",
      " [ 380 2632]]\n",
      "Accuracy: 0.945117335352006\n",
      "Precision: 0.9795310755489394\n",
      "Recall: 0.8738379814077025\n",
      "F1-score: 0.9236708194420074\n",
      "Accuracy: 0.945117335352006\n"
     ]
    }
   ],
   "source": [
    "clf=RandomForestClassifier(ccp_alpha=0.0001,random_state=42,min_impurity_decrease=0.000005) \n",
    "clf.fit(X_train, y_train)\n",
    "y_predict=clf.predict(X_test)\n",
    "acc_score=accuracy_score(y_test,y_predict)\n",
    "cm= confusion_matrix(y_test, y_predict)\n",
    "print(cm)\n",
    "print(\"Accuracy:\", accuracy_score(y_test, y_predict))\n",
    "precision = precision_score(y_test, y_predict )\n",
    "recall = recall_score(y_test, y_predict)\n",
    "f1 = f1_score(y_test, y_predict)\n",
    "accuracy = accuracy_score(y_test, y_predict)\n",
    "print(\"Precision:\", precision)\n",
    "print(\"Recall:\", recall)\n",
    "print(\"F1-score:\", f1)\n",
    "print(\"Accuracy:\", accuracy)"
   ]
  },
  {
   "cell_type": "code",
   "execution_count": 45,
   "id": "7ea94d60",
   "metadata": {},
   "outputs": [
    {
     "name": "stdout",
     "output_type": "stream",
     "text": [
      "[[4865   49]\n",
      " [ 432 2580]]\n",
      "Accuracy: 0.9393136512742871\n",
      "Precision: 0.9813617344998098\n",
      "Recall: 0.8565737051792829\n",
      "F1-score: 0.9147314305974119\n",
      "Accuracy: 0.9393136512742871\n"
     ]
    }
   ],
   "source": [
    "clf=RandomForestClassifier(ccp_alpha=0.00001,random_state=42,min_impurity_decrease=0.000001) \n",
    "clf.fit(X_train, y_train)\n",
    "y_predict=clf.predict(X_test)\n",
    "acc_score=accuracy_score(y_test,y_predict)\n",
    "cm= confusion_matrix(y_test, y_predict)\n",
    "print(cm)\n",
    "print(\"Accuracy:\", accuracy_score(y_test, y_predict))\n",
    "precision = precision_score(y_test, y_predict )\n",
    "recall = recall_score(y_test, y_predict)\n",
    "f1 = f1_score(y_test, y_predict)\n",
    "accuracy = accuracy_score(y_test, y_predict)\n",
    "print(\"Precision:\", precision)\n",
    "print(\"Recall:\", recall)\n",
    "print(\"F1-score:\", f1)\n",
    "print(\"Accuracy:\", accuracy)"
   ]
  },
  {
   "cell_type": "code",
   "execution_count": 46,
   "id": "edbb6eba",
   "metadata": {},
   "outputs": [
    {
     "name": "stdout",
     "output_type": "stream",
     "text": [
      "[[4855   59]\n",
      " [ 405 2607]]\n",
      "Accuracy: 0.9414584910421397\n",
      "Precision: 0.9778694673668417\n",
      "Recall: 0.8655378486055777\n",
      "F1-score: 0.9182810848890454\n",
      "Accuracy: 0.9414584910421397\n"
     ]
    }
   ],
   "source": [
    "clf=RandomForestClassifier(ccp_alpha=0.00001,random_state=42,min_impurity_decrease=0.000006) \n",
    "clf.fit(X_train, y_train)\n",
    "y_predict=clf.predict(X_test)\n",
    "acc_score=accuracy_score(y_test,y_predict)\n",
    "cm= confusion_matrix(y_test, y_predict)\n",
    "print(cm)\n",
    "print(\"Accuracy:\", accuracy_score(y_test, y_predict))\n",
    "precision = precision_score(y_test, y_predict )\n",
    "recall = recall_score(y_test, y_predict)\n",
    "f1 = f1_score(y_test, y_predict)\n",
    "accuracy = accuracy_score(y_test, y_predict)\n",
    "print(\"Precision:\", precision)\n",
    "print(\"Recall:\", recall)\n",
    "print(\"F1-score:\", f1)\n",
    "print(\"Accuracy:\", accuracy)"
   ]
  },
  {
   "cell_type": "code",
   "execution_count": 47,
   "id": "e3bdec80",
   "metadata": {},
   "outputs": [
    {
     "name": "stdout",
     "output_type": "stream",
     "text": [
      "[[4855   59]\n",
      " [ 385 2627]]\n",
      "Accuracy: 0.9439818319454958\n",
      "Precision: 0.9780342516753537\n",
      "Recall: 0.8721779548472776\n",
      "F1-score: 0.922077922077922\n",
      "Accuracy: 0.9439818319454958\n"
     ]
    }
   ],
   "source": [
    "clf=RandomForestClassifier(ccp_alpha=0.00001,random_state=42,min_impurity_decrease=0.000004) \n",
    "clf.fit(X_train, y_train)\n",
    "y_predict=clf.predict(X_test)\n",
    "acc_score=accuracy_score(y_test,y_predict)\n",
    "cm= confusion_matrix(y_test, y_predict)\n",
    "print(cm)\n",
    "print(\"Accuracy:\", accuracy_score(y_test, y_predict))\n",
    "precision = precision_score(y_test, y_predict )\n",
    "recall = recall_score(y_test, y_predict)\n",
    "f1 = f1_score(y_test, y_predict)\n",
    "accuracy = accuracy_score(y_test, y_predict)\n",
    "print(\"Precision:\", precision)\n",
    "print(\"Recall:\", recall)\n",
    "print(\"F1-score:\", f1)\n",
    "print(\"Accuracy:\", accuracy)"
   ]
  },
  {
   "cell_type": "code",
   "execution_count": 56,
   "id": "b97e2dbd",
   "metadata": {},
   "outputs": [
    {
     "name": "stdout",
     "output_type": "stream",
     "text": [
      "[[4858   56]\n",
      " [ 395 2617]]\n",
      "Accuracy: 0.9430986626293212\n",
      "Precision: 0.9790497568275346\n",
      "Recall: 0.8688579017264276\n",
      "F1-score: 0.9206684256816182\n",
      "Accuracy: 0.9430986626293212\n"
     ]
    }
   ],
   "source": [
    "clf=RandomForestClassifier(ccp_alpha=0.00001,random_state=42,min_impurity_decrease=0.000005,max_features='sqrt',n_estimators=150) \n",
    "clf.fit(X_train, y_train)\n",
    "y_predict=clf.predict(X_test)\n",
    "acc_score=accuracy_score(y_test,y_predict)\n",
    "cm= confusion_matrix(y_test, y_predict)\n",
    "print(cm)\n",
    "print(\"Accuracy:\", accuracy_score(y_test, y_predict))\n",
    "precision = precision_score(y_test, y_predict )\n",
    "recall = recall_score(y_test, y_predict)\n",
    "f1 = f1_score(y_test, y_predict)\n",
    "accuracy = accuracy_score(y_test, y_predict)\n",
    "print(\"Precision:\", precision)\n",
    "print(\"Recall:\", recall)\n",
    "print(\"F1-score:\", f1)\n",
    "print(\"Accuracy:\", accuracy)"
   ]
  },
  {
   "cell_type": "code",
   "execution_count": 59,
   "id": "73f45bc0",
   "metadata": {},
   "outputs": [
    {
     "name": "stdout",
     "output_type": "stream",
     "text": [
      "[[4862   52]\n",
      " [ 491 2521]]\n",
      "Accuracy: 0.9314912944738835\n",
      "Precision: 0.9797901282549553\n",
      "Recall: 0.8369853917662683\n",
      "F1-score: 0.902775290957923\n",
      "Accuracy: 0.9314912944738835\n"
     ]
    }
   ],
   "source": [
    "clf=RandomForestClassifier(ccp_alpha=0.00001,random_state=42,min_impurity_decrease=0.000005,class_weight=\"balanced\") \n",
    "clf.fit(X_train, y_train)\n",
    "y_predict=clf.predict(X_test)\n",
    "acc_score=accuracy_score(y_test,y_predict)\n",
    "cm= confusion_matrix(y_test, y_predict)\n",
    "print(cm)\n",
    "print(\"Accuracy:\", accuracy_score(y_test, y_predict))\n",
    "precision = precision_score(y_test, y_predict )\n",
    "recall = recall_score(y_test, y_predict)\n",
    "f1 = f1_score(y_test, y_predict)\n",
    "accuracy = accuracy_score(y_test, y_predict)\n",
    "print(\"Precision:\", precision)\n",
    "print(\"Recall:\", recall)\n",
    "print(\"F1-score:\", f1)\n",
    "print(\"Accuracy:\", accuracy)"
   ]
  },
  {
   "cell_type": "code",
   "execution_count": 60,
   "id": "09ab120a",
   "metadata": {},
   "outputs": [
    {
     "name": "stdout",
     "output_type": "stream",
     "text": [
      "[[4859   55]\n",
      " [ 484 2528]]\n",
      "Accuracy: 0.9319959626545546\n",
      "Precision: 0.9787069299264421\n",
      "Recall: 0.8393094289508632\n",
      "F1-score: 0.9036639857015193\n",
      "Accuracy: 0.9319959626545546\n"
     ]
    }
   ],
   "source": [
    "clf=RandomForestClassifier(ccp_alpha=0.00001,random_state=42,min_impurity_decrease=0.000005,class_weight=\"balanced_subsample\") \n",
    "clf.fit(X_train, y_train)\n",
    "y_predict=clf.predict(X_test)\n",
    "acc_score=accuracy_score(y_test,y_predict)\n",
    "cm= confusion_matrix(y_test, y_predict)\n",
    "print(cm)\n",
    "print(\"Accuracy:\", accuracy_score(y_test, y_predict))\n",
    "precision = precision_score(y_test, y_predict )\n",
    "recall = recall_score(y_test, y_predict)\n",
    "f1 = f1_score(y_test, y_predict)\n",
    "accuracy = accuracy_score(y_test, y_predict)\n",
    "print(\"Precision:\", precision)\n",
    "print(\"Recall:\", recall)\n",
    "print(\"F1-score:\", f1)\n",
    "print(\"Accuracy:\", accuracy)"
   ]
  },
  {
   "cell_type": "code",
   "execution_count": 61,
   "id": "f2646090",
   "metadata": {},
   "outputs": [
    {
     "name": "stdout",
     "output_type": "stream",
     "text": [
      "[[4860   54]\n",
      " [ 434 2578]]\n",
      "Accuracy: 0.9384304819581125\n",
      "Precision: 0.979483282674772\n",
      "Recall: 0.8559096945551129\n",
      "F1-score: 0.9135364989369241\n",
      "Accuracy: 0.9384304819581125\n"
     ]
    }
   ],
   "source": [
    "clf=RandomForestClassifier(ccp_alpha=0.00001,random_state=42,min_impurity_decrease=0.000005,class_weight={0:1,1:1.745}) \n",
    "clf.fit(X_train, y_train)\n",
    "y_predict=clf.predict(X_test)\n",
    "acc_score=accuracy_score(y_test,y_predict)\n",
    "cm= confusion_matrix(y_test, y_predict)\n",
    "print(cm)\n",
    "print(\"Accuracy:\", accuracy_score(y_test, y_predict))\n",
    "precision = precision_score(y_test, y_predict )\n",
    "recall = recall_score(y_test, y_predict)\n",
    "f1 = f1_score(y_test, y_predict)\n",
    "accuracy = accuracy_score(y_test, y_predict)\n",
    "print(\"Precision:\", precision)\n",
    "print(\"Recall:\", recall)\n",
    "print(\"F1-score:\", f1)\n",
    "print(\"Accuracy:\", accuracy)"
   ]
  },
  {
   "cell_type": "code",
   "execution_count": 62,
   "id": "541f35e8",
   "metadata": {},
   "outputs": [
    {
     "name": "stdout",
     "output_type": "stream",
     "text": [
      "[[4857   57]\n",
      " [ 405 2607]]\n",
      "Accuracy: 0.9417108251324754\n",
      "Precision: 0.9786036036036037\n",
      "Recall: 0.8655378486055777\n",
      "F1-score: 0.9186046511627908\n",
      "Accuracy: 0.9417108251324754\n"
     ]
    }
   ],
   "source": [
    "clf=RandomForestClassifier(ccp_alpha=0.00001,random_state=42,min_impurity_decrease=0.000005,min_samples_split=5) \n",
    "clf.fit(X_train, y_train)\n",
    "y_predict=clf.predict(X_test)\n",
    "acc_score=accuracy_score(y_test,y_predict)\n",
    "cm= confusion_matrix(y_test, y_predict)\n",
    "print(cm)\n",
    "print(\"Accuracy:\", accuracy_score(y_test, y_predict))\n",
    "precision = precision_score(y_test, y_predict )\n",
    "recall = recall_score(y_test, y_predict)\n",
    "f1 = f1_score(y_test, y_predict)\n",
    "accuracy = accuracy_score(y_test, y_predict)\n",
    "print(\"Precision:\", precision)\n",
    "print(\"Recall:\", recall)\n",
    "print(\"F1-score:\", f1)\n",
    "print(\"Accuracy:\", accuracy)"
   ]
  },
  {
   "cell_type": "code",
   "execution_count": 63,
   "id": "77547ef2",
   "metadata": {},
   "outputs": [
    {
     "name": "stdout",
     "output_type": "stream",
     "text": [
      "[[4857   57]\n",
      " [ 474 2538]]\n",
      "Accuracy: 0.933005299015897\n",
      "Precision: 0.9780346820809248\n",
      "Recall: 0.8426294820717132\n",
      "F1-score: 0.9052969502407704\n",
      "Accuracy: 0.933005299015897\n"
     ]
    }
   ],
   "source": [
    "clf=RandomForestClassifier(ccp_alpha=0.00001,random_state=42,min_impurity_decrease=0.000005,min_samples_split=10) \n",
    "clf.fit(X_train, y_train)\n",
    "y_predict=clf.predict(X_test)\n",
    "acc_score=accuracy_score(y_test,y_predict)\n",
    "cm= confusion_matrix(y_test, y_predict)\n",
    "print(cm)\n",
    "print(\"Accuracy:\", accuracy_score(y_test, y_predict))\n",
    "precision = precision_score(y_test, y_predict )\n",
    "recall = recall_score(y_test, y_predict)\n",
    "f1 = f1_score(y_test, y_predict)\n",
    "accuracy = accuracy_score(y_test, y_predict)\n",
    "print(\"Precision:\", precision)\n",
    "print(\"Recall:\", recall)\n",
    "print(\"F1-score:\", f1)\n",
    "print(\"Accuracy:\", accuracy)"
   ]
  },
  {
   "cell_type": "code",
   "execution_count": 64,
   "id": "373a80e9",
   "metadata": {},
   "outputs": [
    {
     "name": "stdout",
     "output_type": "stream",
     "text": [
      "[[4857   57]\n",
      " [ 443 2569]]\n",
      "Accuracy: 0.936916477416099\n",
      "Precision: 0.9782939832444782\n",
      "Recall: 0.852921646746348\n",
      "F1-score: 0.9113160695282014\n",
      "Accuracy: 0.936916477416099\n"
     ]
    }
   ],
   "source": [
    "clf=RandomForestClassifier(ccp_alpha=0.00001,random_state=42,min_impurity_decrease=0.000005,min_samples_split=3) \n",
    "clf.fit(X_train, y_train)\n",
    "y_predict=clf.predict(X_test)\n",
    "acc_score=accuracy_score(y_test,y_predict)\n",
    "cm= confusion_matrix(y_test, y_predict)\n",
    "print(cm)\n",
    "print(\"Accuracy:\", accuracy_score(y_test, y_predict))\n",
    "precision = precision_score(y_test, y_predict )\n",
    "recall = recall_score(y_test, y_predict)\n",
    "f1 = f1_score(y_test, y_predict)\n",
    "accuracy = accuracy_score(y_test, y_predict)\n",
    "print(\"Precision:\", precision)\n",
    "print(\"Recall:\", recall)\n",
    "print(\"F1-score:\", f1)\n",
    "print(\"Accuracy:\", accuracy)"
   ]
  },
  {
   "cell_type": "code",
   "execution_count": 66,
   "id": "6ba683cc",
   "metadata": {},
   "outputs": [
    {
     "name": "stdout",
     "output_type": "stream",
     "text": [
      "[[4858   56]\n",
      " [ 486 2526]]\n",
      "Accuracy: 0.9316174615190512\n",
      "Precision: 0.9783113865220759\n",
      "Recall: 0.8386454183266933\n",
      "F1-score: 0.9031104755094744\n",
      "Accuracy: 0.9316174615190512\n"
     ]
    }
   ],
   "source": [
    "clf=RandomForestClassifier(ccp_alpha=0.00001,random_state=42,min_impurity_decrease=0.000005,min_samples_leaf=10) \n",
    "clf.fit(X_train, y_train)\n",
    "y_predict=clf.predict(X_test)\n",
    "acc_score=accuracy_score(y_test,y_predict)\n",
    "cm= confusion_matrix(y_test, y_predict)\n",
    "print(cm)\n",
    "print(\"Accuracy:\", accuracy_score(y_test, y_predict))\n",
    "precision = precision_score(y_test, y_predict )\n",
    "recall = recall_score(y_test, y_predict)\n",
    "f1 = f1_score(y_test, y_predict)\n",
    "accuracy = accuracy_score(y_test, y_predict)\n",
    "print(\"Precision:\", precision)\n",
    "print(\"Recall:\", recall)\n",
    "print(\"F1-score:\", f1)\n",
    "print(\"Accuracy:\", accuracy)"
   ]
  },
  {
   "cell_type": "code",
   "execution_count": 67,
   "id": "3e5e12dd",
   "metadata": {},
   "outputs": [
    {
     "name": "stdout",
     "output_type": "stream",
     "text": [
      "[[4856   58]\n",
      " [ 442 2570]]\n",
      "Accuracy: 0.936916477416099\n",
      "Precision: 0.9779299847792998\n",
      "Recall: 0.853253652058433\n",
      "F1-score: 0.9113475177304965\n",
      "Accuracy: 0.936916477416099\n"
     ]
    }
   ],
   "source": [
    "clf=RandomForestClassifier(ccp_alpha=0.00001,random_state=42,min_impurity_decrease=0.000005,min_samples_leaf=5) \n",
    "clf.fit(X_train, y_train)\n",
    "y_predict=clf.predict(X_test)\n",
    "acc_score=accuracy_score(y_test,y_predict)\n",
    "cm= confusion_matrix(y_test, y_predict)\n",
    "print(cm)\n",
    "print(\"Accuracy:\", accuracy_score(y_test, y_predict))\n",
    "precision = precision_score(y_test, y_predict )\n",
    "recall = recall_score(y_test, y_predict)\n",
    "f1 = f1_score(y_test, y_predict)\n",
    "accuracy = accuracy_score(y_test, y_predict)\n",
    "print(\"Precision:\", precision)\n",
    "print(\"Recall:\", recall)\n",
    "print(\"F1-score:\", f1)\n",
    "print(\"Accuracy:\", accuracy)"
   ]
  },
  {
   "cell_type": "code",
   "execution_count": 68,
   "id": "99ea3ed0",
   "metadata": {},
   "outputs": [
    {
     "name": "stdout",
     "output_type": "stream",
     "text": [
      "[[4861   53]\n",
      " [ 483 2529]]\n",
      "Accuracy: 0.9323744637900581\n",
      "Precision: 0.9794732765298219\n",
      "Recall: 0.8396414342629482\n",
      "F1-score: 0.9041830532713622\n",
      "Accuracy: 0.9323744637900581\n"
     ]
    }
   ],
   "source": [
    "clf=RandomForestClassifier(ccp_alpha=0.00001,random_state=42,min_impurity_decrease=0.000005,min_samples_leaf=3) \n",
    "clf.fit(X_train, y_train)\n",
    "y_predict=clf.predict(X_test)\n",
    "acc_score=accuracy_score(y_test,y_predict)\n",
    "cm= confusion_matrix(y_test, y_predict)\n",
    "print(cm)\n",
    "print(\"Accuracy:\", accuracy_score(y_test, y_predict))\n",
    "precision = precision_score(y_test, y_predict )\n",
    "recall = recall_score(y_test, y_predict)\n",
    "f1 = f1_score(y_test, y_predict)\n",
    "accuracy = accuracy_score(y_test, y_predict)\n",
    "print(\"Precision:\", precision)\n",
    "print(\"Recall:\", recall)\n",
    "print(\"F1-score:\", f1)\n",
    "print(\"Accuracy:\", accuracy)"
   ]
  },
  {
   "cell_type": "code",
   "execution_count": 69,
   "id": "556be9fd",
   "metadata": {},
   "outputs": [
    {
     "name": "stdout",
     "output_type": "stream",
     "text": [
      "[[4861   53]\n",
      " [ 358 2654]]\n",
      "Accuracy: 0.9481453444360333\n",
      "Precision: 0.9804211304026598\n",
      "Recall: 0.8811420982735724\n",
      "F1-score: 0.9281342892114006\n",
      "Accuracy: 0.9481453444360333\n"
     ]
    }
   ],
   "source": [
    "clf=RandomForestClassifier(ccp_alpha=0.00001,random_state=42,min_impurity_decrease=0.000005) \n",
    "clf.fit(X_train, y_train)\n",
    "y_predict=clf.predict(X_test)\n",
    "acc_score=accuracy_score(y_test,y_predict)\n",
    "cm= confusion_matrix(y_test, y_predict)\n",
    "print(cm)\n",
    "print(\"Accuracy:\", accuracy_score(y_test, y_predict))\n",
    "precision = precision_score(y_test, y_predict )\n",
    "recall = recall_score(y_test, y_predict)\n",
    "f1 = f1_score(y_test, y_predict)\n",
    "accuracy = accuracy_score(y_test, y_predict)\n",
    "print(\"Precision:\", precision)\n",
    "print(\"Recall:\", recall)\n",
    "print(\"F1-score:\", f1)\n",
    "print(\"Accuracy:\", accuracy)"
   ]
  },
  {
   "cell_type": "code",
   "execution_count": null,
   "id": "cb737717",
   "metadata": {},
   "outputs": [],
   "source": [
    "\n"
   ]
  }
 ],
 "metadata": {
  "kernelspec": {
   "display_name": "Python 3 (ipykernel)",
   "language": "python",
   "name": "python3"
  },
  "language_info": {
   "codemirror_mode": {
    "name": "ipython",
    "version": 3
   },
   "file_extension": ".py",
   "mimetype": "text/x-python",
   "name": "python",
   "nbconvert_exporter": "python",
   "pygments_lexer": "ipython3",
   "version": "3.11.7"
  }
 },
 "nbformat": 4,
 "nbformat_minor": 5
}
