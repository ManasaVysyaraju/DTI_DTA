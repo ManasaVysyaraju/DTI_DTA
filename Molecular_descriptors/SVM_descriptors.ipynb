{
 "cells": [
  {
   "cell_type": "code",
   "execution_count": 1,
   "id": "4d4daa71",
   "metadata": {},
   "outputs": [],
   "source": [
    "import pandas as pd\n",
    "from sklearn.svm import SVC\n",
    "from sklearn.metrics import accuracy_score, classification_report\n",
    "from sklearn.metrics import precision_score, recall_score, f1_score, accuracy_score,confusion_matrix"
   ]
  },
  {
   "cell_type": "code",
   "execution_count": 2,
   "id": "e4275067",
   "metadata": {},
   "outputs": [],
   "source": [
    "df=pd.read_csv('Descriptors_Train_Dataset.csv')\n",
    "df_test=pd.read_csv('Descriptors_Test_Dataset.csv')"
   ]
  },
  {
   "cell_type": "code",
   "execution_count": 3,
   "id": "a0c565c9",
   "metadata": {},
   "outputs": [],
   "source": [
    "X_train=df.drop(columns=['P_ID','Drug_ID','MD1'])\n",
    "y_train=df['MD1']\n",
    "X_test=df_test.drop(columns=['P_ID','Drug_ID','MD1'])\n",
    "y_test=df_test['MD1']"
   ]
  },
  {
   "cell_type": "code",
   "execution_count": 6,
   "id": "0de142c1",
   "metadata": {},
   "outputs": [
    {
     "name": "stdout",
     "output_type": "stream",
     "text": [
      "[[4719  195]\n",
      " [1536 1476]]\n",
      "Accuracy: 0.7816048448145344\n",
      "Precision: 0.8833034111310593\n",
      "Recall: 0.4900398406374502\n",
      "F1-score: 0.6303651505445228\n",
      "Accuracy: 0.7816048448145344\n"
     ]
    }
   ],
   "source": [
    "\n",
    "svm_classifier = SVC(kernel='poly')\n",
    "svm_classifier.fit(X_train, y_train)\n",
    "y_pred = svm_classifier.predict(X_test)\n",
    "cm= confusion_matrix(y_test, y_pred)\n",
    "print(cm)\n",
    "print(\"Accuracy:\", accuracy_score(y_test, y_pred))\n",
    "precision = precision_score(y_test, y_pred)\n",
    "recall = recall_score(y_test, y_pred)\n",
    "f1 = f1_score(y_test, y_pred)\n",
    "accuracy = accuracy_score(y_test, y_pred)\n",
    "print(\"Precision:\", precision)\n",
    "print(\"Recall:\", recall)\n",
    "print(\"F1-score:\", f1)\n",
    "print(\"Accuracy:\", accuracy)\n"
   ]
  },
  {
   "cell_type": "code",
   "execution_count": 8,
   "id": "72949a0c",
   "metadata": {},
   "outputs": [
    {
     "name": "stdout",
     "output_type": "stream",
     "text": [
      "[[4702  212]\n",
      " [1356 1656]]\n",
      "Accuracy: 0.8021700731768862\n",
      "Precision: 0.8865096359743041\n",
      "Recall: 0.549800796812749\n",
      "F1-score: 0.6786885245901638\n",
      "Accuracy: 0.8021700731768862\n"
     ]
    }
   ],
   "source": [
    "\n",
    "svm_classifier = SVC(kernel='poly',degree=5)\n",
    "svm_classifier.fit(X_train, y_train)\n",
    "y_pred = svm_classifier.predict(X_test)\n",
    "cm= confusion_matrix(y_test, y_pred)\n",
    "print(cm)\n",
    "print(\"Accuracy:\", accuracy_score(y_test, y_pred))\n",
    "precision = precision_score(y_test, y_pred)\n",
    "recall = recall_score(y_test, y_pred)\n",
    "f1 = f1_score(y_test, y_pred)\n",
    "accuracy = accuracy_score(y_test, y_pred)\n",
    "print(\"Precision:\", precision)\n",
    "print(\"Recall:\", recall)\n",
    "print(\"F1-score:\", f1)\n",
    "print(\"Accuracy:\", accuracy)\n"
   ]
  },
  {
   "cell_type": "code",
   "execution_count": 9,
   "id": "781861ce",
   "metadata": {},
   "outputs": [
    {
     "name": "stdout",
     "output_type": "stream",
     "text": [
      "[[4686  228]\n",
      " [1554 1458]]\n",
      "Accuracy: 0.7751703255109765\n",
      "Precision: 0.8647686832740213\n",
      "Recall: 0.48406374501992033\n",
      "F1-score: 0.6206896551724138\n",
      "Accuracy: 0.7751703255109765\n"
     ]
    }
   ],
   "source": [
    "\n",
    "svm_classifier = SVC(kernel='rbf')\n",
    "svm_classifier.fit(X_train, y_train)\n",
    "y_pred = svm_classifier.predict(X_test)\n",
    "cm= confusion_matrix(y_test, y_pred)\n",
    "print(cm)\n",
    "print(\"Accuracy:\", accuracy_score(y_test, y_pred))\n",
    "precision = precision_score(y_test, y_pred)\n",
    "recall = recall_score(y_test, y_pred)\n",
    "f1 = f1_score(y_test, y_pred)\n",
    "accuracy = accuracy_score(y_test, y_pred)\n",
    "print(\"Precision:\", precision)\n",
    "print(\"Recall:\", recall)\n",
    "print(\"F1-score:\", f1)\n",
    "print(\"Accuracy:\", accuracy)\n"
   ]
  },
  {
   "cell_type": "code",
   "execution_count": 10,
   "id": "6e8994cc",
   "metadata": {},
   "outputs": [
    {
     "name": "stdout",
     "output_type": "stream",
     "text": [
      "[[4903   11]\n",
      " [2449  563]]\n",
      "Accuracy: 0.6896290688872067\n",
      "Precision: 0.980836236933798\n",
      "Recall: 0.18691899070385126\n",
      "F1-score: 0.31399888455103175\n",
      "Accuracy: 0.6896290688872067\n"
     ]
    }
   ],
   "source": [
    "\n",
    "svm_classifier = SVC(kernel='rbf',gamma=1.0)\n",
    "svm_classifier.fit(X_train, y_train)\n",
    "y_pred = svm_classifier.predict(X_test)\n",
    "cm= confusion_matrix(y_test, y_pred)\n",
    "print(cm)\n",
    "print(\"Accuracy:\", accuracy_score(y_test, y_pred))\n",
    "precision = precision_score(y_test, y_pred)\n",
    "recall = recall_score(y_test, y_pred)\n",
    "f1 = f1_score(y_test, y_pred)\n",
    "accuracy = accuracy_score(y_test, y_pred)\n",
    "print(\"Precision:\", precision)\n",
    "print(\"Recall:\", recall)\n",
    "print(\"F1-score:\", f1)\n",
    "print(\"Accuracy:\", accuracy)\n"
   ]
  },
  {
   "cell_type": "code",
   "execution_count": 11,
   "id": "321b5ae5",
   "metadata": {},
   "outputs": [
    {
     "name": "stdout",
     "output_type": "stream",
     "text": [
      "[[4903   11]\n",
      " [2447  565]]\n",
      "Accuracy: 0.6898814029775423\n",
      "Precision: 0.9809027777777778\n",
      "Recall: 0.18758300132802125\n",
      "F1-score: 0.3149386845039019\n",
      "Accuracy: 0.6898814029775423\n"
     ]
    }
   ],
   "source": [
    "\n",
    "svm_classifier = SVC(kernel='rbf',gamma=.5)\n",
    "svm_classifier.fit(X_train, y_train)\n",
    "y_pred = svm_classifier.predict(X_test)\n",
    "cm= confusion_matrix(y_test, y_pred)\n",
    "print(cm)\n",
    "print(\"Accuracy:\", accuracy_score(y_test, y_pred))\n",
    "precision = precision_score(y_test, y_pred)\n",
    "recall = recall_score(y_test, y_pred)\n",
    "f1 = f1_score(y_test, y_pred)\n",
    "accuracy = accuracy_score(y_test, y_pred)\n",
    "print(\"Precision:\", precision)\n",
    "print(\"Recall:\", recall)\n",
    "print(\"F1-score:\", f1)\n",
    "print(\"Accuracy:\", accuracy)\n"
   ]
  },
  {
   "cell_type": "code",
   "execution_count": 12,
   "id": "53fa5733",
   "metadata": {},
   "outputs": [
    {
     "name": "stdout",
     "output_type": "stream",
     "text": [
      "[[4903   11]\n",
      " [2452  560]]\n",
      "Accuracy: 0.6892505677517032\n",
      "Precision: 0.9807355516637478\n",
      "Recall: 0.18592297476759628\n",
      "F1-score: 0.31258721741557355\n",
      "Accuracy: 0.6892505677517032\n"
     ]
    }
   ],
   "source": [
    "\n",
    "svm_classifier = SVC(kernel='rbf',gamma=2.5)\n",
    "svm_classifier.fit(X_train, y_train)\n",
    "y_pred = svm_classifier.predict(X_test)\n",
    "cm= confusion_matrix(y_test, y_pred)\n",
    "print(cm)\n",
    "print(\"Accuracy:\", accuracy_score(y_test, y_pred))\n",
    "precision = precision_score(y_test, y_pred)\n",
    "recall = recall_score(y_test, y_pred)\n",
    "f1 = f1_score(y_test, y_pred)\n",
    "accuracy = accuracy_score(y_test, y_pred)\n",
    "print(\"Precision:\", precision)\n",
    "print(\"Recall:\", recall)\n",
    "print(\"F1-score:\", f1)\n",
    "print(\"Accuracy:\", accuracy)\n"
   ]
  },
  {
   "cell_type": "code",
   "execution_count": 14,
   "id": "0c91f05e",
   "metadata": {},
   "outputs": [
    {
     "name": "stdout",
     "output_type": "stream",
     "text": [
      "[[3632 1282]\n",
      " [1565 1447]]\n",
      "Accuracy: 0.6408024224072673\n",
      "Precision: 0.530230853792598\n",
      "Recall: 0.4804116865869854\n",
      "F1-score: 0.5040933635255181\n",
      "Accuracy: 0.6408024224072673\n"
     ]
    }
   ],
   "source": [
    "\n",
    "svm_classifier = SVC(kernel='sigmoid')\n",
    "svm_classifier.fit(X_train, y_train)\n",
    "y_pred = svm_classifier.predict(X_test)\n",
    "cm= confusion_matrix(y_test, y_pred)\n",
    "print(cm)\n",
    "print(\"Accuracy:\", accuracy_score(y_test, y_pred))\n",
    "precision = precision_score(y_test, y_pred)\n",
    "recall = recall_score(y_test, y_pred)\n",
    "f1 = f1_score(y_test, y_pred)\n",
    "accuracy = accuracy_score(y_test, y_pred)\n",
    "print(\"Precision:\", precision)\n",
    "print(\"Recall:\", recall)\n",
    "print(\"F1-score:\", f1)\n",
    "print(\"Accuracy:\", accuracy)\n"
   ]
  },
  {
   "cell_type": "code",
   "execution_count": 15,
   "id": "c5114b11",
   "metadata": {},
   "outputs": [
    {
     "name": "stdout",
     "output_type": "stream",
     "text": [
      "[[4167  747]\n",
      " [ 636 2376]]\n",
      "Accuracy: 0.8255109765329296\n",
      "Precision: 0.760806916426513\n",
      "Recall: 0.7888446215139442\n",
      "F1-score: 0.7745721271393643\n",
      "Accuracy: 0.8255109765329296\n"
     ]
    }
   ],
   "source": [
    "svm_classifier = SVC(kernel='poly',degree=5,decision_function_shape='ovr',random_state=42,C=2.45,class_weight={0:1,1:1.745},)\n",
    "\n",
    "svm_classifier.fit(X_train, y_train)\n",
    "y_pred = svm_classifier.predict(X_test)\n",
    "cm= confusion_matrix(y_test, y_pred)\n",
    "print(cm)\n",
    "print(\"Accuracy:\", accuracy_score(y_test, y_pred))\n",
    "precision = precision_score(y_test, y_pred)\n",
    "recall = recall_score(y_test, y_pred)\n",
    "f1 = f1_score(y_test, y_pred)\n",
    "accuracy = accuracy_score(y_test, y_pred)\n",
    "print(\"Precision:\", precision)\n",
    "print(\"Recall:\", recall)\n",
    "print(\"F1-score:\", f1)\n",
    "print(\"Accuracy:\", accuracy)\n"
   ]
  },
  {
   "cell_type": "code",
   "execution_count": 16,
   "id": "3f55bc64",
   "metadata": {},
   "outputs": [
    {
     "name": "stdout",
     "output_type": "stream",
     "text": [
      "[[4039  875]\n",
      " [ 679 2333]]\n",
      "Accuracy: 0.8039364118092355\n",
      "Precision: 0.7272443890274314\n",
      "Recall: 0.7745683930942895\n",
      "F1-score: 0.75016077170418\n",
      "Accuracy: 0.8039364118092355\n"
     ]
    }
   ],
   "source": [
    "svm_classifier = SVC(kernel='rbf',random_state=42,C=2.45,class_weight={0:1,1:1.745},)\n",
    "\n",
    "svm_classifier.fit(X_train, y_train)\n",
    "y_pred = svm_classifier.predict(X_test)\n",
    "cm= confusion_matrix(y_test, y_pred)\n",
    "print(cm)\n",
    "print(\"Accuracy:\", accuracy_score(y_test, y_pred))\n",
    "precision = precision_score(y_test, y_pred)\n",
    "recall = recall_score(y_test, y_pred)\n",
    "f1 = f1_score(y_test, y_pred)\n",
    "accuracy = accuracy_score(y_test, y_pred)\n",
    "print(\"Precision:\", precision)\n",
    "print(\"Recall:\", recall)\n",
    "print(\"F1-score:\", f1)\n",
    "print(\"Accuracy:\", accuracy)\n"
   ]
  },
  {
   "cell_type": "code",
   "execution_count": 17,
   "id": "beac9c05",
   "metadata": {},
   "outputs": [
    {
     "name": "stdout",
     "output_type": "stream",
     "text": [
      "[[4903   11]\n",
      " [2445  567]]\n",
      "Accuracy: 0.6901337370678778\n",
      "Precision: 0.9809688581314879\n",
      "Recall: 0.18824701195219123\n",
      "F1-score: 0.3158774373259053\n",
      "Accuracy: 0.6901337370678778\n"
     ]
    }
   ],
   "source": [
    "svm_classifier = SVC(kernel='rbf',gamma=2.5,random_state=42,C=2.45,class_weight={0:1,1:1.745},)\n",
    "\n",
    "svm_classifier.fit(X_train, y_train)\n",
    "y_pred = svm_classifier.predict(X_test)\n",
    "cm= confusion_matrix(y_test, y_pred)\n",
    "print(cm)\n",
    "print(\"Accuracy:\", accuracy_score(y_test, y_pred))\n",
    "precision = precision_score(y_test, y_pred)\n",
    "recall = recall_score(y_test, y_pred)\n",
    "f1 = f1_score(y_test, y_pred)\n",
    "accuracy = accuracy_score(y_test, y_pred)\n",
    "print(\"Precision:\", precision)\n",
    "print(\"Recall:\", recall)\n",
    "print(\"F1-score:\", f1)\n",
    "print(\"Accuracy:\", accuracy)\n"
   ]
  },
  {
   "cell_type": "code",
   "execution_count": 18,
   "id": "c77fca3e",
   "metadata": {},
   "outputs": [
    {
     "name": "stdout",
     "output_type": "stream",
     "text": [
      "[[4199  715]\n",
      " [ 642 2370]]\n",
      "Accuracy: 0.8287913197072925\n",
      "Precision: 0.7682333873581848\n",
      "Recall: 0.7868525896414342\n",
      "F1-score: 0.7774315237001805\n",
      "Accuracy: 0.8287913197072925\n"
     ]
    }
   ],
   "source": [
    "svm_classifier = SVC(kernel='poly',degree=6,decision_function_shape='ovr',random_state=42,C=2.45,class_weight={0:1,1:1.745},)\n",
    "\n",
    "svm_classifier.fit(X_train, y_train)\n",
    "y_pred = svm_classifier.predict(X_test)\n",
    "cm= confusion_matrix(y_test, y_pred)\n",
    "print(cm)\n",
    "print(\"Accuracy:\", accuracy_score(y_test, y_pred))\n",
    "precision = precision_score(y_test, y_pred)\n",
    "recall = recall_score(y_test, y_pred)\n",
    "f1 = f1_score(y_test, y_pred)\n",
    "accuracy = accuracy_score(y_test, y_pred)\n",
    "print(\"Precision:\", precision)\n",
    "print(\"Recall:\", recall)\n",
    "print(\"F1-score:\", f1)\n",
    "print(\"Accuracy:\", accuracy)\n"
   ]
  },
  {
   "cell_type": "code",
   "execution_count": 19,
   "id": "961ab2fc",
   "metadata": {},
   "outputs": [
    {
     "name": "stdout",
     "output_type": "stream",
     "text": [
      "[[4028  886]\n",
      " [ 575 2437]]\n",
      "Accuracy: 0.8156699470098411\n",
      "Precision: 0.7333734577189287\n",
      "Recall: 0.8090969455511288\n",
      "F1-score: 0.7693764798737174\n",
      "Accuracy: 0.8156699470098411\n"
     ]
    }
   ],
   "source": [
    "svm_classifier = SVC(kernel='poly',degree=6,decision_function_shape='ovr',random_state=42,C=2.45,class_weight={0:1,1:2},)\n",
    "\n",
    "svm_classifier.fit(X_train, y_train)\n",
    "y_pred = svm_classifier.predict(X_test)\n",
    "cm= confusion_matrix(y_test, y_pred)\n",
    "print(cm)\n",
    "print(\"Accuracy:\", accuracy_score(y_test, y_pred))\n",
    "precision = precision_score(y_test, y_pred)\n",
    "recall = recall_score(y_test, y_pred)\n",
    "f1 = f1_score(y_test, y_pred)\n",
    "accuracy = accuracy_score(y_test, y_pred)\n",
    "print(\"Precision:\", precision)\n",
    "print(\"Recall:\", recall)\n",
    "print(\"F1-score:\", f1)\n",
    "print(\"Accuracy:\", accuracy)\n"
   ]
  },
  {
   "cell_type": "code",
   "execution_count": 20,
   "id": "8fb1c9a7",
   "metadata": {},
   "outputs": [
    {
     "name": "stdout",
     "output_type": "stream",
     "text": [
      "[[4903   11]\n",
      " [2442  570]]\n",
      "Accuracy: 0.6905122382033813\n",
      "Precision: 0.9810671256454389\n",
      "Recall: 0.1892430278884462\n",
      "F1-score: 0.3172836070136376\n",
      "Accuracy: 0.6905122382033813\n"
     ]
    }
   ],
   "source": [
    "svm_classifier = SVC(kernel='rbf',gamma=1.5,decision_function_shape='ovr',random_state=42,C=2.45,class_weight={0:1,1:2},)\n",
    "\n",
    "svm_classifier.fit(X_train, y_train)\n",
    "y_pred = svm_classifier.predict(X_test)\n",
    "cm= confusion_matrix(y_test, y_pred)\n",
    "print(cm)\n",
    "print(\"Accuracy:\", accuracy_score(y_test, y_pred))\n",
    "precision = precision_score(y_test, y_pred)\n",
    "recall = recall_score(y_test, y_pred)\n",
    "f1 = f1_score(y_test, y_pred)\n",
    "accuracy = accuracy_score(y_test, y_pred)\n",
    "print(\"Precision:\", precision)\n",
    "print(\"Recall:\", recall)\n",
    "print(\"F1-score:\", f1)\n",
    "print(\"Accuracy:\", accuracy)\n"
   ]
  },
  {
   "cell_type": "code",
   "execution_count": null,
   "id": "8ef39e47",
   "metadata": {},
   "outputs": [],
   "source": []
  }
 ],
 "metadata": {
  "kernelspec": {
   "display_name": "Python 3 (ipykernel)",
   "language": "python",
   "name": "python3"
  },
  "language_info": {
   "codemirror_mode": {
    "name": "ipython",
    "version": 3
   },
   "file_extension": ".py",
   "mimetype": "text/x-python",
   "name": "python",
   "nbconvert_exporter": "python",
   "pygments_lexer": "ipython3",
   "version": "3.11.5"
  }
 },
 "nbformat": 4,
 "nbformat_minor": 5
}
