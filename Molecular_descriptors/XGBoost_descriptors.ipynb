{
 "cells": [
  {
   "cell_type": "code",
   "execution_count": 1,
   "id": "0973a841",
   "metadata": {},
   "outputs": [],
   "source": [
    "import pandas as pd\n",
    "from xgboost import XGBClassifier\n",
    "from sklearn.metrics import accuracy_score, classification_report\n",
    "from sklearn.metrics import precision_score, recall_score, f1_score, accuracy_score,confusion_matrix"
   ]
  },
  {
   "cell_type": "code",
   "execution_count": 2,
   "id": "a1870f70",
   "metadata": {},
   "outputs": [],
   "source": [
    "df=pd.read_csv('Descriptors_Train_Dataset.csv')\n",
    "df_test=pd.read_csv('Descriptors_Test_Dataset.csv')"
   ]
  },
  {
   "cell_type": "code",
   "execution_count": 3,
   "id": "17007adb",
   "metadata": {},
   "outputs": [],
   "source": [
    "X_train=df.drop(columns=['P_ID','Drug_ID','MD1'])\n",
    "y_train=df['MD1']\n",
    "X_test=df_test.drop(columns=['P_ID','Drug_ID','MD1'])\n",
    "y_test=df_test['MD1']"
   ]
  },
  {
   "cell_type": "code",
   "execution_count": 4,
   "id": "c53c52e2",
   "metadata": {},
   "outputs": [
    {
     "name": "stdout",
     "output_type": "stream",
     "text": [
      "0.9174867524602573\n",
      "[[4878   36]\n",
      " [ 618 2394]]\n",
      "Precision: 0.9851851851851852\n",
      "Recall: 0.7948207171314741\n",
      "F1-score: 0.8798235942668136\n",
      "Accuracy: 0.9174867524602573\n"
     ]
    }
   ],
   "source": [
    "bst = XGBClassifier() \n",
    "bst.fit(X_train, y_train)\n",
    "preds = bst.predict(X_test)\n",
    "acc=accuracy_score(preds,y_test)\n",
    "print(acc)\n",
    "cm = confusion_matrix(y_test, preds)\n",
    "print(cm)\n",
    "precision = precision_score(y_test, preds)\n",
    "recall = recall_score(y_test, preds)\n",
    "f1 = f1_score(y_test, preds)\n",
    "accuracy = accuracy_score(y_test, preds)\n",
    "print(\"Precision:\", precision)\n",
    "print(\"Recall:\", recall)\n",
    "print(\"F1-score:\", f1)\n",
    "print(\"Accuracy:\", accuracy)"
   ]
  },
  {
   "cell_type": "code",
   "execution_count": 6,
   "id": "4d022047",
   "metadata": {},
   "outputs": [
    {
     "name": "stdout",
     "output_type": "stream",
     "text": [
      "0.9230381024476407\n",
      "[[4876   38]\n",
      " [ 572 2440]]\n",
      "Precision: 0.9846650524616626\n",
      "Recall: 0.8100929614873837\n",
      "F1-score: 0.888888888888889\n",
      "Accuracy: 0.9230381024476407\n"
     ]
    }
   ],
   "source": [
    "bst = XGBClassifier(max_depth=30,scale_pos_weight=1.74,n_estimators=500,learning_rate=0.5) \n",
    "bst.fit(X_train, y_train)\n",
    "preds = bst.predict(X_test)\n",
    "acc=accuracy_score(preds,y_test)\n",
    "print(acc)\n",
    "cm = confusion_matrix(y_test, preds)\n",
    "print(cm)\n",
    "precision = precision_score(y_test, preds)\n",
    "recall = recall_score(y_test, preds)\n",
    "f1 = f1_score(y_test, preds)\n",
    "accuracy = accuracy_score(y_test, preds)\n",
    "print(\"Precision:\", precision)\n",
    "print(\"Recall:\", recall)\n",
    "print(\"F1-score:\", f1)\n",
    "print(\"Accuracy:\", accuracy)"
   ]
  },
  {
   "cell_type": "code",
   "execution_count": 7,
   "id": "cc104fe0",
   "metadata": {},
   "outputs": [
    {
     "name": "stdout",
     "output_type": "stream",
     "text": [
      "0.9240474388089831\n",
      "[[4875   39]\n",
      " [ 563 2449]]\n",
      "Precision: 0.9843247588424437\n",
      "Recall: 0.8130810092961488\n",
      "F1-score: 0.8905454545454545\n",
      "Accuracy: 0.9240474388089831\n"
     ]
    }
   ],
   "source": [
    "bst = XGBClassifier(scale_pos_weight=1.74,learning_rate=0.5) \n",
    "bst.fit(X_train, y_train)\n",
    "preds = bst.predict(X_test)\n",
    "acc=accuracy_score(preds,y_test)\n",
    "print(acc)\n",
    "cm = confusion_matrix(y_test, preds)\n",
    "print(cm)\n",
    "precision = precision_score(y_test, preds)\n",
    "recall = recall_score(y_test, preds)\n",
    "f1 = f1_score(y_test, preds)\n",
    "accuracy = accuracy_score(y_test, preds)\n",
    "print(\"Precision:\", precision)\n",
    "print(\"Recall:\", recall)\n",
    "print(\"F1-score:\", f1)\n",
    "print(\"Accuracy:\", accuracy)"
   ]
  },
  {
   "cell_type": "code",
   "execution_count": null,
   "id": "60728b1f",
   "metadata": {},
   "outputs": [],
   "source": []
  }
 ],
 "metadata": {
  "kernelspec": {
   "display_name": "Python 3 (ipykernel)",
   "language": "python",
   "name": "python3"
  },
  "language_info": {
   "codemirror_mode": {
    "name": "ipython",
    "version": 3
   },
   "file_extension": ".py",
   "mimetype": "text/x-python",
   "name": "python",
   "nbconvert_exporter": "python",
   "pygments_lexer": "ipython3",
   "version": "3.11.7"
  }
 },
 "nbformat": 4,
 "nbformat_minor": 5
}
